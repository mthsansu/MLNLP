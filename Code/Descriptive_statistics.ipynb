{
  "cells": [
    {
      "cell_type": "markdown",
      "metadata": {
        "id": "view-in-github",
        "colab_type": "text"
      },
      "source": [
        "<a href=\"https://colab.research.google.com/github/mthsansu/MLNLP/blob/main/Code/Descriptive_statistics.ipynb\" target=\"_parent\"><img src=\"https://colab.research.google.com/assets/colab-badge.svg\" alt=\"Open In Colab\"/></a>"
      ]
    },
    {
      "cell_type": "markdown",
      "source": [
        "<h1><center><strong><font color=\"chillipepper\">Parlementarian Sentiment Analysis: Descriptive statistics</font></strong></center></h1>\n",
        "<h5><center><font color=\"green\">You must describe statistically your dataset \n",
        "(distribution of words, bi-grams, POS, sentence/document length, most frequent words….) <h3><center>\n",
        "\n",
        "<center>\n",
        "April 2022, Houri & Sansu\n",
        "</center>"
      ],
      "metadata": {
        "id": "Dp_aO2Mxj6MI"
      }
    },
    {
      "cell_type": "markdown",
      "metadata": {
        "jp-MarkdownHeadingCollapsed": true,
        "tags": [],
        "id": "Pdo3ZXmVjonb"
      },
      "source": [
        "## Packages"
      ]
    },
    {
      "cell_type": "code",
      "execution_count": 66,
      "metadata": {
        "id": "-xXi2mZtjonm"
      },
      "outputs": [],
      "source": [
        "import pandas as pd\n",
        "import numpy as np\n",
        "import matplotlib.pyplot as plt\n",
        "from matplotlib.pyplot import figure\n",
        "import datetime as dt\n",
        "from nltk.tokenize import TweetTokenizer\n",
        "import re"
      ]
    },
    {
      "cell_type": "markdown",
      "metadata": {
        "jp-MarkdownHeadingCollapsed": true,
        "tags": [],
        "id": "q3jltu6gjono"
      },
      "source": [
        "## Data"
      ]
    },
    {
      "cell_type": "code",
      "execution_count": 67,
      "metadata": {
        "id": "pPBz7Qwnjonp"
      },
      "outputs": [],
      "source": [
        "# List of the datasets on which we will apply the operationns\n",
        "list_data = ['Tweets_sample_confinement.csv', 'Tweets_sample_benalla.csv', 'Tweets_sample_CDM.csv']"
      ]
    },
    {
      "cell_type": "code",
      "execution_count": 68,
      "metadata": {
        "id": "2xvNiTBCqAUW"
      },
      "outputs": [],
      "source": [
        "# Import data\n",
        "git_url = \"https://raw.githubusercontent.com/mthsansu/MLNLP/main/Data/\"\n",
        "df = pd.read_csv(git_url + 'Tweets_sample_confinement.csv', index_col=0, engine='python')\n",
        "# df = pd.read_csv('/data/user/s/msansu/MLNLP/Data/' + list_data[2], index_col=0, engine='python')"
      ]
    },
    {
      "cell_type": "code",
      "execution_count": 69,
      "metadata": {
        "id": "7kgqq-aFGuj4"
      },
      "outputs": [],
      "source": [
        "# Create a date variable\n",
        "df['date'] = df['created_at'].str[:10]\n",
        "df['date'] = pd.to_datetime(df['date'])"
      ]
    },
    {
      "cell_type": "code",
      "execution_count": 70,
      "metadata": {
        "colab": {
          "base_uri": "https://localhost:8080/",
          "height": 0
        },
        "id": "1LvE3es7qwI9",
        "outputId": "64542792-fb2b-437e-f0b8-917a28c491cb"
      },
      "outputs": [
        {
          "output_type": "execute_result",
          "data": {
            "text/plain": [
              "              author_id  possibly_sensitive                   id  \\\n",
              "478  889730003495211009               False  1267043323501580289   \n",
              "480  889730003495211009               False  1266032133497380865   \n",
              "482  889730003495211009               False  1265595756431409152   \n",
              "484  889730003495211009               False  1265287394724634626   \n",
              "486  889730003495211009               False  1264887573442449408   \n",
              "\n",
              "                                                  text  \\\n",
              "478  La viticulture c’est 600000 emplois dans 66 dé...   \n",
              "480  Réunion en visioconférence pour le #GAP #agric...   \n",
              "482  Cérémonie patriotique en l'honneur des résista...   \n",
              "484  <U+0001F58A> J’ai co-signé le courrier de mon ...   \n",
              "486  J’ai saisi ce jour le Directeur général de l’@...   \n",
              "\n",
              "                   created_at        twitter sexe  age  majo num_deptmt  \\\n",
              "478  2020-05-31T10:40:43.000Z  AdrienMorenas    M   35  True         84   \n",
              "480  2020-05-28T15:42:37.000Z  AdrienMorenas    M   35  True         84   \n",
              "482  2020-05-27T10:48:36.000Z  AdrienMorenas    M   35  True         84   \n",
              "484  2020-05-26T14:23:17.000Z  AdrienMorenas    M   35  True         84   \n",
              "486  2020-05-25T11:54:32.000Z  AdrienMorenas    M   35  True         84   \n",
              "\n",
              "    groupe_sigle parti_ratt_financier  nb_mandats  age_group       date  \n",
              "478         LREM          En marche !           1          2 2020-05-31  \n",
              "480         LREM          En marche !           1          2 2020-05-28  \n",
              "482         LREM          En marche !           1          2 2020-05-27  \n",
              "484         LREM          En marche !           1          2 2020-05-26  \n",
              "486         LREM          En marche !           1          2 2020-05-25  "
            ],
            "text/html": [
              "\n",
              "  <div id=\"df-79bcac2e-141f-427d-8c76-4e03203a5e41\">\n",
              "    <div class=\"colab-df-container\">\n",
              "      <div>\n",
              "<style scoped>\n",
              "    .dataframe tbody tr th:only-of-type {\n",
              "        vertical-align: middle;\n",
              "    }\n",
              "\n",
              "    .dataframe tbody tr th {\n",
              "        vertical-align: top;\n",
              "    }\n",
              "\n",
              "    .dataframe thead th {\n",
              "        text-align: right;\n",
              "    }\n",
              "</style>\n",
              "<table border=\"1\" class=\"dataframe\">\n",
              "  <thead>\n",
              "    <tr style=\"text-align: right;\">\n",
              "      <th></th>\n",
              "      <th>author_id</th>\n",
              "      <th>possibly_sensitive</th>\n",
              "      <th>id</th>\n",
              "      <th>text</th>\n",
              "      <th>created_at</th>\n",
              "      <th>twitter</th>\n",
              "      <th>sexe</th>\n",
              "      <th>age</th>\n",
              "      <th>majo</th>\n",
              "      <th>num_deptmt</th>\n",
              "      <th>groupe_sigle</th>\n",
              "      <th>parti_ratt_financier</th>\n",
              "      <th>nb_mandats</th>\n",
              "      <th>age_group</th>\n",
              "      <th>date</th>\n",
              "    </tr>\n",
              "  </thead>\n",
              "  <tbody>\n",
              "    <tr>\n",
              "      <th>478</th>\n",
              "      <td>889730003495211009</td>\n",
              "      <td>False</td>\n",
              "      <td>1267043323501580289</td>\n",
              "      <td>La viticulture c’est 600000 emplois dans 66 dé...</td>\n",
              "      <td>2020-05-31T10:40:43.000Z</td>\n",
              "      <td>AdrienMorenas</td>\n",
              "      <td>M</td>\n",
              "      <td>35</td>\n",
              "      <td>True</td>\n",
              "      <td>84</td>\n",
              "      <td>LREM</td>\n",
              "      <td>En marche !</td>\n",
              "      <td>1</td>\n",
              "      <td>2</td>\n",
              "      <td>2020-05-31</td>\n",
              "    </tr>\n",
              "    <tr>\n",
              "      <th>480</th>\n",
              "      <td>889730003495211009</td>\n",
              "      <td>False</td>\n",
              "      <td>1266032133497380865</td>\n",
              "      <td>Réunion en visioconférence pour le #GAP #agric...</td>\n",
              "      <td>2020-05-28T15:42:37.000Z</td>\n",
              "      <td>AdrienMorenas</td>\n",
              "      <td>M</td>\n",
              "      <td>35</td>\n",
              "      <td>True</td>\n",
              "      <td>84</td>\n",
              "      <td>LREM</td>\n",
              "      <td>En marche !</td>\n",
              "      <td>1</td>\n",
              "      <td>2</td>\n",
              "      <td>2020-05-28</td>\n",
              "    </tr>\n",
              "    <tr>\n",
              "      <th>482</th>\n",
              "      <td>889730003495211009</td>\n",
              "      <td>False</td>\n",
              "      <td>1265595756431409152</td>\n",
              "      <td>Cérémonie patriotique en l'honneur des résista...</td>\n",
              "      <td>2020-05-27T10:48:36.000Z</td>\n",
              "      <td>AdrienMorenas</td>\n",
              "      <td>M</td>\n",
              "      <td>35</td>\n",
              "      <td>True</td>\n",
              "      <td>84</td>\n",
              "      <td>LREM</td>\n",
              "      <td>En marche !</td>\n",
              "      <td>1</td>\n",
              "      <td>2</td>\n",
              "      <td>2020-05-27</td>\n",
              "    </tr>\n",
              "    <tr>\n",
              "      <th>484</th>\n",
              "      <td>889730003495211009</td>\n",
              "      <td>False</td>\n",
              "      <td>1265287394724634626</td>\n",
              "      <td>&lt;U+0001F58A&gt; J’ai co-signé le courrier de mon ...</td>\n",
              "      <td>2020-05-26T14:23:17.000Z</td>\n",
              "      <td>AdrienMorenas</td>\n",
              "      <td>M</td>\n",
              "      <td>35</td>\n",
              "      <td>True</td>\n",
              "      <td>84</td>\n",
              "      <td>LREM</td>\n",
              "      <td>En marche !</td>\n",
              "      <td>1</td>\n",
              "      <td>2</td>\n",
              "      <td>2020-05-26</td>\n",
              "    </tr>\n",
              "    <tr>\n",
              "      <th>486</th>\n",
              "      <td>889730003495211009</td>\n",
              "      <td>False</td>\n",
              "      <td>1264887573442449408</td>\n",
              "      <td>J’ai saisi ce jour le Directeur général de l’@...</td>\n",
              "      <td>2020-05-25T11:54:32.000Z</td>\n",
              "      <td>AdrienMorenas</td>\n",
              "      <td>M</td>\n",
              "      <td>35</td>\n",
              "      <td>True</td>\n",
              "      <td>84</td>\n",
              "      <td>LREM</td>\n",
              "      <td>En marche !</td>\n",
              "      <td>1</td>\n",
              "      <td>2</td>\n",
              "      <td>2020-05-25</td>\n",
              "    </tr>\n",
              "  </tbody>\n",
              "</table>\n",
              "</div>\n",
              "      <button class=\"colab-df-convert\" onclick=\"convertToInteractive('df-79bcac2e-141f-427d-8c76-4e03203a5e41')\"\n",
              "              title=\"Convert this dataframe to an interactive table.\"\n",
              "              style=\"display:none;\">\n",
              "        \n",
              "  <svg xmlns=\"http://www.w3.org/2000/svg\" height=\"24px\"viewBox=\"0 0 24 24\"\n",
              "       width=\"24px\">\n",
              "    <path d=\"M0 0h24v24H0V0z\" fill=\"none\"/>\n",
              "    <path d=\"M18.56 5.44l.94 2.06.94-2.06 2.06-.94-2.06-.94-.94-2.06-.94 2.06-2.06.94zm-11 1L8.5 8.5l.94-2.06 2.06-.94-2.06-.94L8.5 2.5l-.94 2.06-2.06.94zm10 10l.94 2.06.94-2.06 2.06-.94-2.06-.94-.94-2.06-.94 2.06-2.06.94z\"/><path d=\"M17.41 7.96l-1.37-1.37c-.4-.4-.92-.59-1.43-.59-.52 0-1.04.2-1.43.59L10.3 9.45l-7.72 7.72c-.78.78-.78 2.05 0 2.83L4 21.41c.39.39.9.59 1.41.59.51 0 1.02-.2 1.41-.59l7.78-7.78 2.81-2.81c.8-.78.8-2.07 0-2.86zM5.41 20L4 18.59l7.72-7.72 1.47 1.35L5.41 20z\"/>\n",
              "  </svg>\n",
              "      </button>\n",
              "      \n",
              "  <style>\n",
              "    .colab-df-container {\n",
              "      display:flex;\n",
              "      flex-wrap:wrap;\n",
              "      gap: 12px;\n",
              "    }\n",
              "\n",
              "    .colab-df-convert {\n",
              "      background-color: #E8F0FE;\n",
              "      border: none;\n",
              "      border-radius: 50%;\n",
              "      cursor: pointer;\n",
              "      display: none;\n",
              "      fill: #1967D2;\n",
              "      height: 32px;\n",
              "      padding: 0 0 0 0;\n",
              "      width: 32px;\n",
              "    }\n",
              "\n",
              "    .colab-df-convert:hover {\n",
              "      background-color: #E2EBFA;\n",
              "      box-shadow: 0px 1px 2px rgba(60, 64, 67, 0.3), 0px 1px 3px 1px rgba(60, 64, 67, 0.15);\n",
              "      fill: #174EA6;\n",
              "    }\n",
              "\n",
              "    [theme=dark] .colab-df-convert {\n",
              "      background-color: #3B4455;\n",
              "      fill: #D2E3FC;\n",
              "    }\n",
              "\n",
              "    [theme=dark] .colab-df-convert:hover {\n",
              "      background-color: #434B5C;\n",
              "      box-shadow: 0px 1px 3px 1px rgba(0, 0, 0, 0.15);\n",
              "      filter: drop-shadow(0px 1px 2px rgba(0, 0, 0, 0.3));\n",
              "      fill: #FFFFFF;\n",
              "    }\n",
              "  </style>\n",
              "\n",
              "      <script>\n",
              "        const buttonEl =\n",
              "          document.querySelector('#df-79bcac2e-141f-427d-8c76-4e03203a5e41 button.colab-df-convert');\n",
              "        buttonEl.style.display =\n",
              "          google.colab.kernel.accessAllowed ? 'block' : 'none';\n",
              "\n",
              "        async function convertToInteractive(key) {\n",
              "          const element = document.querySelector('#df-79bcac2e-141f-427d-8c76-4e03203a5e41');\n",
              "          const dataTable =\n",
              "            await google.colab.kernel.invokeFunction('convertToInteractive',\n",
              "                                                     [key], {});\n",
              "          if (!dataTable) return;\n",
              "\n",
              "          const docLinkHtml = 'Like what you see? Visit the ' +\n",
              "            '<a target=\"_blank\" href=https://colab.research.google.com/notebooks/data_table.ipynb>data table notebook</a>'\n",
              "            + ' to learn more about interactive tables.';\n",
              "          element.innerHTML = '';\n",
              "          dataTable['output_type'] = 'display_data';\n",
              "          await google.colab.output.renderOutput(dataTable, element);\n",
              "          const docLink = document.createElement('div');\n",
              "          docLink.innerHTML = docLinkHtml;\n",
              "          element.appendChild(docLink);\n",
              "        }\n",
              "      </script>\n",
              "    </div>\n",
              "  </div>\n",
              "  "
            ]
          },
          "metadata": {},
          "execution_count": 70
        }
      ],
      "source": [
        "df.head()"
      ]
    },
    {
      "cell_type": "markdown",
      "metadata": {
        "jp-MarkdownHeadingCollapsed": true,
        "tags": [],
        "id": "IDLn8-_ojon_"
      },
      "source": [
        "## Word-level preprocessing"
      ]
    },
    {
      "cell_type": "code",
      "execution_count": 71,
      "metadata": {
        "colab": {
          "base_uri": "https://localhost:8080/"
        },
        "id": "-xmuJbSIjooA",
        "outputId": "051f57b2-1977-4f2a-bbf2-fc3e9440cda2"
      },
      "outputs": [
        {
          "output_type": "stream",
          "name": "stdout",
          "text": [
            "147234 \"words\" in total for this dataset\n"
          ]
        }
      ],
      "source": [
        "# List of words with separator = \" \"\n",
        "list_words = df.text.apply(lambda x: x.split(' ')).array\n",
        "# Flattening to a single list\n",
        "list_words = [x for X in list_words for x in X]\n",
        "# Render the number of distinct words in the dataset\n",
        "print('%s \"words\" in total for this dataset' % (len(set(list_words))))"
      ]
    },
    {
      "cell_type": "code",
      "source": [
        "# Usage of Phrases and Phraser from gensim\n",
        "import nltk\n",
        "from gensim.models.phrases import Phrases, Phraser\n",
        "from nltk.tokenize import TreebankWordTokenizer, TweetTokenizer\n",
        "nltk.download('punkt')\n",
        "sent_detector = nltk.data.load('tokenizers/punkt/english.pickle')\n"
      ],
      "metadata": {
        "colab": {
          "base_uri": "https://localhost:8080/"
        },
        "id": "TzvhMwattf6p",
        "outputId": "c8e1004e-7daa-4460-e45e-d9355c17ed12"
      },
      "execution_count": 72,
      "outputs": [
        {
          "output_type": "stream",
          "name": "stdout",
          "text": [
            "[nltk_data] Downloading package punkt to /root/nltk_data...\n",
            "[nltk_data]   Package punkt is already up-to-date!\n"
          ]
        }
      ]
    },
    {
      "cell_type": "code",
      "execution_count": 122,
      "metadata": {
        "id": "2iwJpumMjooA"
      },
      "outputs": [],
      "source": [
        "# Function to clean the tweets (preprocessing)\n",
        "def clean(text):\n",
        "    text = re.sub(\"@[A-Za-z0-9_]+\",\"\", text) # Removing mention\n",
        "    text = re.sub(r'http\\S+', '', text) # Removing link \n",
        "    text = re.sub('<.*?>', '', text) # Removing html elements\n",
        "    text = text.replace('\\n',' ') # Removing new line\n",
        "    text = re.sub(\"#([a-zA-Z0-9_]{1,50})\", '', text) # Removing hashtags\n",
        "    text = re.sub(' +', ' ', text) # Remove additional spaces\n",
        "    emoji_pattern = re.compile(\"[\"\n",
        "        u\"\\U0001F600-\\U0001F64F\"  # emoticons\n",
        "        u\"\\U0001F300-\\U0001F5FF\"  # symbols & pictographs\n",
        "        u\"\\U0001F680-\\U0001F6FF\"  # transport & map symbols\n",
        "        u\"\\U0001F1E0-\\U0001F1FF\"  # flags (iOS)\n",
        "        u\"\\U00002500-\\U00002BEF\"  # chinese char\n",
        "        u\"\\U00002702-\\U000027B0\"\n",
        "        u\"\\U00002702-\\U000027B0\"\n",
        "        u\"\\U000024C2-\\U0001F251\"\n",
        "        u\"\\U0001f926-\\U0001f937\"\n",
        "        u\"\\U00010000-\\U0010ffff\"\n",
        "        u\"\\u2640-\\u2642\" \n",
        "        u\"\\u2600-\\u2B55\"\n",
        "        u\"\\u200d\"\n",
        "        u\"\\u23cf\"\n",
        "        u\"\\u23e9\"\n",
        "        u\"\\u231a\"\n",
        "        u\"\\ufe0f\"  # dingbats\n",
        "        u\"\\u3030\"\n",
        "                      \"]+\", flags=re.UNICODE)\n",
        "    text = emoji_pattern.sub(r'', text) # remove emoji\n",
        "    return text\n",
        "df[\"text_clean\"] = df[\"text\"].apply(lambda x: clean(x))"
      ]
    },
    {
      "cell_type": "code",
      "execution_count": 82,
      "metadata": {
        "colab": {
          "base_uri": "https://localhost:8080/"
        },
        "id": "fQi2QyQejooB",
        "outputId": "6ccf823d-a8ab-4009-8000-269b13ad9b88"
      },
      "outputs": [
        {
          "output_type": "stream",
          "name": "stdout",
          "text": [
            "93487 cleaned \"words\" in total for this dataset\n"
          ]
        }
      ],
      "source": [
        "# List of cleaned words\n",
        "list_words_2 = df.text_clean.apply(lambda x: x.split(' ')).array\n",
        "list_words_2 = [x for X in list_words_2 for x in X]\n",
        "print('%s cleaned \"words\" in total for this dataset' % (len(set(list_words_2))))"
      ]
    },
    {
      "cell_type": "code",
      "execution_count": 84,
      "metadata": {
        "colab": {
          "base_uri": "https://localhost:8080/"
        },
        "id": "WOwngbBkjooB",
        "outputId": "d48e426c-62f6-4590-deb8-7dc7636d70c7"
      },
      "outputs": [
        {
          "output_type": "stream",
          "name": "stdout",
          "text": [
            "92561 tokens in total for this dataset\n"
          ]
        }
      ],
      "source": [
        "# List of tokens\n",
        "list_tokens_1 = df.text.apply(lambda x: TweetTokenizer().tokenize(x)).array\n",
        "list_tokens_1 = [x for X in list_tokens_1 for x in X]\n",
        "print('%s tokens in total for this dataset' % (len(set(list_tokens_1))))"
      ]
    },
    {
      "cell_type": "code",
      "execution_count": 85,
      "metadata": {
        "colab": {
          "base_uri": "https://localhost:8080/"
        },
        "id": "g5M5CN6bjooC",
        "outputId": "686485a4-a7d3-4b63-ff8f-42dc695a4a48"
      },
      "outputs": [
        {
          "output_type": "stream",
          "name": "stdout",
          "text": [
            "54225 \"cleaned\" tokens in total for this dataset\n"
          ]
        }
      ],
      "source": [
        "# List of tokens\n",
        "list_tokens_2 = df.text_clean.apply(lambda x: TweetTokenizer().tokenize(x)).array\n",
        "list_tokens_2 = [x for X in list_tokens_2 for x in X]\n",
        "print('%s \"cleaned\" tokens in total for this dataset' % (len(set(list_tokens_2))))"
      ]
    },
    {
      "cell_type": "markdown",
      "metadata": {
        "jp-MarkdownHeadingCollapsed": true,
        "tags": [],
        "id": "89s3VD8Ajonu"
      },
      "source": [
        "## First statistics on the complete set of data"
      ]
    },
    {
      "cell_type": "code",
      "execution_count": 59,
      "metadata": {
        "colab": {
          "base_uri": "https://localhost:8080/"
        },
        "id": "H-jchZQBA_6s",
        "outputId": "8bc1e684-4c55-49d0-fcdb-e9eeb89d7395"
      },
      "outputs": [
        {
          "output_type": "stream",
          "name": "stdout",
          "text": [
            "32767 tweets in total\n"
          ]
        }
      ],
      "source": [
        "# Number of different tweets in the database\n",
        "print(len(df.id.unique()),\"tweets in total\")"
      ]
    },
    {
      "cell_type": "code",
      "execution_count": 60,
      "metadata": {
        "colab": {
          "base_uri": "https://localhost:8080/"
        },
        "id": "UBkF9-XPGzzs",
        "outputId": "498aa6a6-8641-4cad-9ce5-95e3a65aec08"
      },
      "outputs": [
        {
          "output_type": "stream",
          "name": "stdout",
          "text": [
            "487 distinct authors\n"
          ]
        }
      ],
      "source": [
        "# Number of different MPs in the database\n",
        "print(len(df.author_id.unique()),\"distinct authors\")"
      ]
    },
    {
      "cell_type": "code",
      "execution_count": 61,
      "metadata": {
        "colab": {
          "base_uri": "https://localhost:8080/"
        },
        "id": "ZCr0UA2EgmSV",
        "outputId": "8f570b1f-5ff7-4e07-8d4a-626cd6611879"
      },
      "outputs": [
        {
          "output_type": "stream",
          "name": "stdout",
          "text": [
            "Distribution of tweets considered as possibly sensitive \n",
            " False    32552\n",
            "True       215\n",
            "Name: possibly_sensitive, dtype: int64\n"
          ]
        }
      ],
      "source": [
        "# Distribution of tweets considered as possibly sensitive\n",
        "print(\"Distribution of tweets considered as possibly sensitive \\n\", df.possibly_sensitive.value_counts())"
      ]
    },
    {
      "cell_type": "code",
      "execution_count": 62,
      "metadata": {
        "colab": {
          "base_uri": "https://localhost:8080/",
          "height": 444
        },
        "id": "_TelmeZpFvOa",
        "outputId": "ad4591ea-b377-4621-b5bd-0ec1b8c57ec8"
      },
      "outputs": [
        {
          "output_type": "display_data",
          "data": {
            "text/plain": [
              "<Figure size 1080x504 with 1 Axes>"
            ],
            "image/png": "[encoded data removed]"
          },
          "metadata": {
            "needs_background": "light"
          }
        }
      ],
      "source": [
        "# Plot the number of tweets per date\n",
        "x = df.date.value_counts().index # Get the date as x-axis\n",
        "y = df.date.value_counts() # Get the number of tweets per date as y-axis\n",
        "figure(figsize=(15, 7))\n",
        "plt.title('Number of tweets per date')\n",
        "plt.plot_date(x, y, xdate=True)\n",
        "plt.show() # Plot the graph"
      ]
    },
    {
      "cell_type": "code",
      "execution_count": 20,
      "metadata": {
        "colab": {
          "base_uri": "https://localhost:8080/",
          "height": 304
        },
        "id": "GQUj3HmQjon0",
        "outputId": "27491c27-fb39-4c81-9175-b5722f9a73b6"
      },
      "outputs": [
        {
          "output_type": "stream",
          "name": "stdout",
          "text": [
            "Number of tweets done by MPs age:\n"
          ]
        },
        {
          "output_type": "execute_result",
          "data": {
            "text/plain": [
              "<matplotlib.axes._subplots.AxesSubplot at 0x7f57890e67d0>"
            ]
          },
          "metadata": {},
          "execution_count": 20
        },
        {
          "output_type": "display_data",
          "data": {
            "text/plain": [
              "<Figure size 432x288 with 1 Axes>"
            ],
            "image/png": "[encoded data removed]"
          },
          "metadata": {
            "needs_background": "light"
          }
        }
      ],
      "source": [
        "print(\"Number of tweets done by MPs age:\")\n",
        "df.age.hist(bins=15)"
      ]
    },
    {
      "cell_type": "code",
      "execution_count": 21,
      "metadata": {
        "colab": {
          "base_uri": "https://localhost:8080/",
          "height": 300
        },
        "id": "ryMvEdLrc9ae",
        "outputId": "55e7f6d0-2013-4ec2-f472-ae0460791b57"
      },
      "outputs": [
        {
          "output_type": "stream",
          "name": "stdout",
          "text": [
            "Number of tweets done by political group:\n"
          ]
        },
        {
          "output_type": "execute_result",
          "data": {
            "text/plain": [
              "<matplotlib.axes._subplots.AxesSubplot at 0x7f5786c0da90>"
            ]
          },
          "metadata": {},
          "execution_count": 21
        },
        {
          "output_type": "display_data",
          "data": {
            "text/plain": [
              "<Figure size 432x288 with 1 Axes>"
            ],
            "image/png": "[encoded data removed]"
          },
          "metadata": {
            "needs_background": "light"
          }
        }
      ],
      "source": [
        "print(\"Number of tweets done by political group:\")\n",
        "df.groupe_sigle.hist()"
      ]
    },
    {
      "cell_type": "code",
      "execution_count": 22,
      "metadata": {
        "colab": {
          "base_uri": "https://localhost:8080/"
        },
        "id": "rpZkegTs4bOM",
        "outputId": "c71894ad-bc4b-4c18-9d5b-3596e6dd29d9"
      },
      "outputs": [
        {
          "output_type": "stream",
          "name": "stdout",
          "text": [
            "Distribution of tweets by gender \n",
            " M    19966\n",
            "F    12801\n",
            "Name: sexe, dtype: int64\n"
          ]
        }
      ],
      "source": [
        "print(\"Distribution of tweets by gender \\n\", df.sexe.value_counts())"
      ]
    },
    {
      "cell_type": "code",
      "execution_count": 23,
      "metadata": {
        "colab": {
          "base_uri": "https://localhost:8080/"
        },
        "id": "gDtDdMDQ5pSC",
        "outputId": "bfbbbb28-7b52-46a1-a7e6-9254048e6503"
      },
      "outputs": [
        {
          "output_type": "stream",
          "name": "stdout",
          "text": [
            "Distribution of tweets by number of mandates \n",
            " 1    24594\n",
            "2     7576\n",
            "3      597\n",
            "Name: nb_mandats, dtype: int64\n"
          ]
        }
      ],
      "source": [
        "print(\"Distribution of tweets by number of mandates \\n\", df.nb_mandats.value_counts())"
      ]
    },
    {
      "cell_type": "code",
      "execution_count": 24,
      "metadata": {
        "colab": {
          "base_uri": "https://localhost:8080/"
        },
        "id": "HSYCV0-V527C",
        "outputId": "730f2ee1-19d4-46f4-e8ce-38b277d2fcbb"
      },
      "outputs": [
        {
          "output_type": "stream",
          "name": "stdout",
          "text": [
            "Distribution of tweets according to majority belonging \n",
            " True     21179\n",
            "False    11588\n",
            "Name: majo, dtype: int64\n"
          ]
        }
      ],
      "source": [
        "print(\"Distribution of tweets according to majority belonging \\n\", df.majo.value_counts())"
      ]
    },
    {
      "cell_type": "markdown",
      "metadata": {
        "id": "UFtFA55HgFmH",
        "jp-MarkdownHeadingCollapsed": true,
        "tags": []
      },
      "source": [
        "## Some statistics on tweets themselves"
      ]
    },
    {
      "cell_type": "code",
      "execution_count": 86,
      "metadata": {
        "colab": {
          "base_uri": "https://localhost:8080/"
        },
        "id": "GHYvZm7Xjon4",
        "outputId": "a180cde5-0292-4f82-aef6-23946153a045"
      },
      "outputs": [
        {
          "output_type": "stream",
          "name": "stdout",
          "text": [
            "Mean length of tweets in characters: 255.04104739524522\n"
          ]
        }
      ],
      "source": [
        "# Mean length of tweets in characters\n",
        "print(\"Mean length of tweets in characters:\",df.text.apply(len).mean())"
      ]
    },
    {
      "cell_type": "code",
      "execution_count": 87,
      "metadata": {
        "id": "sxONDUxLjon5"
      },
      "outputs": [],
      "source": [
        "# Number of \"words\": we split by a space(naive approach)\n",
        "df['words_len'] = df.text_clean.apply(lambda x: len(x.split(' ')) )"
      ]
    },
    {
      "cell_type": "code",
      "source": [
        "# Mean length of tweets in characters\n",
        "print(\"Mean length of tweets in characters:\",df.words_len.mean())"
      ],
      "metadata": {
        "colab": {
          "base_uri": "https://localhost:8080/"
        },
        "id": "h84WPtlBn_Rb",
        "outputId": "b7d0a6c7-3c85-4822-e867-2edfea009d25"
      },
      "execution_count": 88,
      "outputs": [
        {
          "output_type": "stream",
          "name": "stdout",
          "text": [
            "Mean length of tweets in characters: 33.60155034028138\n"
          ]
        }
      ]
    },
    {
      "cell_type": "code",
      "execution_count": 89,
      "metadata": {
        "colab": {
          "base_uri": "https://localhost:8080/",
          "height": 282
        },
        "id": "-6cwLkg9jon6",
        "outputId": "29adae56-70a0-463e-b535-2b7390ea2101"
      },
      "outputs": [
        {
          "output_type": "execute_result",
          "data": {
            "text/plain": [
              "<matplotlib.axes._subplots.AxesSubplot at 0x7f5786252c90>"
            ]
          },
          "metadata": {},
          "execution_count": 89
        },
        {
          "output_type": "display_data",
          "data": {
            "text/plain": [
              "<Figure size 432x288 with 1 Axes>"
            ],
            "image/png": "[encoded data removed]"
          },
          "metadata": {
            "needs_background": "light"
          }
        }
      ],
      "source": [
        "# Distribution of tweets according to length in words\n",
        "df.words_len.hist(bins=15)"
      ]
    },
    {
      "cell_type": "code",
      "source": [
        "# Storing the average word length for each tweet\n",
        "df[\"chr_len_words\"] = df['text_clean'].str.split(' |-').\\\n",
        "   apply(lambda x : [len(i) for i in x]). \\\n",
        "   map(lambda x: np.mean(x))"
      ],
      "metadata": {
        "id": "vpE7bCNlycoR"
      },
      "execution_count": 133,
      "outputs": []
    },
    {
      "cell_type": "code",
      "source": [
        "# # Outlier observation to deal with later\n",
        "# df[df[\"chr_len_words\"]  == 13.5] # c'est à cause de l'accent, donc je supprime pour le moment mais on verra plus tard"
      ],
      "metadata": {
        "id": "XJ3ud_HT1rXB"
      },
      "execution_count": 140,
      "outputs": []
    },
    {
      "cell_type": "code",
      "source": [
        "# # Remove outliers\n",
        "# df = df.drop(495518, axis=0)\n",
        "# df = df.drop(449536, axis=0)"
      ],
      "metadata": {
        "id": "r10OAOltyrHL"
      },
      "execution_count": 129,
      "outputs": []
    },
    {
      "cell_type": "code",
      "source": [
        "# Distribution of tweets according to average words length\n",
        "df.chr_len_words.hist()"
      ],
      "metadata": {
        "colab": {
          "base_uri": "https://localhost:8080/",
          "height": 282
        },
        "id": "F7Jt3tJ32tF2",
        "outputId": "6e8a15bc-f08b-4577-b5d5-10cef284c0bb"
      },
      "execution_count": 139,
      "outputs": [
        {
          "output_type": "execute_result",
          "data": {
            "text/plain": [
              "<matplotlib.axes._subplots.AxesSubplot at 0x7f578784bb10>"
            ]
          },
          "metadata": {},
          "execution_count": 139
        },
        {
          "output_type": "display_data",
          "data": {
            "text/plain": [
              "<Figure size 432x288 with 1 Axes>"
            ],
            "image/png": "[encoded data removed]"
          },
          "metadata": {
            "needs_background": "light"
          }
        }
      ]
    },
    {
      "cell_type": "code",
      "source": [
        "# Analysis of stopwords\n",
        "# Code taken from: https://app.neptune.ai/neptune-ai/eda-nlp-tools/n/1-3-top-stopwords-barchart-b953763c-3fea-4331-bff0-429411793e5f/5c0fca05-ba07-4564-a02e-c44b08bfb8cb\n",
        "import nltk\n",
        "from nltk.corpus import stopwords\n",
        "stop=set(stopwords.words('french'))\n",
        "\n",
        "def plot_top_stopwords_barchart(text):\n",
        "    stop=set(stopwords.words('english'))\n",
        "    \n",
        "    new= df.text_clean.str.split()\n",
        "    new=new.values.tolist()\n",
        "    corpus=[word for i in new for word in i]\n",
        "    from collections import defaultdict\n",
        "    dic=defaultdict(int)\n",
        "    for word in corpus:\n",
        "        if word in stop:\n",
        "            dic[word]+=1\n",
        "            \n",
        "    top=sorted(dic.items(), key=lambda x:x[1],reverse=True)[:10] \n",
        "    x,y=zip(*top)\n",
        "    plt.bar(x,y)\n",
        "\n",
        "plot_top_stopwords_barchart(df[\"text_clean\"])"
      ],
      "metadata": {
        "colab": {
          "base_uri": "https://localhost:8080/",
          "height": 265
        },
        "id": "je6vQxda3hGf",
        "outputId": "9b0481e5-cc07-4722-a6be-68e4e444925d"
      },
      "execution_count": 149,
      "outputs": [
        {
          "output_type": "display_data",
          "data": {
            "text/plain": [
              "<Figure size 432x288 with 1 Axes>"
            ],
            "image/png": "[encoded data removed]"
          },
          "metadata": {
            "needs_background": "light"
          }
        }
      ]
    },
    {
      "cell_type": "markdown",
      "metadata": {
        "jp-MarkdownHeadingCollapsed": true,
        "tags": [],
        "id": "xWmH8b4GjooC"
      },
      "source": [
        "## Specificity of tweet contents"
      ]
    },
    {
      "cell_type": "code",
      "execution_count": null,
      "metadata": {
        "id": "pENOd9mkjooC"
      },
      "outputs": [],
      "source": [
        "# We want to match some specificity of Twitter contents and render it\n",
        "hash_prog = re.compile('#') # matching hash\n",
        "mention_prog = re.compile('@[A-Za-z0-9_]+') # matching mention\n",
        "link_prog = re.compile(r'http\\S+') # # matching url\n",
        "emoji_prog = re.compile(\"[\"\n",
        "        u\"\\U0001F600-\\U0001F64F\"  # emoticons\n",
        "        u\"\\U0001F300-\\U0001F5FF\"  # symbols & pictographs\n",
        "        u\"\\U0001F680-\\U0001F6FF\"  # transport & map symbols\n",
        "        u\"\\U0001F1E0-\\U0001F1FF\"  # flags (iOS)\n",
        "        u\"\\U00002500-\\U00002BEF\"  # chinese char\n",
        "        u\"\\U00002702-\\U000027B0\"\n",
        "        u\"\\U00002702-\\U000027B0\"\n",
        "        u\"\\U000024C2-\\U0001F251\"\n",
        "        u\"\\U0001f926-\\U0001f937\"\n",
        "        u\"\\U00010000-\\U0010ffff\"\n",
        "        u\"\\u2640-\\u2642\" \n",
        "        u\"\\u2600-\\u2B55\"\n",
        "        u\"\\u200d\"\n",
        "        u\"\\u23cf\"\n",
        "        u\"\\u23e9\"\n",
        "        u\"\\u231a\"\n",
        "        u\"\\ufe0f\"  # dingbats\n",
        "        u\"\\u3030\"\n",
        "                      \"]+\", flags=re.UNICODE)\n",
        "# Calculating number of matches for every tweet\n",
        "progs = [hash_prog, mention_prog, link_prog, emoji_prog]\n",
        "nb_types = ['hash', 'mention', 'link', 'emoji']\n",
        "for prog, nb_type in zip(progs, nb_types):\n",
        "  df[nb_type] = df['text'].apply(lambda x: len(prog.split(x))-1).array"
      ]
    }
  ],
  "metadata": {
    "colab": {
      "name": "Descriptive_statistics.ipynb",
      "provenance": [],
      "collapsed_sections": [
        "Pdo3ZXmVjonb",
        "q3jltu6gjono",
        "89s3VD8Ajonu",
        "xWmH8b4GjooC"
      ],
      "include_colab_link": true
    },
    "kernelspec": {
      "display_name": "Python (default)",
      "language": "python",
      "name": "python3"
    },
    "language_info": {
      "codemirror_mode": {
        "name": "ipython",
        "version": 3
      },
      "file_extension": ".py",
      "mimetype": "text/x-python",
      "name": "python",
      "nbconvert_exporter": "python",
      "pygments_lexer": "ipython3",
      "version": "3.8.12"
    }
  },
  "nbformat": 4,
  "nbformat_minor": 0
}