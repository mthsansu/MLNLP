{
  "nbformat": 4,
  "nbformat_minor": 0,
  "metadata": {
    "colab": {
      "name": "Untitled5.ipynb",
      "provenance": [],
      "authorship_tag": "ABX9TyOr5VVIq2eVo0N2aSkbYRoN",
      "include_colab_link": true
    },
    "kernelspec": {
      "name": "python3",
      "display_name": "Python 3"
    },
    "language_info": {
      "name": "python"
    }
  },
  "cells": [
    {
      "cell_type": "markdown",
      "metadata": {
        "id": "view-in-github",
        "colab_type": "text"
      },
      "source": [
        "<a href=\"https://colab.research.google.com/github/mthsansu/MLNLP/blob/main/Code/Descriptive_statistics.ipynb\" target=\"_parent\"><img src=\"https://colab.research.google.com/assets/colab-badge.svg\" alt=\"Open In Colab\"/></a>"
      ]
    },
    {
      "cell_type": "code",
      "source": [
        "!pip install datasets"
      ],
      "metadata": {
        "colab": {
          "base_uri": "https://localhost:8080/"
        },
        "id": "0s1ck7FiqHVK",
        "outputId": "3fd3a31a-ca90-4408-8fea-d89d85170238"
      },
      "execution_count": 1,
      "outputs": [
        {
          "output_type": "stream",
          "name": "stdout",
          "text": [
            "Requirement already satisfied: datasets in /usr/local/lib/python3.7/dist-packages (2.0.0)\n",
            "Requirement already satisfied: xxhash in /usr/local/lib/python3.7/dist-packages (from datasets) (3.0.0)\n",
            "Requirement already satisfied: importlib-metadata in /usr/local/lib/python3.7/dist-packages (from datasets) (4.11.3)\n",
            "Requirement already satisfied: huggingface-hub<1.0.0,>=0.1.0 in /usr/local/lib/python3.7/dist-packages (from datasets) (0.5.1)\n",
            "Requirement already satisfied: requests>=2.19.0 in /usr/local/lib/python3.7/dist-packages (from datasets) (2.23.0)\n",
            "Requirement already satisfied: pyarrow>=5.0.0 in /usr/local/lib/python3.7/dist-packages (from datasets) (6.0.1)\n",
            "Requirement already satisfied: fsspec[http]>=2021.05.0 in /usr/local/lib/python3.7/dist-packages (from datasets) (2022.3.0)\n",
            "Requirement already satisfied: numpy>=1.17 in /usr/local/lib/python3.7/dist-packages (from datasets) (1.21.5)\n",
            "Requirement already satisfied: multiprocess in /usr/local/lib/python3.7/dist-packages (from datasets) (0.70.12.2)\n",
            "Requirement already satisfied: dill in /usr/local/lib/python3.7/dist-packages (from datasets) (0.3.4)\n",
            "Requirement already satisfied: packaging in /usr/local/lib/python3.7/dist-packages (from datasets) (21.3)\n",
            "Requirement already satisfied: pandas in /usr/local/lib/python3.7/dist-packages (from datasets) (1.3.5)\n",
            "Requirement already satisfied: aiohttp in /usr/local/lib/python3.7/dist-packages (from datasets) (3.8.1)\n",
            "Requirement already satisfied: responses<0.19 in /usr/local/lib/python3.7/dist-packages (from datasets) (0.18.0)\n",
            "Requirement already satisfied: tqdm>=4.62.1 in /usr/local/lib/python3.7/dist-packages (from datasets) (4.63.0)\n",
            "Requirement already satisfied: pyyaml in /usr/local/lib/python3.7/dist-packages (from huggingface-hub<1.0.0,>=0.1.0->datasets) (3.13)\n",
            "Requirement already satisfied: filelock in /usr/local/lib/python3.7/dist-packages (from huggingface-hub<1.0.0,>=0.1.0->datasets) (3.6.0)\n",
            "Requirement already satisfied: typing-extensions>=3.7.4.3 in /usr/local/lib/python3.7/dist-packages (from huggingface-hub<1.0.0,>=0.1.0->datasets) (3.10.0.2)\n",
            "Requirement already satisfied: pyparsing!=3.0.5,>=2.0.2 in /usr/local/lib/python3.7/dist-packages (from packaging->datasets) (3.0.7)\n",
            "Requirement already satisfied: idna<3,>=2.5 in /usr/local/lib/python3.7/dist-packages (from requests>=2.19.0->datasets) (2.10)\n",
            "Requirement already satisfied: certifi>=2017.4.17 in /usr/local/lib/python3.7/dist-packages (from requests>=2.19.0->datasets) (2021.10.8)\n",
            "Requirement already satisfied: chardet<4,>=3.0.2 in /usr/local/lib/python3.7/dist-packages (from requests>=2.19.0->datasets) (3.0.4)\n",
            "Requirement already satisfied: urllib3!=1.25.0,!=1.25.1,<1.26,>=1.21.1 in /usr/local/lib/python3.7/dist-packages (from requests>=2.19.0->datasets) (1.25.11)\n",
            "Requirement already satisfied: asynctest==0.13.0 in /usr/local/lib/python3.7/dist-packages (from aiohttp->datasets) (0.13.0)\n",
            "Requirement already satisfied: charset-normalizer<3.0,>=2.0 in /usr/local/lib/python3.7/dist-packages (from aiohttp->datasets) (2.0.12)\n",
            "Requirement already satisfied: yarl<2.0,>=1.0 in /usr/local/lib/python3.7/dist-packages (from aiohttp->datasets) (1.7.2)\n",
            "Requirement already satisfied: frozenlist>=1.1.1 in /usr/local/lib/python3.7/dist-packages (from aiohttp->datasets) (1.3.0)\n",
            "Requirement already satisfied: attrs>=17.3.0 in /usr/local/lib/python3.7/dist-packages (from aiohttp->datasets) (21.4.0)\n",
            "Requirement already satisfied: multidict<7.0,>=4.5 in /usr/local/lib/python3.7/dist-packages (from aiohttp->datasets) (6.0.2)\n",
            "Requirement already satisfied: async-timeout<5.0,>=4.0.0a3 in /usr/local/lib/python3.7/dist-packages (from aiohttp->datasets) (4.0.2)\n",
            "Requirement already satisfied: aiosignal>=1.1.2 in /usr/local/lib/python3.7/dist-packages (from aiohttp->datasets) (1.2.0)\n",
            "Requirement already satisfied: zipp>=0.5 in /usr/local/lib/python3.7/dist-packages (from importlib-metadata->datasets) (3.7.0)\n",
            "Requirement already satisfied: pytz>=2017.3 in /usr/local/lib/python3.7/dist-packages (from pandas->datasets) (2018.9)\n",
            "Requirement already satisfied: python-dateutil>=2.7.3 in /usr/local/lib/python3.7/dist-packages (from pandas->datasets) (2.8.2)\n",
            "Requirement already satisfied: six>=1.5 in /usr/local/lib/python3.7/dist-packages (from python-dateutil>=2.7.3->pandas->datasets) (1.15.0)\n"
          ]
        }
      ]
    },
    {
      "cell_type": "code",
      "execution_count": 27,
      "metadata": {
        "id": "e52lbxWcpoTL"
      },
      "outputs": [],
      "source": [
        "import torch\n",
        "import numpy as np\n",
        "import datasets\n",
        "from datasets import load_dataset\n",
        "from tqdm import tqdm\n",
        "import nltk\n",
        "from nltk.tokenize import TreebankWordTokenizer, TweetTokenizer\n",
        "import pandas as pd\n",
        "from collections import Counter\n",
        "import torchtext\n",
        "from sklearn.model_selection import train_test_split\n",
        "\n",
        "from termcolor import colored\n",
        "\n",
        "import torch\n",
        "import torch.nn as nn\n",
        "import torch.nn.functional as F\n",
        "\n",
        "import matplotlib.pyplot as plt"
      ]
    },
    {
      "cell_type": "code",
      "source": [
        "# Import data\n",
        "git_url = \"https://raw.githubusercontent.com/mthsansu/MLNLP/main/Data/\"\n",
        "df = pd.read_csv(git_url + 'df_1000_rand_full.csv')"
      ],
      "metadata": {
        "id": "2xvNiTBCqAUW"
      },
      "execution_count": 17,
      "outputs": []
    },
    {
      "cell_type": "code",
      "source": [
        "df.head()"
      ],
      "metadata": {
        "colab": {
          "base_uri": "https://localhost:8080/",
          "height": 943
        },
        "id": "1LvE3es7qwI9",
        "outputId": "12eb3dc4-f2d8-4f83-8391-f9770a644ac3"
      },
      "execution_count": 40,
      "outputs": [
        {
          "output_type": "execute_result",
          "data": {
            "text/plain": [
              "   Unnamed: 0 lang      conversation_id  possibly_sensitive  \\\n",
              "0      477596   fr  1367040568220606465               False   \n",
              "1      155753   fr  1001836197390450689               False   \n",
              "2      669156   fr   913341563614482432               False   \n",
              "3      368103   fr  1233088642077413376               False   \n",
              "4      333864   fr   862914612651577344               False   \n",
              "\n",
              "                  id.x                created_at           author_id  \\\n",
              "0  1367040568220606465  2021-03-03T09:14:04.000Z           400123170   \n",
              "1  1001836197390450689  2018-05-30T14:42:17.000Z           377992263   \n",
              "2   913341563614482432  2017-09-28T09:56:12.000Z  881156720155930624   \n",
              "3  1233088642077413376  2020-02-27T17:56:56.000Z  866946801726877697   \n",
              "4   862914612651577344  2017-05-12T06:17:30.000Z  832246158391144448   \n",
              "\n",
              "               source                                               text  \\\n",
              "0     Twitter Web App  [COMMISSION DEVELOPPEMENT DURABLE]\\r\\n<U+0001F...   \n",
              "1  Twitter for iPhone  #DirectAN Explication sur mon vote contre l'in...   \n",
              "2  Twitter Web Client  « La 1ère des libertés est la sécurité. Les pe...   \n",
              "3  Twitter for iPhone  Les députés communistes ont fini par retirer e...   \n",
              "4  Twitter Web Client  RT @BFMTV: Gérald Dahan évoque sa candidature ...   \n",
              "\n",
              "   in_reply_to_user_id  ...  place_en_hemicycle  \\\n",
              "0                  NaN  ...                 303   \n",
              "1                  NaN  ...                 143   \n",
              "2                  NaN  ...                  13   \n",
              "3                  NaN  ...                 473   \n",
              "4                  NaN  ...                 602   \n",
              "\n",
              "                                              url_an   id_an  \\\n",
              "0  http://www2.assemblee-nationale.fr/deputes/fic...  721372   \n",
              "1  http://www2.assemblee-nationale.fr/deputes/fic...  267355   \n",
              "2  http://www2.assemblee-nationale.fr/deputes/fic...  720386   \n",
              "3  http://www2.assemblee-nationale.fr/deputes/fic...  719310   \n",
              "4  http://www2.assemblee-nationale.fr/deputes/fic...  720286   \n",
              "\n",
              "                slug                               url_nosdeputes  \\\n",
              "0   damien-pichereau   https://www.nosdeputes.fr/damien-pichereau   \n",
              "1      antoine-herth      https://www.nosdeputes.fr/antoine-herth   \n",
              "2  fabien-di-filippo  https://www.nosdeputes.fr/fabien-di-filippo   \n",
              "3  celia-de-lavergne  https://www.nosdeputes.fr/celia-de-lavergne   \n",
              "4      caroline-fiat      https://www.nosdeputes.fr/caroline-fiat   \n",
              "\n",
              "                                url_nosdeputes_api nb_mandats  \\\n",
              "0   https://www.nosdeputes.fr/damien-pichereau/csv          1   \n",
              "1      https://www.nosdeputes.fr/antoine-herth/csv          1   \n",
              "2  https://www.nosdeputes.fr/fabien-di-filippo/csv          2   \n",
              "3  https://www.nosdeputes.fr/celia-de-lavergne/csv          1   \n",
              "4      https://www.nosdeputes.fr/caroline-fiat/csv          1   \n",
              "\n",
              "         twitter.y  age_group  twi_actif  \n",
              "0  DamienPichereau          1          1  \n",
              "1     antoineherth          3          1  \n",
              "2  FabienDiFilippo          1          1  \n",
              "3       CdLavergne          2          1  \n",
              "4   CarolineFiat54          2          1  \n",
              "\n",
              "[5 rows x 49 columns]"
            ],
            "text/html": [
              "\n",
              "  <div id=\"df-6c44db4d-9611-4c71-990b-a305bedadbcf\">\n",
              "    <div class=\"colab-df-container\">\n",
              "      <div>\n",
              "<style scoped>\n",
              "    .dataframe tbody tr th:only-of-type {\n",
              "        vertical-align: middle;\n",
              "    }\n",
              "\n",
              "    .dataframe tbody tr th {\n",
              "        vertical-align: top;\n",
              "    }\n",
              "\n",
              "    .dataframe thead th {\n",
              "        text-align: right;\n",
              "    }\n",
              "</style>\n",
              "<table border=\"1\" class=\"dataframe\">\n",
              "  <thead>\n",
              "    <tr style=\"text-align: right;\">\n",
              "      <th></th>\n",
              "      <th>Unnamed: 0</th>\n",
              "      <th>lang</th>\n",
              "      <th>conversation_id</th>\n",
              "      <th>possibly_sensitive</th>\n",
              "      <th>id.x</th>\n",
              "      <th>created_at</th>\n",
              "      <th>author_id</th>\n",
              "      <th>source</th>\n",
              "      <th>text</th>\n",
              "      <th>in_reply_to_user_id</th>\n",
              "      <th>...</th>\n",
              "      <th>place_en_hemicycle</th>\n",
              "      <th>url_an</th>\n",
              "      <th>id_an</th>\n",
              "      <th>slug</th>\n",
              "      <th>url_nosdeputes</th>\n",
              "      <th>url_nosdeputes_api</th>\n",
              "      <th>nb_mandats</th>\n",
              "      <th>twitter.y</th>\n",
              "      <th>age_group</th>\n",
              "      <th>twi_actif</th>\n",
              "    </tr>\n",
              "  </thead>\n",
              "  <tbody>\n",
              "    <tr>\n",
              "      <th>0</th>\n",
              "      <td>477596</td>\n",
              "      <td>fr</td>\n",
              "      <td>1367040568220606465</td>\n",
              "      <td>False</td>\n",
              "      <td>1367040568220606465</td>\n",
              "      <td>2021-03-03T09:14:04.000Z</td>\n",
              "      <td>400123170</td>\n",
              "      <td>Twitter Web App</td>\n",
              "      <td>[COMMISSION DEVELOPPEMENT DURABLE]\\r\\n&lt;U+0001F...</td>\n",
              "      <td>NaN</td>\n",
              "      <td>...</td>\n",
              "      <td>303</td>\n",
              "      <td>http://www2.assemblee-nationale.fr/deputes/fic...</td>\n",
              "      <td>721372</td>\n",
              "      <td>damien-pichereau</td>\n",
              "      <td>https://www.nosdeputes.fr/damien-pichereau</td>\n",
              "      <td>https://www.nosdeputes.fr/damien-pichereau/csv</td>\n",
              "      <td>1</td>\n",
              "      <td>DamienPichereau</td>\n",
              "      <td>1</td>\n",
              "      <td>1</td>\n",
              "    </tr>\n",
              "    <tr>\n",
              "      <th>1</th>\n",
              "      <td>155753</td>\n",
              "      <td>fr</td>\n",
              "      <td>1001836197390450689</td>\n",
              "      <td>False</td>\n",
              "      <td>1001836197390450689</td>\n",
              "      <td>2018-05-30T14:42:17.000Z</td>\n",
              "      <td>377992263</td>\n",
              "      <td>Twitter for iPhone</td>\n",
              "      <td>#DirectAN Explication sur mon vote contre l'in...</td>\n",
              "      <td>NaN</td>\n",
              "      <td>...</td>\n",
              "      <td>143</td>\n",
              "      <td>http://www2.assemblee-nationale.fr/deputes/fic...</td>\n",
              "      <td>267355</td>\n",
              "      <td>antoine-herth</td>\n",
              "      <td>https://www.nosdeputes.fr/antoine-herth</td>\n",
              "      <td>https://www.nosdeputes.fr/antoine-herth/csv</td>\n",
              "      <td>1</td>\n",
              "      <td>antoineherth</td>\n",
              "      <td>3</td>\n",
              "      <td>1</td>\n",
              "    </tr>\n",
              "    <tr>\n",
              "      <th>2</th>\n",
              "      <td>669156</td>\n",
              "      <td>fr</td>\n",
              "      <td>913341563614482432</td>\n",
              "      <td>False</td>\n",
              "      <td>913341563614482432</td>\n",
              "      <td>2017-09-28T09:56:12.000Z</td>\n",
              "      <td>881156720155930624</td>\n",
              "      <td>Twitter Web Client</td>\n",
              "      <td>« La 1ère des libertés est la sécurité. Les pe...</td>\n",
              "      <td>NaN</td>\n",
              "      <td>...</td>\n",
              "      <td>13</td>\n",
              "      <td>http://www2.assemblee-nationale.fr/deputes/fic...</td>\n",
              "      <td>720386</td>\n",
              "      <td>fabien-di-filippo</td>\n",
              "      <td>https://www.nosdeputes.fr/fabien-di-filippo</td>\n",
              "      <td>https://www.nosdeputes.fr/fabien-di-filippo/csv</td>\n",
              "      <td>2</td>\n",
              "      <td>FabienDiFilippo</td>\n",
              "      <td>1</td>\n",
              "      <td>1</td>\n",
              "    </tr>\n",
              "    <tr>\n",
              "      <th>3</th>\n",
              "      <td>368103</td>\n",
              "      <td>fr</td>\n",
              "      <td>1233088642077413376</td>\n",
              "      <td>False</td>\n",
              "      <td>1233088642077413376</td>\n",
              "      <td>2020-02-27T17:56:56.000Z</td>\n",
              "      <td>866946801726877697</td>\n",
              "      <td>Twitter for iPhone</td>\n",
              "      <td>Les députés communistes ont fini par retirer e...</td>\n",
              "      <td>NaN</td>\n",
              "      <td>...</td>\n",
              "      <td>473</td>\n",
              "      <td>http://www2.assemblee-nationale.fr/deputes/fic...</td>\n",
              "      <td>719310</td>\n",
              "      <td>celia-de-lavergne</td>\n",
              "      <td>https://www.nosdeputes.fr/celia-de-lavergne</td>\n",
              "      <td>https://www.nosdeputes.fr/celia-de-lavergne/csv</td>\n",
              "      <td>1</td>\n",
              "      <td>CdLavergne</td>\n",
              "      <td>2</td>\n",
              "      <td>1</td>\n",
              "    </tr>\n",
              "    <tr>\n",
              "      <th>4</th>\n",
              "      <td>333864</td>\n",
              "      <td>fr</td>\n",
              "      <td>862914612651577344</td>\n",
              "      <td>False</td>\n",
              "      <td>862914612651577344</td>\n",
              "      <td>2017-05-12T06:17:30.000Z</td>\n",
              "      <td>832246158391144448</td>\n",
              "      <td>Twitter Web Client</td>\n",
              "      <td>RT @BFMTV: Gérald Dahan évoque sa candidature ...</td>\n",
              "      <td>NaN</td>\n",
              "      <td>...</td>\n",
              "      <td>602</td>\n",
              "      <td>http://www2.assemblee-nationale.fr/deputes/fic...</td>\n",
              "      <td>720286</td>\n",
              "      <td>caroline-fiat</td>\n",
              "      <td>https://www.nosdeputes.fr/caroline-fiat</td>\n",
              "      <td>https://www.nosdeputes.fr/caroline-fiat/csv</td>\n",
              "      <td>1</td>\n",
              "      <td>CarolineFiat54</td>\n",
              "      <td>2</td>\n",
              "      <td>1</td>\n",
              "    </tr>\n",
              "  </tbody>\n",
              "</table>\n",
              "<p>5 rows × 49 columns</p>\n",
              "</div>\n",
              "      <button class=\"colab-df-convert\" onclick=\"convertToInteractive('df-6c44db4d-9611-4c71-990b-a305bedadbcf')\"\n",
              "              title=\"Convert this dataframe to an interactive table.\"\n",
              "              style=\"display:none;\">\n",
              "        \n",
              "  <svg xmlns=\"http://www.w3.org/2000/svg\" height=\"24px\"viewBox=\"0 0 24 24\"\n",
              "       width=\"24px\">\n",
              "    <path d=\"M0 0h24v24H0V0z\" fill=\"none\"/>\n",
              "    <path d=\"M18.56 5.44l.94 2.06.94-2.06 2.06-.94-2.06-.94-.94-2.06-.94 2.06-2.06.94zm-11 1L8.5 8.5l.94-2.06 2.06-.94-2.06-.94L8.5 2.5l-.94 2.06-2.06.94zm10 10l.94 2.06.94-2.06 2.06-.94-2.06-.94-.94-2.06-.94 2.06-2.06.94z\"/><path d=\"M17.41 7.96l-1.37-1.37c-.4-.4-.92-.59-1.43-.59-.52 0-1.04.2-1.43.59L10.3 9.45l-7.72 7.72c-.78.78-.78 2.05 0 2.83L4 21.41c.39.39.9.59 1.41.59.51 0 1.02-.2 1.41-.59l7.78-7.78 2.81-2.81c.8-.78.8-2.07 0-2.86zM5.41 20L4 18.59l7.72-7.72 1.47 1.35L5.41 20z\"/>\n",
              "  </svg>\n",
              "      </button>\n",
              "      \n",
              "  <style>\n",
              "    .colab-df-container {\n",
              "      display:flex;\n",
              "      flex-wrap:wrap;\n",
              "      gap: 12px;\n",
              "    }\n",
              "\n",
              "    .colab-df-convert {\n",
              "      background-color: #E8F0FE;\n",
              "      border: none;\n",
              "      border-radius: 50%;\n",
              "      cursor: pointer;\n",
              "      display: none;\n",
              "      fill: #1967D2;\n",
              "      height: 32px;\n",
              "      padding: 0 0 0 0;\n",
              "      width: 32px;\n",
              "    }\n",
              "\n",
              "    .colab-df-convert:hover {\n",
              "      background-color: #E2EBFA;\n",
              "      box-shadow: 0px 1px 2px rgba(60, 64, 67, 0.3), 0px 1px 3px 1px rgba(60, 64, 67, 0.15);\n",
              "      fill: #174EA6;\n",
              "    }\n",
              "\n",
              "    [theme=dark] .colab-df-convert {\n",
              "      background-color: #3B4455;\n",
              "      fill: #D2E3FC;\n",
              "    }\n",
              "\n",
              "    [theme=dark] .colab-df-convert:hover {\n",
              "      background-color: #434B5C;\n",
              "      box-shadow: 0px 1px 3px 1px rgba(0, 0, 0, 0.15);\n",
              "      filter: drop-shadow(0px 1px 2px rgba(0, 0, 0, 0.3));\n",
              "      fill: #FFFFFF;\n",
              "    }\n",
              "  </style>\n",
              "\n",
              "      <script>\n",
              "        const buttonEl =\n",
              "          document.querySelector('#df-6c44db4d-9611-4c71-990b-a305bedadbcf button.colab-df-convert');\n",
              "        buttonEl.style.display =\n",
              "          google.colab.kernel.accessAllowed ? 'block' : 'none';\n",
              "\n",
              "        async function convertToInteractive(key) {\n",
              "          const element = document.querySelector('#df-6c44db4d-9611-4c71-990b-a305bedadbcf');\n",
              "          const dataTable =\n",
              "            await google.colab.kernel.invokeFunction('convertToInteractive',\n",
              "                                                     [key], {});\n",
              "          if (!dataTable) return;\n",
              "\n",
              "          const docLinkHtml = 'Like what you see? Visit the ' +\n",
              "            '<a target=\"_blank\" href=https://colab.research.google.com/notebooks/data_table.ipynb>data table notebook</a>'\n",
              "            + ' to learn more about interactive tables.';\n",
              "          element.innerHTML = '';\n",
              "          dataTable['output_type'] = 'display_data';\n",
              "          await google.colab.output.renderOutput(dataTable, element);\n",
              "          const docLink = document.createElement('div');\n",
              "          docLink.innerHTML = docLinkHtml;\n",
              "          element.appendChild(docLink);\n",
              "        }\n",
              "      </script>\n",
              "    </div>\n",
              "  </div>\n",
              "  "
            ]
          },
          "metadata": {},
          "execution_count": 40
        },
        {
          "output_type": "stream",
          "name": "stdout",
          "text": [
            "Warning: Total number of columns (49) exceeds max_columns (20) limiting to first (20) columns.\n"
          ]
        }
      ]
    },
    {
      "cell_type": "code",
      "source": [
        "years = []\n",
        "for i in range(len(df)):\n",
        "  string = str(df.iloc[i][\"created_at\"])\n",
        "  years[i] = string[:4]"
      ],
      "metadata": {
        "colab": {
          "base_uri": "https://localhost:8080/",
          "height": 200
        },
        "id": "uAWuYYrH6xMP",
        "outputId": "0c48f3c8-ca0a-4de6-908e-0b08585bb92a"
      },
      "execution_count": 75,
      "outputs": [
        {
          "output_type": "error",
          "ename": "IndexError",
          "evalue": "ignored",
          "traceback": [
            "\u001b[0;31m---------------------------------------------------------------------------\u001b[0m",
            "\u001b[0;31mIndexError\u001b[0m                                Traceback (most recent call last)",
            "\u001b[0;32m<ipython-input-75-28e0c33a5946>\u001b[0m in \u001b[0;36m<module>\u001b[0;34m()\u001b[0m\n\u001b[1;32m      2\u001b[0m \u001b[0;32mfor\u001b[0m \u001b[0mi\u001b[0m \u001b[0;32min\u001b[0m \u001b[0mrange\u001b[0m\u001b[0;34m(\u001b[0m\u001b[0mlen\u001b[0m\u001b[0;34m(\u001b[0m\u001b[0mdf\u001b[0m\u001b[0;34m)\u001b[0m\u001b[0;34m)\u001b[0m\u001b[0;34m:\u001b[0m\u001b[0;34m\u001b[0m\u001b[0;34m\u001b[0m\u001b[0m\n\u001b[1;32m      3\u001b[0m   \u001b[0mstring\u001b[0m \u001b[0;34m=\u001b[0m \u001b[0mstr\u001b[0m\u001b[0;34m(\u001b[0m\u001b[0mdf\u001b[0m\u001b[0;34m.\u001b[0m\u001b[0miloc\u001b[0m\u001b[0;34m[\u001b[0m\u001b[0mi\u001b[0m\u001b[0;34m]\u001b[0m\u001b[0;34m[\u001b[0m\u001b[0;34m\"created_at\"\u001b[0m\u001b[0;34m]\u001b[0m\u001b[0;34m)\u001b[0m\u001b[0;34m\u001b[0m\u001b[0;34m\u001b[0m\u001b[0m\n\u001b[0;32m----> 4\u001b[0;31m   \u001b[0myears\u001b[0m\u001b[0;34m[\u001b[0m\u001b[0mi\u001b[0m\u001b[0;34m]\u001b[0m \u001b[0;34m=\u001b[0m \u001b[0mstring\u001b[0m\u001b[0;34m[\u001b[0m\u001b[0;34m:\u001b[0m\u001b[0;36m4\u001b[0m\u001b[0;34m]\u001b[0m\u001b[0;34m\u001b[0m\u001b[0;34m\u001b[0m\u001b[0m\n\u001b[0m",
            "\u001b[0;31mIndexError\u001b[0m: list assignment index out of range"
          ]
        }
      ]
    },
    {
      "cell_type": "code",
      "source": [
        "# Plot histogram for sex\n",
        "\n",
        "hist = df[\"sexe\"].hist()"
      ],
      "metadata": {
        "colab": {
          "base_uri": "https://localhost:8080/",
          "height": 265
        },
        "id": "rpZkegTs4bOM",
        "outputId": "240d75c2-9669-410e-8e2b-75a2f4cc7a60"
      },
      "execution_count": 29,
      "outputs": [
        {
          "output_type": "display_data",
          "data": {
            "text/plain": [
              "<Figure size 432x288 with 1 Axes>"
            ],
            "image/png": "[encoded data removed]"
          },
          "metadata": {
            "needs_background": "light"
          }
        }
      ]
    },
    {
      "cell_type": "code",
      "source": [
        "# Plot histogram for age\n",
        "\n",
        "hist = df[\"age\"].hist()"
      ],
      "metadata": {
        "colab": {
          "base_uri": "https://localhost:8080/",
          "height": 265
        },
        "id": "VBTebyZi4ynn",
        "outputId": "121dc023-5116-4ea6-c968-d81055570c91"
      },
      "execution_count": 32,
      "outputs": [
        {
          "output_type": "display_data",
          "data": {
            "text/plain": [
              "<Figure size 432x288 with 1 Axes>"
            ],
            "image/png": "[encoded data removed]"
          },
          "metadata": {
            "needs_background": "light"
          }
        }
      ]
    },
    {
      "cell_type": "code",
      "source": [
        "# Plot histogram for nb.mandats\n",
        "\n",
        "hist = df[\"nb.mandats\"].hist()"
      ],
      "metadata": {
        "colab": {
          "base_uri": "https://localhost:8080/",
          "height": 265
        },
        "id": "gDtDdMDQ5pSC",
        "outputId": "2699ae73-2fb5-497e-dac5-db7b2f94f1d7"
      },
      "execution_count": 37,
      "outputs": [
        {
          "output_type": "display_data",
          "data": {
            "text/plain": [
              "<Figure size 432x288 with 1 Axes>"
            ],
            "image/png": "[encoded data removed]"
          },
          "metadata": {
            "needs_background": "light"
          }
        }
      ]
    },
    {
      "cell_type": "code",
      "source": [
        "# Get number of majo\n",
        "\n",
        "df.majo.value_counts()"
      ],
      "metadata": {
        "colab": {
          "base_uri": "https://localhost:8080/"
        },
        "id": "HSYCV0-V527C",
        "outputId": "51184efb-f9ba-4806-bfe6-f0f1f30702cf"
      },
      "execution_count": 45,
      "outputs": [
        {
          "output_type": "execute_result",
          "data": {
            "text/plain": [
              "True     655\n",
              "False    345\n",
              "Name: majo, dtype: int64"
            ]
          },
          "metadata": {},
          "execution_count": 45
        }
      ]
    },
    {
      "cell_type": "code",
      "source": [
        "# Get number of profession\n",
        "\n",
        "df.profession.value_counts()"
      ],
      "metadata": {
        "colab": {
          "base_uri": "https://localhost:8080/"
        },
        "id": "FPVMisiq6Cel",
        "outputId": "83120178-6ca0-4a61-81a4-0bd3fbf41c1a"
      },
      "execution_count": 48,
      "outputs": [
        {
          "output_type": "execute_result",
          "data": {
            "text/plain": [
              "Cadre sup<e9>rieur (secteur priv<e9>)                                  126\n",
              "Fonctionnaire de cat<e9>gorie A                                         83\n",
              "Industriel-Chef d'entreprise                                            58\n",
              "Professeur du secondaire et technique                                   42\n",
              "Employ<e9> (secteur priv<e9>)                                           39\n",
              "                                                                      ... \n",
              "Diplomate de carri<e8>re (ministre pl<e9>nipotentiaire en retraite)      1\n",
              "Enseignant 1er deg.-directeur <e9>cole                                   1\n",
              "Directrice d<U+0092>un centre de formation des apprentis                 1\n",
              "Profession lib<e9>rale                                                   1\n",
              "Infirmi<e8>re dipl<f4>m<e9>e d'Etat                                      1\n",
              "Name: profession, Length: 93, dtype: int64"
            ]
          },
          "metadata": {},
          "execution_count": 48
        }
      ]
    },
    {
      "cell_type": "code",
      "source": [
        ""
      ],
      "metadata": {
        "id": "1xHHF9js6hAg"
      },
      "execution_count": null,
      "outputs": []
    }
  ]
}