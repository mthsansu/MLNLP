{
  "nbformat": 4,
  "nbformat_minor": 0,
  "metadata": {
    "colab": {
      "name": "Untitled5.ipynb",
      "provenance": [],
      "include_colab_link": true
    },
    "kernelspec": {
      "name": "python3",
      "display_name": "Python 3"
    },
    "language_info": {
      "name": "python"
    }
  },
  "cells": [
    {
      "cell_type": "markdown",
      "metadata": {
        "id": "view-in-github",
        "colab_type": "text"
      },
      "source": [
        "<a href=\"https://colab.research.google.com/github/mthsansu/MLNLP/blob/main/Code/Descriptive_statistics.ipynb\" target=\"_parent\"><img src=\"https://colab.research.google.com/assets/colab-badge.svg\" alt=\"Open In Colab\"/></a>"
      ]
    },
    {
      "cell_type": "code",
      "source": [
        "#!pip install datasets"
      ],
      "metadata": {
        "id": "0s1ck7FiqHVK"
      },
      "execution_count": null,
      "outputs": []
    },
    {
      "cell_type": "code",
      "execution_count": 43,
      "metadata": {
        "id": "e52lbxWcpoTL"
      },
      "outputs": [],
      "source": [
        "import torch\n",
        "import numpy as np\n",
        "#import datasets\n",
        "#from datasets import load_dataset\n",
        "from tqdm import tqdm\n",
        "import nltk\n",
        "from nltk.tokenize import TreebankWordTokenizer, TweetTokenizer\n",
        "import pandas as pd\n",
        "from collections import Counter\n",
        "import torchtext\n",
        "from sklearn.model_selection import train_test_split\n",
        "\n",
        "from termcolor import colored\n",
        "\n",
        "import torch\n",
        "import torch.nn as nn\n",
        "import torch.nn.functional as F\n",
        "\n",
        "import matplotlib.pyplot as plt\n",
        "import datetime as dt"
      ]
    },
    {
      "cell_type": "code",
      "source": [
        "# Import data\n",
        "git_url = \"https://raw.githubusercontent.com/mthsansu/MLNLP/main/Data/\"\n",
        "#df = pd.read_csv(git_url + 'df_1000_rand_full.csv')\n",
        "df = pd.read_csv(git_url + 'Tweets_sample_confinement.csv', index_col=0)"
      ],
      "metadata": {
        "id": "2xvNiTBCqAUW"
      },
      "execution_count": 58,
      "outputs": []
    },
    {
      "cell_type": "code",
      "source": [
        "df['date'] = df['created_at'].str[:10]\n",
        "df['date'] = pd.to_datetime(df['date'])"
      ],
      "metadata": {
        "id": "7kgqq-aFGuj4"
      },
      "execution_count": 59,
      "outputs": []
    },
    {
      "cell_type": "code",
      "source": [
        "df.head()"
      ],
      "metadata": {
        "colab": {
          "base_uri": "https://localhost:8080/",
          "height": 337
        },
        "id": "1LvE3es7qwI9",
        "outputId": "e8da9efc-00e8-43fb-c797-81e36b5e371a"
      },
      "execution_count": 60,
      "outputs": [
        {
          "output_type": "execute_result",
          "data": {
            "text/plain": [
              "              author_id  possibly_sensitive                   id  \\\n",
              "478  889730003495211009               False  1267043323501580289   \n",
              "480  889730003495211009               False  1266032133497380865   \n",
              "482  889730003495211009               False  1265595756431409152   \n",
              "484  889730003495211009               False  1265287394724634626   \n",
              "486  889730003495211009               False  1264887573442449408   \n",
              "\n",
              "                                                  text  \\\n",
              "478  La viticulture c’est 600000 emplois dans 66 dé...   \n",
              "480  Réunion en visioconférence pour le #GAP #agric...   \n",
              "482  Cérémonie patriotique en l'honneur des résista...   \n",
              "484  <U+0001F58A> J’ai co-signé le courrier de mon ...   \n",
              "486  J’ai saisi ce jour le Directeur général de l’@...   \n",
              "\n",
              "                   created_at        twitter sexe  age  majo num_deptmt  \\\n",
              "478  2020-05-31T10:40:43.000Z  AdrienMorenas    M   35  True         84   \n",
              "480  2020-05-28T15:42:37.000Z  AdrienMorenas    M   35  True         84   \n",
              "482  2020-05-27T10:48:36.000Z  AdrienMorenas    M   35  True         84   \n",
              "484  2020-05-26T14:23:17.000Z  AdrienMorenas    M   35  True         84   \n",
              "486  2020-05-25T11:54:32.000Z  AdrienMorenas    M   35  True         84   \n",
              "\n",
              "    groupe_sigle parti_ratt_financier  nb_mandats  age_group       date  \n",
              "478         LREM          En marche !           1          2 2020-05-31  \n",
              "480         LREM          En marche !           1          2 2020-05-28  \n",
              "482         LREM          En marche !           1          2 2020-05-27  \n",
              "484         LREM          En marche !           1          2 2020-05-26  \n",
              "486         LREM          En marche !           1          2 2020-05-25  "
            ],
            "text/html": [
              "\n",
              "  <div id=\"df-e15963fb-2a5b-4f57-9c64-17c6a796e5ca\">\n",
              "    <div class=\"colab-df-container\">\n",
              "      <div>\n",
              "<style scoped>\n",
              "    .dataframe tbody tr th:only-of-type {\n",
              "        vertical-align: middle;\n",
              "    }\n",
              "\n",
              "    .dataframe tbody tr th {\n",
              "        vertical-align: top;\n",
              "    }\n",
              "\n",
              "    .dataframe thead th {\n",
              "        text-align: right;\n",
              "    }\n",
              "</style>\n",
              "<table border=\"1\" class=\"dataframe\">\n",
              "  <thead>\n",
              "    <tr style=\"text-align: right;\">\n",
              "      <th></th>\n",
              "      <th>author_id</th>\n",
              "      <th>possibly_sensitive</th>\n",
              "      <th>id</th>\n",
              "      <th>text</th>\n",
              "      <th>created_at</th>\n",
              "      <th>twitter</th>\n",
              "      <th>sexe</th>\n",
              "      <th>age</th>\n",
              "      <th>majo</th>\n",
              "      <th>num_deptmt</th>\n",
              "      <th>groupe_sigle</th>\n",
              "      <th>parti_ratt_financier</th>\n",
              "      <th>nb_mandats</th>\n",
              "      <th>age_group</th>\n",
              "      <th>date</th>\n",
              "    </tr>\n",
              "  </thead>\n",
              "  <tbody>\n",
              "    <tr>\n",
              "      <th>478</th>\n",
              "      <td>889730003495211009</td>\n",
              "      <td>False</td>\n",
              "      <td>1267043323501580289</td>\n",
              "      <td>La viticulture c’est 600000 emplois dans 66 dé...</td>\n",
              "      <td>2020-05-31T10:40:43.000Z</td>\n",
              "      <td>AdrienMorenas</td>\n",
              "      <td>M</td>\n",
              "      <td>35</td>\n",
              "      <td>True</td>\n",
              "      <td>84</td>\n",
              "      <td>LREM</td>\n",
              "      <td>En marche !</td>\n",
              "      <td>1</td>\n",
              "      <td>2</td>\n",
              "      <td>2020-05-31</td>\n",
              "    </tr>\n",
              "    <tr>\n",
              "      <th>480</th>\n",
              "      <td>889730003495211009</td>\n",
              "      <td>False</td>\n",
              "      <td>1266032133497380865</td>\n",
              "      <td>Réunion en visioconférence pour le #GAP #agric...</td>\n",
              "      <td>2020-05-28T15:42:37.000Z</td>\n",
              "      <td>AdrienMorenas</td>\n",
              "      <td>M</td>\n",
              "      <td>35</td>\n",
              "      <td>True</td>\n",
              "      <td>84</td>\n",
              "      <td>LREM</td>\n",
              "      <td>En marche !</td>\n",
              "      <td>1</td>\n",
              "      <td>2</td>\n",
              "      <td>2020-05-28</td>\n",
              "    </tr>\n",
              "    <tr>\n",
              "      <th>482</th>\n",
              "      <td>889730003495211009</td>\n",
              "      <td>False</td>\n",
              "      <td>1265595756431409152</td>\n",
              "      <td>Cérémonie patriotique en l'honneur des résista...</td>\n",
              "      <td>2020-05-27T10:48:36.000Z</td>\n",
              "      <td>AdrienMorenas</td>\n",
              "      <td>M</td>\n",
              "      <td>35</td>\n",
              "      <td>True</td>\n",
              "      <td>84</td>\n",
              "      <td>LREM</td>\n",
              "      <td>En marche !</td>\n",
              "      <td>1</td>\n",
              "      <td>2</td>\n",
              "      <td>2020-05-27</td>\n",
              "    </tr>\n",
              "    <tr>\n",
              "      <th>484</th>\n",
              "      <td>889730003495211009</td>\n",
              "      <td>False</td>\n",
              "      <td>1265287394724634626</td>\n",
              "      <td>&lt;U+0001F58A&gt; J’ai co-signé le courrier de mon ...</td>\n",
              "      <td>2020-05-26T14:23:17.000Z</td>\n",
              "      <td>AdrienMorenas</td>\n",
              "      <td>M</td>\n",
              "      <td>35</td>\n",
              "      <td>True</td>\n",
              "      <td>84</td>\n",
              "      <td>LREM</td>\n",
              "      <td>En marche !</td>\n",
              "      <td>1</td>\n",
              "      <td>2</td>\n",
              "      <td>2020-05-26</td>\n",
              "    </tr>\n",
              "    <tr>\n",
              "      <th>486</th>\n",
              "      <td>889730003495211009</td>\n",
              "      <td>False</td>\n",
              "      <td>1264887573442449408</td>\n",
              "      <td>J’ai saisi ce jour le Directeur général de l’@...</td>\n",
              "      <td>2020-05-25T11:54:32.000Z</td>\n",
              "      <td>AdrienMorenas</td>\n",
              "      <td>M</td>\n",
              "      <td>35</td>\n",
              "      <td>True</td>\n",
              "      <td>84</td>\n",
              "      <td>LREM</td>\n",
              "      <td>En marche !</td>\n",
              "      <td>1</td>\n",
              "      <td>2</td>\n",
              "      <td>2020-05-25</td>\n",
              "    </tr>\n",
              "  </tbody>\n",
              "</table>\n",
              "</div>\n",
              "      <button class=\"colab-df-convert\" onclick=\"convertToInteractive('df-e15963fb-2a5b-4f57-9c64-17c6a796e5ca')\"\n",
              "              title=\"Convert this dataframe to an interactive table.\"\n",
              "              style=\"display:none;\">\n",
              "        \n",
              "  <svg xmlns=\"http://www.w3.org/2000/svg\" height=\"24px\"viewBox=\"0 0 24 24\"\n",
              "       width=\"24px\">\n",
              "    <path d=\"M0 0h24v24H0V0z\" fill=\"none\"/>\n",
              "    <path d=\"M18.56 5.44l.94 2.06.94-2.06 2.06-.94-2.06-.94-.94-2.06-.94 2.06-2.06.94zm-11 1L8.5 8.5l.94-2.06 2.06-.94-2.06-.94L8.5 2.5l-.94 2.06-2.06.94zm10 10l.94 2.06.94-2.06 2.06-.94-2.06-.94-.94-2.06-.94 2.06-2.06.94z\"/><path d=\"M17.41 7.96l-1.37-1.37c-.4-.4-.92-.59-1.43-.59-.52 0-1.04.2-1.43.59L10.3 9.45l-7.72 7.72c-.78.78-.78 2.05 0 2.83L4 21.41c.39.39.9.59 1.41.59.51 0 1.02-.2 1.41-.59l7.78-7.78 2.81-2.81c.8-.78.8-2.07 0-2.86zM5.41 20L4 18.59l7.72-7.72 1.47 1.35L5.41 20z\"/>\n",
              "  </svg>\n",
              "      </button>\n",
              "      \n",
              "  <style>\n",
              "    .colab-df-container {\n",
              "      display:flex;\n",
              "      flex-wrap:wrap;\n",
              "      gap: 12px;\n",
              "    }\n",
              "\n",
              "    .colab-df-convert {\n",
              "      background-color: #E8F0FE;\n",
              "      border: none;\n",
              "      border-radius: 50%;\n",
              "      cursor: pointer;\n",
              "      display: none;\n",
              "      fill: #1967D2;\n",
              "      height: 32px;\n",
              "      padding: 0 0 0 0;\n",
              "      width: 32px;\n",
              "    }\n",
              "\n",
              "    .colab-df-convert:hover {\n",
              "      background-color: #E2EBFA;\n",
              "      box-shadow: 0px 1px 2px rgba(60, 64, 67, 0.3), 0px 1px 3px 1px rgba(60, 64, 67, 0.15);\n",
              "      fill: #174EA6;\n",
              "    }\n",
              "\n",
              "    [theme=dark] .colab-df-convert {\n",
              "      background-color: #3B4455;\n",
              "      fill: #D2E3FC;\n",
              "    }\n",
              "\n",
              "    [theme=dark] .colab-df-convert:hover {\n",
              "      background-color: #434B5C;\n",
              "      box-shadow: 0px 1px 3px 1px rgba(0, 0, 0, 0.15);\n",
              "      filter: drop-shadow(0px 1px 2px rgba(0, 0, 0, 0.3));\n",
              "      fill: #FFFFFF;\n",
              "    }\n",
              "  </style>\n",
              "\n",
              "      <script>\n",
              "        const buttonEl =\n",
              "          document.querySelector('#df-e15963fb-2a5b-4f57-9c64-17c6a796e5ca button.colab-df-convert');\n",
              "        buttonEl.style.display =\n",
              "          google.colab.kernel.accessAllowed ? 'block' : 'none';\n",
              "\n",
              "        async function convertToInteractive(key) {\n",
              "          const element = document.querySelector('#df-e15963fb-2a5b-4f57-9c64-17c6a796e5ca');\n",
              "          const dataTable =\n",
              "            await google.colab.kernel.invokeFunction('convertToInteractive',\n",
              "                                                     [key], {});\n",
              "          if (!dataTable) return;\n",
              "\n",
              "          const docLinkHtml = 'Like what you see? Visit the ' +\n",
              "            '<a target=\"_blank\" href=https://colab.research.google.com/notebooks/data_table.ipynb>data table notebook</a>'\n",
              "            + ' to learn more about interactive tables.';\n",
              "          element.innerHTML = '';\n",
              "          dataTable['output_type'] = 'display_data';\n",
              "          await google.colab.output.renderOutput(dataTable, element);\n",
              "          const docLink = document.createElement('div');\n",
              "          docLink.innerHTML = docLinkHtml;\n",
              "          element.appendChild(docLink);\n",
              "        }\n",
              "      </script>\n",
              "    </div>\n",
              "  </div>\n",
              "  "
            ]
          },
          "metadata": {},
          "execution_count": 60
        }
      ]
    },
    {
      "cell_type": "code",
      "source": [
        "# Number of different tweets in the database\n",
        "print(len(df.id.unique()))"
      ],
      "metadata": {
        "id": "H-jchZQBA_6s",
        "outputId": "18a10c57-0e59-40ec-bf68-9a9bb0161118",
        "colab": {
          "base_uri": "https://localhost:8080/"
        }
      },
      "execution_count": 61,
      "outputs": [
        {
          "output_type": "stream",
          "name": "stdout",
          "text": [
            "32767\n"
          ]
        }
      ]
    },
    {
      "cell_type": "code",
      "source": [
        "# Number of different tweets in the database\n",
        "print(len(df.author_id.unique()))"
      ],
      "metadata": {
        "id": "UBkF9-XPGzzs",
        "outputId": "c0ef06ec-0b32-4bf6-e396-b2f90657d1d5",
        "colab": {
          "base_uri": "https://localhost:8080/"
        }
      },
      "execution_count": 62,
      "outputs": [
        {
          "output_type": "stream",
          "name": "stdout",
          "text": [
            "487\n"
          ]
        }
      ]
    },
    {
      "cell_type": "code",
      "source": [
        "df.date.value_counts()"
      ],
      "metadata": {
        "id": "_TelmeZpFvOa",
        "outputId": "6c2b79a0-9fcf-4373-a46e-666c8a98f9b6",
        "colab": {
          "base_uri": "https://localhost:8080/"
        }
      },
      "execution_count": 63,
      "outputs": [
        {
          "output_type": "execute_result",
          "data": {
            "text/plain": [
              "2020-04-28    773\n",
              "2020-05-28    617\n",
              "2020-03-04    616\n",
              "2020-04-30    515\n",
              "2020-03-05    502\n",
              "             ... \n",
              "2020-05-16    150\n",
              "2020-05-23    150\n",
              "2020-05-21    148\n",
              "2020-03-14    147\n",
              "2020-05-31    147\n",
              "Name: date, Length: 92, dtype: int64"
            ]
          },
          "metadata": {},
          "execution_count": 63
        }
      ]
    },
    {
      "cell_type": "code",
      "source": [
        "# Mean length of content in characters\n",
        "df.text.apply(len).mean()"
      ],
      "metadata": {
        "id": "JF91O8NRsEUG",
        "outputId": "eb036e38-3213-4731-b56b-61184b67a619",
        "colab": {
          "base_uri": "https://localhost:8080/"
        }
      },
      "execution_count": 55,
      "outputs": [
        {
          "output_type": "execute_result",
          "data": {
            "text/plain": [
              "255.04104739524522"
            ]
          },
          "metadata": {},
          "execution_count": 55
        }
      ]
    },
    {
      "cell_type": "code",
      "source": [
        "# let's add some basic information about the text: number of \"words\" (here we only split by a space, a really naive approach)\n",
        "df['words_len'] = df.text.apply(lambda x: len(x.split(' ')) )"
      ],
      "metadata": {
        "id": "rvCJ1a_PtY05"
      },
      "execution_count": 56,
      "outputs": []
    },
    {
      "cell_type": "code",
      "source": [
        "df.words_len.hist()"
      ],
      "metadata": {
        "id": "ko6GzWxPthl-",
        "outputId": "622205b1-2a94-4395-be17-1e6475f95f57",
        "colab": {
          "base_uri": "https://localhost:8080/",
          "height": 506
        }
      },
      "execution_count": 57,
      "outputs": [
        {
          "output_type": "execute_result",
          "data": {
            "text/plain": [
              "<matplotlib.axes._subplots.AxesSubplot at 0x7eff45fc2f90>"
            ]
          },
          "metadata": {},
          "execution_count": 57
        },
        {
          "output_type": "display_data",
          "data": {
            "text/plain": [
              "<Figure size 800x550 with 1 Axes>"
            ],
            "image/png": "[encoded data removed]"
          },
          "metadata": {}
        }
      ]
    },
    {
      "cell_type": "code",
      "source": [
        "years = []\n",
        "for i in range(len(df)):\n",
        "  string = str(df.iloc[i][\"created_at\"])\n",
        "  years[i] = string[:4]"
      ],
      "metadata": {
        "colab": {
          "base_uri": "https://localhost:8080/",
          "height": 200
        },
        "id": "uAWuYYrH6xMP",
        "outputId": "0c48f3c8-ca0a-4de6-908e-0b08585bb92a"
      },
      "execution_count": null,
      "outputs": [
        {
          "output_type": "error",
          "ename": "IndexError",
          "evalue": "ignored",
          "traceback": [
            "\u001b[0;31m---------------------------------------------------------------------------\u001b[0m",
            "\u001b[0;31mIndexError\u001b[0m                                Traceback (most recent call last)",
            "\u001b[0;32m<ipython-input-75-28e0c33a5946>\u001b[0m in \u001b[0;36m<module>\u001b[0;34m()\u001b[0m\n\u001b[1;32m      2\u001b[0m \u001b[0;32mfor\u001b[0m \u001b[0mi\u001b[0m \u001b[0;32min\u001b[0m \u001b[0mrange\u001b[0m\u001b[0;34m(\u001b[0m\u001b[0mlen\u001b[0m\u001b[0;34m(\u001b[0m\u001b[0mdf\u001b[0m\u001b[0;34m)\u001b[0m\u001b[0;34m)\u001b[0m\u001b[0;34m:\u001b[0m\u001b[0;34m\u001b[0m\u001b[0;34m\u001b[0m\u001b[0m\n\u001b[1;32m      3\u001b[0m   \u001b[0mstring\u001b[0m \u001b[0;34m=\u001b[0m \u001b[0mstr\u001b[0m\u001b[0;34m(\u001b[0m\u001b[0mdf\u001b[0m\u001b[0;34m.\u001b[0m\u001b[0miloc\u001b[0m\u001b[0;34m[\u001b[0m\u001b[0mi\u001b[0m\u001b[0;34m]\u001b[0m\u001b[0;34m[\u001b[0m\u001b[0;34m\"created_at\"\u001b[0m\u001b[0;34m]\u001b[0m\u001b[0;34m)\u001b[0m\u001b[0;34m\u001b[0m\u001b[0;34m\u001b[0m\u001b[0m\n\u001b[0;32m----> 4\u001b[0;31m   \u001b[0myears\u001b[0m\u001b[0;34m[\u001b[0m\u001b[0mi\u001b[0m\u001b[0;34m]\u001b[0m \u001b[0;34m=\u001b[0m \u001b[0mstring\u001b[0m\u001b[0;34m[\u001b[0m\u001b[0;34m:\u001b[0m\u001b[0;36m4\u001b[0m\u001b[0;34m]\u001b[0m\u001b[0;34m\u001b[0m\u001b[0;34m\u001b[0m\u001b[0m\n\u001b[0m",
            "\u001b[0;31mIndexError\u001b[0m: list assignment index out of range"
          ]
        }
      ]
    },
    {
      "cell_type": "code",
      "source": [
        "# Plot histogram for sex\n",
        "\n",
        "hist = df[\"sexe\"].hist()"
      ],
      "metadata": {
        "colab": {
          "base_uri": "https://localhost:8080/",
          "height": 265
        },
        "id": "rpZkegTs4bOM",
        "outputId": "240d75c2-9669-410e-8e2b-75a2f4cc7a60"
      },
      "execution_count": null,
      "outputs": [
        {
          "output_type": "display_data",
          "data": {
            "text/plain": [
              "<Figure size 432x288 with 1 Axes>"
            ],
            "image/png": "[encoded data removed]"
          },
          "metadata": {
            "needs_background": "light"
          }
        }
      ]
    },
    {
      "cell_type": "code",
      "source": [
        "# Plot histogram for age\n",
        "\n",
        "hist = df[\"age\"].hist()"
      ],
      "metadata": {
        "colab": {
          "base_uri": "https://localhost:8080/",
          "height": 265
        },
        "id": "VBTebyZi4ynn",
        "outputId": "121dc023-5116-4ea6-c968-d81055570c91"
      },
      "execution_count": null,
      "outputs": [
        {
          "output_type": "display_data",
          "data": {
            "text/plain": [
              "<Figure size 432x288 with 1 Axes>"
            ],
            "image/png": "[encoded data removed]"
          },
          "metadata": {
            "needs_background": "light"
          }
        }
      ]
    },
    {
      "cell_type": "code",
      "source": [
        "# Plot histogram for nb.mandats\n",
        "\n",
        "hist = df[\"nb.mandats\"].hist()"
      ],
      "metadata": {
        "colab": {
          "base_uri": "https://localhost:8080/",
          "height": 265
        },
        "id": "gDtDdMDQ5pSC",
        "outputId": "2699ae73-2fb5-497e-dac5-db7b2f94f1d7"
      },
      "execution_count": null,
      "outputs": [
        {
          "output_type": "display_data",
          "data": {
            "text/plain": [
              "<Figure size 432x288 with 1 Axes>"
            ],
            "image/png": "[encoded data removed]"
          },
          "metadata": {
            "needs_background": "light"
          }
        }
      ]
    },
    {
      "cell_type": "code",
      "source": [
        "# Get number of majo\n",
        "\n",
        "df.majo.value_counts()"
      ],
      "metadata": {
        "colab": {
          "base_uri": "https://localhost:8080/"
        },
        "id": "HSYCV0-V527C",
        "outputId": "51184efb-f9ba-4806-bfe6-f0f1f30702cf"
      },
      "execution_count": null,
      "outputs": [
        {
          "output_type": "execute_result",
          "data": {
            "text/plain": [
              "True     655\n",
              "False    345\n",
              "Name: majo, dtype: int64"
            ]
          },
          "metadata": {},
          "execution_count": 45
        }
      ]
    },
    {
      "cell_type": "code",
      "source": [
        "# Get number of profession\n",
        "\n",
        "df.profession.value_counts()"
      ],
      "metadata": {
        "colab": {
          "base_uri": "https://localhost:8080/"
        },
        "id": "FPVMisiq6Cel",
        "outputId": "83120178-6ca0-4a61-81a4-0bd3fbf41c1a"
      },
      "execution_count": null,
      "outputs": [
        {
          "output_type": "execute_result",
          "data": {
            "text/plain": [
              "Cadre sup<e9>rieur (secteur priv<e9>)                                  126\n",
              "Fonctionnaire de cat<e9>gorie A                                         83\n",
              "Industriel-Chef d'entreprise                                            58\n",
              "Professeur du secondaire et technique                                   42\n",
              "Employ<e9> (secteur priv<e9>)                                           39\n",
              "                                                                      ... \n",
              "Diplomate de carri<e8>re (ministre pl<e9>nipotentiaire en retraite)      1\n",
              "Enseignant 1er deg.-directeur <e9>cole                                   1\n",
              "Directrice d<U+0092>un centre de formation des apprentis                 1\n",
              "Profession lib<e9>rale                                                   1\n",
              "Infirmi<e8>re dipl<f4>m<e9>e d'Etat                                      1\n",
              "Name: profession, Length: 93, dtype: int64"
            ]
          },
          "metadata": {},
          "execution_count": 48
        }
      ]
    },
    {
      "cell_type": "code",
      "source": [
        ""
      ],
      "metadata": {
        "id": "1xHHF9js6hAg"
      },
      "execution_count": null,
      "outputs": []
    }
  ]
}