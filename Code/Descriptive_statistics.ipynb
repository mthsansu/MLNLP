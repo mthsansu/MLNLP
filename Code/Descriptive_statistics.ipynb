{
 "cells": [
  {
   "cell_type": "markdown",
   "metadata": {
    "jp-MarkdownHeadingCollapsed": true,
    "tags": []
   },
   "source": [
    "## Packages"
   ]
  },
  {
   "cell_type": "code",
   "execution_count": 143,
   "metadata": {},
   "outputs": [],
   "source": [
    "import numpy as np\n",
    "import matplotlib.pyplot as plt\n",
    "from matplotlib.pyplot import figure\n",
    "import datetime as dt\n",
    "from nltk.tokenize import TweetTokenizer\n",
    "import re"
   ]
  },
  {
   "cell_type": "markdown",
   "metadata": {
    "jp-MarkdownHeadingCollapsed": true,
    "tags": []
   },
   "source": [
    "## Data"
   ]
  },
  {
   "cell_type": "code",
   "execution_count": 174,
   "metadata": {},
   "outputs": [],
   "source": [
    "# List of the datasets on which we will apply the operationns\n",
    "list_data = ['Tweets_sample_confinement.csv', 'Tweets_sample_benalla.csv', 'Tweets_sample_CDM.csv']"
   ]
  },
  {
   "cell_type": "code",
   "execution_count": 175,
   "metadata": {
    "id": "2xvNiTBCqAUW"
   },
   "outputs": [],
   "source": [
    "# Import data\n",
    "#git_url = \"https://raw.githubusercontent.com/mthsansu/MLNLP/main/Data/\"\n",
    "#df = pd.read_csv(git_url + 'Tweets_sample_confinement.csv', index_col=0, engine='python')\n",
    "df = pd.read_csv('/data/user/s/msansu/MLNLP/Data/' + list_data[2], index_col=0, engine='python')"
   ]
  },
  {
   "cell_type": "code",
   "execution_count": 176,
   "metadata": {
    "id": "7kgqq-aFGuj4"
   },
   "outputs": [],
   "source": [
    "# Create a date variable\n",
    "df['date'] = df['created_at'].str[:10]\n",
    "df['date'] = pd.to_datetime(df['date'])"
   ]
  },
  {
   "cell_type": "code",
   "execution_count": 177,
   "metadata": {
    "colab": {
     "base_uri": "https://localhost:8080/",
     "height": 337
    },
    "id": "1LvE3es7qwI9",
    "outputId": "e436c090-858b-4a9e-e91a-cd4e6acba9bd"
   },
   "outputs": [
    {
     "data": {
      "text/html": [
       "<div>\n",
       "<style scoped>\n",
       "    .dataframe tbody tr th:only-of-type {\n",
       "        vertical-align: middle;\n",
       "    }\n",
       "\n",
       "    .dataframe tbody tr th {\n",
       "        vertical-align: top;\n",
       "    }\n",
       "\n",
       "    .dataframe thead th {\n",
       "        text-align: right;\n",
       "    }\n",
       "</style>\n",
       "<table border=\"1\" class=\"dataframe\">\n",
       "  <thead>\n",
       "    <tr style=\"text-align: right;\">\n",
       "      <th></th>\n",
       "      <th>author_id</th>\n",
       "      <th>possibly_sensitive</th>\n",
       "      <th>id</th>\n",
       "      <th>text</th>\n",
       "      <th>created_at</th>\n",
       "      <th>twitter</th>\n",
       "      <th>sexe</th>\n",
       "      <th>age</th>\n",
       "      <th>majo</th>\n",
       "      <th>num_deptmt</th>\n",
       "      <th>groupe_sigle</th>\n",
       "      <th>parti_ratt_financier</th>\n",
       "      <th>nb_mandats</th>\n",
       "      <th>age_group</th>\n",
       "      <th>date</th>\n",
       "    </tr>\n",
       "  </thead>\n",
       "  <tbody>\n",
       "    <tr>\n",
       "      <th>2459</th>\n",
       "      <td>889730003495211009</td>\n",
       "      <td>True</td>\n",
       "      <td>1020331022788022272</td>\n",
       "      <td>Je lance dès aujourd’hui ma toute première con...</td>\n",
       "      <td>2018-07-20T15:34:07.000Z</td>\n",
       "      <td>AdrienMorenas</td>\n",
       "      <td>M</td>\n",
       "      <td>35</td>\n",
       "      <td>True</td>\n",
       "      <td>84</td>\n",
       "      <td>LREM</td>\n",
       "      <td>En marche !</td>\n",
       "      <td>1</td>\n",
       "      <td>2</td>\n",
       "      <td>2018-07-20</td>\n",
       "    </tr>\n",
       "    <tr>\n",
       "      <th>2466</th>\n",
       "      <td>889730003495211009</td>\n",
       "      <td>True</td>\n",
       "      <td>1018563901993123840</td>\n",
       "      <td>Merci à @equipedefrance de nous avoir offert c...</td>\n",
       "      <td>2018-07-15T18:32:12.000Z</td>\n",
       "      <td>AdrienMorenas</td>\n",
       "      <td>M</td>\n",
       "      <td>35</td>\n",
       "      <td>True</td>\n",
       "      <td>84</td>\n",
       "      <td>LREM</td>\n",
       "      <td>En marche !</td>\n",
       "      <td>1</td>\n",
       "      <td>2</td>\n",
       "      <td>2018-07-15</td>\n",
       "    </tr>\n",
       "    <tr>\n",
       "      <th>2467</th>\n",
       "      <td>889730003495211009</td>\n",
       "      <td>True</td>\n",
       "      <td>1018454965264797697</td>\n",
       "      <td>&lt;U+0001F1EB&gt;&lt;U+0001F1F7&gt; Allez les Bleus !!!! ...</td>\n",
       "      <td>2018-07-15T11:19:20.000Z</td>\n",
       "      <td>AdrienMorenas</td>\n",
       "      <td>M</td>\n",
       "      <td>35</td>\n",
       "      <td>True</td>\n",
       "      <td>84</td>\n",
       "      <td>LREM</td>\n",
       "      <td>En marche !</td>\n",
       "      <td>1</td>\n",
       "      <td>2</td>\n",
       "      <td>2018-07-15</td>\n",
       "    </tr>\n",
       "    <tr>\n",
       "      <th>2474</th>\n",
       "      <td>889730003495211009</td>\n",
       "      <td>True</td>\n",
       "      <td>1017020485106839552</td>\n",
       "      <td>&lt;U+270C&gt;&lt;U+FE0F&gt; @SOLIDAGRI84 lauréat de l'opé...</td>\n",
       "      <td>2018-07-11T12:19:13.000Z</td>\n",
       "      <td>AdrienMorenas</td>\n",
       "      <td>M</td>\n",
       "      <td>35</td>\n",
       "      <td>True</td>\n",
       "      <td>84</td>\n",
       "      <td>LREM</td>\n",
       "      <td>En marche !</td>\n",
       "      <td>1</td>\n",
       "      <td>2</td>\n",
       "      <td>2018-07-11</td>\n",
       "    </tr>\n",
       "    <tr>\n",
       "      <th>2480</th>\n",
       "      <td>889730003495211009</td>\n",
       "      <td>True</td>\n",
       "      <td>1016960583814533120</td>\n",
       "      <td>&lt;U+0001F4E2&gt;Chers Amis &lt;U+0001F64C&gt;,\\r\\n\\r\\nJe...</td>\n",
       "      <td>2018-07-11T08:21:12.000Z</td>\n",
       "      <td>AdrienMorenas</td>\n",
       "      <td>M</td>\n",
       "      <td>35</td>\n",
       "      <td>True</td>\n",
       "      <td>84</td>\n",
       "      <td>LREM</td>\n",
       "      <td>En marche !</td>\n",
       "      <td>1</td>\n",
       "      <td>2</td>\n",
       "      <td>2018-07-11</td>\n",
       "    </tr>\n",
       "  </tbody>\n",
       "</table>\n",
       "</div>"
      ],
      "text/plain": [
       "               author_id  possibly_sensitive                   id  \\\n",
       "2459  889730003495211009                True  1020331022788022272   \n",
       "2466  889730003495211009                True  1018563901993123840   \n",
       "2467  889730003495211009                True  1018454965264797697   \n",
       "2474  889730003495211009                True  1017020485106839552   \n",
       "2480  889730003495211009                True  1016960583814533120   \n",
       "\n",
       "                                                   text  \\\n",
       "2459  Je lance dès aujourd’hui ma toute première con...   \n",
       "2466  Merci à @equipedefrance de nous avoir offert c...   \n",
       "2467  <U+0001F1EB><U+0001F1F7> Allez les Bleus !!!! ...   \n",
       "2474  <U+270C><U+FE0F> @SOLIDAGRI84 lauréat de l'opé...   \n",
       "2480  <U+0001F4E2>Chers Amis <U+0001F64C>,\\r\\n\\r\\nJe...   \n",
       "\n",
       "                    created_at        twitter sexe  age  majo num_deptmt  \\\n",
       "2459  2018-07-20T15:34:07.000Z  AdrienMorenas    M   35  True         84   \n",
       "2466  2018-07-15T18:32:12.000Z  AdrienMorenas    M   35  True         84   \n",
       "2467  2018-07-15T11:19:20.000Z  AdrienMorenas    M   35  True         84   \n",
       "2474  2018-07-11T12:19:13.000Z  AdrienMorenas    M   35  True         84   \n",
       "2480  2018-07-11T08:21:12.000Z  AdrienMorenas    M   35  True         84   \n",
       "\n",
       "     groupe_sigle parti_ratt_financier  nb_mandats  age_group       date  \n",
       "2459         LREM          En marche !           1          2 2018-07-20  \n",
       "2466         LREM          En marche !           1          2 2018-07-15  \n",
       "2467         LREM          En marche !           1          2 2018-07-15  \n",
       "2474         LREM          En marche !           1          2 2018-07-11  \n",
       "2480         LREM          En marche !           1          2 2018-07-11  "
      ]
     },
     "execution_count": 177,
     "metadata": {},
     "output_type": "execute_result"
    }
   ],
   "source": [
    "df.head()"
   ]
  },
  {
   "cell_type": "markdown",
   "metadata": {
    "jp-MarkdownHeadingCollapsed": true,
    "tags": []
   },
   "source": [
    "## First statistics on the complete set of data"
   ]
  },
  {
   "cell_type": "code",
   "execution_count": 178,
   "metadata": {
    "colab": {
     "base_uri": "https://localhost:8080/"
    },
    "id": "H-jchZQBA_6s",
    "outputId": "a2dce411-9ecb-42b7-cf52-c85927ddf872"
   },
   "outputs": [
    {
     "name": "stdout",
     "output_type": "stream",
     "text": [
      "31204 tweets in total\n"
     ]
    }
   ],
   "source": [
    "# Number of different tweets in the database\n",
    "print(len(df.id.unique()),\"tweets in total\")"
   ]
  },
  {
   "cell_type": "code",
   "execution_count": 179,
   "metadata": {
    "colab": {
     "base_uri": "https://localhost:8080/"
    },
    "id": "UBkF9-XPGzzs",
    "outputId": "cce89466-b98c-47dc-afc0-965cf123955e"
   },
   "outputs": [
    {
     "name": "stdout",
     "output_type": "stream",
     "text": [
      "510 distinct authors\n"
     ]
    }
   ],
   "source": [
    "# Number of different MPs in the database\n",
    "print(len(df.author_id.unique()),\"distinct authors\")"
   ]
  },
  {
   "cell_type": "code",
   "execution_count": 180,
   "metadata": {
    "colab": {
     "base_uri": "https://localhost:8080/"
    },
    "id": "ZCr0UA2EgmSV",
    "outputId": "7f8af05c-3b4f-4ae7-d9e1-358124120764"
   },
   "outputs": [
    {
     "name": "stdout",
     "output_type": "stream",
     "text": [
      "Distribution of tweets considered as possibly sensitive \n",
      " False    31162\n",
      "True        42\n",
      "Name: possibly_sensitive, dtype: int64\n"
     ]
    }
   ],
   "source": [
    "# Distribution of tweets considered as possibly sensitive\n",
    "print(\"Distribution of tweets considered as possibly sensitive \\n\", df.possibly_sensitive.value_counts())"
   ]
  },
  {
   "cell_type": "code",
   "execution_count": 181,
   "metadata": {
    "colab": {
     "base_uri": "https://localhost:8080/"
    },
    "id": "_TelmeZpFvOa",
    "outputId": "ddc680ea-5162-4e15-f55a-df9baffcb2ac"
   },
   "outputs": [
    {
     "data": {
      "image/png": "[encoded data removed]",
      "text/plain": [
       "<Figure size 1080x504 with 1 Axes>"
      ]
     },
     "metadata": {
      "needs_background": "light"
     },
     "output_type": "display_data"
    }
   ],
   "source": [
    "# Plot the number of tweets per date\n",
    "x = df.date.value_counts().index # Get the date as x-axis\n",
    "y = df.date.value_counts() # Get the number of tweets per date as y-axis\n",
    "figure(figsize=(15, 7))\n",
    "plt.title('Number of tweets per date')\n",
    "plt.plot_date(x, y, xdate=True)\n",
    "plt.show() # Plot the graph"
   ]
  },
  {
   "cell_type": "code",
   "execution_count": 182,
   "metadata": {},
   "outputs": [
    {
     "name": "stdout",
     "output_type": "stream",
     "text": [
      "Number of tweets done by MPs age:\n"
     ]
    },
    {
     "data": {
      "text/plain": [
       "<AxesSubplot:>"
      ]
     },
     "execution_count": 182,
     "metadata": {},
     "output_type": "execute_result"
    },
    {
     "data": {
      "image/png": "[encoded data removed]",
      "text/plain": [
       "<Figure size 432x288 with 1 Axes>"
      ]
     },
     "metadata": {
      "needs_background": "light"
     },
     "output_type": "display_data"
    }
   ],
   "source": [
    "print(\"Number of tweets done by MPs age:\")\n",
    "df.age.hist(bins=15)"
   ]
  },
  {
   "cell_type": "code",
   "execution_count": 183,
   "metadata": {
    "colab": {
     "base_uri": "https://localhost:8080/"
    },
    "id": "ryMvEdLrc9ae",
    "outputId": "4899a1bc-c1c2-4f69-e223-cdcbacb4a389"
   },
   "outputs": [
    {
     "name": "stdout",
     "output_type": "stream",
     "text": [
      "Number of tweets done by political group:\n"
     ]
    },
    {
     "data": {
      "text/plain": [
       "<AxesSubplot:>"
      ]
     },
     "execution_count": 183,
     "metadata": {},
     "output_type": "execute_result"
    },
    {
     "data": {
      "image/png": "[encoded data removed]",
      "text/plain": [
       "<Figure size 432x288 with 1 Axes>"
      ]
     },
     "metadata": {
      "needs_background": "light"
     },
     "output_type": "display_data"
    }
   ],
   "source": [
    "print(\"Number of tweets done by political group:\")\n",
    "df.groupe_sigle.hist()"
   ]
  },
  {
   "cell_type": "code",
   "execution_count": 184,
   "metadata": {
    "colab": {
     "base_uri": "https://localhost:8080/"
    },
    "id": "rpZkegTs4bOM",
    "outputId": "9e9b3afa-68f5-45bd-b563-0f023a4ce9e0"
   },
   "outputs": [
    {
     "name": "stdout",
     "output_type": "stream",
     "text": [
      "Distribution of tweets by gender \n",
      " M    19223\n",
      "F    11981\n",
      "Name: sexe, dtype: int64\n"
     ]
    }
   ],
   "source": [
    "print(\"Distribution of tweets by gender \\n\", df.sexe.value_counts())"
   ]
  },
  {
   "cell_type": "code",
   "execution_count": 185,
   "metadata": {
    "colab": {
     "base_uri": "https://localhost:8080/",
     "height": 265
    },
    "id": "gDtDdMDQ5pSC",
    "outputId": "f7da4c68-2fd1-48eb-8dc5-bc475a06ab31"
   },
   "outputs": [
    {
     "name": "stdout",
     "output_type": "stream",
     "text": [
      "Distribution of tweets by number of mandates \n",
      " 1    23332\n",
      "2     7359\n",
      "3      513\n",
      "Name: nb_mandats, dtype: int64\n"
     ]
    }
   ],
   "source": [
    "print(\"Distribution of tweets by number of mandates \\n\", df.nb_mandats.value_counts())"
   ]
  },
  {
   "cell_type": "code",
   "execution_count": 186,
   "metadata": {
    "colab": {
     "base_uri": "https://localhost:8080/"
    },
    "id": "HSYCV0-V527C",
    "outputId": "101a3a4d-eae5-4fa9-c122-6908627bdb68"
   },
   "outputs": [
    {
     "name": "stdout",
     "output_type": "stream",
     "text": [
      "Distribution of tweets according to majority belonging \n",
      " True     20879\n",
      "False    10325\n",
      "Name: majo, dtype: int64\n"
     ]
    }
   ],
   "source": [
    "print(\"Distribution of tweets according to majority belonging \\n\", df.majo.value_counts())"
   ]
  },
  {
   "cell_type": "markdown",
   "metadata": {
    "id": "UFtFA55HgFmH",
    "jp-MarkdownHeadingCollapsed": true,
    "tags": []
   },
   "source": [
    "## Some statistics on tweets themeselves"
   ]
  },
  {
   "cell_type": "code",
   "execution_count": 187,
   "metadata": {},
   "outputs": [
    {
     "name": "stdout",
     "output_type": "stream",
     "text": [
      "Mean length of tweets in characters: 228.29371234457122\n"
     ]
    }
   ],
   "source": [
    "# Mean length of tweets in characters\n",
    "print(\"Mean length of tweets in characters:\",df.text.apply(len).mean())"
   ]
  },
  {
   "cell_type": "code",
   "execution_count": 188,
   "metadata": {},
   "outputs": [],
   "source": [
    "# Number of \"words\": we split by a space(naive approach)\n",
    "df['words_len'] = df.text.apply(lambda x: len(x.split(' ')) )"
   ]
  },
  {
   "cell_type": "code",
   "execution_count": 189,
   "metadata": {},
   "outputs": [
    {
     "data": {
      "text/plain": [
       "<AxesSubplot:>"
      ]
     },
     "execution_count": 189,
     "metadata": {},
     "output_type": "execute_result"
    },
    {
     "data": {
      "image/png": "[encoded data removed]",
      "text/plain": [
       "<Figure size 432x288 with 1 Axes>"
      ]
     },
     "metadata": {
      "needs_background": "light"
     },
     "output_type": "display_data"
    }
   ],
   "source": [
    "# Distribution of tweets according to length in words\n",
    "df.words_len.hist(bins=15)"
   ]
  },
  {
   "cell_type": "code",
   "execution_count": 190,
   "metadata": {},
   "outputs": [
    {
     "name": "stdout",
     "output_type": "stream",
     "text": [
      "Mean number of words per tweet according to gender \n",
      " sexe\n",
      "F    30.811368\n",
      "M    30.585497\n",
      "Name: words_len, dtype: float64\n",
      "\n",
      "Corresponding standard deviations \n",
      " sexe\n",
      "F    10.716827\n",
      "M    11.047860\n",
      "Name: words_len, dtype: float64\n"
     ]
    }
   ],
   "source": [
    "# Mean number of words according to gender\n",
    "print(\"Mean number of words per tweet according to gender \\n\",df.groupby(df.sexe).words_len.mean())\n",
    "print(\"\\nCorresponding standard deviations \\n\",df.groupby(df.sexe).words_len.std())"
   ]
  },
  {
   "cell_type": "code",
   "execution_count": 191,
   "metadata": {},
   "outputs": [
    {
     "name": "stdout",
     "output_type": "stream",
     "text": [
      "Mean number of words per tweet according to age group \n",
      " 1: less than 35; 2: 35-44; 3: 45-54; 4: 55-64; 5: 65+ \n",
      " age_group\n",
      "1    32.575107\n",
      "2    31.171388\n",
      "3    30.238630\n",
      "4    30.076217\n",
      "5    27.398659\n",
      "Name: words_len, dtype: float64\n",
      "\n",
      "Corresponding standard deviations \n",
      " age_group\n",
      "1    10.285928\n",
      "2    10.741068\n",
      "3    10.998141\n",
      "4    11.054350\n",
      "5    11.565452\n",
      "Name: words_len, dtype: float64\n"
     ]
    }
   ],
   "source": [
    "# Mean number of words according to age group\n",
    "print(\"Mean number of words per tweet according to age group \\n\",\n",
    "      \"1: less than 35; 2: 35-44; 3: 45-54; 4: 55-64; 5: 65+ \\n\",\n",
    "      df.groupby(df.age_group).words_len.mean())\n",
    "print(\"\\nCorresponding standard deviations \\n\",df.groupby(df.age_group).words_len.std())"
   ]
  },
  {
   "cell_type": "code",
   "execution_count": 192,
   "metadata": {},
   "outputs": [
    {
     "name": "stdout",
     "output_type": "stream",
     "text": [
      "Mean number of words per tweet according to number of mandates \n",
      " nb_mandats\n",
      "1    31.001243\n",
      "2    29.637179\n",
      "3    30.555556\n",
      "Name: words_len, dtype: float64\n",
      "\n",
      "Corresponding standard deviations \n",
      " nb_mandats\n",
      "1    10.814985\n",
      "2    11.185513\n",
      "3    11.050900\n",
      "Name: words_len, dtype: float64\n"
     ]
    }
   ],
   "source": [
    "# Mean number of words according to number of mandates\n",
    "print(\"Mean number of words per tweet according to number of mandates \\n\",df.groupby(df.nb_mandats).words_len.mean())\n",
    "print(\"\\nCorresponding standard deviations \\n\",df.groupby(df.nb_mandats).words_len.std())"
   ]
  },
  {
   "cell_type": "code",
   "execution_count": 193,
   "metadata": {},
   "outputs": [
    {
     "name": "stdout",
     "output_type": "stream",
     "text": [
      "Mean number of words per tweet according to majority participation \n",
      " majo\n",
      "False    30.522518\n",
      "True     30.746252\n",
      "Name: words_len, dtype: float64\n",
      "\n",
      "Corresponding standard deviations \n",
      " majo\n",
      "False    11.204148\n",
      "True     10.779739\n",
      "Name: words_len, dtype: float64\n"
     ]
    }
   ],
   "source": [
    "# Mean number of words according to majority participation\n",
    "print(\"Mean number of words per tweet according to majority participation \\n\",df.groupby(df.majo).words_len.mean())\n",
    "print(\"\\nCorresponding standard deviations \\n\",df.groupby(df.majo).words_len.std())"
   ]
  },
  {
   "cell_type": "code",
   "execution_count": 194,
   "metadata": {},
   "outputs": [
    {
     "name": "stdout",
     "output_type": "stream",
     "text": [
      "Mean number of words per tweet according to political group \n",
      " groupe_sigle\n",
      "GDR      29.437710\n",
      "LFI      30.969862\n",
      "LR       30.227439\n",
      "LREM     30.937378\n",
      "MODEM    29.568350\n",
      "NG       31.571685\n",
      "NI       30.519949\n",
      "UAI      29.184211\n",
      "Name: words_len, dtype: float64\n",
      "\n",
      "Corresponding standard deviations \n",
      " groupe_sigle\n",
      "GDR      11.068253\n",
      "LFI      11.305173\n",
      "LR       11.205864\n",
      "LREM     10.639209\n",
      "MODEM    10.905250\n",
      "NG       11.144194\n",
      "NI       10.985188\n",
      "UAI      12.345403\n",
      "Name: words_len, dtype: float64\n"
     ]
    }
   ],
   "source": [
    "# Mean number of words according to political group\n",
    "print(\"Mean number of words per tweet according to political group \\n\",df.groupby(df.groupe_sigle).words_len.mean())\n",
    "print(\"\\nCorresponding standard deviations \\n\",df.groupby(df.groupe_sigle).words_len.std())"
   ]
  },
  {
   "cell_type": "markdown",
   "metadata": {
    "jp-MarkdownHeadingCollapsed": true,
    "tags": []
   },
   "source": [
    "## Word-level preprocessing"
   ]
  },
  {
   "cell_type": "code",
   "execution_count": 195,
   "metadata": {},
   "outputs": [
    {
     "name": "stdout",
     "output_type": "stream",
     "text": [
      "134716 \"words\" in total for this dataset\n"
     ]
    }
   ],
   "source": [
    "# List of words with separator = \" \"\n",
    "list_words = df.text.apply(lambda x: x.split(' ')).array\n",
    "# Flattening to a single list\n",
    "list_words = [x for X in list_words for x in X]\n",
    "# Render the number of distinct words in the dataset\n",
    "print('%s \"words\" in total for this dataset' % (len(set(list_words))))"
   ]
  },
  {
   "cell_type": "code",
   "execution_count": 196,
   "metadata": {},
   "outputs": [],
   "source": [
    "# Function to clean the tweets (preprocessing)\n",
    "def clean(text):\n",
    "    text = re.sub(\"@[A-Za-z0-9_]+\",\"\", text) # Removing mention\n",
    "    text = re.sub(r'http\\S+', '', text) # Removing link\n",
    "    text = text.replace('\\n',' ') # Removing new line\n",
    "    text = re.sub('#', '', text) # Removing hash\n",
    "    text = re.sub(' +', ' ', text) # Remove additional spaces\n",
    "    emoji_pattern = re.compile(\"[\"\n",
    "        u\"\\U0001F600-\\U0001F64F\"  # emoticons\n",
    "        u\"\\U0001F300-\\U0001F5FF\"  # symbols & pictographs\n",
    "        u\"\\U0001F680-\\U0001F6FF\"  # transport & map symbols\n",
    "        u\"\\U0001F1E0-\\U0001F1FF\"  # flags (iOS)\n",
    "        u\"\\U00002500-\\U00002BEF\"  # chinese char\n",
    "        u\"\\U00002702-\\U000027B0\"\n",
    "        u\"\\U00002702-\\U000027B0\"\n",
    "        u\"\\U000024C2-\\U0001F251\"\n",
    "        u\"\\U0001f926-\\U0001f937\"\n",
    "        u\"\\U00010000-\\U0010ffff\"\n",
    "        u\"\\u2640-\\u2642\" \n",
    "        u\"\\u2600-\\u2B55\"\n",
    "        u\"\\u200d\"\n",
    "        u\"\\u23cf\"\n",
    "        u\"\\u23e9\"\n",
    "        u\"\\u231a\"\n",
    "        u\"\\ufe0f\"  # dingbats\n",
    "        u\"\\u3030\"\n",
    "                      \"]+\", flags=re.UNICODE)\n",
    "    text = emoji_pattern.sub(r'', text) # remove emoji\n",
    "    return text\n",
    "df[\"text_clean\"] = df[\"text\"].apply(lambda x: clean(x))"
   ]
  },
  {
   "cell_type": "code",
   "execution_count": 197,
   "metadata": {},
   "outputs": [
    {
     "name": "stdout",
     "output_type": "stream",
     "text": [
      "92472 cleaned \"words\" in total for this dataset\n"
     ]
    }
   ],
   "source": [
    "# List of cleaned words\n",
    "list_words_2 = df.text_clean.apply(lambda x: x.split(' ')).array\n",
    "list_words_2 = [x for X in list_words_2 for x in X]\n",
    "print('%s cleaned \"words\" in total for this dataset' % (len(set(list_words_2))))"
   ]
  },
  {
   "cell_type": "code",
   "execution_count": 198,
   "metadata": {},
   "outputs": [
    {
     "name": "stdout",
     "output_type": "stream",
     "text": [
      "90855 tokens in total for this dataset\n"
     ]
    }
   ],
   "source": [
    "# List of tokens\n",
    "list_tokens_1 = df.text.apply(lambda x: TweetTokenizer().tokenize(x)).array\n",
    "list_tokens_1 = [x for X in list_tokens_1 for x in X]\n",
    "print('%s tokens in total for this dataset' % (len(set(list_tokens_1))))"
   ]
  },
  {
   "cell_type": "code",
   "execution_count": 199,
   "metadata": {},
   "outputs": [
    {
     "name": "stdout",
     "output_type": "stream",
     "text": [
      "54147 \"cleaned\" tokens in total for this dataset\n"
     ]
    }
   ],
   "source": [
    "# List of tokens\n",
    "list_tokens_2 = df.text_clean.apply(lambda x: TweetTokenizer().tokenize(x)).array\n",
    "list_tokens_2 = [x for X in list_tokens_2 for x in X]\n",
    "print('%s \"cleaned\" tokens in total for this dataset' % (len(set(list_tokens_2))))"
   ]
  },
  {
   "cell_type": "markdown",
   "metadata": {
    "jp-MarkdownHeadingCollapsed": true,
    "tags": []
   },
   "source": [
    "## Specificity of tweet contents"
   ]
  },
  {
   "cell_type": "code",
   "execution_count": 200,
   "metadata": {},
   "outputs": [],
   "source": [
    "# We want to match some specificity of Twitter contents and render it\n",
    "hash_prog = re.compile('#') # matching hash\n",
    "mention_prog = re.compile('@[A-Za-z0-9_]+') # matching mention\n",
    "link_prog = re.compile(r'http\\S+') # # matching url\n",
    "emoji_prog = re.compile(\"[\"\n",
    "        u\"\\U0001F600-\\U0001F64F\"  # emoticons\n",
    "        u\"\\U0001F300-\\U0001F5FF\"  # symbols & pictographs\n",
    "        u\"\\U0001F680-\\U0001F6FF\"  # transport & map symbols\n",
    "        u\"\\U0001F1E0-\\U0001F1FF\"  # flags (iOS)\n",
    "        u\"\\U00002500-\\U00002BEF\"  # chinese char\n",
    "        u\"\\U00002702-\\U000027B0\"\n",
    "        u\"\\U00002702-\\U000027B0\"\n",
    "        u\"\\U000024C2-\\U0001F251\"\n",
    "        u\"\\U0001f926-\\U0001f937\"\n",
    "        u\"\\U00010000-\\U0010ffff\"\n",
    "        u\"\\u2640-\\u2642\" \n",
    "        u\"\\u2600-\\u2B55\"\n",
    "        u\"\\u200d\"\n",
    "        u\"\\u23cf\"\n",
    "        u\"\\u23e9\"\n",
    "        u\"\\u231a\"\n",
    "        u\"\\ufe0f\"  # dingbats\n",
    "        u\"\\u3030\"\n",
    "                      \"]+\", flags=re.UNICODE)\n",
    "# Calculating number of matches for every tweet\n",
    "progs = [hash_prog, mention_prog, link_prog, emoji_prog]\n",
    "nb_types = ['hash', 'mention', 'link', 'emoji']\n",
    "for prog, nb_type in zip(progs, nb_types):\n",
    "  df[nb_type] = df['text'].apply(lambda x: len(prog.split(x))-1).array"
   ]
  },
  {
   "cell_type": "code",
   "execution_count": null,
   "metadata": {},
   "outputs": [],
   "source": []
  },
  {
   "cell_type": "code",
   "execution_count": null,
   "metadata": {},
   "outputs": [],
   "source": []
  },
  {
   "cell_type": "code",
   "execution_count": null,
   "metadata": {},
   "outputs": [],
   "source": []
  }
 ],
 "metadata": {
  "colab": {
   "include_colab_link": true,
   "name": "Untitled5.ipynb",
   "provenance": []
  },
  "kernelspec": {
   "display_name": "Python (default)",
   "language": "python",
   "name": "python3"
  },
  "language_info": {
   "codemirror_mode": {
    "name": "ipython",
    "version": 3
   },
   "file_extension": ".py",
   "mimetype": "text/x-python",
   "name": "python",
   "nbconvert_exporter": "python",
   "pygments_lexer": "ipython3",
   "version": "3.8.12"
  }
 },
 "nbformat": 4,
 "nbformat_minor": 4
}
