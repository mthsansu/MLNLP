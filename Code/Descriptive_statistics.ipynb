{
  "cells": [
    {
      "cell_type": "markdown",
      "metadata": {
        "id": "view-in-github",
        "colab_type": "text"
      },
      "source": [
        "<a href=\"https://colab.research.google.com/github/mthsansu/MLNLP/blob/main/Code/Descriptive_statistics.ipynb\" target=\"_parent\"><img src=\"https://colab.research.google.com/assets/colab-badge.svg\" alt=\"Open In Colab\"/></a>"
      ]
    },
    {
      "cell_type": "markdown",
      "source": [
        "<h1><center><strong><font color=\"chillipepper\">Parlementarian Sentiment Analysis: Descriptive statistics</font></strong></center></h1>\n",
        "<h5><center><font color=\"green\">You must describe statistically your dataset \n",
        "(distribution of words, bi-grams, POS, sentence/document length, most frequent words….) <h3><center>\n",
        "\n",
        "Visit: https://neptune.ai/blog/exploratory-data-analysis-natural-language-processing-tools\n",
        "\n",
        "<center>\n",
        "April 2022, Houri & Sansu\n",
        "</center>"
      ],
      "metadata": {
        "id": "Dp_aO2Mxj6MI"
      }
    },
    {
      "cell_type": "markdown",
      "metadata": {
        "jp-MarkdownHeadingCollapsed": true,
        "tags": [],
        "id": "Pdo3ZXmVjonb"
      },
      "source": [
        "## Packages"
      ]
    },
    {
      "cell_type": "code",
      "execution_count": 1,
      "metadata": {
        "id": "-xXi2mZtjonm",
        "colab": {
          "base_uri": "https://localhost:8080/"
        },
        "outputId": "4de117bc-c2ff-4d8f-8e34-33308d168f45"
      },
      "outputs": [
        {
          "output_type": "stream",
          "name": "stdout",
          "text": [
            "[nltk_data] Downloading package stopwords to /root/nltk_data...\n",
            "[nltk_data]   Package stopwords is already up-to-date!\n"
          ]
        }
      ],
      "source": [
        "import pandas as pd\n",
        "import numpy as np\n",
        "import matplotlib.pyplot as plt\n",
        "from matplotlib.pyplot import figure\n",
        "import datetime as dt\n",
        "from nltk.tokenize import TweetTokenizer\n",
        "import re\n",
        "import nltk\n",
        "nltk.download('stopwords')\n",
        "from nltk.corpus import stopwords\n",
        "from nltk.util import ngrams\n",
        "import sklearn\n",
        "from sklearn.feature_extraction.text import CountVectorizer\n",
        "from collections import Counter\n",
        "import seaborn as sns\n",
        "import string"
      ]
    },
    {
      "cell_type": "markdown",
      "metadata": {
        "jp-MarkdownHeadingCollapsed": true,
        "tags": [],
        "id": "q3jltu6gjono"
      },
      "source": [
        "## Data"
      ]
    },
    {
      "cell_type": "code",
      "execution_count": 2,
      "metadata": {
        "id": "pPBz7Qwnjonp"
      },
      "outputs": [],
      "source": [
        "# List of the datasets on which we will apply the operationns\n",
        "list_data = ['Tweets_sample_confinement.csv', 'Tweets_sample_benalla.csv', 'Tweets_sample_CDM.csv']"
      ]
    },
    {
      "cell_type": "code",
      "execution_count": 3,
      "metadata": {
        "id": "2xvNiTBCqAUW"
      },
      "outputs": [],
      "source": [
        "# Import data\n",
        "git_url = \"https://raw.githubusercontent.com/mthsansu/MLNLP/main/Data/\"\n",
        "# df = pd.read_csv(git_url + 'Tweets_sample_confinement.csv', index_col=0, engine='python')\n",
        "df = pd.read_csv(git_url + 'Tweets_sample_CDM.csv', index_col=0, engine='python')\n",
        "# df = pd.read_csv(git_url + 'Tweets_sample_benalla.csv', index_col=0, engine='python')"
      ]
    },
    {
      "cell_type": "code",
      "execution_count": 4,
      "metadata": {
        "id": "7kgqq-aFGuj4"
      },
      "outputs": [],
      "source": [
        "# Create a date variable\n",
        "df['date'] = df['created_at'].str[:10]\n",
        "df['date'] = pd.to_datetime(df['date'])"
      ]
    },
    {
      "cell_type": "code",
      "execution_count": 5,
      "metadata": {
        "id": "1LvE3es7qwI9"
      },
      "outputs": [],
      "source": [
        "# # Restreindre pour CDM\n",
        "# mask = (df['date'] >= '2018-07-10') & (df['date'] <= '2018-07-20')\n",
        "# df = df.loc[mask]\n",
        "# df[\"date\"].describe()"
      ]
    },
    {
      "cell_type": "code",
      "source": [
        "# # Restreindre pour Benalla\n",
        "# mask = (df['date'] >= '2018-05-01') & (df['date'] <= '2018-05-15')\n",
        "# df = df.loc[mask]\n",
        "# df[\"date\"].describe()"
      ],
      "metadata": {
        "id": "QYOQOHH4xgyy"
      },
      "execution_count": 6,
      "outputs": []
    },
    {
      "cell_type": "markdown",
      "metadata": {
        "jp-MarkdownHeadingCollapsed": true,
        "tags": [],
        "id": "IDLn8-_ojon_"
      },
      "source": [
        "## Word-level preprocessing"
      ]
    },
    {
      "cell_type": "code",
      "execution_count": 7,
      "metadata": {
        "colab": {
          "base_uri": "https://localhost:8080/"
        },
        "id": "-xmuJbSIjooA",
        "outputId": "645df46c-19c0-4195-8cd0-d1257757888b"
      },
      "outputs": [
        {
          "output_type": "stream",
          "name": "stdout",
          "text": [
            "134716 \"words\" in total for this dataset\n"
          ]
        }
      ],
      "source": [
        "# List of words with separator = \" \"\n",
        "list_words = df.text.apply(lambda x: x.split(' ')).array\n",
        "# Flattening to a single list\n",
        "list_words = [x for X in list_words for x in X]\n",
        "# Render the number of distinct words in the dataset\n",
        "print('%s \"words\" in total for this dataset' % (len(set(list_words))))"
      ]
    },
    {
      "cell_type": "code",
      "source": [
        "# Usage of Phrases and Phraser from gensim\n",
        "import nltk\n",
        "from gensim.models.phrases import Phrases, Phraser\n",
        "from nltk.tokenize import TreebankWordTokenizer, TweetTokenizer\n",
        "nltk.download('punkt')\n",
        "sent_detector = nltk.data.load('tokenizers/punkt/english.pickle')\n"
      ],
      "metadata": {
        "colab": {
          "base_uri": "https://localhost:8080/"
        },
        "id": "TzvhMwattf6p",
        "outputId": "518ed165-25ef-4b15-9f5e-912e2d53ad13"
      },
      "execution_count": 8,
      "outputs": [
        {
          "output_type": "stream",
          "name": "stdout",
          "text": [
            "[nltk_data] Downloading package punkt to /root/nltk_data...\n",
            "[nltk_data]   Package punkt is already up-to-date!\n"
          ]
        }
      ]
    },
    {
      "cell_type": "code",
      "execution_count": 9,
      "metadata": {
        "id": "2iwJpumMjooA"
      },
      "outputs": [],
      "source": [
        "# Function to clean the tweets (preprocessing)\n",
        "def clean(text):\n",
        "    text = re.sub(\"@[A-Za-z0-9_]+\",\"\", text) # Removing mention\n",
        "    text = re.sub(r'http\\S+', '', text) # Removing link \n",
        "    text = re.sub('<.*?>', '', text) # Removing html elements\n",
        "    text = text.replace('\\n',' ') # Removing new line\n",
        "    text = re.sub(\"#([a-zA-Z0-9_À-ÿ]{1,50})\", '', text) # Removing hashtags\n",
        "    text = re.sub(' +', ' ', text) # Remove additional spaces\n",
        "    emoji_pattern = re.compile(\"[\"\n",
        "        u\"\\U0001F600-\\U0001F64F\"  # emoticons\n",
        "        u\"\\U0001F300-\\U0001F5FF\"  # symbols & pictographs\n",
        "        u\"\\U0001F680-\\U0001F6FF\"  # transport & map symbols\n",
        "        u\"\\U0001F1E0-\\U0001F1FF\"  # flags (iOS)\n",
        "        u\"\\U00002500-\\U00002BEF\"  # chinese char\n",
        "        u\"\\U00002702-\\U000027B0\"\n",
        "        u\"\\U00002702-\\U000027B0\"\n",
        "        u\"\\U000024C2-\\U0001F251\"\n",
        "        u\"\\U0001f926-\\U0001f937\"\n",
        "        u\"\\U00010000-\\U0010ffff\"\n",
        "        u\"\\u2640-\\u2642\" \n",
        "        u\"\\u2600-\\u2B55\"\n",
        "        u\"\\u200d\"\n",
        "        u\"\\u23cf\"\n",
        "        u\"\\u23e9\"\n",
        "        u\"\\u231a\"\n",
        "        u\"\\ufe0f\"  # dingbats\n",
        "        u\"\\u3030\"\n",
        "                      \"]+\", flags=re.UNICODE)\n",
        "    text = emoji_pattern.sub(r'', text) # remove emoji\n",
        "    return text\n",
        "df[\"text_clean\"] = df[\"text\"].apply(lambda x: clean(x))"
      ]
    },
    {
      "cell_type": "code",
      "execution_count": 10,
      "metadata": {
        "colab": {
          "base_uri": "https://localhost:8080/"
        },
        "id": "fQi2QyQejooB",
        "outputId": "8fd0cf88-a95d-483f-fdbb-7e0e6b30461c"
      },
      "outputs": [
        {
          "output_type": "stream",
          "name": "stdout",
          "text": [
            "77930 cleaned \"words\" in total for this dataset\n"
          ]
        }
      ],
      "source": [
        "# List of cleaned words\n",
        "list_words_2 = df.text_clean.apply(lambda x: x.split(' ')).array\n",
        "list_words_2 = [x for X in list_words_2 for x in X]\n",
        "print('%s cleaned \"words\" in total for this dataset' % (len(set(list_words_2))))"
      ]
    },
    {
      "cell_type": "code",
      "execution_count": 11,
      "metadata": {
        "colab": {
          "base_uri": "https://localhost:8080/"
        },
        "id": "WOwngbBkjooB",
        "outputId": "e3a1be5e-6eaa-4e00-d010-eaaa61f22f3d"
      },
      "outputs": [
        {
          "output_type": "stream",
          "name": "stdout",
          "text": [
            "90855 tokens in total for this dataset\n"
          ]
        }
      ],
      "source": [
        "# List of tokens\n",
        "list_tokens_1 = df.text.apply(lambda x: TweetTokenizer().tokenize(x)).array\n",
        "list_tokens_1 = [x for X in list_tokens_1 for x in X]\n",
        "print('%s tokens in total for this dataset' % (len(set(list_tokens_1))))"
      ]
    },
    {
      "cell_type": "code",
      "execution_count": 12,
      "metadata": {
        "colab": {
          "base_uri": "https://localhost:8080/"
        },
        "id": "g5M5CN6bjooC",
        "outputId": "cfe07a59-e6e6-409a-8aca-50b19f392548"
      },
      "outputs": [
        {
          "output_type": "stream",
          "name": "stdout",
          "text": [
            "46664 \"cleaned\" tokens in total for this dataset\n"
          ]
        }
      ],
      "source": [
        "# List of tokens\n",
        "list_tokens_2 = df.text_clean.apply(lambda x: TweetTokenizer().tokenize(x)).array\n",
        "list_tokens_2 = [x for X in list_tokens_2 for x in X]\n",
        "print('%s \"cleaned\" tokens in total for this dataset' % (len(set(list_tokens_2))))"
      ]
    },
    {
      "cell_type": "markdown",
      "metadata": {
        "jp-MarkdownHeadingCollapsed": true,
        "tags": [],
        "id": "89s3VD8Ajonu"
      },
      "source": [
        "## First statistics on the complete set of data"
      ]
    },
    {
      "cell_type": "code",
      "execution_count": 13,
      "metadata": {
        "colab": {
          "base_uri": "https://localhost:8080/"
        },
        "id": "H-jchZQBA_6s",
        "outputId": "23d5404b-d465-4877-91e8-2a11df5025aa"
      },
      "outputs": [
        {
          "output_type": "stream",
          "name": "stdout",
          "text": [
            "31204 tweets in total\n"
          ]
        }
      ],
      "source": [
        "# Number of different tweets in the database\n",
        "print(len(df.id.unique()),\"tweets in total\")"
      ]
    },
    {
      "cell_type": "code",
      "execution_count": 14,
      "metadata": {
        "colab": {
          "base_uri": "https://localhost:8080/"
        },
        "id": "UBkF9-XPGzzs",
        "outputId": "20b6dce0-e879-4cc9-cd12-85c64afab797"
      },
      "outputs": [
        {
          "output_type": "stream",
          "name": "stdout",
          "text": [
            "510 distinct authors\n"
          ]
        }
      ],
      "source": [
        "# Number of different MPs in the database\n",
        "print(len(df.author_id.unique()),\"distinct authors\")"
      ]
    },
    {
      "cell_type": "code",
      "execution_count": 15,
      "metadata": {
        "colab": {
          "base_uri": "https://localhost:8080/"
        },
        "id": "ZCr0UA2EgmSV",
        "outputId": "f754a662-2a0b-4c9c-98d7-cff77ad61314"
      },
      "outputs": [
        {
          "output_type": "stream",
          "name": "stdout",
          "text": [
            "Distribution of tweets considered as possibly sensitive \n",
            " False    31162\n",
            "True        42\n",
            "Name: possibly_sensitive, dtype: int64\n"
          ]
        }
      ],
      "source": [
        "# Distribution of tweets considered as possibly sensitive\n",
        "print(\"Distribution of tweets considered as possibly sensitive \\n\", df.possibly_sensitive.value_counts())"
      ]
    },
    {
      "cell_type": "code",
      "execution_count": 16,
      "metadata": {
        "colab": {
          "base_uri": "https://localhost:8080/",
          "height": 0
        },
        "id": "_TelmeZpFvOa",
        "outputId": "666b136a-8c79-49de-ec4a-41bfe26414ec"
      },
      "outputs": [
        {
          "output_type": "display_data",
          "data": {
            "text/plain": [
              "<Figure size 1080x504 with 1 Axes>"
            ],
            "image/png": "[encoded data removed]"
          },
          "metadata": {
            "needs_background": "light"
          }
        }
      ],
      "source": [
        "# Plot the number of tweets per date\n",
        "x = df.date.value_counts().index # Get the date as x-axis\n",
        "y = df.date.value_counts() # Get the number of tweets per date as y-axis\n",
        "figure(figsize=(15, 7))\n",
        "plt.title('Number of tweets per date')\n",
        "plt.plot_date(x, y, xdate=True)\n",
        "plt.show() # Plot the graph"
      ]
    },
    {
      "cell_type": "code",
      "execution_count": 17,
      "metadata": {
        "colab": {
          "base_uri": "https://localhost:8080/",
          "height": 0
        },
        "id": "GQUj3HmQjon0",
        "outputId": "48753312-2165-420f-b3f4-925f34b7e133"
      },
      "outputs": [
        {
          "output_type": "stream",
          "name": "stdout",
          "text": [
            "Number of tweets done by MPs age:\n"
          ]
        },
        {
          "output_type": "execute_result",
          "data": {
            "text/plain": [
              "<matplotlib.axes._subplots.AxesSubplot at 0x7fc86802f7d0>"
            ]
          },
          "metadata": {},
          "execution_count": 17
        },
        {
          "output_type": "display_data",
          "data": {
            "text/plain": [
              "<Figure size 432x288 with 1 Axes>"
            ],
            "image/png": "[encoded data removed]"
          },
          "metadata": {
            "needs_background": "light"
          }
        }
      ],
      "source": [
        "print(\"Number of tweets done by MPs age:\")\n",
        "df.age.hist(bins=15)"
      ]
    },
    {
      "cell_type": "code",
      "execution_count": 18,
      "metadata": {
        "colab": {
          "base_uri": "https://localhost:8080/",
          "height": 0
        },
        "id": "ryMvEdLrc9ae",
        "outputId": "7786bb1b-9639-478b-f84e-feecb3ddf74f"
      },
      "outputs": [
        {
          "output_type": "stream",
          "name": "stdout",
          "text": [
            "Number of tweets done by political group:\n"
          ]
        },
        {
          "output_type": "execute_result",
          "data": {
            "text/plain": [
              "<matplotlib.axes._subplots.AxesSubplot at 0x7fc863d43a10>"
            ]
          },
          "metadata": {},
          "execution_count": 18
        },
        {
          "output_type": "display_data",
          "data": {
            "text/plain": [
              "<Figure size 432x288 with 1 Axes>"
            ],
            "image/png": "[encoded data removed]"
          },
          "metadata": {
            "needs_background": "light"
          }
        }
      ],
      "source": [
        "print(\"Number of tweets done by political group:\")\n",
        "df.groupe_sigle.hist()"
      ]
    },
    {
      "cell_type": "code",
      "execution_count": 19,
      "metadata": {
        "colab": {
          "base_uri": "https://localhost:8080/"
        },
        "id": "rpZkegTs4bOM",
        "outputId": "d278b269-8074-43e3-ef78-4824c1606388"
      },
      "outputs": [
        {
          "output_type": "stream",
          "name": "stdout",
          "text": [
            "Distribution of tweets by gender \n",
            " M    19223\n",
            "F    11981\n",
            "Name: sexe, dtype: int64\n"
          ]
        }
      ],
      "source": [
        "print(\"Distribution of tweets by gender \\n\", df.sexe.value_counts())"
      ]
    },
    {
      "cell_type": "code",
      "execution_count": 20,
      "metadata": {
        "colab": {
          "base_uri": "https://localhost:8080/"
        },
        "id": "gDtDdMDQ5pSC",
        "outputId": "03390420-4783-46e9-db13-faa0f1c37b7b"
      },
      "outputs": [
        {
          "output_type": "stream",
          "name": "stdout",
          "text": [
            "Distribution of tweets by number of mandates \n",
            " 1    23332\n",
            "2     7359\n",
            "3      513\n",
            "Name: nb_mandats, dtype: int64\n"
          ]
        }
      ],
      "source": [
        "print(\"Distribution of tweets by number of mandates \\n\", df.nb_mandats.value_counts())"
      ]
    },
    {
      "cell_type": "code",
      "execution_count": 21,
      "metadata": {
        "colab": {
          "base_uri": "https://localhost:8080/"
        },
        "id": "HSYCV0-V527C",
        "outputId": "1103aee1-f251-4609-eee5-094415abd93b"
      },
      "outputs": [
        {
          "output_type": "stream",
          "name": "stdout",
          "text": [
            "Distribution of tweets according to majority belonging \n",
            " True     20879\n",
            "False    10325\n",
            "Name: majo, dtype: int64\n"
          ]
        }
      ],
      "source": [
        "print(\"Distribution of tweets according to majority belonging \\n\", df.majo.value_counts())"
      ]
    },
    {
      "cell_type": "markdown",
      "metadata": {
        "id": "UFtFA55HgFmH",
        "jp-MarkdownHeadingCollapsed": true,
        "tags": []
      },
      "source": [
        "## Some statistics on tweets themselves"
      ]
    },
    {
      "cell_type": "code",
      "execution_count": 22,
      "metadata": {
        "colab": {
          "base_uri": "https://localhost:8080/"
        },
        "id": "GHYvZm7Xjon4",
        "outputId": "c0cd35cc-01c5-451b-a550-44bb46af965a"
      },
      "outputs": [
        {
          "output_type": "stream",
          "name": "stdout",
          "text": [
            "Mean length of tweets in characters: 228.29371234457122\n"
          ]
        }
      ],
      "source": [
        "# Mean length of tweets in characters\n",
        "print(\"Mean length of tweets in characters:\",df.text.apply(len).mean())"
      ]
    },
    {
      "cell_type": "code",
      "execution_count": 23,
      "metadata": {
        "id": "sxONDUxLjon5"
      },
      "outputs": [],
      "source": [
        "# Number of \"words\": we split by a space(naive approach)\n",
        "df['words_len'] = df.text_clean.apply(lambda x: len(x.split(' ')) )"
      ]
    },
    {
      "cell_type": "code",
      "source": [
        "# Mean length of tweets in characters\n",
        "print(\"Mean length of tweets in characters:\",df.words_len.mean())"
      ],
      "metadata": {
        "colab": {
          "base_uri": "https://localhost:8080/"
        },
        "id": "h84WPtlBn_Rb",
        "outputId": "62f75d07-8f49-44d2-be45-b246eea59484"
      },
      "execution_count": 24,
      "outputs": [
        {
          "output_type": "stream",
          "name": "stdout",
          "text": [
            "Mean length of tweets in characters: 29.20987693885399\n"
          ]
        }
      ]
    },
    {
      "cell_type": "code",
      "execution_count": 25,
      "metadata": {
        "colab": {
          "base_uri": "https://localhost:8080/",
          "height": 282
        },
        "id": "-6cwLkg9jon6",
        "outputId": "21949dc3-f919-46d0-a2cb-bcb77827f317"
      },
      "outputs": [
        {
          "output_type": "execute_result",
          "data": {
            "text/plain": [
              "<matplotlib.axes._subplots.AxesSubplot at 0x7fc86407fdd0>"
            ]
          },
          "metadata": {},
          "execution_count": 25
        },
        {
          "output_type": "display_data",
          "data": {
            "text/plain": [
              "<Figure size 432x288 with 1 Axes>"
            ],
            "image/png": "[encoded data removed]"
          },
          "metadata": {
            "needs_background": "light"
          }
        }
      ],
      "source": [
        "# Distribution of tweets according to length in words\n",
        "df.words_len.hist(bins=15)"
      ]
    },
    {
      "cell_type": "code",
      "source": [
        "# Storing the average word length for each tweet\n",
        "df[\"chr_len_words\"] = df['text_clean'].str.split(' |-').\\\n",
        "   apply(lambda x : [len(i) for i in x]). \\\n",
        "   map(lambda x: np.mean(x))"
      ],
      "metadata": {
        "id": "vpE7bCNlycoR"
      },
      "execution_count": 26,
      "outputs": []
    },
    {
      "cell_type": "code",
      "source": [
        "# Distribution of tweets according to average words length in number of characters\n",
        "df.chr_len_words.hist()"
      ],
      "metadata": {
        "colab": {
          "base_uri": "https://localhost:8080/",
          "height": 282
        },
        "id": "F7Jt3tJ32tF2",
        "outputId": "57c40ff7-ec09-4a8f-a8c2-8661a940d50c"
      },
      "execution_count": 27,
      "outputs": [
        {
          "output_type": "execute_result",
          "data": {
            "text/plain": [
              "<matplotlib.axes._subplots.AxesSubplot at 0x7fc85cc5f310>"
            ]
          },
          "metadata": {},
          "execution_count": 27
        },
        {
          "output_type": "display_data",
          "data": {
            "text/plain": [
              "<Figure size 432x288 with 1 Axes>"
            ],
            "image/png": "[encoded data removed]"
          },
          "metadata": {
            "needs_background": "light"
          }
        }
      ]
    },
    {
      "cell_type": "code",
      "source": [
        "# Analysis of stopwords\n",
        "# Code taken from: https://app.neptune.ai/neptune-ai/eda-nlp-tools/n/1-3-top-stopwords-barchart-b953763c-3fea-4331-bff0-429411793e5f/5c0fca05-ba07-4564-a02e-c44b08bfb8cb\n",
        "\n",
        "stop=set(stopwords.words('french'))\n",
        "\n",
        "def plot_top_stopwords_barchart(text):\n",
        "  stop=stop\n",
        "    \n",
        "  new= df.text_clean.str.split()\n",
        "  new=new.values.tolist()\n",
        "  corpus=[word for i in new for word in i]\n",
        "  from collections import defaultdict\n",
        "  dic=defaultdict(int)\n",
        "  for word in corpus:\n",
        "      if word in stop:\n",
        "          dic[word]+=1\n",
        "          \n",
        "  top=sorted(dic.items(), key=lambda x:x[1],reverse=True)[:10] \n",
        "  x,y=zip(*top)\n",
        "  plt.bar(x,y)\n",
        "\n",
        "plot_top_stopwords_barchart(df[\"text_clean\"])"
      ],
      "metadata": {
        "colab": {
          "base_uri": "https://localhost:8080/",
          "height": 321
        },
        "id": "je6vQxda3hGf",
        "outputId": "9d0b0ca1-c167-4dd0-ac9b-b76ca02bddd7"
      },
      "execution_count": 29,
      "outputs": [
        {
          "output_type": "error",
          "ename": "UnboundLocalError",
          "evalue": "ignored",
          "traceback": [
            "\u001b[0;31m---------------------------------------------------------------------------\u001b[0m",
            "\u001b[0;31mUnboundLocalError\u001b[0m                         Traceback (most recent call last)",
            "\u001b[0;32m<ipython-input-29-acb6ade64987>\u001b[0m in \u001b[0;36m<module>\u001b[0;34m()\u001b[0m\n\u001b[1;32m     20\u001b[0m   \u001b[0mplt\u001b[0m\u001b[0;34m.\u001b[0m\u001b[0mbar\u001b[0m\u001b[0;34m(\u001b[0m\u001b[0mx\u001b[0m\u001b[0;34m,\u001b[0m\u001b[0my\u001b[0m\u001b[0;34m)\u001b[0m\u001b[0;34m\u001b[0m\u001b[0;34m\u001b[0m\u001b[0m\n\u001b[1;32m     21\u001b[0m \u001b[0;34m\u001b[0m\u001b[0m\n\u001b[0;32m---> 22\u001b[0;31m \u001b[0mplot_top_stopwords_barchart\u001b[0m\u001b[0;34m(\u001b[0m\u001b[0mdf\u001b[0m\u001b[0;34m[\u001b[0m\u001b[0;34m\"text_clean\"\u001b[0m\u001b[0;34m]\u001b[0m\u001b[0;34m)\u001b[0m\u001b[0;34m\u001b[0m\u001b[0;34m\u001b[0m\u001b[0m\n\u001b[0m",
            "\u001b[0;32m<ipython-input-29-acb6ade64987>\u001b[0m in \u001b[0;36mplot_top_stopwords_barchart\u001b[0;34m(text)\u001b[0m\n\u001b[1;32m      5\u001b[0m \u001b[0;34m\u001b[0m\u001b[0m\n\u001b[1;32m      6\u001b[0m \u001b[0;32mdef\u001b[0m \u001b[0mplot_top_stopwords_barchart\u001b[0m\u001b[0;34m(\u001b[0m\u001b[0mtext\u001b[0m\u001b[0;34m)\u001b[0m\u001b[0;34m:\u001b[0m\u001b[0;34m\u001b[0m\u001b[0;34m\u001b[0m\u001b[0m\n\u001b[0;32m----> 7\u001b[0;31m   \u001b[0mstop\u001b[0m\u001b[0;34m=\u001b[0m\u001b[0mstop\u001b[0m\u001b[0;34m\u001b[0m\u001b[0;34m\u001b[0m\u001b[0m\n\u001b[0m\u001b[1;32m      8\u001b[0m \u001b[0;34m\u001b[0m\u001b[0m\n\u001b[1;32m      9\u001b[0m   \u001b[0mnew\u001b[0m\u001b[0;34m=\u001b[0m \u001b[0mdf\u001b[0m\u001b[0;34m.\u001b[0m\u001b[0mtext_clean\u001b[0m\u001b[0;34m.\u001b[0m\u001b[0mstr\u001b[0m\u001b[0;34m.\u001b[0m\u001b[0msplit\u001b[0m\u001b[0;34m(\u001b[0m\u001b[0;34m)\u001b[0m\u001b[0;34m\u001b[0m\u001b[0;34m\u001b[0m\u001b[0m\n",
            "\u001b[0;31mUnboundLocalError\u001b[0m: local variable 'stop' referenced before assignment"
          ]
        }
      ]
    },
    {
      "cell_type": "code",
      "source": [
        "# Most frequent words\n",
        "\n",
        "corpus=[]\n",
        "new= df.text_clean.str.split()\n",
        "new=new.values.tolist()\n",
        "corpus=[word for i in new for word in i]\n",
        "\n",
        "counter=Counter(corpus)\n",
        "most=counter.most_common()\n",
        "\n",
        "x, y= [], []\n",
        "for word,count in most[:80]:\n",
        "    if (word.lower() not in stop):\n",
        "      if (word.lower() not in list(string.punctuation)):\n",
        "        x.append(word)\n",
        "        y.append(count)\n",
        "        \n",
        "sns.barplot(x=y,y=x)"
      ],
      "metadata": {
        "id": "VCf7u9fM4xlJ"
      },
      "execution_count": null,
      "outputs": []
    },
    {
      "cell_type": "code",
      "source": [
        "# Tri-gram exploration\n",
        "# Code taken from: https://app.neptune.ai/neptune-ai/eda-nlp-tools/n/2-0-top-ngrams-barchart-671a187d-c3b4-475a-bc9e-8aa6c937923b/c427446f-7b0e-4621-b791-47b0fd31a39e\n",
        "\n",
        "def plot_top_ngrams_barchart(text, n=2):\n",
        "    stop=stop\n",
        "\n",
        "    def _get_top_ngram(corpus, n=None):\n",
        "        vec = CountVectorizer(ngram_range=(n, n)).fit(corpus)\n",
        "        bag_of_words = vec.transform(corpus)\n",
        "        sum_words = bag_of_words.sum(axis=0) \n",
        "        words_freq = [(word, sum_words[0, idx]) \n",
        "                      for word, idx in vec.vocabulary_.items()]\n",
        "        words_freq =sorted(words_freq, key = lambda x: x[1], reverse=True)\n",
        "        return words_freq[:10]\n",
        "\n",
        "    top_n_bigrams=_get_top_ngram(text,n)[:10]\n",
        "    x,y=map(list,zip(*top_n_bigrams))\n",
        "    sns.barplot(x=y,y=x)\n",
        "\n",
        "\n",
        "plot_top_ngrams_barchart(df['text_clean'],3)"
      ],
      "metadata": {
        "id": "cbOW8MYA8Jim"
      },
      "execution_count": null,
      "outputs": []
    },
    {
      "cell_type": "code",
      "source": [
        "from wordcloud import WordCloud, STOPWORDS\n",
        "stopwords = stop\n",
        "\n",
        "def show_wordcloud(data):\n",
        "    wordcloud = WordCloud(\n",
        "        background_color='white',\n",
        "        stopwords=stopwords,\n",
        "        max_words=100,\n",
        "        max_font_size=30,\n",
        "        scale=3,\n",
        "        random_state=1)\n",
        "   \n",
        "    text = re.sub(\"'\",\"\",str(data))\n",
        "    wordcloud=wordcloud.generate(text)\n",
        "\n",
        "    fig = plt.figure(1, figsize=(12, 12))\n",
        "    plt.axis('off')\n",
        "\n",
        "    plt.imshow(wordcloud)\n",
        "    plt.show()\n",
        "\n",
        "show_wordcloud(corpus)"
      ],
      "metadata": {
        "id": "NM6rWzKEMc0e"
      },
      "execution_count": null,
      "outputs": []
    },
    {
      "cell_type": "markdown",
      "metadata": {
        "jp-MarkdownHeadingCollapsed": true,
        "tags": [],
        "id": "xWmH8b4GjooC"
      },
      "source": [
        "## Specificity of tweet contents"
      ]
    },
    {
      "cell_type": "code",
      "execution_count": null,
      "metadata": {
        "id": "pENOd9mkjooC"
      },
      "outputs": [],
      "source": [
        "# We want to match some specificity of Twitter contents and render it\n",
        "hash_prog = re.compile('#') # matching hash\n",
        "mention_prog = re.compile('@[A-Za-z0-9_]+') # matching mention\n",
        "link_prog = re.compile(r'http\\S+') # # matching url\n",
        "emoji_prog = re.compile(\"[\"\n",
        "        u\"\\U0001F600-\\U0001F64F\"  # emoticons\n",
        "        u\"\\U0001F300-\\U0001F5FF\"  # symbols & pictographs\n",
        "        u\"\\U0001F680-\\U0001F6FF\"  # transport & map symbols\n",
        "        u\"\\U0001F1E0-\\U0001F1FF\"  # flags (iOS)\n",
        "        u\"\\U00002500-\\U00002BEF\"  # chinese char\n",
        "        u\"\\U00002702-\\U000027B0\"\n",
        "        u\"\\U00002702-\\U000027B0\"\n",
        "        u\"\\U000024C2-\\U0001F251\"\n",
        "        u\"\\U0001f926-\\U0001f937\"\n",
        "        u\"\\U00010000-\\U0010ffff\"\n",
        "        u\"\\u2640-\\u2642\" \n",
        "        u\"\\u2600-\\u2B55\"\n",
        "        u\"\\u200d\"\n",
        "        u\"\\u23cf\"\n",
        "        u\"\\u23e9\"\n",
        "        u\"\\u231a\"\n",
        "        u\"\\ufe0f\"  # dingbats\n",
        "        u\"\\u3030\"\n",
        "                      \"]+\", flags=re.UNICODE)\n",
        "# Calculating number of matches for every tweet\n",
        "progs = [hash_prog, mention_prog, link_prog, emoji_prog]\n",
        "nb_types = ['hash', 'mention', 'link', 'emoji']\n",
        "for prog, nb_type in zip(progs, nb_types):\n",
        "  df[nb_type] = df['text'].apply(lambda x: len(prog.split(x))-1).array"
      ]
    }
  ],
  "metadata": {
    "colab": {
      "name": "Descriptive_statistics.ipynb",
      "provenance": [],
      "collapsed_sections": [
        "Pdo3ZXmVjonb",
        "q3jltu6gjono",
        "IDLn8-_ojon_",
        "89s3VD8Ajonu",
        "xWmH8b4GjooC"
      ],
      "include_colab_link": true
    },
    "kernelspec": {
      "display_name": "Python (default)",
      "language": "python",
      "name": "python3"
    },
    "language_info": {
      "codemirror_mode": {
        "name": "ipython",
        "version": 3
      },
      "file_extension": ".py",
      "mimetype": "text/x-python",
      "name": "python",
      "nbconvert_exporter": "python",
      "pygments_lexer": "ipython3",
      "version": "3.8.12"
    }
  },
  "nbformat": 4,
  "nbformat_minor": 0
}