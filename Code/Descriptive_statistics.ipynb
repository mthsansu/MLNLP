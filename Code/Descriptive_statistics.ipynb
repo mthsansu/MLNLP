{
  "nbformat": 4,
  "nbformat_minor": 0,
  "metadata": {
    "colab": {
      "name": "Untitled5.ipynb",
      "provenance": [],
      "include_colab_link": true
    },
    "kernelspec": {
      "name": "python3",
      "display_name": "Python 3"
    },
    "language_info": {
      "name": "python"
    }
  },
  "cells": [
    {
      "cell_type": "markdown",
      "metadata": {
        "id": "view-in-github",
        "colab_type": "text"
      },
      "source": [
        "<a href=\"https://colab.research.google.com/github/mthsansu/MLNLP/blob/main/Code/Descriptive_statistics.ipynb\" target=\"_parent\"><img src=\"https://colab.research.google.com/assets/colab-badge.svg\" alt=\"Open In Colab\"/></a>"
      ]
    },
    {
      "cell_type": "code",
      "source": [
        "#!pip install datasets"
      ],
      "metadata": {
        "id": "0s1ck7FiqHVK"
      },
      "execution_count": 17,
      "outputs": []
    },
    {
      "cell_type": "code",
      "execution_count": 18,
      "metadata": {
        "id": "e52lbxWcpoTL"
      },
      "outputs": [],
      "source": [
        "#import torch\n",
        "import numpy as np\n",
        "#import datasets\n",
        "#from datasets import load_dataset\n",
        "from tqdm import tqdm\n",
        "import nltk\n",
        "from nltk.tokenize import TreebankWordTokenizer, TweetTokenizer\n",
        "import pandas as pd\n",
        "from collections import Counter\n",
        "import torchtext\n",
        "from sklearn.model_selection import train_test_split\n",
        "\n",
        "from termcolor import colored\n",
        "\n",
        "import torch\n",
        "import torch.nn as nn\n",
        "import torch.nn.functional as F\n",
        "\n",
        "import matplotlib.pyplot as plt\n",
        "import datetime as dt"
      ]
    },
    {
      "cell_type": "code",
      "source": [
        "# Import data\n",
        "git_url = \"https://raw.githubusercontent.com/mthsansu/MLNLP/main/Data/\"\n",
        "#df = pd.read_csv(git_url + 'df_1000_rand_full.csv')\n",
        "df = pd.read_csv(git_url + 'Tweets_sample_confinement.csv', index_col=0)"
      ],
      "metadata": {
        "id": "2xvNiTBCqAUW"
      },
      "execution_count": 19,
      "outputs": []
    },
    {
      "cell_type": "code",
      "source": [
        "df['date'] = df['created_at'].str[:10]\n",
        "df['date'] = pd.to_datetime(df['date'])"
      ],
      "metadata": {
        "id": "7kgqq-aFGuj4"
      },
      "execution_count": 20,
      "outputs": []
    },
    {
      "cell_type": "code",
      "source": [
        "df.head()"
      ],
      "metadata": {
        "colab": {
          "base_uri": "https://localhost:8080/",
          "height": 337
        },
        "id": "1LvE3es7qwI9",
        "outputId": "e436c090-858b-4a9e-e91a-cd4e6acba9bd"
      },
      "execution_count": 21,
      "outputs": [
        {
          "output_type": "execute_result",
          "data": {
            "text/plain": [
              "              author_id  possibly_sensitive                   id  \\\n",
              "478  889730003495211009               False  1267043323501580289   \n",
              "480  889730003495211009               False  1266032133497380865   \n",
              "482  889730003495211009               False  1265595756431409152   \n",
              "484  889730003495211009               False  1265287394724634626   \n",
              "486  889730003495211009               False  1264887573442449408   \n",
              "\n",
              "                                                  text  \\\n",
              "478  La viticulture c’est 600000 emplois dans 66 dé...   \n",
              "480  Réunion en visioconférence pour le #GAP #agric...   \n",
              "482  Cérémonie patriotique en l'honneur des résista...   \n",
              "484  <U+0001F58A> J’ai co-signé le courrier de mon ...   \n",
              "486  J’ai saisi ce jour le Directeur général de l’@...   \n",
              "\n",
              "                   created_at        twitter sexe  age  majo num_deptmt  \\\n",
              "478  2020-05-31T10:40:43.000Z  AdrienMorenas    M   35  True         84   \n",
              "480  2020-05-28T15:42:37.000Z  AdrienMorenas    M   35  True         84   \n",
              "482  2020-05-27T10:48:36.000Z  AdrienMorenas    M   35  True         84   \n",
              "484  2020-05-26T14:23:17.000Z  AdrienMorenas    M   35  True         84   \n",
              "486  2020-05-25T11:54:32.000Z  AdrienMorenas    M   35  True         84   \n",
              "\n",
              "    groupe_sigle parti_ratt_financier  nb_mandats  age_group       date  \n",
              "478         LREM          En marche !           1          2 2020-05-31  \n",
              "480         LREM          En marche !           1          2 2020-05-28  \n",
              "482         LREM          En marche !           1          2 2020-05-27  \n",
              "484         LREM          En marche !           1          2 2020-05-26  \n",
              "486         LREM          En marche !           1          2 2020-05-25  "
            ],
            "text/html": [
              "\n",
              "  <div id=\"df-32e755f2-3cc3-42e8-a8dd-7e0c04680c9d\">\n",
              "    <div class=\"colab-df-container\">\n",
              "      <div>\n",
              "<style scoped>\n",
              "    .dataframe tbody tr th:only-of-type {\n",
              "        vertical-align: middle;\n",
              "    }\n",
              "\n",
              "    .dataframe tbody tr th {\n",
              "        vertical-align: top;\n",
              "    }\n",
              "\n",
              "    .dataframe thead th {\n",
              "        text-align: right;\n",
              "    }\n",
              "</style>\n",
              "<table border=\"1\" class=\"dataframe\">\n",
              "  <thead>\n",
              "    <tr style=\"text-align: right;\">\n",
              "      <th></th>\n",
              "      <th>author_id</th>\n",
              "      <th>possibly_sensitive</th>\n",
              "      <th>id</th>\n",
              "      <th>text</th>\n",
              "      <th>created_at</th>\n",
              "      <th>twitter</th>\n",
              "      <th>sexe</th>\n",
              "      <th>age</th>\n",
              "      <th>majo</th>\n",
              "      <th>num_deptmt</th>\n",
              "      <th>groupe_sigle</th>\n",
              "      <th>parti_ratt_financier</th>\n",
              "      <th>nb_mandats</th>\n",
              "      <th>age_group</th>\n",
              "      <th>date</th>\n",
              "    </tr>\n",
              "  </thead>\n",
              "  <tbody>\n",
              "    <tr>\n",
              "      <th>478</th>\n",
              "      <td>889730003495211009</td>\n",
              "      <td>False</td>\n",
              "      <td>1267043323501580289</td>\n",
              "      <td>La viticulture c’est 600000 emplois dans 66 dé...</td>\n",
              "      <td>2020-05-31T10:40:43.000Z</td>\n",
              "      <td>AdrienMorenas</td>\n",
              "      <td>M</td>\n",
              "      <td>35</td>\n",
              "      <td>True</td>\n",
              "      <td>84</td>\n",
              "      <td>LREM</td>\n",
              "      <td>En marche !</td>\n",
              "      <td>1</td>\n",
              "      <td>2</td>\n",
              "      <td>2020-05-31</td>\n",
              "    </tr>\n",
              "    <tr>\n",
              "      <th>480</th>\n",
              "      <td>889730003495211009</td>\n",
              "      <td>False</td>\n",
              "      <td>1266032133497380865</td>\n",
              "      <td>Réunion en visioconférence pour le #GAP #agric...</td>\n",
              "      <td>2020-05-28T15:42:37.000Z</td>\n",
              "      <td>AdrienMorenas</td>\n",
              "      <td>M</td>\n",
              "      <td>35</td>\n",
              "      <td>True</td>\n",
              "      <td>84</td>\n",
              "      <td>LREM</td>\n",
              "      <td>En marche !</td>\n",
              "      <td>1</td>\n",
              "      <td>2</td>\n",
              "      <td>2020-05-28</td>\n",
              "    </tr>\n",
              "    <tr>\n",
              "      <th>482</th>\n",
              "      <td>889730003495211009</td>\n",
              "      <td>False</td>\n",
              "      <td>1265595756431409152</td>\n",
              "      <td>Cérémonie patriotique en l'honneur des résista...</td>\n",
              "      <td>2020-05-27T10:48:36.000Z</td>\n",
              "      <td>AdrienMorenas</td>\n",
              "      <td>M</td>\n",
              "      <td>35</td>\n",
              "      <td>True</td>\n",
              "      <td>84</td>\n",
              "      <td>LREM</td>\n",
              "      <td>En marche !</td>\n",
              "      <td>1</td>\n",
              "      <td>2</td>\n",
              "      <td>2020-05-27</td>\n",
              "    </tr>\n",
              "    <tr>\n",
              "      <th>484</th>\n",
              "      <td>889730003495211009</td>\n",
              "      <td>False</td>\n",
              "      <td>1265287394724634626</td>\n",
              "      <td>&lt;U+0001F58A&gt; J’ai co-signé le courrier de mon ...</td>\n",
              "      <td>2020-05-26T14:23:17.000Z</td>\n",
              "      <td>AdrienMorenas</td>\n",
              "      <td>M</td>\n",
              "      <td>35</td>\n",
              "      <td>True</td>\n",
              "      <td>84</td>\n",
              "      <td>LREM</td>\n",
              "      <td>En marche !</td>\n",
              "      <td>1</td>\n",
              "      <td>2</td>\n",
              "      <td>2020-05-26</td>\n",
              "    </tr>\n",
              "    <tr>\n",
              "      <th>486</th>\n",
              "      <td>889730003495211009</td>\n",
              "      <td>False</td>\n",
              "      <td>1264887573442449408</td>\n",
              "      <td>J’ai saisi ce jour le Directeur général de l’@...</td>\n",
              "      <td>2020-05-25T11:54:32.000Z</td>\n",
              "      <td>AdrienMorenas</td>\n",
              "      <td>M</td>\n",
              "      <td>35</td>\n",
              "      <td>True</td>\n",
              "      <td>84</td>\n",
              "      <td>LREM</td>\n",
              "      <td>En marche !</td>\n",
              "      <td>1</td>\n",
              "      <td>2</td>\n",
              "      <td>2020-05-25</td>\n",
              "    </tr>\n",
              "  </tbody>\n",
              "</table>\n",
              "</div>\n",
              "      <button class=\"colab-df-convert\" onclick=\"convertToInteractive('df-32e755f2-3cc3-42e8-a8dd-7e0c04680c9d')\"\n",
              "              title=\"Convert this dataframe to an interactive table.\"\n",
              "              style=\"display:none;\">\n",
              "        \n",
              "  <svg xmlns=\"http://www.w3.org/2000/svg\" height=\"24px\"viewBox=\"0 0 24 24\"\n",
              "       width=\"24px\">\n",
              "    <path d=\"M0 0h24v24H0V0z\" fill=\"none\"/>\n",
              "    <path d=\"M18.56 5.44l.94 2.06.94-2.06 2.06-.94-2.06-.94-.94-2.06-.94 2.06-2.06.94zm-11 1L8.5 8.5l.94-2.06 2.06-.94-2.06-.94L8.5 2.5l-.94 2.06-2.06.94zm10 10l.94 2.06.94-2.06 2.06-.94-2.06-.94-.94-2.06-.94 2.06-2.06.94z\"/><path d=\"M17.41 7.96l-1.37-1.37c-.4-.4-.92-.59-1.43-.59-.52 0-1.04.2-1.43.59L10.3 9.45l-7.72 7.72c-.78.78-.78 2.05 0 2.83L4 21.41c.39.39.9.59 1.41.59.51 0 1.02-.2 1.41-.59l7.78-7.78 2.81-2.81c.8-.78.8-2.07 0-2.86zM5.41 20L4 18.59l7.72-7.72 1.47 1.35L5.41 20z\"/>\n",
              "  </svg>\n",
              "      </button>\n",
              "      \n",
              "  <style>\n",
              "    .colab-df-container {\n",
              "      display:flex;\n",
              "      flex-wrap:wrap;\n",
              "      gap: 12px;\n",
              "    }\n",
              "\n",
              "    .colab-df-convert {\n",
              "      background-color: #E8F0FE;\n",
              "      border: none;\n",
              "      border-radius: 50%;\n",
              "      cursor: pointer;\n",
              "      display: none;\n",
              "      fill: #1967D2;\n",
              "      height: 32px;\n",
              "      padding: 0 0 0 0;\n",
              "      width: 32px;\n",
              "    }\n",
              "\n",
              "    .colab-df-convert:hover {\n",
              "      background-color: #E2EBFA;\n",
              "      box-shadow: 0px 1px 2px rgba(60, 64, 67, 0.3), 0px 1px 3px 1px rgba(60, 64, 67, 0.15);\n",
              "      fill: #174EA6;\n",
              "    }\n",
              "\n",
              "    [theme=dark] .colab-df-convert {\n",
              "      background-color: #3B4455;\n",
              "      fill: #D2E3FC;\n",
              "    }\n",
              "\n",
              "    [theme=dark] .colab-df-convert:hover {\n",
              "      background-color: #434B5C;\n",
              "      box-shadow: 0px 1px 3px 1px rgba(0, 0, 0, 0.15);\n",
              "      filter: drop-shadow(0px 1px 2px rgba(0, 0, 0, 0.3));\n",
              "      fill: #FFFFFF;\n",
              "    }\n",
              "  </style>\n",
              "\n",
              "      <script>\n",
              "        const buttonEl =\n",
              "          document.querySelector('#df-32e755f2-3cc3-42e8-a8dd-7e0c04680c9d button.colab-df-convert');\n",
              "        buttonEl.style.display =\n",
              "          google.colab.kernel.accessAllowed ? 'block' : 'none';\n",
              "\n",
              "        async function convertToInteractive(key) {\n",
              "          const element = document.querySelector('#df-32e755f2-3cc3-42e8-a8dd-7e0c04680c9d');\n",
              "          const dataTable =\n",
              "            await google.colab.kernel.invokeFunction('convertToInteractive',\n",
              "                                                     [key], {});\n",
              "          if (!dataTable) return;\n",
              "\n",
              "          const docLinkHtml = 'Like what you see? Visit the ' +\n",
              "            '<a target=\"_blank\" href=https://colab.research.google.com/notebooks/data_table.ipynb>data table notebook</a>'\n",
              "            + ' to learn more about interactive tables.';\n",
              "          element.innerHTML = '';\n",
              "          dataTable['output_type'] = 'display_data';\n",
              "          await google.colab.output.renderOutput(dataTable, element);\n",
              "          const docLink = document.createElement('div');\n",
              "          docLink.innerHTML = docLinkHtml;\n",
              "          element.appendChild(docLink);\n",
              "        }\n",
              "      </script>\n",
              "    </div>\n",
              "  </div>\n",
              "  "
            ]
          },
          "metadata": {},
          "execution_count": 21
        }
      ]
    },
    {
      "cell_type": "code",
      "source": [
        "df.columns"
      ],
      "metadata": {
        "id": "NQvxv87UgfmT",
        "outputId": "15ca651e-8ad2-4a4d-fbc1-06661ccb7474",
        "colab": {
          "base_uri": "https://localhost:8080/"
        }
      },
      "execution_count": 42,
      "outputs": [
        {
          "output_type": "execute_result",
          "data": {
            "text/plain": [
              "Index(['author_id', 'possibly_sensitive', 'id', 'text', 'created_at',\n",
              "       'twitter', 'sexe', 'age', 'majo', 'num_deptmt', 'groupe_sigle',\n",
              "       'parti_ratt_financier', 'nb_mandats', 'age_group', 'date', 'words_len'],\n",
              "      dtype='object')"
            ]
          },
          "metadata": {},
          "execution_count": 42
        }
      ]
    },
    {
      "cell_type": "code",
      "source": [
        "# Number of different tweets in the database\n",
        "print(len(df.id.unique()))"
      ],
      "metadata": {
        "id": "H-jchZQBA_6s",
        "outputId": "a2dce411-9ecb-42b7-cf52-c85927ddf872",
        "colab": {
          "base_uri": "https://localhost:8080/"
        }
      },
      "execution_count": 22,
      "outputs": [
        {
          "output_type": "stream",
          "name": "stdout",
          "text": [
            "32767\n"
          ]
        }
      ]
    },
    {
      "cell_type": "code",
      "source": [
        "# Number of different MPs in the database\n",
        "print(len(df.author_id.unique()))"
      ],
      "metadata": {
        "id": "UBkF9-XPGzzs",
        "outputId": "cce89466-b98c-47dc-afc0-965cf123955e",
        "colab": {
          "base_uri": "https://localhost:8080/"
        }
      },
      "execution_count": 23,
      "outputs": [
        {
          "output_type": "stream",
          "name": "stdout",
          "text": [
            "487\n"
          ]
        }
      ]
    },
    {
      "cell_type": "code",
      "source": [
        "df.possibly_sensitive.value_counts()"
      ],
      "metadata": {
        "id": "ZCr0UA2EgmSV",
        "outputId": "7f8af05c-3b4f-4ae7-d9e1-358124120764",
        "colab": {
          "base_uri": "https://localhost:8080/"
        }
      },
      "execution_count": 43,
      "outputs": [
        {
          "output_type": "execute_result",
          "data": {
            "text/plain": [
              "False    32552\n",
              "True       215\n",
              "Name: possibly_sensitive, dtype: int64"
            ]
          },
          "metadata": {},
          "execution_count": 43
        }
      ]
    },
    {
      "cell_type": "code",
      "source": [
        "df.date.value_counts()"
      ],
      "metadata": {
        "id": "_TelmeZpFvOa",
        "outputId": "ddc680ea-5162-4e15-f55a-df9baffcb2ac",
        "colab": {
          "base_uri": "https://localhost:8080/"
        }
      },
      "execution_count": 24,
      "outputs": [
        {
          "output_type": "execute_result",
          "data": {
            "text/plain": [
              "2020-04-28    773\n",
              "2020-05-28    617\n",
              "2020-03-04    616\n",
              "2020-04-30    515\n",
              "2020-03-05    502\n",
              "             ... \n",
              "2020-05-16    150\n",
              "2020-05-23    150\n",
              "2020-05-21    148\n",
              "2020-03-14    147\n",
              "2020-05-31    147\n",
              "Name: date, Length: 92, dtype: int64"
            ]
          },
          "metadata": {},
          "execution_count": 24
        }
      ]
    },
    {
      "cell_type": "code",
      "source": [
        "# Mean length of content in characters\n",
        "df.text.apply(len).mean()"
      ],
      "metadata": {
        "id": "JF91O8NRsEUG",
        "outputId": "00049a21-d551-4d55-cd8d-b46617151557",
        "colab": {
          "base_uri": "https://localhost:8080/"
        }
      },
      "execution_count": 25,
      "outputs": [
        {
          "output_type": "execute_result",
          "data": {
            "text/plain": [
              "255.04104739524522"
            ]
          },
          "metadata": {},
          "execution_count": 25
        }
      ]
    },
    {
      "cell_type": "code",
      "source": [
        "# let's add some basic information about the text: number of \"words\" (here we only split by a space, a really naive approach)\n",
        "df['words_len'] = df.text.apply(lambda x: len(x.split(' ')) )"
      ],
      "metadata": {
        "id": "rvCJ1a_PtY05"
      },
      "execution_count": 26,
      "outputs": []
    },
    {
      "cell_type": "code",
      "source": [
        "# Repartition of the content lengths (characters)\n",
        "%matplotlib inline\n",
        "df.words_len.hist(bins=40)"
      ],
      "metadata": {
        "id": "ko6GzWxPthl-",
        "outputId": "1a073f11-09bb-4335-f17c-ed641003b95d",
        "colab": {
          "base_uri": "https://localhost:8080/",
          "height": 282
        }
      },
      "execution_count": 27,
      "outputs": [
        {
          "output_type": "execute_result",
          "data": {
            "text/plain": [
              "<matplotlib.axes._subplots.AxesSubplot at 0x7feb841ce5d0>"
            ]
          },
          "metadata": {},
          "execution_count": 27
        },
        {
          "output_type": "display_data",
          "data": {
            "text/plain": [
              "<Figure size 432x288 with 1 Axes>"
            ],
            "image/png": "[encoded data removed]"
          },
          "metadata": {
            "needs_background": "light"
          }
        }
      ]
    },
    {
      "cell_type": "code",
      "source": [
        "df.age_group.value_counts()"
      ],
      "metadata": {
        "id": "Byzb5dIccu6r",
        "outputId": "e6e96b16-f05f-43d6-f89a-2b70c83c2192",
        "colab": {
          "base_uri": "https://localhost:8080/"
        }
      },
      "execution_count": 28,
      "outputs": [
        {
          "output_type": "execute_result",
          "data": {
            "text/plain": [
              "3    11257\n",
              "2     7735\n",
              "4     7468\n",
              "1     4744\n",
              "5     1563\n",
              "Name: age_group, dtype: int64"
            ]
          },
          "metadata": {},
          "execution_count": 28
        }
      ]
    },
    {
      "cell_type": "code",
      "source": [
        "df.groupe_sigle.value_counts()"
      ],
      "metadata": {
        "id": "ryMvEdLrc9ae",
        "outputId": "4899a1bc-c1c2-4f69-e223-cdcbacb4a389",
        "colab": {
          "base_uri": "https://localhost:8080/"
        }
      },
      "execution_count": 29,
      "outputs": [
        {
          "output_type": "execute_result",
          "data": {
            "text/plain": [
              "LREM     17740\n",
              "LR        4172\n",
              "LFI       3826\n",
              "NI        2036\n",
              "MODEM     1964\n",
              "UAI       1255\n",
              "NG        1101\n",
              "GDR        673\n",
              "Name: groupe_sigle, dtype: int64"
            ]
          },
          "metadata": {},
          "execution_count": 29
        }
      ]
    },
    {
      "cell_type": "code",
      "source": [
        "# Plot histogram for sex\n",
        "\n",
        "df.sexe.value_counts()"
      ],
      "metadata": {
        "colab": {
          "base_uri": "https://localhost:8080/"
        },
        "id": "rpZkegTs4bOM",
        "outputId": "9e9b3afa-68f5-45bd-b563-0f023a4ce9e0"
      },
      "execution_count": 31,
      "outputs": [
        {
          "output_type": "execute_result",
          "data": {
            "text/plain": [
              "M    19966\n",
              "F    12801\n",
              "Name: sexe, dtype: int64"
            ]
          },
          "metadata": {},
          "execution_count": 31
        }
      ]
    },
    {
      "cell_type": "code",
      "source": [
        "# Plot histogram for age\n",
        "\n",
        "df[\"age\"].hist()"
      ],
      "metadata": {
        "colab": {
          "base_uri": "https://localhost:8080/",
          "height": 283
        },
        "id": "VBTebyZi4ynn",
        "outputId": "5281e062-7f27-4721-a3aa-b751686a1942"
      },
      "execution_count": 32,
      "outputs": [
        {
          "output_type": "execute_result",
          "data": {
            "text/plain": [
              "<matplotlib.axes._subplots.AxesSubplot at 0x7feb840358d0>"
            ]
          },
          "metadata": {},
          "execution_count": 32
        },
        {
          "output_type": "display_data",
          "data": {
            "text/plain": [
              "<Figure size 432x288 with 1 Axes>"
            ],
            "image/png": "[encoded data removed]"
          },
          "metadata": {
            "needs_background": "light"
          }
        }
      ]
    },
    {
      "cell_type": "code",
      "source": [
        "# Plot histogram for nb.mandats\n",
        "\n",
        "hist = df[\"nb_mandats\"].hist()"
      ],
      "metadata": {
        "colab": {
          "base_uri": "https://localhost:8080/",
          "height": 265
        },
        "id": "gDtDdMDQ5pSC",
        "outputId": "f7da4c68-2fd1-48eb-8dc5-bc475a06ab31"
      },
      "execution_count": 36,
      "outputs": [
        {
          "output_type": "display_data",
          "data": {
            "text/plain": [
              "<Figure size 432x288 with 1 Axes>"
            ],
            "image/png": "[encoded data removed]"
          },
          "metadata": {
            "needs_background": "light"
          }
        }
      ]
    },
    {
      "cell_type": "code",
      "source": [
        "# Get number of majo\n",
        "\n",
        "df.majo.value_counts()"
      ],
      "metadata": {
        "colab": {
          "base_uri": "https://localhost:8080/"
        },
        "id": "HSYCV0-V527C",
        "outputId": "101a3a4d-eae5-4fa9-c122-6908627bdb68"
      },
      "execution_count": 34,
      "outputs": [
        {
          "output_type": "execute_result",
          "data": {
            "text/plain": [
              "True     21179\n",
              "False    11588\n",
              "Name: majo, dtype: int64"
            ]
          },
          "metadata": {},
          "execution_count": 34
        }
      ]
    },
    {
      "cell_type": "code",
      "source": [
        ""
      ],
      "metadata": {
        "id": "UFtFA55HgFmH"
      },
      "execution_count": null,
      "outputs": []
    }
  ]
}