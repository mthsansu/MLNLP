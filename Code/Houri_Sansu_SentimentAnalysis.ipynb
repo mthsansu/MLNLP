{
  "nbformat": 4,
  "nbformat_minor": 0,
  "metadata": {
    "colab": {
      "name": "Untitled0.ipynb",
      "provenance": [],
      "authorship_tag": "ABX9TyMa8on5CaE+qjAmfjmFKIFz",
      "include_colab_link": true
    },
    "kernelspec": {
      "name": "python3",
      "display_name": "Python 3"
    },
    "language_info": {
      "name": "python"
    }
  },
  "cells": [
    {
      "cell_type": "markdown",
      "metadata": {
        "id": "view-in-github",
        "colab_type": "text"
      },
      "source": [
        "<a href=\"https://colab.research.google.com/github/mthsansu/MLNLP/blob/main/Code/Houri_Sansu_SentimentAnalysis.ipynb\" target=\"_parent\"><img src=\"https://colab.research.google.com/assets/colab-badge.svg\" alt=\"Open In Colab\"/></a>"
      ]
    },
    {
      "cell_type": "markdown",
      "source": [
        "<h1><center><strong><font color=\"chillipepper\">Parlementarian Sentiment Analysis</font></strong></center></h1>\n",
        "<h5><center><font color=\"green\">Machine learning for Natural Language Processing <h3><center>\n",
        "\n",
        "\n",
        "<center>\n",
        "Yasmine Houri, Mathis Sansu  \n",
        "\n",
        "\n",
        "Lab supervisor: Roman Castagne  \n",
        "\n",
        "ENSAE 2022\n",
        "</center>"
      ],
      "metadata": {
        "id": "Dp_aO2Mxj6MI"
      }
    },
    {
      "cell_type": "markdown",
      "metadata": {
        "jp-MarkdownHeadingCollapsed": true,
        "tags": [],
        "id": "Pdo3ZXmVjonb"
      },
      "source": [
        "## Packages"
      ]
    },
    {
      "cell_type": "code",
      "source": [
        "!pip install datasets\n",
        "!pip install transformers\n",
        "!pip install sentencepiece\n",
        "!pip install keras\n",
        "!pip install tensorflow\n",
        "!pip3 install torch==1.8.1+cu111 torchvision==0.9.1+cu111 torchaudio==0.8.1 -f https://download.pytorch.org/whl/torch_stable.html"
      ],
      "metadata": {
        "id": "XjcH-I9fTp8c"
      },
      "execution_count": null,
      "outputs": []
    },
    {
      "cell_type": "code",
      "execution_count": null,
      "metadata": {
        "id": "-xXi2mZtjonm",
        "colab": {
          "base_uri": "https://localhost:8080/"
        },
        "outputId": "95ec6f69-0143-42f9-a7ab-038cb2d0b496"
      },
      "outputs": [
        {
          "output_type": "stream",
          "name": "stdout",
          "text": [
            "[nltk_data] Downloading package stopwords to /root/nltk_data...\n",
            "[nltk_data]   Unzipping corpora/stopwords.zip.\n"
          ]
        }
      ],
      "source": [
        "# Import packages used in the descriptive analysis\n",
        "import pandas as pd\n",
        "import numpy as np\n",
        "import matplotlib.pyplot as plt\n",
        "from matplotlib.pyplot import figure\n",
        "import re\n",
        "import datetime as dt\n",
        "import nltk\n",
        "from nltk.tokenize import TreebankWordTokenizer, TweetTokenizer\n",
        "nltk.download('stopwords')\n",
        "from nltk.corpus import stopwords\n",
        "from nltk.util import ngrams\n",
        "import sklearn\n",
        "from sklearn.feature_extraction.text import CountVectorizer\n",
        "from sklearn.model_selection import train_test_split\n",
        "from collections import Counter\n",
        "import seaborn as sns\n",
        "import string\n",
        "\n",
        "# Import packages for the baseline model\n",
        "import torch\n",
        "import datasets\n",
        "from datasets import load_dataset\n",
        "from tqdm import tqdm\n",
        "import torchtext\n",
        "from termcolor import colored\n",
        "import torch\n",
        "import torch.nn as nn\n",
        "import torch.nn.functional as F\n",
        "\n",
        "# Import packages for the task-specific model\n",
        "import os\n",
        "import time\n",
        "import datetime\n",
        "import random\n",
        "# from tqdm.auto import tqdm\n",
        "from scipy.special import softmax\n",
        "from nltk.tokenize import sent_tokenize\n",
        "from sklearn.metrics import classification_report,precision_recall_fscore_support, confusion_matrix\n",
        "from torch.utils.data import TensorDataset, DataLoader, RandomSampler, SequentialSampler\n",
        "from keras.preprocessing.sequence import pad_sequences\n",
        "from transformers import CamembertTokenizer, CamembertConfig,\\\n",
        "                         AdamW, get_linear_schedule_with_warmup,\\\n",
        "                         WEIGHTS_NAME, CONFIG_NAME\n",
        "from transformers import CamembertForSequenceClassification\n",
        "from sklearn.metrics import classification_report, confusion_matrix, roc_curve, auc, plot_roc_curve\n",
        "import matplotlib.pyplot as plt\n",
        "import seaborn as sn"
      ]
    },
    {
      "cell_type": "markdown",
      "metadata": {
        "jp-MarkdownHeadingCollapsed": true,
        "tags": [],
        "id": "q3jltu6gjono"
      },
      "source": [
        "## Data"
      ]
    },
    {
      "cell_type": "code",
      "execution_count": null,
      "metadata": {
        "id": "pPBz7Qwnjonp"
      },
      "outputs": [],
      "source": [
        "# List of the datasets on which we will apply the operationns\n",
        "list_data = ['Tweets_sample_confinement.csv', 'Tweets_sample_benalla.csv', 'Tweets_sample_CDM.csv']"
      ]
    },
    {
      "cell_type": "code",
      "execution_count": null,
      "metadata": {
        "id": "2xvNiTBCqAUW"
      },
      "outputs": [],
      "source": [
        "# Import data\n",
        "git_url = \"https://raw.githubusercontent.com/mthsansu/MLNLP/main/Data/\"\n",
        "df = pd.read_csv(git_url + 'Tweets_sample_confinement.csv', index_col=0, engine='python')\n",
        "# df = pd.read_csv(git_url + 'Tweets_sample_CDM.csv', index_col=0, engine='python')\n",
        "# df = pd.read_csv(git_url + 'Tweets_sample_benalla.csv', index_col=0, engine='python')"
      ]
    },
    {
      "cell_type": "code",
      "execution_count": null,
      "metadata": {
        "id": "7kgqq-aFGuj4"
      },
      "outputs": [],
      "source": [
        "# Create a date variable\n",
        "df['date'] = df['created_at'].str[:10]\n",
        "df['date'] = pd.to_datetime(df['date'])"
      ]
    },
    {
      "cell_type": "code",
      "execution_count": null,
      "metadata": {
        "id": "1LvE3es7qwI9"
      },
      "outputs": [],
      "source": [
        "# # Restreindre pour CDM\n",
        "# mask = (df['date'] >= '2018-07-10') & (df['date'] <= '2018-07-20')\n",
        "# df = df.loc[mask]\n",
        "# df[\"date\"].describe()"
      ]
    },
    {
      "cell_type": "code",
      "source": [
        "# # Restreindre pour Benalla\n",
        "# mask = (df['date'] >= '2018-05-01') & (df['date'] <= '2018-05-15')\n",
        "# df = df.loc[mask]\n",
        "# df[\"date\"].describe()"
      ],
      "metadata": {
        "id": "QYOQOHH4xgyy"
      },
      "execution_count": null,
      "outputs": []
    },
    {
      "cell_type": "markdown",
      "source": [
        "# <h1><center><strong><font color=\"chillipepper\">Descriptive statistics</font></strong></center></h1>"
      ],
      "metadata": {
        "id": "mIPx5ZQbSGY2"
      }
    },
    {
      "cell_type": "markdown",
      "metadata": {
        "jp-MarkdownHeadingCollapsed": true,
        "tags": [],
        "id": "IDLn8-_ojon_"
      },
      "source": [
        "## Word-level preprocessing"
      ]
    },
    {
      "cell_type": "code",
      "execution_count": null,
      "metadata": {
        "colab": {
          "base_uri": "https://localhost:8080/"
        },
        "id": "-xmuJbSIjooA",
        "outputId": "cbb08351-72d6-44a0-e296-6e34ab326880"
      },
      "outputs": [
        {
          "output_type": "stream",
          "name": "stdout",
          "text": [
            "147234 \"words\" in total for this dataset\n"
          ]
        }
      ],
      "source": [
        "# List of words with separator = \" \"\n",
        "list_words = df.text.apply(lambda x: x.split(' ')).array\n",
        "# Flattening to a single list\n",
        "list_words = [x for X in list_words for x in X]\n",
        "# Render the number of distinct words in the dataset\n",
        "print('%s \"words\" in total for this dataset' % (len(set(list_words))))"
      ]
    },
    {
      "cell_type": "code",
      "source": [
        "# Usage of Phrases and Phraser from gensim\n",
        "import nltk\n",
        "from gensim.models.phrases import Phrases, Phraser\n",
        "from nltk.tokenize import TreebankWordTokenizer, TweetTokenizer\n",
        "nltk.download('punkt')\n",
        "sent_detector = nltk.data.load('tokenizers/punkt/english.pickle')\n"
      ],
      "metadata": {
        "colab": {
          "base_uri": "https://localhost:8080/"
        },
        "id": "TzvhMwattf6p",
        "outputId": "97419668-dcbb-431d-8db5-e9e692b2a3e2"
      },
      "execution_count": null,
      "outputs": [
        {
          "output_type": "stream",
          "name": "stdout",
          "text": [
            "[nltk_data] Downloading package punkt to /root/nltk_data...\n",
            "[nltk_data]   Unzipping tokenizers/punkt.zip.\n"
          ]
        }
      ]
    },
    {
      "cell_type": "code",
      "execution_count": null,
      "metadata": {
        "id": "2iwJpumMjooA"
      },
      "outputs": [],
      "source": [
        "def clean(text): # Parameter will be a text, here a tweet\n",
        "    text = re.sub(\"@\",\"\", text) # Removing the \"@\" from mention\n",
        "    text = re.sub(r'http\\S+', '', text) # Removing url links\n",
        "    text = text.replace('\\n',' ') # Removing new line\n",
        "    text = text.replace('\\r',' ') # Removing new line\n",
        "    text = re.sub('#', '', text) # Removing hash\n",
        "    emoji_pattern = re.compile(\"[\"\n",
        "        u\"\\U0001F600-\\U0001F64F\"  # emoticons\n",
        "        u\"\\U0001F300-\\U0001F5FF\"  # symbols & pictographs\n",
        "        u\"\\U0001F680-\\U0001F6FF\"  # transport & map symbols\n",
        "        u\"\\U0001F1E0-\\U0001F1FF\"  # flags (iOS)\n",
        "        u\"\\U00002500-\\U00002BEF\"  # chinese char\n",
        "        u\"\\U00002702-\\U000027B0\"\n",
        "        u\"\\U00002702-\\U000027B0\"\n",
        "        u\"\\U000024C2-\\U0001F251\"\n",
        "        u\"\\U0001f926-\\U0001f937\"\n",
        "        u\"\\U00010000-\\U0010ffff\"\n",
        "        u\"\\u2640-\\u2642\" \n",
        "        u\"\\u2600-\\u2B55\"\n",
        "        u\"\\u200d\"\n",
        "        u\"\\u23cf\"\n",
        "        u\"\\u23e9\"\n",
        "        u\"\\u231a\"\n",
        "        u\"\\ufe0f\"  # dingbats\n",
        "        u\"\\u3030\"\n",
        "                      \"]+\", flags=re.UNICODE)\n",
        "    text = emoji_pattern.sub(r'', text) # remove emoji\n",
        "    a = re.compile('<U(.*?)>') # other missing emoji_pattern\n",
        "    text = a.sub(r'', text) # remove these remaining emoji\n",
        "    text = re.sub(' +', ' ', text) # Remove additional spaces\n",
        "    return text # The output is the cleaned text"
      ]
    },
    {
      "cell_type": "code",
      "execution_count": null,
      "metadata": {
        "colab": {
          "base_uri": "https://localhost:8080/"
        },
        "id": "fQi2QyQejooB",
        "outputId": "c4e5b842-bda0-45cc-a04b-3ae5d0d8b079"
      },
      "outputs": [
        {
          "output_type": "stream",
          "name": "stdout",
          "text": [
            "81039 cleaned \"words\" in total for this dataset\n"
          ]
        }
      ],
      "source": [
        "# List of cleaned words\n",
        "list_words_2 = df.text_clean.apply(lambda x: x.split(' ')).array\n",
        "list_words_2 = [x for X in list_words_2 for x in X]\n",
        "print('%s cleaned \"words\" in total for this dataset' % (len(set(list_words_2))))"
      ]
    },
    {
      "cell_type": "code",
      "execution_count": null,
      "metadata": {
        "colab": {
          "base_uri": "https://localhost:8080/"
        },
        "id": "WOwngbBkjooB",
        "outputId": "e3e4ffec-534d-45a6-91d4-eb33a34462e5"
      },
      "outputs": [
        {
          "output_type": "stream",
          "name": "stdout",
          "text": [
            "92561 tokens in total for this dataset\n"
          ]
        }
      ],
      "source": [
        "# List of tokens\n",
        "list_tokens_1 = df.text.apply(lambda x: TweetTokenizer().tokenize(x)).array\n",
        "list_tokens_1 = [x for X in list_tokens_1 for x in X]\n",
        "print('%s tokens in total for this dataset' % (len(set(list_tokens_1))))"
      ]
    },
    {
      "cell_type": "code",
      "execution_count": null,
      "metadata": {
        "colab": {
          "base_uri": "https://localhost:8080/"
        },
        "id": "g5M5CN6bjooC",
        "outputId": "779433c3-93cb-4f9e-ca46-b7a6ba8b508a"
      },
      "outputs": [
        {
          "output_type": "stream",
          "name": "stdout",
          "text": [
            "45314 \"cleaned\" tokens in total for this dataset\n"
          ]
        }
      ],
      "source": [
        "# List of tokens\n",
        "list_tokens_2 = df.text_clean.apply(lambda x: TweetTokenizer().tokenize(x)).array\n",
        "list_tokens_2 = [x for X in list_tokens_2 for x in X]\n",
        "print('%s \"cleaned\" tokens in total for this dataset' % (len(set(list_tokens_2))))"
      ]
    },
    {
      "cell_type": "markdown",
      "metadata": {
        "jp-MarkdownHeadingCollapsed": true,
        "tags": [],
        "id": "89s3VD8Ajonu"
      },
      "source": [
        "## First statistics on the complete set of data"
      ]
    },
    {
      "cell_type": "code",
      "execution_count": null,
      "metadata": {
        "colab": {
          "base_uri": "https://localhost:8080/"
        },
        "id": "H-jchZQBA_6s",
        "outputId": "f6b489cb-b324-4e95-9b78-99fbb936676a"
      },
      "outputs": [
        {
          "output_type": "stream",
          "name": "stdout",
          "text": [
            "32767 tweets in total\n"
          ]
        }
      ],
      "source": [
        "# Number of different tweets in the database\n",
        "print(len(df.id.unique()),\"tweets in total\")"
      ]
    },
    {
      "cell_type": "code",
      "execution_count": null,
      "metadata": {
        "colab": {
          "base_uri": "https://localhost:8080/"
        },
        "id": "UBkF9-XPGzzs",
        "outputId": "3f816cd2-1f1e-4d2a-c1bf-0ac3e6fc90f3"
      },
      "outputs": [
        {
          "output_type": "stream",
          "name": "stdout",
          "text": [
            "487 distinct authors\n"
          ]
        }
      ],
      "source": [
        "# Number of different MPs in the database\n",
        "print(len(df.author_id.unique()),\"distinct authors\")"
      ]
    },
    {
      "cell_type": "code",
      "execution_count": null,
      "metadata": {
        "colab": {
          "base_uri": "https://localhost:8080/"
        },
        "id": "ZCr0UA2EgmSV",
        "outputId": "f3b3a618-af0d-4f86-cfc3-2a0409431b93"
      },
      "outputs": [
        {
          "output_type": "stream",
          "name": "stdout",
          "text": [
            "Distribution of tweets considered as possibly sensitive \n",
            " False    32552\n",
            "True       215\n",
            "Name: possibly_sensitive, dtype: int64\n"
          ]
        }
      ],
      "source": [
        "# Distribution of tweets considered as possibly sensitive\n",
        "print(\"Distribution of tweets considered as possibly sensitive \\n\", df.possibly_sensitive.value_counts())"
      ]
    },
    {
      "cell_type": "code",
      "execution_count": null,
      "metadata": {
        "colab": {
          "base_uri": "https://localhost:8080/"
        },
        "id": "_TelmeZpFvOa",
        "outputId": "184d4285-6337-4856-bf0f-1bc3df305042"
      },
      "outputs": [
        {
          "output_type": "display_data",
          "data": {
            "text/plain": [
              "<Figure size 1080x504 with 1 Axes>"
            ],
            "image/png": "[encoded data removed]"
          },
          "metadata": {
            "needs_background": "light"
          }
        }
      ],
      "source": [
        "# Plot the number of tweets per date\n",
        "x = df.date.value_counts().index # Get the date as x-axis\n",
        "y = df.date.value_counts() # Get the number of tweets per date as y-axis\n",
        "figure(figsize=(15, 7))\n",
        "plt.title('Number of tweets per date')\n",
        "plt.plot_date(x, y, xdate=True)\n",
        "plt.show() # Plot the graph"
      ]
    },
    {
      "cell_type": "code",
      "execution_count": null,
      "metadata": {
        "colab": {
          "base_uri": "https://localhost:8080/"
        },
        "id": "GQUj3HmQjon0",
        "outputId": "47e99bdf-551f-46cc-80d1-e79617151de1"
      },
      "outputs": [
        {
          "output_type": "stream",
          "name": "stdout",
          "text": [
            "Number of tweets done by MPs age:\n"
          ]
        },
        {
          "output_type": "execute_result",
          "data": {
            "text/plain": [
              "<matplotlib.axes._subplots.AxesSubplot at 0x7fcf618ce7d0>"
            ]
          },
          "metadata": {},
          "execution_count": 17
        },
        {
          "output_type": "display_data",
          "data": {
            "text/plain": [
              "<Figure size 432x288 with 1 Axes>"
            ],
            "image/png": "[encoded data removed]"
          },
          "metadata": {
            "needs_background": "light"
          }
        }
      ],
      "source": [
        "print(\"Number of tweets done by MPs age:\")\n",
        "df.age.hist(bins=15)"
      ]
    },
    {
      "cell_type": "code",
      "execution_count": null,
      "metadata": {
        "colab": {
          "base_uri": "https://localhost:8080/"
        },
        "id": "ryMvEdLrc9ae",
        "outputId": "9f5f6733-93be-4def-88ea-3cdd6b66b7fb"
      },
      "outputs": [
        {
          "output_type": "stream",
          "name": "stdout",
          "text": [
            "Number of tweets done by political group:\n"
          ]
        },
        {
          "output_type": "execute_result",
          "data": {
            "text/plain": [
              "<matplotlib.axes._subplots.AxesSubplot at 0x7fcf66e36e50>"
            ]
          },
          "metadata": {},
          "execution_count": 18
        },
        {
          "output_type": "display_data",
          "data": {
            "text/plain": [
              "<Figure size 432x288 with 1 Axes>"
            ],
            "image/png": "[encoded data removed]"
          },
          "metadata": {
            "needs_background": "light"
          }
        }
      ],
      "source": [
        "print(\"Number of tweets done by political group:\")\n",
        "df.groupe_sigle.hist()"
      ]
    },
    {
      "cell_type": "code",
      "execution_count": null,
      "metadata": {
        "colab": {
          "base_uri": "https://localhost:8080/"
        },
        "id": "rpZkegTs4bOM",
        "outputId": "e1e5c967-6e79-4b79-b1cf-32c855564eb8"
      },
      "outputs": [
        {
          "output_type": "stream",
          "name": "stdout",
          "text": [
            "Distribution of tweets by gender \n",
            " M    19966\n",
            "F    12801\n",
            "Name: sexe, dtype: int64\n"
          ]
        }
      ],
      "source": [
        "print(\"Distribution of tweets by gender \\n\", df.sexe.value_counts())"
      ]
    },
    {
      "cell_type": "code",
      "execution_count": null,
      "metadata": {
        "colab": {
          "base_uri": "https://localhost:8080/"
        },
        "id": "gDtDdMDQ5pSC",
        "outputId": "7aa3da65-eadf-45fb-9197-e92aec56bfa2"
      },
      "outputs": [
        {
          "output_type": "stream",
          "name": "stdout",
          "text": [
            "Distribution of tweets by number of mandates \n",
            " 1    24594\n",
            "2     7576\n",
            "3      597\n",
            "Name: nb_mandats, dtype: int64\n"
          ]
        }
      ],
      "source": [
        "print(\"Distribution of tweets by number of mandates \\n\", df.nb_mandats.value_counts())"
      ]
    },
    {
      "cell_type": "code",
      "execution_count": null,
      "metadata": {
        "colab": {
          "base_uri": "https://localhost:8080/"
        },
        "id": "HSYCV0-V527C",
        "outputId": "e00fbac2-9f72-4554-9d02-97cf3af14889"
      },
      "outputs": [
        {
          "output_type": "stream",
          "name": "stdout",
          "text": [
            "Distribution of tweets according to majority belonging \n",
            " True     21179\n",
            "False    11588\n",
            "Name: majo, dtype: int64\n"
          ]
        }
      ],
      "source": [
        "print(\"Distribution of tweets according to majority belonging \\n\", df.majo.value_counts())"
      ]
    },
    {
      "cell_type": "markdown",
      "metadata": {
        "id": "UFtFA55HgFmH",
        "jp-MarkdownHeadingCollapsed": true,
        "tags": []
      },
      "source": [
        "## Some statistics on tweets themselves"
      ]
    },
    {
      "cell_type": "code",
      "execution_count": null,
      "metadata": {
        "colab": {
          "base_uri": "https://localhost:8080/"
        },
        "id": "GHYvZm7Xjon4",
        "outputId": "75f32e70-c468-4908-a7c2-870255568235"
      },
      "outputs": [
        {
          "output_type": "stream",
          "name": "stdout",
          "text": [
            "Mean length of tweets in characters: 255.04104739524522\n"
          ]
        }
      ],
      "source": [
        "# Mean length of tweets in characters\n",
        "print(\"Mean length of tweets in characters:\",df.text.apply(len).mean())"
      ]
    },
    {
      "cell_type": "code",
      "execution_count": null,
      "metadata": {
        "id": "sxONDUxLjon5"
      },
      "outputs": [],
      "source": [
        "# Number of \"words\": we split by a space(naive approach)\n",
        "df['words_len'] = df.text_clean.apply(lambda x: len(x.split(' ')) )"
      ]
    },
    {
      "cell_type": "code",
      "source": [
        "# Mean length of tweets in characters\n",
        "print(\"Mean length of tweets in characters:\",df.words_len.mean())"
      ],
      "metadata": {
        "colab": {
          "base_uri": "https://localhost:8080/"
        },
        "id": "h84WPtlBn_Rb",
        "outputId": "94556a1f-5009-4fcf-97df-9bb379c9db96"
      },
      "execution_count": null,
      "outputs": [
        {
          "output_type": "stream",
          "name": "stdout",
          "text": [
            "Mean length of tweets in characters: 32.64015625476852\n"
          ]
        }
      ]
    },
    {
      "cell_type": "code",
      "execution_count": null,
      "metadata": {
        "colab": {
          "base_uri": "https://localhost:8080/",
          "height": 282
        },
        "id": "-6cwLkg9jon6",
        "outputId": "ab564ef4-521c-424d-c05e-8304dbe48c5a"
      },
      "outputs": [
        {
          "output_type": "execute_result",
          "data": {
            "text/plain": [
              "<matplotlib.axes._subplots.AxesSubplot at 0x7fcf6599ab50>"
            ]
          },
          "metadata": {},
          "execution_count": 25
        },
        {
          "output_type": "display_data",
          "data": {
            "text/plain": [
              "<Figure size 432x288 with 1 Axes>"
            ],
            "image/png": "[encoded data removed]"
          },
          "metadata": {
            "needs_background": "light"
          }
        }
      ],
      "source": [
        "# Distribution of tweets according to length in words\n",
        "df.words_len.hist(bins=15)"
      ]
    },
    {
      "cell_type": "code",
      "source": [
        "# Storing the average word length for each tweet\n",
        "df[\"chr_len_words\"] = df['text_clean'].str.split(' |-').\\\n",
        "   apply(lambda x : [len(i) for i in x]). \\\n",
        "   map(lambda x: np.mean(x))"
      ],
      "metadata": {
        "id": "vpE7bCNlycoR"
      },
      "execution_count": null,
      "outputs": []
    },
    {
      "cell_type": "code",
      "source": [
        "# Distribution of tweets according to average words length in number of characters\n",
        "df.chr_len_words.hist()"
      ],
      "metadata": {
        "colab": {
          "base_uri": "https://localhost:8080/",
          "height": 282
        },
        "id": "F7Jt3tJ32tF2",
        "outputId": "36dad781-ce6e-4731-ea32-8c9034fa2b0f"
      },
      "execution_count": null,
      "outputs": [
        {
          "output_type": "execute_result",
          "data": {
            "text/plain": [
              "<matplotlib.axes._subplots.AxesSubplot at 0x7fcf5f7cf1d0>"
            ]
          },
          "metadata": {},
          "execution_count": 27
        },
        {
          "output_type": "display_data",
          "data": {
            "text/plain": [
              "<Figure size 432x288 with 1 Axes>"
            ],
            "image/png": "[encoded data removed]"
          },
          "metadata": {
            "needs_background": "light"
          }
        }
      ]
    },
    {
      "cell_type": "code",
      "source": [
        "# Analysis of stopwords\n",
        "# Code taken from: https://app.neptune.ai/neptune-ai/eda-nlp-tools/n/1-3-top-stopwords-barchart-b953763c-3fea-4331-bff0-429411793e5f/5c0fca05-ba07-4564-a02e-c44b08bfb8cb\n",
        "\n",
        "stop=set(stopwords.words('french'))\n",
        "\n",
        "def plot_top_stopwords_barchart(text):\n",
        "    \n",
        "  new= df.text_clean.str.split()\n",
        "  new=new.values.tolist()\n",
        "  corpus=[word for i in new for word in i]\n",
        "  from collections import defaultdict\n",
        "  dic=defaultdict(int)\n",
        "  for word in corpus:\n",
        "      if word in stop:\n",
        "          dic[word]+=1\n",
        "          \n",
        "  top=sorted(dic.items(), key=lambda x:x[1],reverse=True)[:10] \n",
        "  x,y=zip(*top)\n",
        "  plt.bar(x,y)\n",
        "\n",
        "plot_top_stopwords_barchart(df[\"text_clean\"])"
      ],
      "metadata": {
        "colab": {
          "base_uri": "https://localhost:8080/",
          "height": 265
        },
        "id": "je6vQxda3hGf",
        "outputId": "e21be342-1b4d-44fb-a55f-6d20c62254c7"
      },
      "execution_count": null,
      "outputs": [
        {
          "output_type": "display_data",
          "data": {
            "text/plain": [
              "<Figure size 432x288 with 1 Axes>"
            ],
            "image/png": "[encoded data removed]"
          },
          "metadata": {
            "needs_background": "light"
          }
        }
      ]
    },
    {
      "cell_type": "code",
      "source": [
        "# Most frequent words\n",
        "\n",
        "corpus=[]\n",
        "new= df.text_clean.str.split()\n",
        "new=new.values.tolist()\n",
        "corpus=[word for i in new for word in i]\n",
        "\n",
        "counter=Counter(corpus)\n",
        "most=counter.most_common()\n",
        "\n",
        "x, y= [], []\n",
        "for word,count in most[:80]:\n",
        "    if (word.lower() not in stop):\n",
        "      if (word.lower() not in list(string.punctuation)):\n",
        "        x.append(word)\n",
        "        y.append(count)\n",
        "        \n",
        "sns.barplot(x=y,y=x)"
      ],
      "metadata": {
        "id": "VCf7u9fM4xlJ",
        "outputId": "78c2f21c-a2d3-44af-ad29-ffa98de5d769",
        "colab": {
          "base_uri": "https://localhost:8080/",
          "height": 282
        }
      },
      "execution_count": null,
      "outputs": [
        {
          "output_type": "execute_result",
          "data": {
            "text/plain": [
              "<matplotlib.axes._subplots.AxesSubplot at 0x7fcf66b91190>"
            ]
          },
          "metadata": {},
          "execution_count": 29
        },
        {
          "output_type": "display_data",
          "data": {
            "text/plain": [
              "<Figure size 432x288 with 1 Axes>"
            ],
            "image/png": "[encoded data removed]"
          },
          "metadata": {
            "needs_background": "light"
          }
        }
      ]
    },
    {
      "cell_type": "code",
      "source": [
        "# Tri-gram exploration\n",
        "# Code taken from: https://app.neptune.ai/neptune-ai/eda-nlp-tools/n/2-0-top-ngrams-barchart-671a187d-c3b4-475a-bc9e-8aa6c937923b/c427446f-7b0e-4621-b791-47b0fd31a39e\n",
        "\n",
        "def plot_top_ngrams_barchart(text, n=2):\n",
        "\n",
        "    def _get_top_ngram(corpus, n=None):\n",
        "        vec = CountVectorizer(ngram_range=(n, n)).fit(corpus)\n",
        "        bag_of_words = vec.transform(corpus)\n",
        "        sum_words = bag_of_words.sum(axis=0) \n",
        "        words_freq = [(word, sum_words[0, idx]) \n",
        "                      for word, idx in vec.vocabulary_.items()]\n",
        "        words_freq =sorted(words_freq, key = lambda x: x[1], reverse=True)\n",
        "        return words_freq[:10]\n",
        "\n",
        "    top_n_bigrams=_get_top_ngram(text,n)[:10]\n",
        "    x,y=map(list,zip(*top_n_bigrams))\n",
        "    sns.barplot(x=y,y=x)\n",
        "\n",
        "\n",
        "plot_top_ngrams_barchart(df['text_clean'],3)"
      ],
      "metadata": {
        "id": "cbOW8MYA8Jim",
        "outputId": "8b257ed7-1a50-4aeb-8581-bf1b9f3f1bc7",
        "colab": {
          "base_uri": "https://localhost:8080/",
          "height": 265
        }
      },
      "execution_count": null,
      "outputs": [
        {
          "output_type": "display_data",
          "data": {
            "text/plain": [
              "<Figure size 432x288 with 1 Axes>"
            ],
            "image/png": "[encoded data removed]"
          },
          "metadata": {
            "needs_background": "light"
          }
        }
      ]
    },
    {
      "cell_type": "code",
      "source": [
        "from wordcloud import WordCloud, STOPWORDS\n",
        "stopwords = stop\n",
        "\n",
        "def show_wordcloud(data):\n",
        "    wordcloud = WordCloud(\n",
        "        background_color='white',\n",
        "        stopwords=stopwords,\n",
        "        max_words=100,\n",
        "        max_font_size=30,\n",
        "        scale=3,\n",
        "        random_state=1)\n",
        "   \n",
        "    text = ' '.join(data)\n",
        "    wordcloud=wordcloud.generate(text)\n",
        "\n",
        "    fig = plt.figure(1, figsize=(12, 12))\n",
        "    plt.axis('off')\n",
        "\n",
        "    plt.imshow(wordcloud)\n",
        "    plt.show()\n",
        "\n",
        "show_wordcloud(corpus)"
      ],
      "metadata": {
        "id": "NM6rWzKEMc0e",
        "outputId": "a3aac811-0223-4b4c-c7b8-78df1952eae6",
        "colab": {
          "base_uri": "https://localhost:8080/",
          "height": 366
        }
      },
      "execution_count": null,
      "outputs": [
        {
          "output_type": "display_data",
          "data": {
            "text/plain": [
              "<Figure size 864x864 with 1 Axes>"
            ],
            "image/png": "[encoded data removed]"
          },
          "metadata": {
            "needs_background": "light"
          }
        }
      ]
    },
    {
      "cell_type": "markdown",
      "source": [
        "# <h1><center><strong><font color=\"chillipepper\">Sequence Classification</font></strong></center></h1>\n",
        "<h3><center><font color=\"green\"><strong>Baseline Model</strong></font></center></h3>"
      ],
      "metadata": {
        "id": "w32qJeMmfggx"
      }
    },
    {
      "cell_type": "markdown",
      "source": [
        "## <font color=\"chillipepper\">Data</font>"
      ],
      "metadata": {
        "id": "EJYjSTMi93du"
      }
    },
    {
      "cell_type": "markdown",
      "source": [
        "**Import the annotated data**"
      ],
      "metadata": {
        "id": "cAZ1hkTigLju"
      }
    },
    {
      "cell_type": "code",
      "execution_count": null,
      "metadata": {
        "id": "CORVZbYGJvuf"
      },
      "outputs": [],
      "source": [
        "# Import data\n",
        "git_url = \"https://raw.githubusercontent.com/mthsansu/MLNLP/main/Data/\"\n",
        "df = pd.read_csv(git_url + 'df_baseline.csv', index_col =0)"
      ]
    },
    {
      "cell_type": "code",
      "source": [
        "df[\"text\"] = df[\"text\"].apply(lambda x: clean(x))"
      ],
      "metadata": {
        "id": "6wjKHkgz5F58"
      },
      "execution_count": null,
      "outputs": []
    },
    {
      "cell_type": "code",
      "execution_count": null,
      "metadata": {
        "id": "GAJRPLGkKk1I"
      },
      "outputs": [],
      "source": [
        "df = df.rename(columns={'Label': 'label'})"
      ]
    },
    {
      "cell_type": "markdown",
      "source": [
        "**Prepare the data for machine learning tasks**"
      ],
      "metadata": {
        "id": "2ydamjoD99Rr"
      }
    },
    {
      "cell_type": "code",
      "source": [
        "# Randomly split the data into train, test and validation sets using numpy\n",
        "train, validate, test = \\\n",
        "              np.split(df.sample(frac=1, random_state=42), \n",
        "                       [int(.6*len(df)), int(.8*len(df))])"
      ],
      "metadata": {
        "id": "WJ-qcV108Fj3"
      },
      "execution_count": null,
      "outputs": []
    },
    {
      "cell_type": "code",
      "execution_count": null,
      "metadata": {
        "id": "KwKatHK-KQeK"
      },
      "outputs": [],
      "source": [
        "import pyarrow as pa\n",
        "import pyarrow.dataset as ds\n",
        "from datasets import Dataset\n",
        "\n",
        "### convert to Huggingface dataset\n",
        "train_dataset = Dataset(pa.Table.from_pandas(train))\n",
        "test_dataset = Dataset(pa.Table.from_pandas(test))\n",
        "val_dataset = Dataset(pa.Table.from_pandas(validate))"
      ]
    },
    {
      "cell_type": "markdown",
      "source": [
        "## <font color=\"chillipepper\">Pre-trained Embeddings</font>"
      ],
      "metadata": {
        "id": "GPqTAuG6ggWu"
      }
    },
    {
      "cell_type": "markdown",
      "source": [
        "**First NLP tasks**"
      ],
      "metadata": {
        "id": "8rtWfL1U-o0G"
      }
    },
    {
      "cell_type": "code",
      "execution_count": null,
      "metadata": {
        "id": "0g1ZMtPULNhI",
        "colab": {
          "base_uri": "https://localhost:8080/"
        },
        "outputId": "2f4c8daa-1b14-4f47-dfb3-04149a7e25ae"
      },
      "outputs": [
        {
          "output_type": "stream",
          "name": "stderr",
          "text": [
            ".vector_cache/wiki.fr.vec: 3.03GB [01:30, 33.4MB/s]                            \n",
            "  0%|          | 0/1152449 [00:00<?, ?it/s]Skipping token b'1152449' with 1-dimensional vector [b'300']; likely a header\n",
            "100%|██████████| 1152449/1152449 [02:40<00:00, 7170.70it/s]\n"
          ]
        }
      ],
      "source": [
        "# Run only once: several min long\n",
        "# Import fasttext vectors through torch text (it will download it only once)\n",
        "from torchtext.vocab import vocab, FastText\n",
        "\n",
        "pretrained_vectors = FastText(language='fr')"
      ]
    },
    {
      "cell_type": "code",
      "execution_count": null,
      "metadata": {
        "colab": {
          "base_uri": "https://localhost:8080/"
        },
        "id": "E3ZFKJIQKbLT",
        "outputId": "a47ab8be-d30d-4731-bbbb-c4a14b74aa48"
      },
      "outputs": [
        {
          "output_type": "execute_result",
          "data": {
            "text/plain": [
              "torch.Size([1152450, 300])"
            ]
          },
          "metadata": {},
          "execution_count": 8
        }
      ],
      "source": [
        "pretrained_vocab = vocab(pretrained_vectors.stoi)\n",
        "unk_token = \"<unk>\"\n",
        "unk_index = 0\n",
        "pad_token = '<pad>'\n",
        "pad_index = 1\n",
        "pretrained_vocab.insert_token(\"<unk>\",unk_index)\n",
        "pretrained_vocab.insert_token(\"<pad>\", pad_index)\n",
        "#this is necessary otherwise it will throw runtime error if OOV token is queried \n",
        "pretrained_vocab.set_default_index(unk_index)\n",
        "pretrained_embeddings = pretrained_vectors.vectors\n",
        "pretrained_embeddings = torch.cat((torch.zeros(1,pretrained_embeddings.shape[1]),pretrained_embeddings))\n",
        "pretrained_embeddings.size()"
      ]
    },
    {
      "cell_type": "markdown",
      "source": [
        "## <font color=\"chillipepper\">Tokenization</font>"
      ],
      "metadata": {
        "id": "5xyEp4MGtCgk"
      }
    },
    {
      "cell_type": "code",
      "source": [
        "# Import nltk's TweetTokenizer to use it in the definition of our own tokenizer functions\n",
        "from nltk.tokenize import TweetTokenizer\n",
        "from tqdm.notebook import tqdm\n",
        "\n",
        "tok = TweetTokenizer()"
      ],
      "metadata": {
        "id": "vgwHlF0h-P_0"
      },
      "execution_count": null,
      "outputs": []
    },
    {
      "cell_type": "code",
      "execution_count": null,
      "metadata": {
        "id": "XHkXeFxGKsCV"
      },
      "outputs": [],
      "source": [
        "# This function will tokenize each tweet, standardize the string sizes using zero-padding, and numericalize each token to an index\n",
        "def tokenize_pad_numericalize(entry, vocab_stoi, max_length=20):\n",
        "  text = [ vocab_stoi[token] if token in vocab_stoi else vocab_stoi['<unk>'] for token in tok.tokenize(entry.lower())]\n",
        "  padded_text = None\n",
        "  if len(text) < max_length:   padded_text = text + [ vocab_stoi['<pad>'] for i in range(len(text), max_length) ] \n",
        "  elif len(text) > max_length: padded_text = text[:max_length]\n",
        "  else:                        padded_text = text\n",
        "  return padded_text\n",
        "\n",
        "# This function is a generalization of the function above, now applicable to multiple tweets at a time\n",
        "def tokenize_all(entries, vocab_stoi):\n",
        "  res = {}\n",
        "  res['text'] = [tokenize_pad_numericalize(entry, vocab_stoi, max_length=200) for entry in entries['text']]\n",
        "  return res"
      ]
    },
    {
      "cell_type": "code",
      "source": [
        "# Tokenize our three data subsets\n",
        "train_dataset = train_dataset.map(lambda e: tokenize_all(e, pretrained_vocab.get_stoi()), batched=True)\n",
        "test_dataset = test_dataset.map(lambda e: tokenize_all(e, pretrained_vocab.get_stoi()), batched=True)\n",
        "val_dataset = val_dataset.map(lambda e: tokenize_all(e, pretrained_vocab.get_stoi()), batched=True)"
      ],
      "metadata": {
        "colab": {
          "base_uri": "https://localhost:8080/",
          "height": 113,
          "referenced_widgets": [
            "615f83fa923b4ec99e200ed6d6196e11",
            "82e3f779a0bc47f786210dd245992c39",
            "2662c187f755462894a4e490aac46962",
            "92e0aa408da74d00b7eb303816d00ef2",
            "fa0359784c314aadbc57c20108357098",
            "7f7408cfdc4f40ab9e515c35609fd67d",
            "290365fcd0e2401ead8c2c9964364673",
            "011fe00ae9aa4f3d89769b4521601956",
            "b740775465bd45ae9465968636a72bbd",
            "074fc793853342aba2dc2a0cfdd8a627",
            "c4f23e2f6d674914bffbd6885f04d56f",
            "f2c89edc0a144a62afb70e908cf50c28",
            "57752b9cc2844ba4a5ee634eba3b2433",
            "e6111e8a30404660adb3a5946fbc3921",
            "c5bece84004c43efb0dfc116fab6c12b",
            "ed92ac8400f24676bd7c6d0f59f22ea5",
            "ce9f350b211348a38ff50fe76906dc2f",
            "c0cb0b11c2d14b7ab455ae77c2a14308",
            "93a02b312ba54bd08b620230f05f9870",
            "5715e06f5a554500bf7a093acf683846",
            "e4eac5ac12ab40f0852d75a57b60197b",
            "e9b0b06d8516435cb63ef270638705b2",
            "dc08cf0be3fb42cf9b28f7a82662e4fc",
            "e860c8c103964c8facca227b09aaf116",
            "88f9f152423f43fdac483c3da1e573f7",
            "54528ca63d8d44c6b2f4639200b4690b",
            "847438f308b74fbd992daf6cde4b719d",
            "adc14a198a15436da92a72af108436a5",
            "8cbf55cf39a14c26b9d2d18329892cf7",
            "67274a931f164bfeaa3564b518097054",
            "7ab87b06173544c99389b43b250df92a",
            "3099139e0aa04333b4283fb9a8c23a71",
            "03bd41eb8f1a4a758943903d459850e6"
          ]
        },
        "id": "qVENnmTvuGTM",
        "outputId": "c511c701-c155-40b8-b2b4-51f9c02cc5da"
      },
      "execution_count": null,
      "outputs": [
        {
          "output_type": "display_data",
          "data": {
            "text/plain": [
              "  0%|          | 0/1 [00:00<?, ?ba/s]"
            ],
            "application/vnd.jupyter.widget-view+json": {
              "version_major": 2,
              "version_minor": 0,
              "model_id": "615f83fa923b4ec99e200ed6d6196e11"
            }
          },
          "metadata": {}
        },
        {
          "output_type": "display_data",
          "data": {
            "text/plain": [
              "  0%|          | 0/1 [00:00<?, ?ba/s]"
            ],
            "application/vnd.jupyter.widget-view+json": {
              "version_major": 2,
              "version_minor": 0,
              "model_id": "f2c89edc0a144a62afb70e908cf50c28"
            }
          },
          "metadata": {}
        },
        {
          "output_type": "display_data",
          "data": {
            "text/plain": [
              "  0%|          | 0/1 [00:00<?, ?ba/s]"
            ],
            "application/vnd.jupyter.widget-view+json": {
              "version_major": 2,
              "version_minor": 0,
              "model_id": "dc08cf0be3fb42cf9b28f7a82662e4fc"
            }
          },
          "metadata": {}
        }
      ]
    },
    {
      "cell_type": "markdown",
      "source": [
        "## <font color=\"chillipepper\">Building of the model</font>"
      ],
      "metadata": {
        "id": "sgDYgQtkjd96"
      }
    },
    {
      "cell_type": "code",
      "execution_count": null,
      "metadata": {
        "id": "SXji2tSecdfn"
      },
      "outputs": [],
      "source": [
        "# Create the Dataset class\n",
        "\n",
        "from torch.utils.data import Dataset\n",
        "\n",
        "class TweetDataset(Dataset):\n",
        "    def __init__(self, data, args):\n",
        "      # args is a dict, a nice way to share the global arguments (even accross multiple files)\n",
        "      self.args = args\n",
        "      self.data = data\n",
        "\n",
        "    def __len__(self):\n",
        "      return len(self.data)\n",
        "    \n",
        "    def __getitem__(self, idx):\n",
        "      item = {\n",
        "          \"text\": np.array(self.data[idx]['text']),\n",
        "          \"label\": np.array(self.data[idx]['label'])\n",
        "      }\n",
        "      return item"
      ]
    },
    {
      "cell_type": "code",
      "execution_count": null,
      "metadata": {
        "id": "zuC4MgHbed9t"
      },
      "outputs": [],
      "source": [
        "# Create DataLoader\n",
        "from torch.utils.data import DataLoader\n",
        "args = {'bsize': 64}\n",
        "train_loader = DataLoader(TweetDataset(train_dataset, args), batch_size=args['bsize'], num_workers=2, shuffle=True, drop_last=True)\n",
        "test_loader  = DataLoader(TweetDataset(test_dataset, args), batch_size=args['bsize'], num_workers=2, shuffle=True, drop_last=True)\n",
        "val_loader  = DataLoader(TweetDataset(val_dataset, args), batch_size=args['bsize'], num_workers=2, shuffle=True, drop_last=True)"
      ]
    },
    {
      "cell_type": "code",
      "execution_count": null,
      "metadata": {
        "id": "CP8tPGD4fzkV"
      },
      "outputs": [],
      "source": [
        "# Define the model to classify tweets\n",
        "\n",
        "class TweetModel(torch.nn.Module):\n",
        "    def __init__(self, input_dim, hidden_dim, output_dim, pretrained_vectors=None):\n",
        "        \"\"\"\n",
        "        In the constructor we instantiate two nn.Linear modules and assign them as\n",
        "        member variables.\n",
        "        \"\"\"\n",
        "        super(TweetModel, self).__init__()\n",
        "        # apply the pretrained embeddings to transform our token indices, into vectors\n",
        "        self.ebd = torch.nn.Embedding.from_pretrained(pretrained_vectors, freeze=True)\n",
        "        self.hidden_linear_layer = torch.nn.Linear(hidden_dim, hidden_dim, bias=True)\n",
        "        self.classification_layer = torch.nn.Linear(hidden_dim, output_dim, bias=True)\n",
        "        # softmax layer to compute class probabilities\n",
        "        # https://pytorch.org/docs/stable/generated/torch.nn.Softmax.html?highlight=softmax#torch.nn.Softmax\n",
        "        self.softmax = nn.Softmax(dim=1)\n",
        "\n",
        "        # define the dropout strategy (here, 20% (0.2) of the vector is ignored to prevent overfitting)\n",
        "        # we don't use it here but it's a good thing to keep in mind\n",
        "        # self.dropout = nn.Dropout(p=0.2)\n",
        "\n",
        "    def forward(self, x):\n",
        "        \"\"\"\n",
        "        In the forward function we accept a Tensor of input data and we must return\n",
        "        a Tensor of output data. We can use Modules defined in the constructor as\n",
        "        well as arbitrary operators on Tensors.\n",
        "        \"\"\"\n",
        "        # apply the pretrained embeddings\n",
        "        x  = self.ebd(x)\n",
        "        x  = x.mean(1)\n",
        "        h  = torch.relu(self.hidden_linear_layer( x ))\n",
        "        # h  = self.dropout(h)\n",
        "        h  = self.classification_layer(h)\n",
        "        logits = self.softmax(h)\n",
        "        return logits"
      ]
    },
    {
      "cell_type": "code",
      "execution_count": null,
      "metadata": {
        "colab": {
          "base_uri": "https://localhost:8080/"
        },
        "id": "NdtfJXhygGUA",
        "outputId": "46d80390-2c84-4394-d543-5d9607c35a1e"
      },
      "outputs": [
        {
          "output_type": "stream",
          "name": "stdout",
          "text": [
            "64 200\n"
          ]
        }
      ],
      "source": [
        "sizes = next(iter(train_loader))['text'].size()\n",
        "batchsize = sizes[0] # We have chosen a batchsize equal to 64\n",
        "inputdim  = sizes[1] # The input layer of our NN has 200 elements because when we padded the data, we set max_length=200\n",
        "print(batchsize, inputdim)"
      ]
    },
    {
      "cell_type": "code",
      "execution_count": null,
      "metadata": {
        "id": "5_QeXR2ZgNfj"
      },
      "outputs": [],
      "source": [
        "hiddendim = 300 # dimension of the pretrained vector\n",
        "outputdim = 3 # because there is 3 classes, i.e. 3 labels\n",
        "# we instanciate the model\n",
        "tweet_model = TweetModel(inputdim, hiddendim, outputdim, pretrained_vectors=pretrained_vectors.vectors)"
      ]
    },
    {
      "cell_type": "code",
      "execution_count": null,
      "metadata": {
        "colab": {
          "base_uri": "https://localhost:8080/"
        },
        "id": "4mugy8DXgSM7",
        "outputId": "ecbcdec8-1931-4261-d623-64c4615f2de7"
      },
      "outputs": [
        {
          "output_type": "execute_result",
          "data": {
            "text/plain": [
              "TweetModel(\n",
              "  (ebd): Embedding(1152449, 300)\n",
              "  (hidden_linear_layer): Linear(in_features=300, out_features=300, bias=True)\n",
              "  (classification_layer): Linear(in_features=300, out_features=3, bias=True)\n",
              "  (softmax): Softmax(dim=1)\n",
              ")"
            ]
          },
          "metadata": {},
          "execution_count": 21
        }
      ],
      "source": [
        "# we can look at the model \n",
        "tweet_model"
      ]
    },
    {
      "cell_type": "markdown",
      "source": [
        "**We'll need a GPU**"
      ],
      "metadata": {
        "id": "98rwoh2p-xPP"
      }
    },
    {
      "cell_type": "code",
      "execution_count": null,
      "metadata": {
        "colab": {
          "base_uri": "https://localhost:8080/"
        },
        "id": "fZNH_PodgfAk",
        "outputId": "a4bbf1af-0d4e-47ea-a384-b4240102d995"
      },
      "outputs": [
        {
          "output_type": "stream",
          "name": "stdout",
          "text": [
            "DEVICE =  \u001b[32mTesla K80\u001b[0m\n"
          ]
        },
        {
          "output_type": "execute_result",
          "data": {
            "text/plain": [
              "TweetModel(\n",
              "  (ebd): Embedding(1152449, 300)\n",
              "  (hidden_linear_layer): Linear(in_features=300, out_features=300, bias=True)\n",
              "  (classification_layer): Linear(in_features=300, out_features=3, bias=True)\n",
              "  (softmax): Softmax(dim=1)\n",
              ")"
            ]
          },
          "metadata": {},
          "execution_count": 97
        }
      ],
      "source": [
        "if torch.cuda.is_available():\n",
        "  device = 'cuda'\n",
        "  print('DEVICE = ', colored(torch.cuda.get_device_name(0), \"green\" ) )\n",
        "else:\n",
        "  device = 'cpu'\n",
        "  print('DEVICE = ', colored('CPU', \"blue\"))\n",
        "tweet_model.to(device)"
      ]
    },
    {
      "cell_type": "markdown",
      "source": [
        "**Train the model**"
      ],
      "metadata": {
        "id": "5SNbOTrj-0Z0"
      }
    },
    {
      "cell_type": "code",
      "execution_count": null,
      "metadata": {
        "id": "_hXhNntzgxVa"
      },
      "outputs": [],
      "source": [
        "# Training loop\n",
        "\n",
        "def train(model, optimizer, ep, args):\n",
        "  # set the model into a training mode : the model's weights and parameters WILL BE updated!\n",
        "  model.train()\n",
        "  # initialize empty lists for losses and accuracies\n",
        "  loss_it, acc_it = list(), list()\n",
        "\n",
        "  # start the loop over all the training batches. This means one full epoch.\n",
        "  for it, batch in tqdm(enumerate(train_loader), desc=\"Epoch %s:\" % (ep), total=train_loader.__len__()):\n",
        "    \n",
        "    batch = {'text': batch['text'].to(device), 'label': batch['label'].to(device)}\n",
        "\n",
        "    # put parameters of the model and the optimizer to zero before doing another iteration. this prevents the gradient accumulation through batches\n",
        "    optimizer.zero_grad()\n",
        "\n",
        "    # apply the model on the batch\n",
        "    logits = model(batch['text'])\n",
        "\n",
        "    # # # to deal with unbalanced data in the batch, we calculate the weights according to their inverse frequency\n",
        "    b_counter = Counter(batch['label'].detach().cpu().tolist())\n",
        "    b_weights = torch.tensor( [ sum(batch['label'].detach().cpu().tolist()) / b_counter[label] if b_counter[label] > 0 else 0 for label in list(range(args['num_class'])) ] )\n",
        "    b_weights = b_weights.to(device)\n",
        "\n",
        "    # we choose the CrossEntropyLoss, suitable for multiclass classification\n",
        "    # https://pytorch.org/docs/stable/generated/torch.nn.CrossEntropyLoss.html#torch.nn.CrossEntropyLoss\n",
        "    loss_function = nn.CrossEntropyLoss(weight=b_weights)\n",
        "    # loss_function = nn.CrossEntropyLoss()\n",
        "    loss = loss_function(logits, batch['label'])\n",
        "\n",
        "    # compute backpropagation\n",
        "    loss.backward()\n",
        "\n",
        "    # indicate to the optimizer we've done a step\n",
        "    optimizer.step()\n",
        "\n",
        "    # append the value of the loss for the current iteration (it). .item() retrieve the nuclear value as a int/long\n",
        "    loss_it.append(loss.item())\n",
        "\n",
        "    # get the predicted tags using the maximum probability from the softmax\n",
        "    _, tag_seq  = torch.max(logits, 1)\n",
        "    \n",
        "    # Those 3 lines compute the accuracy and then append it the same way as the loss above\n",
        "    correct = (tag_seq.flatten() == batch['label'].flatten()).float().sum()\n",
        "    acc = correct / batch['label'].flatten().size(0)\n",
        "    acc_it.append(acc.item())\n",
        "\n",
        "  # simple averages of losses and accuracies for this epoch\n",
        "  loss_it_avg = sum(loss_it)/len(loss_it)\n",
        "  acc_it_avg = sum(acc_it)/len(acc_it)\n",
        "  \n",
        "  # print useful information about the training progress and scores on this training set's full pass (i.e. 1 epoch)\n",
        "  print(\"Epoch %s/%s : %s : (%s %s) (%s %s)\" % (colored(str(ep), 'blue'),args['max_eps'] , colored('Training', 'blue'), colored('loss', 'cyan'), sum(loss_it)/len(loss_it), colored('acc', 'cyan'), sum(acc_it) / len(acc_it)))\n"
      ]
    },
    {
      "cell_type": "code",
      "execution_count": null,
      "metadata": {
        "id": "mBf4ICGbg29I"
      },
      "outputs": [],
      "source": [
        "def inference(target, loader, model):\n",
        "  \"\"\"\n",
        "    Args:\n",
        "      target (str): modify the display, usually either 'validation' or 'test'\n",
        "  \"\"\"\n",
        "\n",
        "  # set the model into a evaluation mode : the model's weights and parameters will NOT be updated!\n",
        "  model.eval()\n",
        "\n",
        "  # intialize empty list to populate later on\n",
        "  loss_it, acc_it, f1_it = list(), list(), list()\n",
        "  # preds = predicted values ; trues = true values .... obviously~\n",
        "  preds, trues = list(), list()\n",
        "\n",
        "  # loop over the loader batches\n",
        "  for it, batch in tqdm(enumerate(loader), desc=\"%s:\" % (target), total=loader.__len__()):\n",
        "    # set an environnement without any gradient. So the tensor gradients are not considered \n",
        "    # (saves a lot of computation and memory, this is one of the many things that makes predicting far less costly than training)\n",
        "    with torch.no_grad():\n",
        "\n",
        "      # put the batch to the correct device\n",
        "      batch = {'text': batch['text'].to(device), 'label': batch['label'].to(device)}\n",
        "\n",
        "      # apply the model\n",
        "      logits = model(batch['text'])\n",
        "\n",
        "      # # to deal with unbalanced data in the batch, we calculate the weights according to their inverse frequency\n",
        "      # b_counter = Counter(batch['label'].detach().cpu().tolist())\n",
        "      # b_weights = torch.tensor( [ sum(batch['label'].detach().cpu().tolist()) / b_counter[label] if b_counter[label] > 0 else 0 for label in list(range(20)) ] )\n",
        "      # b_weights = b_weights.to(device)\n",
        "\n",
        "      # loss_function = nn.CrossEntropyLoss(weight=b_weights)\n",
        "      loss_function = nn.CrossEntropyLoss()\n",
        "      loss = loss_function(logits, batch['label'])\n",
        "\n",
        "      # no need to backward() and other training stuff. Directly store the loss in the list\n",
        "      loss_it.append(loss.item())\n",
        "\n",
        "      # get the predicted tags using the maximum probability from the softmax\n",
        "      _, tag_seq  = torch.max(logits, 1)\n",
        "      \n",
        "      # compute the accuracy and store it\n",
        "      correct = (tag_seq.flatten() == batch['label'].flatten()).float().sum()\n",
        "      acc = correct / batch['label'].flatten().size(0)\n",
        "      acc_it.append(acc.item())\n",
        "      \n",
        "      # extend the predictions and true labels lists so we can compare them later on\n",
        "      # note how we first ensure the tensor are on cpu (.cpu()), then we detach() the gradient from the tensor, before transforming it to a simple python list (.tolist())\n",
        "      preds.extend(tag_seq.cpu().detach().tolist())\n",
        "      trues.extend(batch['label'].cpu().detach().tolist())\n",
        "\n",
        "  # compute the average loss and accuracy accross the iterations (batches)\n",
        "  loss_it_avg = sum(loss_it)/len(loss_it)\n",
        "  acc_it_avg = sum(acc_it)/len(acc_it)\n",
        "  \n",
        "  # print useful information. Important during training as we want to know the performance over the validation set after each epoch\n",
        "  print(\"%s : (%s %s) (%s %s)\" % ( colored(target, 'blue'), colored('loss', 'cyan'), sum(loss_it)/len(loss_it), colored('acc', 'cyan'), sum(acc_it) / len(acc_it)))\n",
        "\n",
        "  # return the true and predicted values with the losses and accuracies\n",
        "  return trues, preds, loss_it_avg, acc_it_avg, loss_it, acc_it"
      ]
    },
    {
      "cell_type": "code",
      "execution_count": null,
      "metadata": {
        "id": "y6_AqJD8g5Fh"
      },
      "outputs": [],
      "source": [
        "# Start training\n",
        "\n",
        "import torch.optim as optim\n",
        "\n",
        "def run_epochs(model, args):\n",
        "\n",
        "  # args['device'] =device\n",
        "  if args['cuda'] != -1:\n",
        "      model.cuda(args['cuda'])\n",
        "      device = torch.device(\"cuda\" if torch.cuda.is_available() else \"cpu\")\n",
        "      args['device'] = device\n",
        "      print(\"device set to %s\" % (device) )\n",
        "\n",
        "  # we set the optimizer as Adam with the learning rate (lr) set in the arguments\n",
        "  # you can look at the different optimizer available here: https://pytorch.org/docs/stable/optim.html\n",
        "  optimizer = optim.Adam(model.parameters(), lr = args['lr'])\n",
        "\n",
        "  # define an empty list to store validation losses for each epoch\n",
        "  val_ep_losses = list()\n",
        "  # iterate over the number of max epochs set in the arguments\n",
        "  for ep in range(args['max_eps']):\n",
        "    # train the model using our defined function\n",
        "    train(model, optimizer, ep, args)\n",
        "    # apply the model for inference using our defined function\n",
        "    trues, preds, val_loss_it_avg, val_acc_it_avg, val_loss_it, val_acc_it = inference(\"validation\", val_loader, model)\n",
        "    # append the validation losses (good losses should normally go down)\n",
        "    val_ep_losses.append(val_loss_it_avg)\n",
        "\n",
        "  # return the list of epoch validation losses in order to use it later to create a plot\n",
        "  return val_ep_losses\n",
        "    "
      ]
    },
    {
      "cell_type": "code",
      "source": [
        "def predict(target, loader, model):\n",
        "  \"\"\"\n",
        "    Args:\n",
        "      target (str): modify the display, usually either 'validation' or 'test'\n",
        "  \"\"\"\n",
        "\n",
        "  # set the model into a evaluation mode : the model's weights and parameters will NOT be updated!\n",
        "  model.eval()\n",
        "\n",
        "  # intialize empty list to populate later on\n",
        "  #loss_it, acc_it, f1_it = list(), list(), list()\n",
        "  # preds = predicted values ; trues = true values .... obviously~\n",
        "  #preds, trues = list(), list()\n",
        "  ids, preds = list(), list()\n",
        "\n",
        "  # loop over the loader batches\n",
        "  for it, batch in tqdm(enumerate(loader), desc=\"%s:\" % (target), total=loader.__len__()):\n",
        "    # set an environnement without any gradient. So the tensor gradients are not considered \n",
        "    # (saves a lot of computation and memory, this is one of the many things that makes predicting far less costly than training)\n",
        "    with torch.no_grad():\n",
        "\n",
        "      # put the batch to the correct device\n",
        "      batch = {'text': batch['text'].to(device), 'id': batch['id'].to(device)}\n",
        "      #batch = {'text': batch['text'].to(device)}\n",
        "\n",
        "      # apply the model\n",
        "      logits = model(batch['text'])\n",
        "\n",
        "      # # to deal with unbalanced data in the batch, we calculate the weights according to their inverse frequency\n",
        "      # b_counter = Counter(batch['label'].detach().cpu().tolist())\n",
        "      # b_weights = torch.tensor( [ sum(batch['label'].detach().cpu().tolist()) / b_counter[label] if b_counter[label] > 0 else 0 for label in list(range(20)) ] )\n",
        "      # b_weights = b_weights.to(device)\n",
        "\n",
        "      # loss_function = nn.CrossEntropyLoss(weight=b_weights)\n",
        "      #loss_function = nn.CrossEntropyLoss()\n",
        "      #loss = loss_function(logits, batch['label'])\n",
        "\n",
        "      # no need to backward() and other training stuff. Directly store the loss in the list\n",
        "      #loss_it.append(loss.item())\n",
        "\n",
        "      # get the predicted tags using the maximum probability from the softmax\n",
        "      _, tag_seq  = torch.max(logits, 1)\n",
        "      \n",
        "      # compute the accuracy and store it\n",
        "      #correct = (tag_seq.flatten() == batch['label'].flatten()).float().sum()\n",
        "      #acc = correct / batch['label'].flatten().size(0)\n",
        "      #acc_it.append(acc.item())\n",
        "      \n",
        "      # extend the predictions and true labels lists so we can compare them later on\n",
        "      # note how we first ensure the tensor are on cpu (.cpu()), then we detach() the gradient from the tensor, before transforming it to a simple python list (.tolist())\n",
        "      preds.extend(tag_seq.cpu().detach().tolist())\n",
        "      ids.extend(batch['id'].cpu().detach().tolist())\n",
        "\n",
        "  # compute the average loss and accuracy accross the iterations (batches)\n",
        "  #loss_it_avg = sum(loss_it)/len(loss_it)\n",
        "  #acc_it_avg = sum(acc_it)/len(acc_it)\n",
        "  \n",
        "  # print useful information. Important during training as we want to know the performance over the validation set after each epoch\n",
        "  #print(\"%s : (%s %s) (%s %s)\" % ( colored(target, 'blue'), colored('loss', 'cyan'), sum(loss_it)/len(loss_it), colored('acc', 'cyan'), sum(acc_it) / len(acc_it)))\n",
        "\n",
        "  # return the true and predicted values with the losses and accuracies\n",
        "  #return trues, preds, loss_it_avg, acc_it_avg, loss_it, acc_it\n",
        "  return ids, preds"
      ],
      "metadata": {
        "id": "0kEOygTV38Qr"
      },
      "execution_count": null,
      "outputs": []
    },
    {
      "cell_type": "code",
      "execution_count": null,
      "metadata": {
        "colab": {
          "base_uri": "https://localhost:8080/",
          "height": 1000,
          "referenced_widgets": [
            "604748e6f6134e7a886c07a84caf0d61",
            "31fbe30c8b2a4081819055efc956fcc5",
            "4215276529604303a6e3b6f702265b0a",
            "9cab73fb50d2468b8a98c714119fcea7",
            "de948eeba77e465a898ca89bf13e50d0",
            "a0c9bddf6b574400afa1aafbf39c78e3",
            "cceab13911c9433abc516dda85e9d0b4",
            "c6ed0573281b44159218f97100d0144a",
            "933f70f7c47349cbb8e4e90dd2850d79",
            "87f084b95656476baafb30fd6e494fa3",
            "3296be5c782a44c49de1b4aa5e487bee",
            "a8496cf15c364a27848df133563b7614",
            "eca1b8a449ff42c2985758e2b0da8205",
            "cc7ecad643624c4ebc305e7fb6cbfa3b",
            "fb31acb1db8f45dbae1a5b13d359deb2",
            "5289431878ef45c09adccf055e4e2991",
            "a885b37800524ec5bddd8597d93b2a90",
            "c1dad5694d56480eabbb75a056102d62",
            "51bcb2f7d1d041e38c88915df0ec1b63",
            "22b650f7097443109da614c67e250352",
            "52c39a246cd043ec8916f5cf5e579133",
            "2b8719c909244a5c927fe06176f2ba1a",
            "669113f4fb374087899fb9f8073a5bb2",
            "442c56ad26e54a3ea3e9a3cb0658c456",
            "4bc489b1f922440781d78dd5cce21dcb",
            "d7ad264756794f8eb7665736e4a264e7",
            "9320069db6804ce09eac7cd125cd8a39",
            "99ce67fb715f40d9bb405d4f1a96ef62",
            "8b86501bf9d54c0ea7ac8f60d825bb59",
            "de04e7755d64432a9d2212956eb1e8e0",
            "dd8b79324b8344a3a84f868d8662d64e",
            "2f0e17e61082495eab7831c93d29227f",
            "cee5960ab839455e9aea5e000c65afa7",
            "b5237d92b77649b5aad2c1833f936b3b",
            "f69617cac2b544059dfd88856f3b7ca6",
            "1cfad16a6fc44e0e92e21fb4b2e11849",
            "8abf10f4d54c43fca8f888783f1b2bab",
            "7e101921da3a43d081916649b9845c8b",
            "63b5ebf00ece47028c6623cf807d62b9",
            "564545a2da434d44b9984cc4d0dfee24",
            "3a7268d5f63c4aae9f14e9cb2a54b169",
            "3406981caf814f55b6f26d215922911b",
            "454531c373474aca9ffbb3171e507ac5",
            "23bf0568b08146e3bf5cd26e656de384",
            "f6630476feae4656a8b601bc3c1365f8",
            "9edbd00347284db0bae7c03ef7b38854",
            "d6dccb8fd0ac4025ad38c4a41c740c54",
            "98aaa970fd6e4af8bfdb09a3d67efa04",
            "2d02ec82ccb94af5b8cd161c2c30d57c",
            "23a8355014a64e449b8bc0d5269a28af",
            "4d7f220bbf2e4f1bb21b62a5201cc0c4",
            "2d4975ee94ac40bb8175439ab6e5388d",
            "35e6985f346242659f070d5242ea52ca",
            "59fd989bb61d44afa9d6bd49a2bf966c",
            "414df93a840c42bfbf6e6a8c6d30a9a4",
            "db77584020074e8a9c788573ed6f3391",
            "fee68df5d8054dc78b08279fad5fcdb8",
            "709c838836b44d3e86b3853bc90b5bbc",
            "c964a086643e4f429466165cb4f4a9cd",
            "4324c3d955b3436c8c8df98e70f8e910",
            "681be6e7cdd8497c8fb2c2f1f57d45ff",
            "36c0dedb68cb4732822f9cf5658bb84f",
            "3f88e9dfd899485ab6f38862422a2694",
            "db858ff070204be29b803ae36b1bde30",
            "7ed0844b2aa14117a36d646243b7450f",
            "ebdaeddcfede41e1b6dc49294e72820a",
            "e9110991671647fea941fa31b5798292",
            "68390d3f9564457eb39bf9c15fae12ca",
            "e345611dcd7b4952b3cb895b1ae29e29",
            "4c7562fabbac44029dbb37360f381c03",
            "7cff35f8001c436faba8f63c74d01423",
            "6c1545c26a104376b84a56d7ea3c3cf1",
            "3f0b4d42981b4aea9a48bdae3906c855",
            "c6b303766b9443209cbb3191cc624939",
            "2e8b52b5154c4ddea5a63a74bd21acc8",
            "8fb842cb252f47ffb83743666f29b0e1",
            "ab9cbd76358b4664b8906d8454250943",
            "a50ee73e9593444b8928b31fc69d0cdd",
            "a5da350eee0843a5ab895c64a8684a84",
            "c3dbbd1ef2a34fa1b3b3f22458afa841",
            "5cbe6d5f272c4daea117db4ef4215920",
            "e2893724feda470fb61474d9a5c4c93b",
            "17e3deb3b67d4c32bdeea75428862f5f",
            "9240f9c01a5143f78cf08821ff448d55",
            "a7973d8b813447a28ce8ada5688651e3",
            "9c8674486977464d932467d2cda69f03",
            "a512fbfd0a354b4d96187f4ada09ea06",
            "289a99e973ea4b76806578899dfc6693",
            "4952129770934d6ebeff33b312eac3c8",
            "9f2dbf97bfe4489fa59fe60fbfbea249",
            "3943aff099bc4844aff015e05350d9d8",
            "9426a6df05dd4473bb2ecb4fdf3527fc",
            "65c96b0a31e1477c8a682b58790be3c4",
            "4fdd5a4fd383498998cdd9e921336bd5",
            "aad15020588d4c7fbf93dc3bf66b576a",
            "30d3c977a4914be7ab57c64d3590d1d3",
            "fbf6dcfe699343ec98947a4344bc7953",
            "5e69275cb0a74b8eaf8ecd31731a19a7",
            "a65dec5a187e4c4983acf82955b5d589",
            "8fdcf052a8f042b8a792a4a18b84c94f",
            "ec0d1cf3ce974274b011892612e1974f",
            "cae793d5d9db4fa4b054599d5500ba7a",
            "f9608c58c93b4f598e227a43f4b6eee8",
            "6e06b76a4b2748cc9e76d8c8920d3cdc",
            "c712466513974ca2977dc0dc88161df9",
            "2a9dee6f554a4922b7f581bd0a2a6ad8",
            "709588681db44952aaec22be41858eab",
            "b6130824a3dd4df3b8f5f0c48b910743",
            "987e326706dc4d08965bd7e82258f95c",
            "3b00238c3dcb454fae946bc6e9585f2f",
            "b1f5e2953ab14f7d835786a1e8f908fb",
            "718391d13880498d888ac971ff27ce6b",
            "8c7251067d5345f7944eca2c05ec059b",
            "df66214a667d4056b80e3b5b9fbe9a40",
            "6b396e9d99ee45e587bca4cd210fec8c",
            "97c4406582094e6eb745060af0c012a3",
            "2ac2518efccc4ec48624652fc484bf5e",
            "3ead7ff8eb7246308102364a958bdceb",
            "534534426ac44ba8951609655209cb34",
            "aa2d4100d4e643278e78d0c1bceb9388",
            "fa3fabde992f4506a04ff627a3b37362",
            "ec2e9300f22f4687a498476f794bf12c",
            "241cf8d873c848a1b040406d84c274e3",
            "a8ca852c30ae416a8098039c35d0ef89",
            "aa80a5817cd0491b957362cd8a67f492",
            "246813d3f6cd4229831e80418b6a1e2d",
            "fac8d1122d0542a0808edcdd5f17b177",
            "5276b3b8e4944d0b8c27e316accdf7e3",
            "509967ecc2644f129c093984393c03b1",
            "ea265f408b464ceebcf4ec7527f10c0d",
            "ea8cd87347f94d31bac3c474912dfb5b",
            "c8f30dc468c54ee386f2e8678b093ba0",
            "b2831ffb6d3f4bc981716e0eeada2fa2",
            "2d6628b806df406f8a30720ad5a5ed10",
            "767e710d338a40e5bd5659c11ba89a3d",
            "619b6b9f1af14f6d98a4921f822d2b08",
            "cbc1c7769a8e42a5a962297355709f23",
            "c542d346eb5740c0a94a2067efa82ad7",
            "e1d8e21034f74a03b603f9f7b6a75c46",
            "36b918baf56d4119a498c203d0917c5b",
            "19433ddad7cd49009487f0741631f0d0",
            "9a46b69956b540f6a791f5cf4549d0fa",
            "8e75dfade535415d83a9f8ce0bb17bad",
            "c9eb385c19f04e46a1fe876677668256",
            "94de5950e00f48bd9a92e6c17778b37b",
            "05805c6a37254c27aac3684d4df1acea",
            "96c551ca888f450cab7358de2035bd4d",
            "6399be75ca1e4194951db219344dbe61",
            "2ac6bbcf174640ffa8a1c95a15900961",
            "f3f92cc35a9e4c2d9798a9b8453dc9cc",
            "96c493be4edf49d28a2c8d43d30a320a",
            "718d67711e5142288697c52c6cb5737a",
            "1d0c9e28d6d54ec1995530d3de4143a0",
            "dd321faa71854f6f8212f0bc29e806e6",
            "284c35a563cd40498e3ca055306af902",
            "7845ea5fb1b7440db46bc560448446a6",
            "ae11ddb1c58d4ba58a092629153c5da0",
            "779a048080fe492796e2daac62ac0fd8",
            "c0ab727104b546a4b0ab31472136f667",
            "f4ae012477914b369711d2315ebf5cb4",
            "c70b6f2062ea48778e77fb2e47b96545",
            "ee91485991984ed5b237904c3ee9fedb",
            "3ed9f655313b4f6982efe6f6b0275fee",
            "07073ec76fc94ba6842e8047ab078801",
            "f5f7b1ad5bb14744bd55e9dfd823d8ac",
            "f73da772a1504a6db9c67cee0ef5e45b",
            "50582e0a8c454739a5abe2cee3030659",
            "16511c0b02434e26b2a569ec57f8afcc",
            "1d5938b4ad9d437c9b33495d83a3dda9",
            "b6c0e5120e7e40a7a7b061817ac110c5",
            "a92137bc128c4adaa59c761050bb41bf",
            "4bb8c883d93d4b17a96aee15dbd4e837",
            "1709c47064764cc69a8a40117f68be08",
            "df2c2b7a0a4340029be2aab7bdbb6c71",
            "68851919c288426ca8b4a5fb7cebcf30",
            "182c2023cb8a497ab5206283f79d132a",
            "073728f1f5d04b2d91fb6504e061081f",
            "851ae2f6dfd74fd4a32abecdeec04a40",
            "27b6bce1484c43adad733d135cc4cfca",
            "0137911fd7fb4ad78fbd9a985ceab7b1",
            "f0cd67a4ac92413997c869faae0984a1",
            "99c28d5696cb4c66b71d2fe54d5d31b6",
            "3dc385bf088f436da97f2336ca37e62a",
            "24e8a4b1d139438d85176cb7626434b0",
            "3be806a594d24235a82c1c4e5af71e91",
            "95b203e8e63949cfbea85cd62f7f1677",
            "e20d5827f02a4fd5b14849901c841622",
            "4afe73c12d154ebf9d3b3721ce626ae2",
            "6d02ca65285e4d209419b1059c2e7cc7",
            "968d583aa05b4d179b727d4ad1f90010",
            "7d7195529aca45cfa4e88ccfe532e56b",
            "c418af81743b4af182150584733b2182",
            "0394718f79bb44bd9b2d214812789c20",
            "9e65115c6ab6406ca26e833874149b1f",
            "85ce5f51a49c46829b7316d2007ef029",
            "14a8e773303549d3a52f38c88a0b3d34",
            "e3cabf055d8345098df68cd2e6660e06",
            "117f2ac73b24457693ac29fa1fcc3696",
            "7bd640b7aad64f469d3d5468a5919368",
            "183b76c15ac849ae953de9b489ee72d0",
            "d58f8863dfe4485cb607fdc7d378148b",
            "1586476c346d47e5a16409859caee92b",
            "d2ebb8d8fcde4f88b8576e53b7769d7f",
            "a0214150a48a4f3d8ab17b721bb7f5c1",
            "70a8119ed18c4ed9b5aefc36bdfaf951",
            "f41ff8c8117a4af0b45f1c5884926352",
            "f86e1137b14d4752b1ca6b84e47db1c8",
            "0634478cd89f403c8293be4098ba59d3",
            "be1bf8655d3c40d2806bf8fcd0e22d4e",
            "d5612319d968402fbb428a821325d6b4",
            "5a3379864d9b4f9da5b5b213f7372dd8",
            "9279c4cc1f82438f9577091e338e0670",
            "1f94517d310f492b8d2cebf1bdc7eb46",
            "b6c999df7b2641d9a0320c93438b5c14",
            "6c66e2a02f8045008bcbc60ffe570bb8",
            "bf155f600a4444fc812eee279d6ada0a",
            "3ac872ffc918466c90c557018a119edd",
            "60297c5988a4476aa8458a9b37b90739",
            "7443306b06aa45c6892abf533de3611b",
            "30097a794ddf4d3e94ee862927d837ab",
            "a750996bcad3468fba3b871e10d3da32",
            "9e7daf43bd4f49919eb7c1c70d8ff4ec",
            "81c3ce5b1ffa46078cab1b23ded7370d",
            "6ab5a53920194e8995fd1b8f26ef1624",
            "84338b0e819f4ffb94b79f433f31f811",
            "4e1f3f7a97534b38aaa8c3451b836290",
            "1b7c9ea7da67409fad8b219ccdf98512",
            "abe42f24fcc1484fa7a811ad5b44fb1f",
            "0d52f7177afe4a0799ecdee6b1d40a80",
            "df9bff721f494d44985704bb082ee75c",
            "8de9638215824924b85b2ac5cf45bb2b",
            "dcf3d3dd1a4941538e3403ae9aa775b3",
            "03c6756f87b342a9aa554d153130f1b5",
            "7857654937b442f78e5694ec1ccc907d",
            "6044f9f1b711418783e7e76123e969ce",
            "7d443c7f69614b47b8429ed5722c0768",
            "bca8cbfa16344786bfe9d8649c4968c2",
            "a579c3adc17b475984221d3d5fa35d75",
            "c5184f30242749d7a2093ccbbc681d23",
            "6871e99ea3af4262808cb34c8a479eeb",
            "4fc9375bd11542bc8489e1a7502df33b",
            "c387c2d7befc48d7b085c150b180ce28",
            "03b01f337f2c44c5999ce8fd2f130161",
            "13bf7e4091864aa295004138bfb5efbd",
            "23b8a46d14484f49a8a2a99d7e3c0edf",
            "ed197f466aa04c05a326bbbac35fa7ae",
            "a349189687034627be60af2c3af72225",
            "5c0bebdbf15849eab7d16fce7d1f7999",
            "57091c66903440449168580f279b77d3",
            "b26bf168acd647fb8a9a6b395a1959ea",
            "2d6993a99760443c8a94256fd9fb1631",
            "1a845d3ad6c6411f85d7c7560bfec11b",
            "4f01f9a0acc3479e9ee23f04051aa6a3",
            "622d35544cb54268ae70085ddc588edc",
            "7984c9a6c4dc463c9b4471e1bd548d66",
            "78d686d63d0148f09e5e633218a17e9f",
            "4493cda395584cf7bcbf434c794c8b58",
            "4582fa7add9d4c5e9926ea87d308e726",
            "4aa0c50a7a584d8d959fdf5abdba6498",
            "115da5fbb8514e8d89670fe3b2009368",
            "308c4a3010dc4d6985c48091e6477d05",
            "9e8b034363f8415d965bffef5e90079e",
            "3644cc420eee44cbbb3f498fec1e8340",
            "0bd27c6db41a41e1b3ae7a4ee2595a1f",
            "2bf7ea5900c7473cbd639822d328ef75",
            "c50fe234ee4d4337a9a7c5d4b2540159",
            "fd30ee56ab0c47ba88b4098db1f7aed3",
            "e1baeb5d13cb4f608c15bc107ac4711d",
            "7e61bf1d4b8546d98df3849bfed8cf6b",
            "a6d0be4691234641abc20417d792324f",
            "c947295258f04faf88e2d0c9a5afb0b3",
            "821f4398492745e8bd30af4ed766d308",
            "1c1c9851253c4a7bae0ec13571162bd3",
            "5fa9bd982d1c4c08bce95dacbe7c246a",
            "52eead0363174044b010a6a1e174862d",
            "6c31c675038943a6bfd542e16647bc70",
            "9743bd37b01045dd99b64b07aef2b8b3",
            "203386832eda4947aff274b43fc6de3e",
            "1f8194c27f0b4391a4ee2dc1b94a70b8",
            "f1a7a6069376419ca4333458c2d3e10e",
            "f7f520d971724e359849f23d5cbc14e5",
            "ac1a8b354f664567ac64775643ef0e7c",
            "6074cf038fe744ff8406bb1ab5b870c2",
            "cdc99f663600448a8175bdf26e189590",
            "4fbe3b998784469698545aa082d90745",
            "5ac7244d6f2a47a7a3bbc19f5ad2c9e2",
            "b27a799ee9a14603bfc2d2ee190ec02e",
            "7189a18de5104f849ba6987d1e7dec05",
            "d523649195e04040b5598fc0c1a16aa1",
            "f4bafe57beeb4740a1c88c628aca8b59",
            "7137d33f2a8a4094a6f6adeceaae906e",
            "9a1fdd6375824d2894915274b4312e6f",
            "d6829b17799843998c03e527ab004a9b",
            "448a8191341a4695b32d40308511d5aa",
            "a343b3dadb334ad3a26d6f9b9a5f01ff",
            "707c43e41e964ce5831716494c2c1d34",
            "b0676038323a407f854ffb99c7f45c02",
            "a9c1aaabd0dc4ab1968fba5e6fa194b9",
            "45fd59ee50704594b09283e79f4371fa",
            "fb23a4f0621e45479acbb2f3003e2af9",
            "4cc0ce0c78a946798175694b2ca8e4a6",
            "9b52e450c7e34824927307da05034840",
            "a134cdcdfc98470e9636952de5382e45",
            "ecc1c78328e54cd4bd57c6cad65b5520",
            "768a52b9445747819676869c0159d4ba",
            "d7f8aeb4d47c49e98305c4886c1aa3f6",
            "9831b9067ab54f8d9df37de53f013de8",
            "77bdf6a778c2466f97f834ceb87e5dd4",
            "62c5762859b540eab2395ed57c57045a",
            "ec3065a553fe484b899b5f02bc99dbb8",
            "dbfccc14430742d98d0977e155b7838e",
            "1499971e240c4665adc80519b0310c9c",
            "7f68cce7a58c4c69a1860d6665b41f8c",
            "e2a7eb01bb294788af73ef079b185922",
            "5726af3463dd4b56a590ed157b3986ae",
            "780f6d43d1b1492e856fc58bc2b79536",
            "a68f302072db413e982c26e8d4df2960",
            "1193f649252f4acabd3743404a66c642",
            "752bf3fc55ec4075ab3f25f79ff713cb",
            "26b780b62d084a04a3f8983cdcdd0649",
            "b9c58335c2a74a6da203149843d51c12",
            "c286c59166114d9a884862d37d34e730",
            "5b482e9d90cb47a59f923e67621f8205",
            "a625ace584b24a1ba45e0e0c9c751705",
            "10d6f984ab3d4aea9b4f53c7f585ca58",
            "f88fdf8ec46f4e96a16e0a94e1d7ac40",
            "9ec61e6291784e0980eaf04df8618f7f",
            "1c3e1b4887ad434d811182496f667222",
            "c591fc1b4e1949a98a6beb845c8d859a",
            "ff22ed6bdbb747a0a567618f6ac031d8",
            "93d95bbc4eb74c5f94ff099499fef3ea",
            "af28c7e40d114f6d8ea5fa13c8ccf9ea",
            "d6e85c05a2f048f384fae743e7a3e3d7",
            "0ed7847b7ee34110b6caed2eb02a657d",
            "7ea43c23994048fd8672141d33281bba",
            "5b3234c09a7d473d9dc8114c10ce0755",
            "1ed8aa6f4e9347cb9477fe5cc1395522",
            "66208bf9a32a4eba85f74284de08c5ac",
            "cb7e71370b554817a78fabcce30c871c",
            "7ef8397c00c2436eb6a878504f6ac496",
            "c6b864fbd7934aa5802da7ca5ec600a6",
            "75b46c274e5b4fbe8a7c800e0d0f748c",
            "1ede9df9eb4d413496889b6fe44a1b81",
            "16c9633c1fc64b6184babdbf3b2983c0",
            "dc0772a4402b4a069299e0108018924c",
            "97f20c1e9efa4146b5f09a1754ffad92",
            "7a5eabf3e31e44ab9e9af4404b42d005",
            "1a5c44feee5d4e709b962361bd383634",
            "90cba10c4afd4ebeb903d5f8527212c2",
            "fd71aac3ab8b4fe58280fa812115f606",
            "f5ba4715ec364d6ea85dc5dcd43ebd69",
            "5f69eaa65a3b47e390058b1eeb5f5fe7",
            "f60f331f24ff48cbbac7b0ac1b6181e1",
            "49d18b3101dc4f24879e7e9b1bb203ab",
            "7adff50a9c554faab445159ee931bb30",
            "93fbc3e4b1494f0ebfc500c8ae28eb94",
            "ed7d1dde11ec49ebb1ee60f3eaa7eb32",
            "bc9f853702184bcd8a6c88c05093df54",
            "d7a13739fada46358592cc7044d9316d",
            "877c8b19cabf4e4cb61cfaf616b5fd61",
            "2d0b055ba8824b90808124a369e7656c",
            "34e90d16fd124560b64333d24b77f644",
            "cfc44b005f324570a756d548ef91e582",
            "4878ddcb098049189e7519394968ed67",
            "cba9c210bba04c088c6052f0fe357d72",
            "d2a442d3a159454b83cbdf8b8f40cdb8",
            "512ebd1f9ead4c22a2c1fd3fe6298e91",
            "f4e6702690b049c8b7d842624380f803",
            "db53b6afdfd34802af9aa951ed73e4e3",
            "03c59a68c60a444faf4bd763b9aae77a",
            "da039c23e4024ec9af58690a5ec9c16c",
            "2d65ded3d6a04e88b8267ef8783df200",
            "8561c798c09c4120a52895da746c8a45",
            "54949235e0314ee9b7651dc0f598465c",
            "a011f1aa05f4492496e3eccedf4a6188",
            "b767abe47afb41acabd339a0f8e72452",
            "ca934c709a1a4b65939d974ef9ed5ed3",
            "6da83d6ee8f842a993db23c904f4c8e8",
            "fda78e6a13bd488fbdbe4657ced4ff42",
            "a31a6ef1fd714775a0958d20aea763cb",
            "ff42ab5fe67d47568a2cecb071ff4a1c",
            "2355ab8865cb40bab80018856867702c",
            "7ca304b804c0459e988a45e08f6bd58b",
            "a5c61c7d9c7a499b9b58bbee5be8fb79",
            "937cfde0c97b4918a75707dcad8838b0",
            "9f6baedcee284393a60fcd92475f66b4",
            "9b0a4bb916b846ba8bf4e31ec681f89a",
            "ad0f875cec604eae8c892cf5ddc99480",
            "67fa508eb5b942af805077933a5e6485",
            "41bfc3f5ccd6489abcec73a43e0daaa9",
            "7305f96f7be244c99f6be88571292c41",
            "e92c861371ce4f3cb4ef167ac1021e26",
            "a425887315e6428b9b6a4012ca0f814e",
            "2ebb1b962e9f4aa886ffe9cc98fb2e7b",
            "9674e8580ac64a7a8b2a2d0b164c79c9",
            "f490c3a6bf104638906721b991a1c362",
            "a8d6e149116c4a40ab8292f7807bf768",
            "2b373f0e602b4b3b97035d0ed4b9c31a",
            "10541dfa1df44bfe8cd6b283e8fa3bdd",
            "40ac9b90b8f949f4ad4b545ab7e87d3a",
            "4e21f3a7fd784a90afa179b4200a2f28",
            "eecb6c0aebeb4902afea61df86e6010d",
            "b20dc23a5f81432ea978f0fffe7336eb",
            "5f4e3579ca554f2cbd921c30c0eac41e",
            "1c9c3fdd541341909d538390bc8fcbbd",
            "76439b6a5bf74a5cae32200872ec76fa",
            "b4edbdd4afb642bbbf88542d90d69148",
            "672c2d60d07349009722f5b33bc5dde2",
            "9d54ce2a7e7543a9944c1060399c2981",
            "f6361b0c531b4a9eaf0721815509bf37",
            "4a64b61a85654f2e82f40ccedf847eb2",
            "e1412ab6680c4ff0a403663ec746e980",
            "a2a6bbcf787a4b9bb52da74904c82f89",
            "8be0182fbbe64bfea56bac9ca68c237a",
            "e431bd7934234d8e9de160a2fd76a006",
            "edabfd97697741d98de4c4a0136afd8c",
            "9f0406294f444f62bcd594db5e8ecdfa",
            "485510dc89d84622ae3a2618939b50d7",
            "2ec7ab8ac3524571a6b8be2597e4a06f",
            "06050ff3a76442afab4c883d7b50bb29",
            "c5f4f401eaf3412abea33f1d5f9b8b77",
            "ebdcd1b7851a4a4fb8bdc0fa06f9c197",
            "b0963b367a184648934ffefeef639f05",
            "a3e2f24a4cc048c69ac7b69d679264ad",
            "b84bd9a7a5cd4573a25487eb4324e3aa",
            "3112cf5ebff442eda686cffdd7f83abb",
            "be2393302d324c24a537f974b7c7cbf8",
            "750cbd6db2fb418485951f30105e4796",
            "d85287e40e3d4d888afc3f3664fed951",
            "28807698756a4c02b3938df37b5885cb",
            "7e45c1de7f1d49e1af25dcb7c6e2883c",
            "add4d52bf514429a8585fafaec1aca17",
            "f9ff76dd344641fe954ab37ddef07890",
            "69169ec6ce564175b217b644fa8aee84",
            "25c9d3f0a2c841c886a4339abccab1be",
            "75dcedfe6bd648eba43c9997a78289ce",
            "9bb0dc6822744bcda30ba23f4703aee0",
            "6c1ca1b318e444a1879e14522c0806e3",
            "fa75af53a80c418db4ecd5639440c659",
            "362d65280e8c4bc1a5803c471d1ed7f7",
            "2d827ea76aad47e9bcd0ed7ad1486580",
            "5c4b4ab4d90241c89ec5995b995fdac6",
            "9840916554974876ab05c79631c54bf0",
            "a41dd46ff6684c85aec5b371cb8e09dd",
            "a0d40f3c886646488147bfb185f62559",
            "ed87bee2c38347efa2f3d4abfcf84c95",
            "3f4fb4b109f743e3925a6a2619248029",
            "c1cba8f662914e65b3df6b2e2ed07d5e",
            "3e7d37327d054c3aaa00a3c23ceec48c",
            "0c6e157c77834af39a284684e4c80e1f",
            "01e1469b416d496c818f89444b5b80d5",
            "7038532305334a0bbe66327a5f96a82f",
            "5d87ae338ebd4ad09d27f4534b3aa2f0",
            "fca9ec7e83f5485ea0d8e84f4e00ff7a",
            "f76315eae9c9424f96c0c17e9c937f44",
            "8bece51a3550476a9870099b25bf7d5c",
            "cc542eaed7224d5a8b2149e1e4a9b36e",
            "56370c77ae1c4ce1957ca786454f4dde",
            "5df9e41a8a51402cb242e8e158052693",
            "b1c98e5e38d44662afa6f12eab77858a",
            "467e629aabcd4fdf85746367c6be9ba7",
            "3c2b292e4e664661bf20ad0fca733a11",
            "73096d457d284f7d845046e027fd687b",
            "df88134ff07e45b69877f889803ba74e",
            "8f7324fddcca4a13b15473aaa4e16286",
            "6b5d117da80a4878bdf266e59016e54f",
            "605ca4af73de4d10a82f242cd034e1b0",
            "acb799da18e541ed89b9871a2ecbef2b",
            "aa7e6223e87c4cc9ba532d3a74b9332a",
            "0f84757e5eaa49c1b4a5c5cb49764276",
            "c277a2f848fb479f8f6a1d416bcdbb49",
            "c9eb62f4f6d2431da5625dcd1f1262a2",
            "0444157b37f84e8cb913fd18466e76ee",
            "180db834012946c7aa03f1538d4de803",
            "fdce47c6534e4c1f88e7ac8e2254ee18",
            "320c6006e9724f7d8d727069afbf71f7",
            "3a4ecbab0b1f4d3bab8333e9ee105c8b",
            "987af7fa5b3f4f4aba37affc91c9941b",
            "23e182cff21d4238866b5474396949c3",
            "66ce77dcd1a94132920ab641f763f410",
            "995d6d7607e14fa2879c9e8c8d36bb86",
            "585da43893484e7e8dad2388b94a5c40",
            "244e442c34eb4e1e979a2c05d570da13",
            "1ab4e2f5d93d4ec7a812b0d830e9564b",
            "19efa584e4a44ccda02956256f5bde43",
            "f930178a48ea4ef29540e5781e7d431f",
            "9a247e60baa34fb380b4a96e5c0ce7a0",
            "dc31a66a60a04ca6a8d4038b2b4dc2da",
            "b336cbe5cbde400c90c5fbbc6676d3f1",
            "e2a6625cb3824ccdbb219f4c25e65430",
            "175c42959a4e48a68935ab624248b3f0",
            "1dc9f53ff19747d2ab427319607cd8ac",
            "c5fc568250004b2e96b68029d5165cc0",
            "1e3665226de34e77b31ab9aef7319bc2",
            "b32fb9e68e3d45f2ab5355205d9d4141",
            "5a54533633414715a27a5aa17492e0f4",
            "3be67d5879194e1e8a3c2a75fe151067",
            "3bbefd6fcf23464099d32e0e40bc6b0b",
            "e9f18a7899314cc6befe122af03dc066",
            "12d88643afb14b2180da909395d7dfb4",
            "441964a2967145c3ba85ec8dec315842",
            "223d31de53c54a0f9f10ae63c58057c2",
            "8fe9ca5d18724920b3911e308957f385",
            "67a87f7e9ed2482a8e058c77f184ff90",
            "b76ce37d64ab4b77a28e4ce6061077a8",
            "a8fd94f0114943a694a6f8b8d2628f6c",
            "66dce944d1f948c4accfbaf3be538a9e",
            "3ad93d466f654129b25560b19601233e",
            "c69775767b7d48f78a992d08f8c5f46f",
            "1a889ec029dc43f29747c3874296cac2",
            "1c986b6f2c4543a0acd317e60edce7dd",
            "14d641a44dd84278bb043a0a498360d2",
            "f069c9d06f60400eaa6928287f11f5d5",
            "2d8dc8a68486422b9bd05a6b94264df9",
            "7124837ce5d1472aab0e935bdd288576",
            "969aea062d2c4609b748829ce988d0f6",
            "00026da2db7e465aa65112d2cb386c8e",
            "ecc695f2f1f144f1be0a9bf4cfe25ea5",
            "753657ba4c9f4c68b121e2839ada12b1",
            "20ee7732234f43d382f9565cde5af751",
            "310baaa6dae740359cf35409f1731c50",
            "4f0a6d80f509465aa96ed5830396a3ac",
            "9e9ef4295d4244dda9c84b75e0d06e7c",
            "2429aaa5c3f6481792fef9cd2b843114",
            "9825ca085487474e94593968d6d1eb9f",
            "84bacf1ee3f642e785ae0969d263efea",
            "5668773b4ef54686a0d0bbe5b2cc3976",
            "ddb054a7640143afbbd9863d363d449d",
            "525bb730716c4690970aee0d8b6c42f6",
            "3d0b8a3b488a4402b68d914996819947",
            "11d6e06b476c4702b6576f652a51b285",
            "d1825f212062469eb9a0f7534ead7fc0",
            "86e96a0db79344609c673bfda3b3e12b",
            "785baf26f2554c3aa9d222713f4cda4d",
            "9b52b8822ff14cda9c5cf3ba4e442f55",
            "bddcb706653b4aa892a066f38437e621",
            "7acd39768c274c2d9f2d19e8df16d416",
            "d4f4636741bf4a42a7fbde439bb7bf54",
            "b215138e19454cd9b1876fcaf49e31c6",
            "286fd3a82e3a4b0cbd893a6691d221bf",
            "538767fa671f480c8af77bdbf3bd25b2",
            "0bc6ead363a6433fb09e8f7676f48bec",
            "a536129a78cc413f98c985e741505a98",
            "11b36661f10449009b7b2ecb8f10505a",
            "719c6d9ff0d9456fa5f31d30794c75aa",
            "e677aecaddde43c99e96c597fa4674ca",
            "f80ad78e4a854ec1aa0a68a34cd834a1",
            "7fa1976dfd40410b8d9ff50468d628b9",
            "f0b4086b9d6a4dd8ab7c8c641737c87e",
            "116b2b93bc624ddb85ef1b24a41fce2b",
            "80676ac019c34b92baafaa47ceb7e152",
            "12f88119798d494bb38c699dc2630a47",
            "121ef0371a6d41bfa0be0ede656f476e",
            "416b2ad968344f5c967652252f196f62",
            "c0f1559dba1e441eb5173043ce4b2191",
            "d5b0de9d17274acca1b5a0392d6cd7df",
            "96995c24c8e14818bbbae9884cd78213",
            "d662aea38932420fa5b08b8df0732cbd",
            "f23441a9fd414ed4bbdce7e81d17461d",
            "082959494a7042208dee69eef0755a71",
            "b9bd13fcda964ae380b29ac561b25a49",
            "66c201e8ee164dbfb295bb4e6c961da3",
            "d7b90ec62445436680e8c2c0d1b27926",
            "1f31e02fd8dd40ba99596befc0e6a0f5",
            "ceabef7797694d1cac246d25eab6afb3",
            "f20fd077eefd4d8bbb0748a4b90c1853",
            "597a8c1624e9456c86fa76f24bb914d1",
            "88e07117710d4d2dbc889adfc55a0d77",
            "ac8d38c8ab1e42edbf33a4b630b9f2ae",
            "f7f8b204dae245ddb636fb4eb54d8f94",
            "72b28e74cc754991b02242e64ccda012",
            "ec8c956f38444f868d87ceee39f7b373",
            "71e99a1067e94141b3c2148c23a39a05",
            "9cc08b6fefea4c62973f575ade81b16e",
            "e085031653ac470fb542db2226f6943e",
            "611dee4fcb094a32a74c06cb2caabc92",
            "8176ee5f2f784ac787a57c6a6d029b16",
            "f8c7c240013b48b0b41b34db742d45c4",
            "8227019275874289924355f615ec79cc",
            "be41b5e5cda846ca879d487c2d18ce40",
            "5d2be93b066a41e6af1e8c47cf7c07cb",
            "3b72759984b44e7fb38c2d3e999bf289",
            "529661b534464dda9f59c3371abe9bae",
            "d60eb622151c417286bcf26b58b3dbf9",
            "614a13ff87df4e9690b3be4b0e9f5b44",
            "44a4d42fcd814b0c8756acd207f61445",
            "dcff45e6507348379292a1fd7ba2a79a",
            "19307f8325744c86b342b22b69eda342",
            "697805e977f045b48b6243766697ff39",
            "55daf01a00fb4a00a7d129337c7645db",
            "b704819b2ab042d4b3c1133eb373ad42",
            "105239d87d904e7cabdcfc61cf72f437",
            "e451cf2b82e947149eaae5f0e9f4fead",
            "9b262f5d8b494eedbd65c8deed81c48e",
            "8ea44610c64e4884877507a3f3e4d6c7",
            "12216884514c4356816c35d60f3a480d",
            "392eaaefb0cf404e9538a74209653363",
            "dc412a8b36e64a66988d0c97a3414087",
            "5d452a60deef4af49aed1acc15aaa41b",
            "a836b47ce68a451ab4dd216c0f6d7f51",
            "543e77e68e174e5fa34a39212299a484",
            "db30f83d56414ae6bc0087dcc2d9ca4a",
            "f0b5cf552e97463ca747841d8b7ec3bb",
            "b2eaa1d16bf14c0dbad5224b76040e10",
            "4cca3704646d4c5281193f088a4f379b",
            "75aff842eebc43f58bb95dd29be6757f",
            "ca372420fcc149a08d0db31021a84685",
            "2551082a7c3e41bfb1dd9229834c7952",
            "c0266575c11042298602511b9da90ebb",
            "3df44718fb164d95a5ff17ec19ca2350",
            "1238a6414a8c44f3baa1efde15700da2",
            "ff279e7496f142d080fea9da3366af90",
            "ce39d5e84668400685ea09bfec8ec2c1",
            "b8789576e3a44cac8ac905e7a400743a",
            "89dc3ba418bb46a5990160c83ae27e48",
            "4d6e3af44f324d83ae04a019aec1140e",
            "d83c9bef0338459cb9106d9732242dcc",
            "8f50efca44a042af8c05c7a30bd66dd3",
            "13d6e78e34cf41a884eee476676bf183",
            "e474c4d417fb486591dd18e3ea4ae42e",
            "780d237cfdcb4375a1209eb76e370b92",
            "f2cf28f57cd1461393963d3b6e4e3904",
            "ed9e8a05e8644859a6ed1fa02143ddd6",
            "35586e0aba3c49dcb9d2e1d4840c79d3",
            "1df623ae1ed04d0f9f6698fd0543f0aa",
            "d9d2e8c17147493ea12b0c159d204274",
            "fc2554b1d02f4e7cbd42f6ea550d56c8",
            "8fc8515a49c04273a85d1ccc64545110",
            "8af83314c97648848b6d4191f0f7f496",
            "876633cfa4c7413a9e809ecfc826a242",
            "36bd06e092c5465e8783b7be064a55f0",
            "f6a8c6f5a9634dfd9576f5e3550a9754",
            "2b9425736d4340e38f8217dc2f5c043c",
            "bff86b06dbfc4ff8b2231269e734ca6b",
            "8ffa3ea955ed48189356284b0b8dd2b3",
            "1ee84ec09314461a8962549a715fbd7a",
            "bd77b04a78da45b6a67dbb7863155fff",
            "fe3001b2d3aa4f5db5a55a720a7bdc6e",
            "3e84b7f82d12424f9553c4e22044a29f",
            "33865cb869224f7cb9d183d095bd6542",
            "2ab42f0107614c17ba380cbbaf69891f",
            "a584c40f50c740f0a0266cffdc294ea1",
            "42124ab4f95241479d641153ef098d1e",
            "6d87ca21095143048fc1b5db80c34702",
            "3c66b5f1c2554fa382f5ae42d1b6d7fa",
            "38cd136dd75044b596acd0d192756fe7",
            "4a707f44a96f4978bafc1cb1b7a68dfd",
            "11c6b649ae22428497ae988a1aaedd92",
            "14b0b13c28af418ca0ddae8a5b8c1abf",
            "9d423e1d8a854e30a4c6f80e401ef018",
            "c65edf1ddf2f463b82ad6e0381c29820",
            "b752ba7af9a44a1b900c7c94cf37e651",
            "be56c024b9a644bfaee5adcad55c9db1",
            "0de6d99663d84129857176a71ce6ae54",
            "1499e612bf3c42b982616ba63dc7ed29",
            "44c89498ded945f8b1d45ac6e3f032ac",
            "37a646672cbb42519b86aae99d898b1c",
            "d69be97fba4a4dfbbd603214937bf4ac",
            "5b270b0d1b9f4e5fbc90ec66720b4de3",
            "1cde851fca2842328e3a071752c1e1c6",
            "718c1d23a8e947369c1526275f7d63df",
            "158794a572cf4e899bf395d78ced589b",
            "b3bdf36fafa542b39bb712b793157db4",
            "d38cbe4880c14197a84da2047c0aef3a",
            "055cf605ff6e4bc08e8cc53a33ef07d9",
            "8b4414d3cbf344b28944e95447c44f47",
            "0d36afbba1cf4297bc669d7f70d4788d",
            "4b7c8e7cb2fc47aba822eb7050072479",
            "b3818c4f1d6841488b7cd2ad6dee34aa",
            "2f7f57b3bd744e03bfbacaee50ebfc1f",
            "9cf80cf0d29849ecbf65d82f3df5cf01",
            "da137e84bd66491bb1b0b9f331d1c1bf",
            "691cb253b09b40f8ac3af05c52894c8b",
            "4d8b2de399ed41d39b93e7597b9bb76c",
            "75a8569053a840beb5c523f8824cd60c",
            "6d2d540271da4cdb92660526085c934a",
            "16ad4f94aa724b0da9ad0cb8d733db53",
            "8ab1b49fec824aa3b31b11b8710e2a23",
            "5411b523b3874ef49293525f3b381ec7",
            "440b570b9d3e4863bda57d6919ff8f67",
            "1b5eda4564fe4f81ac1b24d1c1cdddba",
            "b19a4a60903944fc942763ff8a93e30b",
            "752e6e6f449a4c0cae9697594edc1e80",
            "4a2c4db079b8418da17d572003e1772d",
            "41a26a99575e4c189494625c3893ab85",
            "0f056004e8ab410185c2197ed21f8bca",
            "4188a686d97e45f0acbd7df9c7ed07af",
            "abb711e7c3af41eeb77d25fae4ae1bbb",
            "4135290d7a0d4aa78c097d0e31716cdf",
            "30de87a9e5bd44d0bfb7f42159144aec",
            "f06bb8827e304eefab55b6244382025e",
            "dedbd977f6354802b096bee7ef09afa9",
            "5de4c73cc4da4e0aaca4f2b444f8d31c",
            "ac01fe9e38754e9a9a1a308669f8a8d3",
            "7c99c9157ad247609def5408fd9bcffd",
            "7368fb7cf5224228949abce642086ad3",
            "82866d8ac48a42a2b0b792c72aeb510d",
            "2c21cfdf56904d9ea1e5dc6d54abe31b",
            "21b5f200109c476199eae94631974fcb",
            "4cba619e238e466997e1c4b7bdcb72b1",
            "8412b7da3b8d40348cb3e9188415e3f6",
            "26cf920b082649aa9a827272faf158d0",
            "e161084cd2024d699d7dd887257649e4",
            "1f7e176bac0d487f87fc6388d1898d1f",
            "cdbc2ca326b44f35af3a2f143829b391",
            "3fad5003321c4c24882a65bc52213e5e",
            "b408291c4ee24a85b1d70c82ef9eaa98",
            "138aca50a1de463b96e3a018036b6bd2",
            "86edc7b1893f4ca5b63d723fe3b33740",
            "b81452696d344cc3a42ebcddf3fc915d",
            "93c8612c04574645982cf80bd9ac2d3a",
            "b82e966497d64e8badfb94114437968b",
            "39cbf3e4334544559e2359eea6aba882",
            "839259be91db45dda5456c694bb4a4d1",
            "006a34b4a1bf468b81d966c0990d7485",
            "76c60cac3ad345e89b9b5ad8c0d83ea0",
            "1ee4adf78fac4b668919be87f061a6b9",
            "c5d20f1ad3484e3a82323b6d5e8ce905",
            "3eb4315387ae42cfb66c6bdb1320eccd",
            "a84e0b540c2e49d981a833d78ee54a6a",
            "35d1a0af7a6940049ac8545104ed9a48",
            "22b003b5f84d4303bb2e15c3d4c1f6ed",
            "204553132cda495ea02a2d7d0eed7ffa",
            "a23b3b1e4a974330b6b58a6ce4a79bfb",
            "e69befabafca4b72b9ddb41fcdb2450d",
            "ef5b5eef6f924495bb9ce6807d8b7ed9",
            "1987c682826a4f6988de7e7fff4f7f40",
            "d360db3b7d4c4280a25f8232e51c6ea8",
            "5cfeb8c9ea2548b1a2f7770a8039fcf4",
            "9e826963fce7488d85e068198dec73ab",
            "b2ef0b7d840a4ddfabf9467eb903e149",
            "e5e9bd8979164e51a0d572d72dc74221",
            "3b03cae79ee64f599eeeac68262eedc5",
            "be56df9be59b4530a2993abd1d9690ce",
            "d0839e4aa52c44c595a777eab35442f9",
            "87094815cfc44d5892bdbf940f50c30c",
            "fdadd4c1a4b140fb999fa1687a4f9784",
            "c2da2037ec904e5eacb6270b6b3b499d",
            "89329e9ffa424f5cbcc69c79a7a4fcd4",
            "1dd8fe1d6d9d49ddb9430ebf65b2e749",
            "bc6a6337a9c34d3abd3472951b60c349",
            "217f277231734bfaaf0c698083f13a80",
            "79e80ef76f3a4e04b215497398cd8881",
            "8680a103f8ee442caa736e0706a784d1",
            "49033b3ab9c141dab7742135435b98c8",
            "699c34328caa4df19dc2584f8147a611",
            "5515bb3130724d6f99029da6a33843e8",
            "c1b0ddf4bcf8481cb8807da38b6c1af5",
            "ea7930a301b84ae3826f82e0927e3ff1",
            "8a1512f370e3448eb3223ab62156cc5f",
            "073511031f714a8396f8f45cc1fcffd8",
            "e5fc474c19284e288367bc732ae25b00",
            "0af0d5e1e0a54f40833036426f0baae8",
            "6d8b2477927a4435a70a4601848a2dc2",
            "62e0e1c7d4e746f28d7e42b5e745fb23",
            "d9eb1275dcaa40338f67bb0525e28918",
            "db6fe1f60e874891b9c3ca43a09018f9",
            "8c323706d0264e19ac8b6cbc2f585290",
            "640fd44eaa6d447e9b9913bbfe7becb6",
            "5a363e7df1b04a03ac499620a3238bbd",
            "2bb19245589445cf87eb829c51bf24c1",
            "762eebe80512404f959535a6672054c1",
            "c055f2e1e2f64d1db078bddd211754c3",
            "520ae8f2b3164fa1aa1e97c9479008cc",
            "c1ee40de32284688975da93481270e41",
            "2df9382de464443cba3e50a1a2455783",
            "f8f4b04d8029484e99665db7382a3422",
            "681ea275c745495fae58a62308932106",
            "c46ad80d4de5474a820b7c5f292c416f",
            "fa6ee622f39b45c48862c862f6a561e6",
            "a013b9d21e8e47ac9ace96ba46c22662",
            "8aadc8e9b51c421fa42012dff6f31faf",
            "475926676b544797972451b7a54a725b",
            "7dd04a251c064fae9fd644a85c09bd46",
            "bd935a82cdde43de876a0a3af8c5a315",
            "d98f6c55c77743e1a5abc7c49652288f",
            "c74865b435734ff18ee6fabdc1d70739",
            "8899eeb5dad44226b1e7730b21d80f93",
            "825a4150ef4b4c72acecd15e65c11ae4",
            "0d32b24cc90b4702a7bc553998ce7ff1",
            "1f47b0ab37444990b3ad3a0ff3e551ee",
            "33fdb3548e2540738884baa17a19f062",
            "ea551eec0d194763aac690fd61891afc",
            "3620a51e0ebd450e9611147bfdf0bc28",
            "cf68055b6799461babaa5b1695999da4",
            "7521577a152e4d88abc363ccef0bbd7c",
            "b03e3a797ab440ccbe3a85553d4095a4",
            "e5a4e9928fcf4966835cc0ffd55d799a",
            "2ff3262520654ce3978f9ebe36629577",
            "c6461067d1f34744b1afe29d885a3784",
            "c1e12bd46c824648acda0adffbd1018d",
            "247457e5e8d44291b9d84970136e4c6b",
            "9ff6c2d5a6804d55b53a55281a72be16",
            "341788e69c5d4fd796917a68841d8817",
            "5f7ba2e780f84dcfa349c20bdcb93f58",
            "2f73dadc07c94eed9afe63b6445b5ab7",
            "fd42387d7ea249d58cd22da49522a92a",
            "9ff84c5c387f4679b910213bec9bd812",
            "66ed43ea3d454dd08fcd840572f868cc",
            "f4f8a59da7f34821960e21f7a2b26b7f",
            "d82b8265310a466a995cc09cf4ed88a5",
            "7251c590d2314331ba2718c168733f59",
            "f852799790014985a7bbcc7af736280f",
            "634f699a5f904a3c8e9575544ef80cb1",
            "104fd2b9469d42caa65984b35fa8598d",
            "6bbef2d309de45c8bfdd495d96247cba",
            "254cb3043f2a42d4af1ec9ba0a73cafb",
            "94de3b219c6044a0a113e86e0c0d3a16",
            "ec66a12c43be4b0480efc8555e0eb194",
            "272069a65ab54c789e158fe78ce6f34b",
            "4667a17bdf3d4d3da86f6be796f76072",
            "5e645c44c50a40828f46a0818e365093",
            "d3077a954123481da35bd03d8429f2c1",
            "8036084000e2484898e927b84873359b",
            "3771d540eafd4fe7b4b7f0f3b571b19e",
            "908014e89b00485a9fc77c5d720ab454",
            "b89230b4e92448f5b00f4fe42363c9a2",
            "ca66ea9d6f6042be9233325bc684cfac",
            "2794eb03f65249d29962cddac5bb90a8",
            "0fc1421a4ef84d41bb6d11481508a3c8",
            "d2531dc9c7f34aa8a52126de6deb1993",
            "31c8ac11f76940638cd039d9528ce097",
            "236d33c9d7a043c7bad5fe243cdd81ec",
            "ea4f2ec11bf745c0b41e929f2d35cb69",
            "1dec11d659ee47949c588227237b9542",
            "5c38831d7603405d8c07ee97755d7eee",
            "b0ab0b0c518344538ba046f451fb3881",
            "36fc358c0ffa429093e3854225c1e70a",
            "d132db9d07b44e65a27e0fe9588c8b5c",
            "b065fc176a03481ca6d3ed907c77ccfb",
            "a9536fec71d7478fb9cbb96119d1d86b",
            "24eaae65d5b74b5d8ae22da582029083",
            "3ccde9c9c45f42439f79c9352b70eb63",
            "c3c8093514a04f9599f7a871ab12b222",
            "4d3bea80f33c4833ac2f560835242c53",
            "e3832227528747dd8264f94ff9095b47",
            "172c4b9f84f947b49e27c83d7494b441",
            "246a79b5584c4ff180ba4ef86ca03d3a",
            "4ebdae578b014716859a326f46330c4e",
            "d06f0ce1323548e6ad1feea87e77260d",
            "771659b3ec8840ef997e331c10549f5a",
            "a0d62fd8b66b47cb88d4cb4c41c89e61",
            "817c16b8424244b6b164aafc70f04365",
            "36b36b9e1aaa403b9f6fb44e2768f556",
            "0baebddb921d43bab9cc9ff784679f3c",
            "a9186d58efd94cccb26e8f5ac256976f",
            "e14f08f1334348c4970f66786398af7f",
            "dc63d72d028c45f79368c05961c0d8c2",
            "c38bace1836e4d52a8077cd41220e8ce",
            "d63d0a7ddbbe457487ef049a72702d7a",
            "4f0bfabac12d4e9780a7ff2ac27fcc55",
            "d85109f2e925472e80cc7fe218c010a2",
            "b1f0eb70ebf7447da9edc7053d5607c5",
            "59a90ce2b63e4ac3a4a6bfda72998ed2",
            "f709b5b6510b4b8082db1cef6d3c37b5",
            "d475e5d870074bee80082dd3fae0d382",
            "ebada15a774148e8a057ba34a596ec55",
            "d628264b461545dcae065acf722191c0",
            "1197093f1d5b4476ad3e324b5ed685ad",
            "0440437cc0d74561938cc36d702f0199",
            "a3eb0d8bed9444fb98a55bc373235a3c",
            "f5fb37ddb2fc47da8a5f1b64b745e879",
            "355a978bd3b24c97b917ac123c9ed9d7",
            "a66f8d173ca74771afdbcd56e56610d1",
            "327c3369378143cfa64875e8adff0813",
            "3bb1979ea4b8417284c1bc589824e86f",
            "f3eb53760428453ab6bcfbd5f53a27a8",
            "bf3fa94ea06f43548e18a041480e9d53",
            "6472337445c4402eadd8adbdc9fd40cf",
            "9872bc6e1f5f434cae3fbd0a36dbac91",
            "00644a3b73dd45009d65be4eaaca1565",
            "3a9a3569fe174852a2dda335420ea112",
            "b97c8605669a449e935c368821fba508",
            "fa23d423d4d146948453a176cc336599",
            "c38bdc514e764d4aba18d8b0770b732e",
            "5bacdc722920438eab132036c0ed65f2",
            "0cd5ba283162485ab056ee138955def4",
            "b803ca916442450fa8a260b28e330413",
            "4d19451b2897475580a3589a4f0af537",
            "6a37470de6b94169ad63ddd38c6dd793",
            "1f9a0e30abd748db958febb92c02a250",
            "bbd163b22f0b4deabcbf6fffa9218e03",
            "fdf45e66ca6a4f91a9ae5211b7867234",
            "a0d55ed41c50444f8a9c9b7f419d4b0d",
            "a394d18c40854fd08cec2d193b2ede90",
            "664a977b82af4cfebacece5f7bbc5b82",
            "14893316d0c444a9a0944fc86c6ab6e6",
            "0d57ad5fdc024b129d64c40f62da7b55",
            "e62da5effb5b4fc39c760f29667c8154",
            "006cea926c5042179e780912add6db66",
            "b9351b991fb44acba75e9ee58efdb4b5",
            "7b5663ca3ad2406e83853b6024205234",
            "cc2efa6821a340489dbbfb689ec16380",
            "8cc8e3591218407288dfd942364512b1",
            "209bb278a9bf48ae88594a01f7c8ee39",
            "8cfd75ef396d4bb8be967536567c2c8c",
            "b6f20bf80cee477ea572449df4df123a",
            "6971ca8b80864f7eb0c11c50a6a27615",
            "ce7800ea106845bba78de3b1b504427b",
            "bab3572057154abbbe838a97939436d1",
            "20200427e23042fbbddfc969d761ec12",
            "faa2375a8e924d439955c9c3e4c1640e",
            "f4efb820f8a940e58da5a7a1597e7828",
            "8400a66e9ce14826a59f0218ec26c983",
            "15568ce5613444acb0ff158ee91dd01b",
            "a817b9bb0759445b85bec280baa97765",
            "9522f22458e749efa1908aa486132391",
            "9c52122e15c84c94bef1c22658106f93",
            "53595dcdc54f4f0d87137b67b30e7aa8",
            "b864f40a201748a08ff0f008b2aa5dce",
            "a7a3bbe691644e7d82c6d6f128ccc3ad",
            "d10b448315e74d24b52b058007d8c2da",
            "31ddb58ffb1f4e1e9a52d512c55200ea",
            "a52edcebec75488b91d366ec61a0cc68",
            "f68341f8a0e549b2b0ebff1d719b67ba",
            "8f5d4c5d77d84472a41d1a711fb0c960",
            "2e1ac2b059c34d2abb9290c45b86e78e",
            "63c96262dcc54eeb984c1fa704a3b222",
            "d2bee753ea0c4f9a88b83467a2f5f72a",
            "4620470d16b142c7b320ac2e8bdc1551",
            "e411d4fae6344e25a61266454364240e",
            "b6ae32c3db7646fa817c659dcc165994",
            "fe945afe0f71447f8a5540e08d2e49a0",
            "922b4a73e23d4f6db96c6f422d0abb5f",
            "8130d989fc81498991c61babbfcbbeda",
            "1564ac1bbc634858b8a57bc7c7f9ce32",
            "d105f6f554594e2c8f7f2bab054c2572",
            "9dd2b6adb37a460d8364e0eed9fb8887",
            "55261b5f184f418597f306599c7ba2a4",
            "481439124be146a1a740ab943a866893",
            "3132af60dd1d4d20848b6b944624cab3",
            "e138e26d36804f7aabc79c5844ce2e75",
            "8d860c3bc199469dad95bc0a7de9b605",
            "6145dec9259c4586b5e71906e615fa79",
            "34593e9c14874315b1d9ecffc0efc917",
            "b2cec74303854dfbbabaf5d450cbc80c",
            "147519d93db34c098530960a0d88cd5e",
            "89b85208b4aa4d9ebe17805bf32bb9a2",
            "418be88d4be44d24a9de1217e577b3c9",
            "ab87d35f095c415a90d831730d4a5b49",
            "8fa8fbd72bc84dcabf17ee17ef5b52b2",
            "53e4d841dacc458fb832c30daddefbb1",
            "2e50c754cee24c12a0e3aa202ce44671",
            "9a2003bd11ab4ca386a7f3b19205c230",
            "15697c84a36e40b588abfa11c06dc7f4",
            "fa2a8e69cbbd44d891fd8caf00bd485f",
            "15bfb5945545447e8ee3097dc522dedf",
            "fb3b9f0e353d40bf930d64ba8faea460",
            "0ada7e8903614159875540145aa93b7b",
            "49d5ca0fca274e4e9a055339010600e1",
            "0b0657819f8141d9b12a2efe28951fb9",
            "195503c453c34bf0b478193eed9799c4",
            "4474ceb825a14a07b47f699575d2facd",
            "1a33a1b3259142c8b7fec66a020358ea",
            "bc4bb54db99e4aafadc326fc540cd809",
            "2e2e013a9aed491c971e596625717951",
            "8131a334ead54d6cba7cd168dd406a63",
            "6cf2bfa53f0546ecbcb8801b5ee72cb2",
            "985fecf79d6a4683b12fd4f46cf02fb3",
            "b2aa5777a7c049be8726bb043c76189e",
            "c5da02003d5b4934a49316800701102f",
            "a055bf1713f0425383cc8706f8fc8924",
            "01caf1eb0eb84ac6abada5ecba75a2dc",
            "b5f00e6995554943aa30d144bb1007f7",
            "c4b9ffc4071b4331995843d63a1fb953",
            "477f8c80fbbe40df9c3f8207a172c2c7",
            "ba0e49d5533e4a2c99e3cd2378f955a5",
            "e6e04f5c8c85437e8babdca4c4e02597",
            "ced88537b9874fd89ca6f91f8a3727b0",
            "67eb102e64034792bc719bbc1b80ab7e",
            "4a5e771c9cb94085b760c3cbfc1d8b36",
            "8ca87e45e5a749f299d2161e5880be06",
            "dc89773ed9424dd2997b3fb0275322b7",
            "4c9a450fc61c4deab0fee73570e16223",
            "a7af5317d7f644de83e0b371b36c232e",
            "51a3dbb98c7c4c108bd9cfedcce3f9e4",
            "34da91f7602245d18669d4236da19b74",
            "a1dbfd03ad7e4b41b2209e5f741cdd87",
            "42a85c5802364c5e85e4962b375efcda",
            "a5ac5c889fbc435683782261d9d35cfd",
            "5e8d51fea0164300bc21056fdaf80da7",
            "f1224dcd50b44d8ca0c5e3d935f779f8",
            "2c12891f9bee422395578f98de136c6c",
            "d887db5f8c124325bae8baaef8fb3dd7",
            "066d7ebd78244a71913058ea13da5f3b",
            "0eeb49c944c44148b23400033d36a614",
            "066aed9424304cf49e33bcda3d550c08",
            "9e2ff1328f6d4537baa7af9a8a221e7f",
            "b82a1961bdfe4b65bd228d523ed017c9",
            "09857a9c240845d4b1796b169c83bfdd",
            "d3b53ba897034b769435839bb86b0218",
            "5a31e08240bd428bab161154140e8a41",
            "cb9fad7813c549308024b63b6e42fc0c",
            "39adfc97168f4c07a35519abc4441abb",
            "6d8918fa14a84112a8c3ab2195875ef5",
            "b9b287453007400fa06dbc0a20eb7238",
            "11175f710d2e483fb4dea259456e32ea",
            "55ef57caa5544e6bab2a161de169845f",
            "408d7d006e2e43a6be4a87682fe5aec1",
            "d7c4c5ac18b64339bcbabeefbb4ed8f7",
            "2c805e12dd0e4bc3904d9d036321f470",
            "b8738fb87f52483cb5bbfc12294fd12d",
            "8054f9ca545846d6ae8d506c864b6152",
            "915025916a59440aa22c79d7c9aaac89",
            "3b6335001f5d43f0b9c506a1148ec923",
            "977c1921e0064aff87d65a7a543ab894",
            "f91cc052a3cf48e1af3cb196e06feee4",
            "87ae51c070a1423da2c6185b55eee546",
            "9fb53922bb25452b8e85b653a57e840d",
            "ad44d35e17344ea99215a2399261ca75",
            "255f102beff543d78d3e47bbfc3a41fd",
            "70f8c973aa6a4400bff2c4cb63af1ad2",
            "44730c1439774cdb80ca00a3658991e3",
            "f8885a3643c54a1dafeea116207bf047",
            "ae4f970847364e01a585ca5fdf53b344",
            "57174e4f74f2456195b567f65d9afa7f",
            "5fe23a3e895f4621bb01692435b0f5e1",
            "4597e54bacda48f6b1b4896dceeeedd5",
            "057121a9649247b697fc79d36a2dbff4",
            "120abf5d7d674ac894b55e38056e531c",
            "ba108e52ec524325ab030517b6cf0c0c",
            "7ddcf5810e8a4684bf29850cedc513fe",
            "432b282d484e4019a899425b025e1744",
            "fba786cf486a4771a174133fe548e234",
            "5f0baea60175432dabe87b060b14951f",
            "dcc241160efe4a1da3c87167116ce8c8",
            "bcc10cb2257a4f1f9bc2c26a02df392e",
            "83b5f3b60d1744ba9016d0de70ab73b3",
            "ba3df70138504603850908d63a246490",
            "b5bef164dfe44e9d928a77ce781822ca",
            "e641cc85ce1c47daa21ed60f7f788605",
            "e2715e8504914c5f8cfb5315cdc9e3c7",
            "5e7f0689c593477c92900f1f2b4eb09a",
            "4ebe0d6b493948cead6a144ac2cb770b",
            "7624cbad734d4984b3564dca9378ee67",
            "2e10d33494324dab91b76df4eefd413c",
            "6bbb9ed2e35748038383148a1ec58c22",
            "0d36077b061a4579b0e69a5edeb1b944",
            "ccbd67dbb2ef409585aaab0229c2672b",
            "98eb0eae96804861af7fe170b5e32c74",
            "a6f84c84c3144f568aa21e1f5807ae8e",
            "0ac1579b46724267ba20273d57f01891",
            "f22224da871346bd9244763142c2ac30",
            "96b72bdea942413f90da68576a421ce6",
            "1cbb5736f9554808b8a7a2bb70054bf7",
            "aa6d3825e9104068a9ef1753e1aad2bb",
            "b2834c42f82c4e8da24903a42af35aaf",
            "d90462aaaebf4278b2f19d19671d7fd9",
            "016c1c17d0a040f1a06990c9c2441a87",
            "fd1f7005b27c4be5ab4eda5e92ef4e31",
            "9dcbe956f8d249c9b6f88850bceae8f4",
            "9300c255e3414303b11619abef520eda",
            "24f9a5d4796a410eb3d9154332baa5dc",
            "92611b4194eb424bb37c5919f67c01e5",
            "b5770a7d33f448ff95a8b3a655375604",
            "f024205c81c3400d8fa3d4f50f6d6af2",
            "50e49d01c5e54233acc2aade5b4628bc",
            "f28a028f356b4bfeb7c121b0a4a32743",
            "f1d4c8eb37814e81a25d0395baa72a14",
            "c27a31cad1e6465ca3662b876edb18c9",
            "d5c0fe61e34f4967af1819e74f6521e0",
            "a1f90b56da69460e80dda6357e8f086d",
            "3036c3f6d74e42bbbc2432cbd426b443",
            "a17f37f8297c49ae822739a21d68e2e1",
            "9abe7190440a4121baed26eff58428e0",
            "caab3d3a22bf4bcdaab3bc0517d7dbeb",
            "9739e67f69c544cbb977952bd638fcd9",
            "e42853bb71bb4c65947b73621934b180",
            "e61cc4774b274efeb0512bafa0d0ccaa",
            "83f5786a7ff44de6a6d82ff2e10ce560",
            "17a904f084ac457a9542dacd7d1ede67",
            "47ebb0e94f104ce49cbd467830aa8b58",
            "66b262647847455c810901df79dcfcbe",
            "4d68a346013b4c03a3d272daa054abdc",
            "a0219b4754e24f25bfe8269ef0d2863b",
            "1163bfb95be24f5b913d0faa2c4bd3a9",
            "e023c83202a74bc2a8d711e0925b08df",
            "2a378016fe2e413ab20901a072ecbf67",
            "b2e87a59e6f34d9ba1247effab284c09",
            "ba87be2e826e478ab556eb1d5861718a",
            "2e195f7076a84be3b3101d97adc00a61",
            "83e69c2bed4c4e3eb6bc403c5cc79b86",
            "dc8629fb41c248ee9925b0c7de4ec20d",
            "d968d92d3a0e486e911cc7ef42d4b792",
            "2b9ccdff8f3840968b8a5d3c752cb522",
            "85251aedeb114055a1684ea5f23c6c46",
            "bbba64987cd94dd79871514bbe1a9cb1",
            "2630b65410b14eaabb9340f986a3c8a0",
            "942be93ba891499c9e0b8189b6f7deb0",
            "bd950d6343224033bf0835ae0dd34f7d",
            "a559779168fc48759a75b7b257fd6f4e",
            "98b76dbfa74b4df2a6b72a5f974604d4",
            "0f6f652cb73f472e822dc26eedbe2a35",
            "bc7b3db04bd74542acdf7aaebc212048",
            "c15c9fe2549c498b8d9aa4ac0ce48eee",
            "22dae9aaa7ae4198918e280e346b53bf",
            "eac042335437427b8ec4c68af02d798c",
            "0345e0afdb0a4192968bdbf93760c21d",
            "b196790aa208478da1a4df2e9dc095c0",
            "d1c6b5364f8d43fcb4e93b94ee2da067",
            "fdfb00aa79fd4e8d81656204141a81da",
            "1cd8328ab8f347e7b1519cb345ad5865",
            "12523a12fea54d6b9f13bfb463fc9964",
            "fef72fd6de434a2e927db828ca9ca052",
            "29eeb78dbb5347f38f61fff9ba2640b3",
            "afcc28dd5a5844639f49dfb867f46288",
            "16f2dce8a38845febeeb1dff49169b9b",
            "948037847f6347528493853696c06f2d",
            "db76eea1be13487c9e00189d91079f0d",
            "28acced19cd745b8bfdc5378c5f1edba",
            "e52f76e4f4cf43bb828b6dd0905f8e53",
            "400e453617dc444698898aa483b5caf6",
            "41d8bfe2081e41329ecf3036ff225a2d",
            "7598078fa3d148bc885088d99c7ab6f4",
            "44a18e9486094df19dd026169201f11e",
            "eb0a86107fc548a9a99a8cf08131a1ff",
            "e4a51e2e7f9242c0844a47580b23c503",
            "0dee8f275d0b4f3b9618cfc5ae7535f2",
            "9eb6e342aeb849a8adf6804017d97cc4",
            "1a3ebe36c0a84977a9dd4256c5e8e360",
            "b29e979ad5704bd1ab8b9d8993ffd37b",
            "d37ea77bbef24c11b516d80585e76243",
            "95180ff3eae84b96a36122b9bae44a36",
            "a5cfdf7d5582400db1e42f3fbddf5042",
            "3af6b6b860394921b84340efa64979b0",
            "65389f6509b148808618d02935334249",
            "7ef399a1568547a29b030d1a96728588",
            "9b4b22b77e124698b44f60ac06b374cf",
            "f9b7c8ee548f4ec7a192049b368b736f",
            "68dcd57efbeb4f3cb12580cc969f07b9",
            "26d0e45d7fb446798708f07f6552abc1",
            "c2cb826562c343ac8ae49f6683614d53",
            "10544dca76c44e8da5a58658c27912f1",
            "b5c0a335dd5c4db1ae3d67b53ef94fe6",
            "fda1d0d309fa482bbf7ff6e799669dd9",
            "38c06bc4bc5d4cde827af850473a1d17",
            "6fa529f333844a54ac34b11e6e638913",
            "2b5841bec2e2474cb621a16984ae6958",
            "b0942ebf04264ffdb500cb05f6083cc1",
            "b34b1cc36dc64f1b96c8191f1b0c333f",
            "1466fb788cbe4feb868d81f2965f1279",
            "80b24b3a1b1f406eb0c8e9f6ff7d565b",
            "318b38828ff14324a2ecc8ca888a1bda",
            "e750d52e3cab4236b3b4f513759b30b0",
            "535773642031419d940f9e462daad2ad",
            "7fc07deb8e054a41802b5982b3dd59ff",
            "8f401986c009468d85018ea3de35e6fa",
            "14dbe98dd4064ad18d2a0a96ab3d4512",
            "1f3a1d33bf7a4a5197019ac7898d1998",
            "dbd6dfa8edd7497d955288ffe11a5352",
            "4fd51c987bf44361afe157192d0a37bb",
            "8cb8c9c07d3a4b1b972cbc0b66fa4901",
            "92af40ff013a4dffa0739cb34ab0a0e5",
            "ddc8ab4a2ad04a12950a60658e8fcf1a",
            "3179cd28e9474456a5a8b38a1bf6d88b",
            "f7eb8d73e7c743d59a40a064bbb8608b",
            "1d04d42836bd47a5b2a176371b34411e",
            "0da2f58a27094cecbd7b33b8d53e84cb",
            "e5c5c361de194719a7403d0548939072",
            "bff0bd7dabb8485f9d929ec187e605b3",
            "12d659db3942441d8b309136defb3676",
            "c3a8526648af4f348b7e08d92bf35189",
            "bc8bbfda1f5c4a00abb6b2c4c9673fb4",
            "0195182d48664eb499d0066b7a4f5b2a",
            "a18df2665eba493fa8e5e9dbac674c9a",
            "8dbf3586cca04f239f86f2f4da248929",
            "d1fcc6b00ed346afaff7bafcb2e6321c",
            "8ca1c8d2e59e401aa9fc35166acd627e",
            "26bacd069d044e72b28afc1baf8c848d",
            "9d7609809b1a461cb0788e60e121a05e",
            "22010661104e45508ab38f92c8a00782",
            "9e52345463494b43ad27f77e3a1a4e22",
            "9579c3f7a45b42c0b719821931dbcc24",
            "5159150fc84448ce8af6fd061353c5f1",
            "874b8bc8a7e64d5ca09e4acbb26fd6a7",
            "6036e2a373b64d508b56b0eb2a8c26f4",
            "241f632e278c40f78cc84fbc0d187239",
            "f0091b045d9f49619b444576bd75a1db",
            "347c49f676314a7b8d367720fff7ca6e",
            "524ae4767adb4537848fed0b95e53bc7",
            "1ed1bf7f86d24a99b0bcb133c4520990",
            "efa80a0975e24fcd8edd0bef2fc8a39e",
            "8bbe3fc4d4b6494582fd0e540ad30515",
            "52dff5b6979949f7a1035d3ec9261e2c",
            "7080bfe16a9f49ef9df8f312a85d4e3c",
            "b1636a8c8a984104961938f83bf7f422",
            "992e74a0477a4bf7a6be4c6b75f529cf",
            "a21cb95da05f411f906f433d51596a5b",
            "16e693dd9f44483a9f9061ec73f91cec",
            "a24f71fc704a4232915948f59167bd88",
            "d343e64ba9cb4aed9f10dd1e209ba102",
            "51850f7be56e4f3982eef8ca0cce68e1",
            "70a4fc6bceb2428aaea104263521153f",
            "29122eb4a8df42c890a33f4e3db6936b",
            "36594d3c93b049fca449cdc32fcb9e07",
            "62b700f629674f8f92799a65cc06d7bf",
            "ecc52b465ca64d6d8ec5513d24216c87",
            "e68480b686c641b8a943f3f875ec917a",
            "f6d5ca101b51411db849413727943394",
            "589729e9105f4f78a76b268e2e58ffcd",
            "b3049b017d0242ae9fdf02ae09f025b7",
            "bbcf667850624297b66276ef7552d8d6",
            "82da68781fb5466297a5e52db16bd687",
            "ae6206ae7b714a37ab4d87bb6d30104a",
            "4f8a52d7fb2c4cc8b5e588c29d923573",
            "e338c1329f0c4721a1b72ccdd37ef86d",
            "43b4ed10ccb04486b51fb2a7e02abfe2",
            "642ba83e6ba64cb09b7bcedcd9158396",
            "ea296625ee6043b090fa9f1afdffc4bd",
            "62dfea74f8764484a5c80cc04fccdd91",
            "e62c903a7d6f431a95f864448a3c8567",
            "36c677e91bb54525aa3e187cbda9d9aa",
            "18ffd4fe9b0d47cd846849f6cde93edc",
            "93b598f4031a4f0d8a9b5f32648a395a",
            "cd346abb7a3f44fbaa61aa47301c8356",
            "c0870711dfe24c1e910c27cd18ea91b4",
            "f62a74d69e8f4289a62e50b0d4b25f0f",
            "2122c5b67c034a2a8f58c040355ae153",
            "1fec4d8211eb45719334d9b92ef5a053",
            "6a18b91b508246dea836942da154958d",
            "5d97992ef2d24e3596865ce4861c6490",
            "8d9c73f93a0b4f4cbca7efdedac571ed",
            "1017003cf2bb48e79a556b32d0370d26",
            "18925a77c5d1454fbf13a376459fe93b",
            "4c0086bce3314bffa048f74dc11a9dbc",
            "83bb0d85997a40b88bd7c9a9db0f6660",
            "e7f12309bac1464f88ddbc4625c29517",
            "9f4398dde0cc42688301b2f912459aab",
            "16ac67a118094e2aabb08e4efc64c31f",
            "2180f04096fb4131aab6094b7b6637c6",
            "623723ed641a4da0ac2aa589e7fc3593",
            "16e131fbf25f461fa88ca33467aba9d9",
            "d09bd0f26e684859b6d94a8b26843435",
            "e622f282916e4b3bbd25b3a84301cb80",
            "dedd96fa907f4a36a14ce74597bf1360",
            "6c0d7387ea664a01ba846862b10effb4",
            "b91abb00e16f4dba87ba190979e15151",
            "3a862496ffe94cd799c905836c208b5f",
            "288463c945714acdbad6fb1723246d1f",
            "494c3b6a3dd24a48bfbe6f5907ab3c48",
            "3f1329acfd544ef89ff32cf91738fddb",
            "ab1cf0e946fd4eed9d52c8388d404fe6",
            "691d0ed348f34d6087408f1fc5910079",
            "c5ab68b1165740f7ad52c00b20770162",
            "36881d3cb3404318a113767637a761e4",
            "950a88b9ac0049348ae25b917a797023",
            "d7e2ce09d2994b32abc0625e48dd0011",
            "7f81b19ecbf14d3fb6c854104416be00",
            "b8c9d01898eb40dd8685818611c1bb8b",
            "ecc6220515e54264a37899cd946e7c6b",
            "76e6a95032a849d7a4b9c9f9da3bd0d3",
            "637b253c71e14c3f9cab59cd3f7f2374",
            "9b25511f1a1148f78203f1f6c37ce0a3",
            "05513905c49e4cc5b2a0f933eb919db3",
            "f8c9bdb3ad9449ae81d22e1f61ae2711",
            "86299d2961e4423ca22ec41d90d39353",
            "2713f3e324834867a4a4deb204fe12d3",
            "e2f4162dd3ce4a3cb6fe5dc76c4ef318",
            "8fefa6565f51476da007ec71b2ebd6e6",
            "dba10d042cf249febff6c690fa0dbc10",
            "f2c65f56cf1f472fb4fd187ace448083",
            "813de1d0bf914d9a8dcd67c7c54ca3ff",
            "8439ad17b4374fa9bca92821a7f95cb7",
            "07ecf1c03d854c369f2bca3e0af832fb",
            "799e8966dbe849ccb93080f3903ea24f",
            "77a6e8c87eb54f708b572eea8bacbe95",
            "c232bee78f1b4d53b143f2742282fd96",
            "da4eb6fbe4fb47e3bba36abf39a4ed4c",
            "83189c7ea45c494e8bbed02ddcf7a40f",
            "78473d763e9142d09fe57db97061f495",
            "1845ebe50e244f069af0578cc02fed52",
            "caf18c5d94a7418a974eddef076904ad",
            "815284edc977435b9e366922952e8c39",
            "00841785713f4c948481b438f0449593",
            "2dba1b1fd77f44ba955f45caa27a3157",
            "1003240b4d04490fa98e6fceac822802",
            "4b4ebf58870c4256a245afc83ad6aa59",
            "b4fe3c98b4b34320a3f48817865614a6",
            "ef2bd07ea005466daf74834cd04dc0f4",
            "bec598369bd34288813067975e78cd5b",
            "58ee58ef642849acabae68910d2b8467",
            "e1029d8f2c9d4f3bb3296c066f3018fd",
            "4a76edbc522143ed8cbac523bc89642c",
            "ef45cec4b5864979960a7b6846225d6f",
            "f1defa092890484d866f2407f18f1957",
            "7b6e01ab4b384d03abab0ebb95fbae68",
            "646347f598c449c19bd279ff6304d99e",
            "68df4ecca34548909ec415930cf00575",
            "a82f6feb6d324778ad2b814d0772bd92",
            "888c15a5bb724357a0dc1b88b14ea84b",
            "e1d60007dfea4d278eea90aff71261ff",
            "cbd168e4677d4eaca30558aed05ed162",
            "121d39aab75045e2b5f34bfbca5197e4",
            "6f12dbbd0ac94a1e8e109c86f89cee45",
            "4b69792721a6476cbaa4b10e71ced7c5",
            "15cc64f45b544006b45c8366e6b93aa2",
            "b61e9af29e864dab851a54f903636a19",
            "feda89a614374f838a0900013f7a2b3d",
            "ed26f0ceedef446999291b182fe6969e",
            "2a2f3b73c5ad4199929d8f4149265ab3",
            "949ba3a9c54047738e22e737e88e396d",
            "27bdd1e55d9d41e19c80d58f97b41204",
            "01a33f21ee26447fa0d280fab7bfffa3",
            "817e8712361d41dea3680a2747accd43",
            "245e8b9814904b43a6981e2c85643ca7",
            "fa662df550904472b1452e5edb15f5f5",
            "65151eda4e354d508bfcf0a6ace8b590",
            "4e1749c310a64730aa49e00b36080fcf",
            "4f9bb4a99d17425ab2f06bb3774e78c2",
            "73d060da49bf4db78fe66cdcd84662ac",
            "7718ea1e8c1446aa80f017ea9702671e",
            "bd79394e62564dc19c674274218825bc",
            "135c6430ce06493aa6eeb635e80de39a",
            "b6dcec2a82cd4e5da45c3ff6b112e809",
            "950110d5bb5a4d479e2e42c699e1d389",
            "c330c130868d4dcdb0a3ba48233a63f2",
            "c4a069546017401e833909050a3d3926",
            "4984b1a34125441eb5d87a24cc7493e5",
            "a8d692a6326c47859dcddd3d40887b71",
            "969236f8385245d99c145d00caf4f080",
            "250595ce7f79426c9abf92ba49ef4ba0",
            "3cddc380162e4c1096dcdc6ab89ad7ac",
            "07bd4254b11e4a3e92f68364d9da11e0",
            "0de35fb93bd54e978a422f58d6f64644",
            "893a19aa1e8c46a3a27fe1a9895bf1d7",
            "7a793981024d40f7a7b7fbb1cc189a51",
            "7ec8d2a2b1d3438e85377a90a1e3a79b",
            "35e813a7ba9a42bbad200af4201ebc25",
            "6f2c4a021ef74845a87dca15c2beebc8",
            "444afe6b13014097a1677fd11dee1019",
            "954b2be69a2544549d2e6a5305cc68ab",
            "ad38486ab49c40d78148232e2e26f29e",
            "6e50ade721cf4108ac49a2df10f87ae1",
            "b0ab363a9aed4037a8ce8272da775953",
            "89ca2f032fa544fb88436c161824d8cb",
            "95b50c97bc16466d92724e3f8d8ba26f",
            "91b89379835e4a5298d67fef48bbd1fc",
            "884cfa01b9e547b3b60585977a93887c",
            "51292fca1b2b469d89cf5a319804a928",
            "2b115bc5b10044759d33ce87518af324",
            "128c6c31964c41ad9ced16d4f1b5fd9c",
            "01ba8bb6b7084d6d81d2828eb44164f9",
            "d401eb43b52e409a8d5ea435366516e4",
            "f1fe3b16a8f745eb806672f249d2543a",
            "778ab850117e4077b5c81cbdb088feae",
            "3004e206f17f4d5a9e23b05d7147c563",
            "7c6de52232fd4a0c809c408c4298c803",
            "59d666041963419aa79d6d616910fa23",
            "06700d4c53be4ec68ab7f794c2507058",
            "c9fcc6b7e635466985451e7e1fce0008",
            "0bee41801341469885266c8d0f796049",
            "b1349670de1c4e97be21b27dbc906974",
            "d889c1bf116d44f08291e8fa3e39a12c",
            "7df1343ffc2846fdb436bd9f69e1dc44",
            "7f0509f7aba3414492bece5e6617233f",
            "8479a525d7b840c3a4d8ee23a3baed73",
            "ef71158459f34b70b82a3a6c27439d1c",
            "eb475581e6934c62ac7bf2263d94c261",
            "e035393ac4744125abb7887bff7e02ec",
            "83237910e70e49d88ec46f0d84eb7a3b",
            "55e2e1c96649408499bf76083ce57c32",
            "a6b207a02c6644d49d0062b3f52bf85e",
            "a2cae8d405b848a28cd44e00dc8768fe",
            "c89f22eefb924a03b14122e3ecca720c",
            "26d5854899ba4bcf9773be614960a474",
            "df6d3f5be6a94cb1920d67f4d4e41e19",
            "0f6e387f2f484ce7b17c4f52d6901b4b",
            "274b0349b7c84b01a13398a0a57367ec",
            "b93c39d88483402ea1bb51250d57df6b",
            "c6abf1707800431986756e5bbb510498",
            "a7a4afc875ea47f39d605365d7aef75a",
            "ef5774811cf747708f92aa7a766e5e83",
            "166a9991da4f4cb681faf6c375c45f40",
            "2002c22e26aa4ba8b39057f9e132df2a",
            "a567ee66c277422b9784c4d4de7ebfa4",
            "5ff13d7e563c4c49ac191773f034aacd",
            "7d9da5e08fa7448aacad3f31f91035db",
            "1aa7d074723a443bb9195b35fd9207f1",
            "0fc8515e4b52411da05ed31034189956",
            "00a64fb3b9114a93b5824a746051899d",
            "3251b977c98941559ac94acf2e38b8c1",
            "5a9a58532be447ba8ac4c624dec38191",
            "5e10a67c1dbe48e7bf07a694d963cacc",
            "b877a3f6831e49888764b491ecc2c79b",
            "d028593ce4ca4ee0ac0d86497cb5157f",
            "5ad8ce96dee449ab861a0b558269e44a",
            "8d4c72d0425043eeae241c37847bdca0",
            "1ca58f9cc58a4135af03a344b8e89fb6",
            "c272c84182a7408b9632dcab88862e1e",
            "33c4a3d84b914bf48797da76101c02e8",
            "9df2707a323a4fdbb5fe4db2a7c79eac",
            "8c63b3782ae8448784f25e767629e44e",
            "cb141d029c22419bb8bfef71a64e3410",
            "52d93306bd6240ac990f002930a40210",
            "2c061474f792488daf4058207020021e",
            "4b6630b4241a468f9ed19daaca4265b1",
            "9a0805ef98a04e63927e8434d8c12371",
            "f150e7377b444af7be02ffb82c50ecde",
            "5f834e8c90b44ee0856dd0ed4d2113d7",
            "403881aaeaa242eca90268b3bc3b8d77",
            "03870d6785c8475f8db33b3a0e6f0f53",
            "a005f99067814ba4aba44e8600f2c5bc",
            "869354b5601e4be5ac32ecd5caf09644",
            "ca62a812574d4aea8ff1279020067169",
            "9ac890f555b741519bee1404c1e8439e",
            "20994992e4734130a6df3ab9cf183b7e",
            "81593c8923c5496d8b6259840b48c5db",
            "fb1cccdf22854bf39cb8cfb329f2af0d",
            "34e4cae7c27b4db289db9ced2f622207",
            "14f50323d4524e51b0f6e7f814027050",
            "f59a033066fa478a995228ed9e828b33",
            "e273a07fcaca4948832863663ce05a16",
            "fc5a59d9fa4b44eab4aba84cac9834e4",
            "4cadd5b1775a4160b8b2986486fa4306",
            "dace1d5b4e26408c9f507ec4e36121c3",
            "6115ad9904f24f97bf577bed2c099904",
            "40a31e992964437da3c4b11ecfe60e24",
            "1190cba2b79b4ceca9af25238851d630",
            "61beb03b2a714d1088a9a97b5235d2de",
            "cb124c1c377e4e0db4ed9227d40bf837",
            "7cc0cffa01314de4ad767893252dfa28",
            "12353af16b9845c9aedea73d9e6bcd13",
            "1fd5534dfb534a618f24a9e3da957284",
            "2221a8acb0e942f8b3b076dda8988975",
            "c439f93f7a674ace8888c77690b61b41",
            "02d2d00fea28493c9d9c021cc3957f4b",
            "d8e0618090d24629a568a246d282c405",
            "09e33e80b21c4f7fa768ccd96361d5b9",
            "3d4bbda9f45b433688560ddb3faae6d2",
            "db64f4f4641d4b43b2bf92feed8c602e",
            "385e177fc0264f52a8601c4efd4ee18c",
            "dc47757f0f6f4055983b5899a2eb4597",
            "5c8989d00aca4a9985da6e6c5fe03b99",
            "5053eb4ec85e4b0594001a1797c0861f",
            "eb9d43ac8a8047eb93d9b7faf3288ef7",
            "e236e3a011704a01853c0fa784621d1e",
            "9a1a969a51a349e1964925a0ba60b7c6",
            "15aaded212b040199332c658db83224b",
            "7c499c0313ed4c0fb39449fa8278509e",
            "511548ec870a4d5990fbdcc573c8ae75",
            "31a6941a5bba4583bff4a5079df7e8bc",
            "461b441e27c046f8ac1d0c260f8f68f7",
            "9ac82ac4d17c4e068024d2b82d3c8d16",
            "0af70a94b9d2439baaaaa3f1672fd4c9",
            "25bc352f48644ca1b2f42da2758f220d",
            "1d48c82d78f34fd8b6cf7ccd150ab8d0",
            "ab3d4310e1c648cf9c385611bfa1a721",
            "22eac16f7ca249f7b3845597e7f21e00",
            "3aaf1229ea0145f3b677da99e08f4a6d",
            "32076149e6c541af8091311823736493",
            "7f81484e71414888b68b482e33253120",
            "3afb569889c340c58e2b8ef568a68717",
            "162361d1a0ad4163bccdd1ab8b93bddd",
            "401b3de9dc644a9fa95e3be2de681e10",
            "ef7e5d42fc384ab292bb724a49fd6cb0",
            "6374ebad4f164e90b2e8202416dd4f34",
            "587cc38d265742bdb145d1eac244d05e",
            "71367627e8eb426c83dd8265c895cae9",
            "1f71b7adb2544196a143147c01ff9990",
            "2aed3026714d400a8a87e154d5a880ee",
            "c91e7e2bbbe8430cb3a760510b90782b",
            "3ea44517e16643a9987548e5669a422d",
            "194d1fdac15741f1bf3de4bda3d443bc",
            "1d172ef53d2642b7b2f8c913a3139b10",
            "cb7adfc9b24449a69da9749c347ab7ec",
            "f3fca0fd8e0e4ad1862260284604b8de",
            "d9f7a529d6254f9cbc20ae0d86cb834d",
            "0b3b6e6228144f558bd2617dcfaaf96a",
            "83010a6f9ef346f0a1d746dea780c7ee",
            "401387db60e94229b63e710bb2f5651e",
            "edbb47ee1c48418b8015b254a3ef8f29",
            "d278af7892af49bca96fe861cafbe3a6",
            "07b71c83c27d4b46bd2ab6ad7ea3288d",
            "0a08867cf06349d1854fc9be94b180d1",
            "8d0bd4633a4a4794920bf50caf7dad44",
            "95f19cbeed1a4e13815a2739f6c7c1c1",
            "67ec8c14c20a444e9a684a7159752a4e",
            "af9eadc17de446d09d2b856964e0e96c",
            "9142c03025d448839f134f83cb96bc60",
            "af9b390d7e684e089ff34b32b8521ffe",
            "3218239d9bae4529962d685ce4f07e53",
            "1f82bdd842bd4a5c8d98bdda4f6500d2",
            "dde0f5b245f9447daadbb42690efa6eb",
            "948509b38a6040018144897980377ada",
            "8218f2da81c445bfbb5e4f54b5a99306",
            "52d3208809a34a71ad602701ffc8a431",
            "45686dbcded0410ba668a8db130100df",
            "fb8e43c42e6241d79b4573cafe2ca605",
            "4ad140cad92448f3819362dfa86e2fc0",
            "942c3106596a4a72abed7e3151a691b7",
            "39b75520244347e39df9e2619ea80ea6",
            "616ee0da07f34a4797f92680a787d3c9",
            "c275d9ea2e224b63b50c726cd3e9070e",
            "3808064d4f8349fb8394eee581e39f12",
            "b45231592701488dae28a7df2e5107e8",
            "fec056c18adf4586aafae1589d21f575",
            "e670f7cbe2364f74885b98dbf43b37a9",
            "9c312a565cdf45b4b6a889345c125ed9",
            "6ca0541e5a5f49cc89694adf98aa1277",
            "d37023ba056b4d31b31000565e369482",
            "e164bb376f2e40e0bada481810d9c9fd",
            "e8b270ef59874d97b85ed37796318dfc",
            "51d6779dabc04c47a36cdafed90ba0b6",
            "d6bd5c4311244f87b5ac8117aa650c80",
            "f9782e8e194a45088022357882b63aaa",
            "6cca22ae53c84d358e97674cafc3eba3",
            "ebd32e6d180c43718a92d2a06a5aa6eb",
            "ff277c5e487542ef870ee896944da14d",
            "804cd5ea827647c68c78c2d8ac2384dc",
            "95f0c430e5204be7943f13873692c849",
            "5b90b5fe480f474bab342f8d73b9b050",
            "eb561e79067842999208c3569cebb132",
            "0080f1aed6c84ed29fbbcb4abc4112e9",
            "31c80a9c4f7649b2b949781a4f043312",
            "d38ea74ce3c94f229bc9a565c0037a76",
            "57da1bc18bfc4da59411b7a53c13361a",
            "99e61c4a96c44c37a5b4a5d7e6d7292b",
            "7a18de5fcf114bc0b6b8174650a00547",
            "32a946b3b4ba4b4c89263762db5d2db6",
            "f9e89523298242e7a21d9144efb38120",
            "1255cde938d446458ad0c334ad10ec5d",
            "a3c472d56968424d96f9e493eedf06f6",
            "a8f37d564c69460cb239fe55031ca131",
            "848f3a313094459a861bc2a22a1b1d26",
            "b7ca5d1922634b13983e5de790a4bc46",
            "91486a6b81474d0a8723a5036ab23acd",
            "4e11d114706642c08949ad229eb6f3c9",
            "f070b848fd314590a78fc0d2772bf2ef",
            "02ce2f2b91a349b38af99c4e1ead4400",
            "6bf97ae5c8e640158666ecae7722f3dd",
            "c2d38acaaf704ba8aaefc6249829af7a",
            "9a452a6dc652420fbb3628c178b8783f",
            "d8278c7da3744b17addddcffaccbcad5",
            "52228b6be0a945b19dbd1a1b611bb67a",
            "527bd3cd9e0a440b85fc639a37739f56",
            "270e0a5a8a7f4a6e93212898979b334b",
            "0fc8e38c49424b59b4377be961753c8e",
            "d3fea19c1a7b4f92a25521a605e62885",
            "83f41daf3b7240c8bc8992bfb0553aeb",
            "c2bda77bbc104177aacf15a90b3eb5b9",
            "c5a07205c6dc4419ae8e110159bd8983",
            "af0eb5ccdb7d4d8ebaf06482d1b6a8ad",
            "01ff865278c742a8aa7e78ae130db5f1",
            "c93e2b1403744f68ae57c6aa51308bee",
            "9489adbc51fd419684355042b8d449be",
            "4406435f02ea49fa97b7e1c3929d692b",
            "2ac88222deec448facd47ca82bbc14d6",
            "5ba70e566bc646cd86b6435d99b64800",
            "f08ac1de283e4925a5e76e30f69347c8",
            "a727bdd1ad7741d1aec8d2140a7bb54d",
            "0d07b5ebe6614bfb824752d488216b1a",
            "3aa1b9e32be84f8ca46138862b36727d",
            "0df2292b93b44f388a47d333e540d660",
            "04a8f550130c4a0292773e13e8989fcb",
            "2fd1633f7da54d819f5cdcd4b2612341",
            "7be3b0fc80ce41b890054e4cb9e06b57",
            "7ea3ea76e8b9461eaa8742622526bea9",
            "8f8a6e3c2f9f4085b813cb4b9fdc9363",
            "6c411f39e0d1459a94705f58141a6c25",
            "6e363f5cd7e9448e836eab67d6bd2ad7",
            "a25d2ad4b5174778b5e2699ee5b87564",
            "f7f20b223a064524b95c18c111757164",
            "d70432bda5dc4a3292442755627c6e51",
            "882b672bf66a48f69e0e6f8646bbb80b",
            "c3a168789a3a4d229429b6548ff5dd41",
            "08169d29a5ec4de699354abb10e1fd0f",
            "6ce742494adc49658e1622593333fd4c",
            "2e05531fbaa84ecfb3456ba22176efbd",
            "3bd07c4823db4778be472a176b5b36e0",
            "aa6445a71ad24fe2bf9c9dc5e79f1695",
            "5fcfc782f8564027b0cb16478d5c7f32",
            "d91a4a745994402f89c1356a001cdcf5",
            "90abc72ef9e444849dd15fa1fa863adb",
            "489a333b31714e0aad9e5d0d59618e8d",
            "1a158a51c4154e57852283a1a331156f",
            "db8ba1e11ba649d3968f64771297a444",
            "e710b7aae0a24d2b83da1ef8a0bd353f",
            "5c78a4ddaf944425b96aefc580419f4e",
            "e6ebf1d354214c6ba28befb2c9683d81",
            "4edfe1b1c0bb463285c11de8918683c9",
            "24c9795be8f2438a9a3d41b242e3c2ab",
            "235dacadbf83403598b93e95e7a917a0",
            "280c93a571684163a5d4d83231f7cfb5",
            "0a76b7d8f0334d0cac422a881cc26303",
            "36ffa29f602f4c2ebf09893c771b7bf8",
            "9ab5ebb42e4e4f9e87f38d6833966496",
            "f37700fc7b9448e29015a2d6b66cdeb7",
            "da7db3dd48b344f3b4e7573e9e887c16",
            "d4576940484e4808bfc438276b5c1e75",
            "f2f8a97bfa68466996240871414af2d4",
            "893e08fd2d3c4b6e8deff26940bc10d9",
            "54a7fef932534076a659283e65b8fba2",
            "750321dfb381471cb37ac61994c4d127",
            "96a6605691704be3bde8aed3705a958b",
            "e092272b414549b18368fc404d920e3e",
            "920b0dadd3634c4b9def25ec7d67dfff",
            "16cfa32109b44e5a86b5f46e0d21dd7f",
            "7b1d43fef86649058b96c8a724303470",
            "8afd8b67ddb544a79076229ccec1ed5f",
            "e44a73e580b14acf90561012e6fb73a0",
            "83465a6f3980438db1effcdec6cef666",
            "2156c394534b413995e21ae43bc1ecdd",
            "1dcf04d25b19422e96e2792b36903edd",
            "3a78e0554fac41f8adb0b038a2e66368",
            "4508a32478f84139b00d279ec123c41a",
            "097f3d7fc94a4734ba1714e6f8ec4edb",
            "d3f54f69ebfb479a976a978894a15e04",
            "89c6c9b0939a4abfb764ae87a46dde7e",
            "1a94251f7f1e4935af733ebacfdf0860",
            "1d3b7a9ee68a4bea95bd9908f2cf0522",
            "a4cb2f3b6076406c998152e15255390d",
            "9a75cd75013748579d427ef90001134d",
            "dda186d5c04547f2b88ce6f9fd95b663",
            "da25cce7dc2a4e1aa22d16948ae5f25e",
            "b1ebe9b3493843e088486e669be8b6b5",
            "1cf2c34bb40648bf93e679dcb336edee",
            "caee704eeac24217ac5072b7208cb263",
            "3d693c5cac5f4f6bbc13aa321a4c34f9",
            "82e56f2281174bdca65ba91d11d4455e",
            "eb3a3f964cfe46be92c66f24f35d0f91",
            "387e965c753e43f280eb67f5403f2233",
            "01765166b86b412b875bd142f6fbf723",
            "8593b788c2c2425e8fc54d7829996ad8",
            "e35e1a77151c40318fb31c3c8492c257",
            "8fb0967b27054ce49d44c22198c33b63",
            "c4ecde3720dd417a9541d861f70db843",
            "bb3433cb6cb74cfdbd109f5b04532942",
            "3356310b87b44f20a3fb8c93f4902c22",
            "0779755842e14703910d86bd800562e6",
            "31a384e8d9c4443f95c7735cc3a67b9e",
            "2c9eb396bcef40378b87062b6ce7e9a5",
            "c2da49550d0b4e35af689b4b126ad875",
            "ec0901364f4e4161ad7a6774f8f359a6",
            "5a08adb3eceb41fc83aa71cc4ba4fc4e",
            "ae74722529bf4531b6d49059bc5d4cdb",
            "9134ce16bba645e0b480efe68a1515f4",
            "b7c494a794674a79a452c8923c88a99e",
            "4675223e26704f2792fcf4c965db0735",
            "5313db39899a48e097316989c85bdc86",
            "b573ba611794401eabcf7d6106294f6b",
            "c9cf18667bda492dabd8fc1f48256eb5",
            "ca1c7ddaad9847fcb14936667693f0a4",
            "14e3547404cd4cdfba81875a05706658",
            "399a1919bf1f4f56895563d261c44ab8",
            "3a2a1d5363014dd3bdeb107c1f1d3e45",
            "d6b67881a6554525a9a68dcff4212fbf",
            "e1e564775e184832ab493fa4e7bdbee8",
            "ad5867acb7a64fd8a396148af8a52e86",
            "eae480ca5ece49f0adc34aba012950af",
            "6bd3379d4e87432e879d347b684758a2",
            "ace5300b8199474fbb5de717f56ffeaf",
            "acf87313e03e4a28a8646a61f96afc32",
            "edda5b1e10204cf1a720bb1aa285d5db",
            "65e01314978e41ada40f7b36735247b9",
            "fd523688026f4d718ad9b121b6637b46",
            "d93df1b72de643f884a34fd144a89557",
            "97dcdabf3d814f1dba3b1ecb4c98fac8",
            "44f1c761cb4d44ae9d068e7cc8dfa3b9",
            "c3c15c794eff4c76bb9cf626254366d2",
            "f8d7fad4f4a949c69b260600a3a66d36",
            "0d00a64ea6d64d0cbd977baab17dae1d",
            "01768f20c6464b83a4ac39096e8e2c6b",
            "2f305d7530424874a464f4305fd24e14",
            "fba31b30d6ac4c3d8d1a57af673175cd",
            "e34ea62dfe5e4f3b8317215086a34f0d",
            "b5adeb0655ae4f7882bbf795138e05b9",
            "4be61dc09b37437ea1381d1da38bf3c8",
            "d2a29ff520724825a23efcd8e6cb3682",
            "a49a21c35a0d488b9a967df2af5577f5",
            "72db111a927745058a578ffdc7d98df5",
            "6e39277546d94626b4201180babbc7d1",
            "4bbb6aee94384a8ba3acfb65d9ec507b",
            "edc869f19bec480dabe3b528ca429a40",
            "1ed9219be29545b7910c26f4c0a18c65",
            "dc11d3cd3c5e481baf35eb8a689c046d",
            "9c869994d7654189ae374bbcc8060c07",
            "5f87e13b32c94df5aa70a21da29af690",
            "0aa5170d048d4f039bab622d0c6336d5",
            "1ceb98b73dd54ffda230209bbeab81db",
            "c2bc952b8f504bd7a9243164a22a5e1d",
            "95fd72829bd444659d25d1b022701494",
            "8112be21a95f49d78171dea8792c655e",
            "da769b1d2b1043218b95ba77fe52c37a",
            "521b8335c62040b0a09d87f927df83d8",
            "0c6ca81f8ca941c2a7fbbab5fa23eac6",
            "e4b74ea1e4c54d0faabe55ce82d79280",
            "a8dcbe658b6c4980a6ecf084ea8c2c9c",
            "c36ad9a813b94c199b071e75c5d3eed9",
            "8318d69f2db447cf9761ac05e1f609e2",
            "b71c98f3973b4437882a36b576d12e2b",
            "93a84da125ca4462a20b0089fe3bd32b",
            "ebdddcce04274ee2a2c6f3e497865554",
            "e0584b839a4e4fe5908ce5b2f2c933c8",
            "38a80c4b789e45c7a9a41edda0c5ee1c",
            "e6cd98769c0b433b8afe60b532dae851",
            "49e5805d6ffd486fb419cf8e6395ade8",
            "c38e218398fd4e97807d82416f59b6b0",
            "8e64438aa4304515bb8973442222df47",
            "c25bb00053364d9b9ab47dfee9f9fd84",
            "d709a49a61f84cb48054a8ebb62f49f7",
            "2b0cb54ab7664138afc154091ff1caef",
            "c79c6d3484254568a7217bc14963832e",
            "fba94cdbd69947aebd7bb5643478961a",
            "2dff99faab054e42adc1fad6e615b608",
            "50be51384757454cb2becee0a6b7eeb9",
            "c89d5004b86843089bb3a75717b09824",
            "b504705360b14d029eb591226434e78f",
            "949d3b8a29014ec784fd7454bf447673",
            "875ec9b4780a40a6a1ee826f0d44bd21",
            "508688d836a1473686c5df8e9a9b0dad",
            "63dc04e2603e40f3bb34a92375661d97",
            "da461859c054406b99b690158bfa12bd",
            "568060caad8c42ee95a410bdf016aea9",
            "217cd126a97847e89e60c51e9011de1d",
            "80810681722a40309f240584458dfee4",
            "636056b038c947cdb77c25ce58e3be47",
            "9b0fec6aec614d6184c3d2bcbfab468a",
            "85f81c5f8ae04e2bb48112c9bcab42d7",
            "536255b67b0e4ac887dc6b4d8b9ad405",
            "03f3bff8ef8345c99ce74a4a924e4f74",
            "7b3e40d1e4f048b58bab6f12c82b7360",
            "31aa568cd03f444e8feb59c89852673d",
            "ac009183e4c1454daf0b90eeb0e1ffa0",
            "6f5998d4a2f54457940a48d8be9de6e4",
            "d2324ed305dc4f16ac949238bc3df2ed",
            "448a5840d1184a01a7b67565a6e8221a",
            "535e91c2b0284b02a8de4621ccf5a24e",
            "8c24db80810748039374306248a58b15",
            "be9b7adb691a4d18a1233295bcc81c39",
            "463d3b95f04f478a80acc8e0205816a2",
            "3246e83c040f46c2b916b2a133bc962d",
            "eb5dc1aa745741abb0c0a2edf54c44b7",
            "395e8c12c544452580d4cf200fdb22d3",
            "5309c6a41fde464abec30264ffc6e282",
            "9c9ce72bd3ea419cacb2f65003fe3318",
            "c022628d03b54b2bb4e1270789dfe5be",
            "245690352dbc41d498e7ce572060d706",
            "30371893d0cf480092d2313ff3ae9f9f",
            "6396b25282be4bd196ca57aef015cfe7",
            "a298e891dd1d40f3a5515bc5c92939ca",
            "41626bf694dc4f1c86c70a1c91edc49f",
            "70f68f8367654ca1963dd0a7496f4d5b",
            "b4a91081149f4affa621fd1bdabad671",
            "292927daf558462ba8ceb60db5c80f47",
            "5a021bfa27f744548d578b9ac346994d",
            "83bfb9cc0efd49e3bd554aaed92beeed",
            "b1615046ca834f7780e4fa4b8478178e",
            "76a2d9621b084a2babef17dd4e701086",
            "adcc047ee3794c9f9d1c53e81ac5dc48",
            "19d7753b637542d6b783d02a0bb7a5ab",
            "2861e86dfb8f4bbab3bc2e2cb08d590d",
            "402595d9abf5495aba692cafe453f403",
            "e293f3de7c93472695e7f3496f165912",
            "4b92afdaf72240ed8da53ac2a161b379",
            "5f326ac88ff342ffa3dd335683c70672",
            "d609854b570c4a25a5b377464742401c",
            "32d94fe06cbb4f3fa4c9c928a05f3c31",
            "878647b1c52d4aa3bce0b1662b95e343",
            "75616c7a3fd64bf8a67615ec11b0c3ba",
            "60974ff44a784a3880f1bb7abe409f44"
          ]
        },
        "id": "q6GhkWbTg_YT",
        "outputId": "c300b63c-2658-4ddd-ef10-80922956083f"
      },
      "outputs": [
        {
          "output_type": "stream",
          "name": "stdout",
          "text": [
            "device cuda\n",
            "device set to cuda\n"
          ]
        },
        {
          "output_type": "display_data",
          "data": {
            "text/plain": [
              "Epoch 0::   0%|          | 0/9 [00:00<?, ?it/s]"
            ],
            "application/vnd.jupyter.widget-view+json": {
              "version_major": 2,
              "version_minor": 0,
              "model_id": "604748e6f6134e7a886c07a84caf0d61"
            }
          },
          "metadata": {}
        },
        {
          "output_type": "stream",
          "name": "stdout",
          "text": [
            "Epoch \u001b[34m0\u001b[0m/80 : \u001b[34mTraining\u001b[0m : (\u001b[36mloss\u001b[0m 1.0979168944888644) (\u001b[36macc\u001b[0m 0.3854166666666667)\n"
          ]
        },
        {
          "output_type": "display_data",
          "data": {
            "text/plain": [
              "validation::   0%|          | 0/3 [00:00<?, ?it/s]"
            ],
            "application/vnd.jupyter.widget-view+json": {
              "version_major": 2,
              "version_minor": 0,
              "model_id": "a8496cf15c364a27848df133563b7614"
            }
          },
          "metadata": {}
        },
        {
          "output_type": "stream",
          "name": "stdout",
          "text": [
            "\u001b[34mvalidation\u001b[0m : (\u001b[36mloss\u001b[0m 1.0957567691802979) (\u001b[36macc\u001b[0m 0.421875)\n"
          ]
        },
        {
          "output_type": "display_data",
          "data": {
            "text/plain": [
              "Epoch 1::   0%|          | 0/9 [00:00<?, ?it/s]"
            ],
            "application/vnd.jupyter.widget-view+json": {
              "version_major": 2,
              "version_minor": 0,
              "model_id": "669113f4fb374087899fb9f8073a5bb2"
            }
          },
          "metadata": {}
        },
        {
          "output_type": "stream",
          "name": "stdout",
          "text": [
            "Epoch \u001b[34m1\u001b[0m/80 : \u001b[34mTraining\u001b[0m : (\u001b[36mloss\u001b[0m 1.0960181686613295) (\u001b[36macc\u001b[0m 0.390625)\n"
          ]
        },
        {
          "output_type": "display_data",
          "data": {
            "text/plain": [
              "validation::   0%|          | 0/3 [00:00<?, ?it/s]"
            ],
            "application/vnd.jupyter.widget-view+json": {
              "version_major": 2,
              "version_minor": 0,
              "model_id": "b5237d92b77649b5aad2c1833f936b3b"
            }
          },
          "metadata": {}
        },
        {
          "output_type": "stream",
          "name": "stdout",
          "text": [
            "\u001b[34mvalidation\u001b[0m : (\u001b[36mloss\u001b[0m 1.0922046105066936) (\u001b[36macc\u001b[0m 0.4375)\n"
          ]
        },
        {
          "output_type": "display_data",
          "data": {
            "text/plain": [
              "Epoch 2::   0%|          | 0/9 [00:00<?, ?it/s]"
            ],
            "application/vnd.jupyter.widget-view+json": {
              "version_major": 2,
              "version_minor": 0,
              "model_id": "f6630476feae4656a8b601bc3c1365f8"
            }
          },
          "metadata": {}
        },
        {
          "output_type": "stream",
          "name": "stdout",
          "text": [
            "Epoch \u001b[34m2\u001b[0m/80 : \u001b[34mTraining\u001b[0m : (\u001b[36mloss\u001b[0m 1.0929845306608412) (\u001b[36macc\u001b[0m 0.3975694444444444)\n"
          ]
        },
        {
          "output_type": "display_data",
          "data": {
            "text/plain": [
              "validation::   0%|          | 0/3 [00:00<?, ?it/s]"
            ],
            "application/vnd.jupyter.widget-view+json": {
              "version_major": 2,
              "version_minor": 0,
              "model_id": "db77584020074e8a9c788573ed6f3391"
            }
          },
          "metadata": {}
        },
        {
          "output_type": "stream",
          "name": "stdout",
          "text": [
            "\u001b[34mvalidation\u001b[0m : (\u001b[36mloss\u001b[0m 1.0904771486918132) (\u001b[36macc\u001b[0m 0.4166666666666667)\n"
          ]
        },
        {
          "output_type": "display_data",
          "data": {
            "text/plain": [
              "Epoch 3::   0%|          | 0/9 [00:00<?, ?it/s]"
            ],
            "application/vnd.jupyter.widget-view+json": {
              "version_major": 2,
              "version_minor": 0,
              "model_id": "e9110991671647fea941fa31b5798292"
            }
          },
          "metadata": {}
        },
        {
          "output_type": "stream",
          "name": "stdout",
          "text": [
            "Epoch \u001b[34m3\u001b[0m/80 : \u001b[34mTraining\u001b[0m : (\u001b[36mloss\u001b[0m 1.0888407760196261) (\u001b[36macc\u001b[0m 0.4045138888888889)\n"
          ]
        },
        {
          "output_type": "display_data",
          "data": {
            "text/plain": [
              "validation::   0%|          | 0/3 [00:00<?, ?it/s]"
            ],
            "application/vnd.jupyter.widget-view+json": {
              "version_major": 2,
              "version_minor": 0,
              "model_id": "a50ee73e9593444b8928b31fc69d0cdd"
            }
          },
          "metadata": {}
        },
        {
          "output_type": "stream",
          "name": "stdout",
          "text": [
            "\u001b[34mvalidation\u001b[0m : (\u001b[36mloss\u001b[0m 1.0869308312733967) (\u001b[36macc\u001b[0m 0.421875)\n"
          ]
        },
        {
          "output_type": "display_data",
          "data": {
            "text/plain": [
              "Epoch 4::   0%|          | 0/9 [00:00<?, ?it/s]"
            ],
            "application/vnd.jupyter.widget-view+json": {
              "version_major": 2,
              "version_minor": 0,
              "model_id": "4952129770934d6ebeff33b312eac3c8"
            }
          },
          "metadata": {}
        },
        {
          "output_type": "stream",
          "name": "stdout",
          "text": [
            "Epoch \u001b[34m4\u001b[0m/80 : \u001b[34mTraining\u001b[0m : (\u001b[36mloss\u001b[0m 1.0823607312308416) (\u001b[36macc\u001b[0m 0.4114583333333333)\n"
          ]
        },
        {
          "output_type": "display_data",
          "data": {
            "text/plain": [
              "validation::   0%|          | 0/3 [00:00<?, ?it/s]"
            ],
            "application/vnd.jupyter.widget-view+json": {
              "version_major": 2,
              "version_minor": 0,
              "model_id": "8fdcf052a8f042b8a792a4a18b84c94f"
            }
          },
          "metadata": {}
        },
        {
          "output_type": "stream",
          "name": "stdout",
          "text": [
            "\u001b[34mvalidation\u001b[0m : (\u001b[36mloss\u001b[0m 1.0843136310577393) (\u001b[36macc\u001b[0m 0.4114583333333333)\n"
          ]
        },
        {
          "output_type": "display_data",
          "data": {
            "text/plain": [
              "Epoch 5::   0%|          | 0/9 [00:00<?, ?it/s]"
            ],
            "application/vnd.jupyter.widget-view+json": {
              "version_major": 2,
              "version_minor": 0,
              "model_id": "b1f5e2953ab14f7d835786a1e8f908fb"
            }
          },
          "metadata": {}
        },
        {
          "output_type": "stream",
          "name": "stdout",
          "text": [
            "Epoch \u001b[34m5\u001b[0m/80 : \u001b[34mTraining\u001b[0m : (\u001b[36mloss\u001b[0m 1.076923131942749) (\u001b[36macc\u001b[0m 0.4027777777777778)\n"
          ]
        },
        {
          "output_type": "display_data",
          "data": {
            "text/plain": [
              "validation::   0%|          | 0/3 [00:00<?, ?it/s]"
            ],
            "application/vnd.jupyter.widget-view+json": {
              "version_major": 2,
              "version_minor": 0,
              "model_id": "ec2e9300f22f4687a498476f794bf12c"
            }
          },
          "metadata": {}
        },
        {
          "output_type": "stream",
          "name": "stdout",
          "text": [
            "\u001b[34mvalidation\u001b[0m : (\u001b[36mloss\u001b[0m 1.0749457677205403) (\u001b[36macc\u001b[0m 0.40625)\n"
          ]
        },
        {
          "output_type": "display_data",
          "data": {
            "text/plain": [
              "Epoch 6::   0%|          | 0/9 [00:00<?, ?it/s]"
            ],
            "application/vnd.jupyter.widget-view+json": {
              "version_major": 2,
              "version_minor": 0,
              "model_id": "b2831ffb6d3f4bc981716e0eeada2fa2"
            }
          },
          "metadata": {}
        },
        {
          "output_type": "stream",
          "name": "stdout",
          "text": [
            "Epoch \u001b[34m6\u001b[0m/80 : \u001b[34mTraining\u001b[0m : (\u001b[36mloss\u001b[0m 1.0696701208750408) (\u001b[36macc\u001b[0m 0.4079861111111111)\n"
          ]
        },
        {
          "output_type": "display_data",
          "data": {
            "text/plain": [
              "validation::   0%|          | 0/3 [00:00<?, ?it/s]"
            ],
            "application/vnd.jupyter.widget-view+json": {
              "version_major": 2,
              "version_minor": 0,
              "model_id": "c9eb385c19f04e46a1fe876677668256"
            }
          },
          "metadata": {}
        },
        {
          "output_type": "stream",
          "name": "stdout",
          "text": [
            "\u001b[34mvalidation\u001b[0m : (\u001b[36mloss\u001b[0m 1.065824826558431) (\u001b[36macc\u001b[0m 0.4166666666666667)\n"
          ]
        },
        {
          "output_type": "display_data",
          "data": {
            "text/plain": [
              "Epoch 7::   0%|          | 0/9 [00:00<?, ?it/s]"
            ],
            "application/vnd.jupyter.widget-view+json": {
              "version_major": 2,
              "version_minor": 0,
              "model_id": "284c35a563cd40498e3ca055306af902"
            }
          },
          "metadata": {}
        },
        {
          "output_type": "stream",
          "name": "stdout",
          "text": [
            "Epoch \u001b[34m7\u001b[0m/80 : \u001b[34mTraining\u001b[0m : (\u001b[36mloss\u001b[0m 1.0670951737297907) (\u001b[36macc\u001b[0m 0.4097222222222222)\n"
          ]
        },
        {
          "output_type": "display_data",
          "data": {
            "text/plain": [
              "validation::   0%|          | 0/3 [00:00<?, ?it/s]"
            ],
            "application/vnd.jupyter.widget-view+json": {
              "version_major": 2,
              "version_minor": 0,
              "model_id": "f73da772a1504a6db9c67cee0ef5e45b"
            }
          },
          "metadata": {}
        },
        {
          "output_type": "stream",
          "name": "stdout",
          "text": [
            "\u001b[34mvalidation\u001b[0m : (\u001b[36mloss\u001b[0m 1.0670652786890666) (\u001b[36macc\u001b[0m 0.40625)\n"
          ]
        },
        {
          "output_type": "display_data",
          "data": {
            "text/plain": [
              "Epoch 8::   0%|          | 0/9 [00:00<?, ?it/s]"
            ],
            "application/vnd.jupyter.widget-view+json": {
              "version_major": 2,
              "version_minor": 0,
              "model_id": "073728f1f5d04b2d91fb6504e061081f"
            }
          },
          "metadata": {}
        },
        {
          "output_type": "stream",
          "name": "stdout",
          "text": [
            "Epoch \u001b[34m8\u001b[0m/80 : \u001b[34mTraining\u001b[0m : (\u001b[36mloss\u001b[0m 1.0613257884979248) (\u001b[36macc\u001b[0m 0.4184027777777778)\n"
          ]
        },
        {
          "output_type": "display_data",
          "data": {
            "text/plain": [
              "validation::   0%|          | 0/3 [00:00<?, ?it/s]"
            ],
            "application/vnd.jupyter.widget-view+json": {
              "version_major": 2,
              "version_minor": 0,
              "model_id": "4afe73c12d154ebf9d3b3721ce626ae2"
            }
          },
          "metadata": {}
        },
        {
          "output_type": "stream",
          "name": "stdout",
          "text": [
            "\u001b[34mvalidation\u001b[0m : (\u001b[36mloss\u001b[0m 1.0768529971440632) (\u001b[36macc\u001b[0m 0.3958333333333333)\n"
          ]
        },
        {
          "output_type": "display_data",
          "data": {
            "text/plain": [
              "Epoch 9::   0%|          | 0/9 [00:00<?, ?it/s]"
            ],
            "application/vnd.jupyter.widget-view+json": {
              "version_major": 2,
              "version_minor": 0,
              "model_id": "7bd640b7aad64f469d3d5468a5919368"
            }
          },
          "metadata": {}
        },
        {
          "output_type": "stream",
          "name": "stdout",
          "text": [
            "Epoch \u001b[34m9\u001b[0m/80 : \u001b[34mTraining\u001b[0m : (\u001b[36mloss\u001b[0m 1.057872348361545) (\u001b[36macc\u001b[0m 0.4253472222222222)\n"
          ]
        },
        {
          "output_type": "display_data",
          "data": {
            "text/plain": [
              "validation::   0%|          | 0/3 [00:00<?, ?it/s]"
            ],
            "application/vnd.jupyter.widget-view+json": {
              "version_major": 2,
              "version_minor": 0,
              "model_id": "d5612319d968402fbb428a821325d6b4"
            }
          },
          "metadata": {}
        },
        {
          "output_type": "stream",
          "name": "stdout",
          "text": [
            "\u001b[34mvalidation\u001b[0m : (\u001b[36mloss\u001b[0m 1.0918893019358318) (\u001b[36macc\u001b[0m 0.3802083333333333)\n"
          ]
        },
        {
          "output_type": "display_data",
          "data": {
            "text/plain": [
              "Epoch 10::   0%|          | 0/9 [00:00<?, ?it/s]"
            ],
            "application/vnd.jupyter.widget-view+json": {
              "version_major": 2,
              "version_minor": 0,
              "model_id": "a750996bcad3468fba3b871e10d3da32"
            }
          },
          "metadata": {}
        },
        {
          "output_type": "stream",
          "name": "stdout",
          "text": [
            "Epoch \u001b[34m10\u001b[0m/80 : \u001b[34mTraining\u001b[0m : (\u001b[36mloss\u001b[0m 1.0602349307801988) (\u001b[36macc\u001b[0m 0.4253472222222222)\n"
          ]
        },
        {
          "output_type": "display_data",
          "data": {
            "text/plain": [
              "validation::   0%|          | 0/3 [00:00<?, ?it/s]"
            ],
            "application/vnd.jupyter.widget-view+json": {
              "version_major": 2,
              "version_minor": 0,
              "model_id": "dcf3d3dd1a4941538e3403ae9aa775b3"
            }
          },
          "metadata": {}
        },
        {
          "output_type": "stream",
          "name": "stdout",
          "text": [
            "\u001b[34mvalidation\u001b[0m : (\u001b[36mloss\u001b[0m 1.0775280396143596) (\u001b[36macc\u001b[0m 0.4166666666666667)\n"
          ]
        },
        {
          "output_type": "display_data",
          "data": {
            "text/plain": [
              "Epoch 11::   0%|          | 0/9 [00:00<?, ?it/s]"
            ],
            "application/vnd.jupyter.widget-view+json": {
              "version_major": 2,
              "version_minor": 0,
              "model_id": "03b01f337f2c44c5999ce8fd2f130161"
            }
          },
          "metadata": {}
        },
        {
          "output_type": "stream",
          "name": "stdout",
          "text": [
            "Epoch \u001b[34m11\u001b[0m/80 : \u001b[34mTraining\u001b[0m : (\u001b[36mloss\u001b[0m 1.053727560573154) (\u001b[36macc\u001b[0m 0.4704861111111111)\n"
          ]
        },
        {
          "output_type": "display_data",
          "data": {
            "text/plain": [
              "validation::   0%|          | 0/3 [00:00<?, ?it/s]"
            ],
            "application/vnd.jupyter.widget-view+json": {
              "version_major": 2,
              "version_minor": 0,
              "model_id": "622d35544cb54268ae70085ddc588edc"
            }
          },
          "metadata": {}
        },
        {
          "output_type": "stream",
          "name": "stdout",
          "text": [
            "\u001b[34mvalidation\u001b[0m : (\u001b[36mloss\u001b[0m 1.0586922566095989) (\u001b[36macc\u001b[0m 0.421875)\n"
          ]
        },
        {
          "output_type": "display_data",
          "data": {
            "text/plain": [
              "Epoch 12::   0%|          | 0/9 [00:00<?, ?it/s]"
            ],
            "application/vnd.jupyter.widget-view+json": {
              "version_major": 2,
              "version_minor": 0,
              "model_id": "2bf7ea5900c7473cbd639822d328ef75"
            }
          },
          "metadata": {}
        },
        {
          "output_type": "stream",
          "name": "stdout",
          "text": [
            "Epoch \u001b[34m12\u001b[0m/80 : \u001b[34mTraining\u001b[0m : (\u001b[36mloss\u001b[0m 1.0536217557059393) (\u001b[36macc\u001b[0m 0.40625)\n"
          ]
        },
        {
          "output_type": "display_data",
          "data": {
            "text/plain": [
              "validation::   0%|          | 0/3 [00:00<?, ?it/s]"
            ],
            "application/vnd.jupyter.widget-view+json": {
              "version_major": 2,
              "version_minor": 0,
              "model_id": "6c31c675038943a6bfd542e16647bc70"
            }
          },
          "metadata": {}
        },
        {
          "output_type": "stream",
          "name": "stdout",
          "text": [
            "\u001b[34mvalidation\u001b[0m : (\u001b[36mloss\u001b[0m 1.079542835553487) (\u001b[36macc\u001b[0m 0.3958333333333333)\n"
          ]
        },
        {
          "output_type": "display_data",
          "data": {
            "text/plain": [
              "Epoch 13::   0%|          | 0/9 [00:00<?, ?it/s]"
            ],
            "application/vnd.jupyter.widget-view+json": {
              "version_major": 2,
              "version_minor": 0,
              "model_id": "b27a799ee9a14603bfc2d2ee190ec02e"
            }
          },
          "metadata": {}
        },
        {
          "output_type": "stream",
          "name": "stdout",
          "text": [
            "Epoch \u001b[34m13\u001b[0m/80 : \u001b[34mTraining\u001b[0m : (\u001b[36mloss\u001b[0m 1.051512532764011) (\u001b[36macc\u001b[0m 0.4600694444444444)\n"
          ]
        },
        {
          "output_type": "display_data",
          "data": {
            "text/plain": [
              "validation::   0%|          | 0/3 [00:00<?, ?it/s]"
            ],
            "application/vnd.jupyter.widget-view+json": {
              "version_major": 2,
              "version_minor": 0,
              "model_id": "a9c1aaabd0dc4ab1968fba5e6fa194b9"
            }
          },
          "metadata": {}
        },
        {
          "output_type": "stream",
          "name": "stdout",
          "text": [
            "\u001b[34mvalidation\u001b[0m : (\u001b[36mloss\u001b[0m 1.0668702125549316) (\u001b[36macc\u001b[0m 0.421875)\n"
          ]
        },
        {
          "output_type": "display_data",
          "data": {
            "text/plain": [
              "Epoch 14::   0%|          | 0/9 [00:00<?, ?it/s]"
            ],
            "application/vnd.jupyter.widget-view+json": {
              "version_major": 2,
              "version_minor": 0,
              "model_id": "62c5762859b540eab2395ed57c57045a"
            }
          },
          "metadata": {}
        },
        {
          "output_type": "stream",
          "name": "stdout",
          "text": [
            "Epoch \u001b[34m14\u001b[0m/80 : \u001b[34mTraining\u001b[0m : (\u001b[36mloss\u001b[0m 1.047242244084676) (\u001b[36macc\u001b[0m 0.4375)\n"
          ]
        },
        {
          "output_type": "display_data",
          "data": {
            "text/plain": [
              "validation::   0%|          | 0/3 [00:00<?, ?it/s]"
            ],
            "application/vnd.jupyter.widget-view+json": {
              "version_major": 2,
              "version_minor": 0,
              "model_id": "26b780b62d084a04a3f8983cdcdd0649"
            }
          },
          "metadata": {}
        },
        {
          "output_type": "stream",
          "name": "stdout",
          "text": [
            "\u001b[34mvalidation\u001b[0m : (\u001b[36mloss\u001b[0m 1.0718786716461182) (\u001b[36macc\u001b[0m 0.4166666666666667)\n"
          ]
        },
        {
          "output_type": "display_data",
          "data": {
            "text/plain": [
              "Epoch 15::   0%|          | 0/9 [00:00<?, ?it/s]"
            ],
            "application/vnd.jupyter.widget-view+json": {
              "version_major": 2,
              "version_minor": 0,
              "model_id": "93d95bbc4eb74c5f94ff099499fef3ea"
            }
          },
          "metadata": {}
        },
        {
          "output_type": "stream",
          "name": "stdout",
          "text": [
            "Epoch \u001b[34m15\u001b[0m/80 : \u001b[34mTraining\u001b[0m : (\u001b[36mloss\u001b[0m 1.0437043640348647) (\u001b[36macc\u001b[0m 0.46875)\n"
          ]
        },
        {
          "output_type": "display_data",
          "data": {
            "text/plain": [
              "validation::   0%|          | 0/3 [00:00<?, ?it/s]"
            ],
            "application/vnd.jupyter.widget-view+json": {
              "version_major": 2,
              "version_minor": 0,
              "model_id": "75b46c274e5b4fbe8a7c800e0d0f748c"
            }
          },
          "metadata": {}
        },
        {
          "output_type": "stream",
          "name": "stdout",
          "text": [
            "\u001b[34mvalidation\u001b[0m : (\u001b[36mloss\u001b[0m 1.0748890240987141) (\u001b[36macc\u001b[0m 0.4010416666666667)\n"
          ]
        },
        {
          "output_type": "display_data",
          "data": {
            "text/plain": [
              "Epoch 16::   0%|          | 0/9 [00:00<?, ?it/s]"
            ],
            "application/vnd.jupyter.widget-view+json": {
              "version_major": 2,
              "version_minor": 0,
              "model_id": "f60f331f24ff48cbbac7b0ac1b6181e1"
            }
          },
          "metadata": {}
        },
        {
          "output_type": "stream",
          "name": "stdout",
          "text": [
            "Epoch \u001b[34m16\u001b[0m/80 : \u001b[34mTraining\u001b[0m : (\u001b[36mloss\u001b[0m 1.0449058082368639) (\u001b[36macc\u001b[0m 0.4409722222222222)\n"
          ]
        },
        {
          "output_type": "display_data",
          "data": {
            "text/plain": [
              "validation::   0%|          | 0/3 [00:00<?, ?it/s]"
            ],
            "application/vnd.jupyter.widget-view+json": {
              "version_major": 2,
              "version_minor": 0,
              "model_id": "4878ddcb098049189e7519394968ed67"
            }
          },
          "metadata": {}
        },
        {
          "output_type": "stream",
          "name": "stdout",
          "text": [
            "\u001b[34mvalidation\u001b[0m : (\u001b[36mloss\u001b[0m 1.069352626800537) (\u001b[36macc\u001b[0m 0.4375)\n"
          ]
        },
        {
          "output_type": "display_data",
          "data": {
            "text/plain": [
              "Epoch 17::   0%|          | 0/9 [00:00<?, ?it/s]"
            ],
            "application/vnd.jupyter.widget-view+json": {
              "version_major": 2,
              "version_minor": 0,
              "model_id": "a011f1aa05f4492496e3eccedf4a6188"
            }
          },
          "metadata": {}
        },
        {
          "output_type": "stream",
          "name": "stdout",
          "text": [
            "Epoch \u001b[34m17\u001b[0m/80 : \u001b[34mTraining\u001b[0m : (\u001b[36mloss\u001b[0m 1.0407075617048476) (\u001b[36macc\u001b[0m 0.4913194444444444)\n"
          ]
        },
        {
          "output_type": "display_data",
          "data": {
            "text/plain": [
              "validation::   0%|          | 0/3 [00:00<?, ?it/s]"
            ],
            "application/vnd.jupyter.widget-view+json": {
              "version_major": 2,
              "version_minor": 0,
              "model_id": "9f6baedcee284393a60fcd92475f66b4"
            }
          },
          "metadata": {}
        },
        {
          "output_type": "stream",
          "name": "stdout",
          "text": [
            "\u001b[34mvalidation\u001b[0m : (\u001b[36mloss\u001b[0m 1.0624615748723347) (\u001b[36macc\u001b[0m 0.4270833333333333)\n"
          ]
        },
        {
          "output_type": "display_data",
          "data": {
            "text/plain": [
              "Epoch 18::   0%|          | 0/9 [00:00<?, ?it/s]"
            ],
            "application/vnd.jupyter.widget-view+json": {
              "version_major": 2,
              "version_minor": 0,
              "model_id": "a8d6e149116c4a40ab8292f7807bf768"
            }
          },
          "metadata": {}
        },
        {
          "output_type": "stream",
          "name": "stdout",
          "text": [
            "Epoch \u001b[34m18\u001b[0m/80 : \u001b[34mTraining\u001b[0m : (\u001b[36mloss\u001b[0m 1.0382998916837904) (\u001b[36macc\u001b[0m 0.484375)\n"
          ]
        },
        {
          "output_type": "display_data",
          "data": {
            "text/plain": [
              "validation::   0%|          | 0/3 [00:00<?, ?it/s]"
            ],
            "application/vnd.jupyter.widget-view+json": {
              "version_major": 2,
              "version_minor": 0,
              "model_id": "672c2d60d07349009722f5b33bc5dde2"
            }
          },
          "metadata": {}
        },
        {
          "output_type": "stream",
          "name": "stdout",
          "text": [
            "\u001b[34mvalidation\u001b[0m : (\u001b[36mloss\u001b[0m 1.068608323733012) (\u001b[36macc\u001b[0m 0.4270833333333333)\n"
          ]
        },
        {
          "output_type": "display_data",
          "data": {
            "text/plain": [
              "Epoch 19::   0%|          | 0/9 [00:00<?, ?it/s]"
            ],
            "application/vnd.jupyter.widget-view+json": {
              "version_major": 2,
              "version_minor": 0,
              "model_id": "2ec7ab8ac3524571a6b8be2597e4a06f"
            }
          },
          "metadata": {}
        },
        {
          "output_type": "stream",
          "name": "stdout",
          "text": [
            "Epoch \u001b[34m19\u001b[0m/80 : \u001b[34mTraining\u001b[0m : (\u001b[36mloss\u001b[0m 1.0389910538991292) (\u001b[36macc\u001b[0m 0.4392361111111111)\n"
          ]
        },
        {
          "output_type": "display_data",
          "data": {
            "text/plain": [
              "validation::   0%|          | 0/3 [00:00<?, ?it/s]"
            ],
            "application/vnd.jupyter.widget-view+json": {
              "version_major": 2,
              "version_minor": 0,
              "model_id": "28807698756a4c02b3938df37b5885cb"
            }
          },
          "metadata": {}
        },
        {
          "output_type": "stream",
          "name": "stdout",
          "text": [
            "\u001b[34mvalidation\u001b[0m : (\u001b[36mloss\u001b[0m 1.0738834937413533) (\u001b[36macc\u001b[0m 0.4114583333333333)\n"
          ]
        },
        {
          "output_type": "display_data",
          "data": {
            "text/plain": [
              "Epoch 20::   0%|          | 0/9 [00:00<?, ?it/s]"
            ],
            "application/vnd.jupyter.widget-view+json": {
              "version_major": 2,
              "version_minor": 0,
              "model_id": "2d827ea76aad47e9bcd0ed7ad1486580"
            }
          },
          "metadata": {}
        },
        {
          "output_type": "stream",
          "name": "stdout",
          "text": [
            "Epoch \u001b[34m20\u001b[0m/80 : \u001b[34mTraining\u001b[0m : (\u001b[36mloss\u001b[0m 1.037198781967163) (\u001b[36macc\u001b[0m 0.4895833333333333)\n"
          ]
        },
        {
          "output_type": "display_data",
          "data": {
            "text/plain": [
              "validation::   0%|          | 0/3 [00:00<?, ?it/s]"
            ],
            "application/vnd.jupyter.widget-view+json": {
              "version_major": 2,
              "version_minor": 0,
              "model_id": "7038532305334a0bbe66327a5f96a82f"
            }
          },
          "metadata": {}
        },
        {
          "output_type": "stream",
          "name": "stdout",
          "text": [
            "\u001b[34mvalidation\u001b[0m : (\u001b[36mloss\u001b[0m 1.0756189028422039) (\u001b[36macc\u001b[0m 0.421875)\n"
          ]
        },
        {
          "output_type": "display_data",
          "data": {
            "text/plain": [
              "Epoch 21::   0%|          | 0/9 [00:00<?, ?it/s]"
            ],
            "application/vnd.jupyter.widget-view+json": {
              "version_major": 2,
              "version_minor": 0,
              "model_id": "73096d457d284f7d845046e027fd687b"
            }
          },
          "metadata": {}
        },
        {
          "output_type": "stream",
          "name": "stdout",
          "text": [
            "Epoch \u001b[34m21\u001b[0m/80 : \u001b[34mTraining\u001b[0m : (\u001b[36mloss\u001b[0m 1.0325707925690546) (\u001b[36macc\u001b[0m 0.4878472222222222)\n"
          ]
        },
        {
          "output_type": "display_data",
          "data": {
            "text/plain": [
              "validation::   0%|          | 0/3 [00:00<?, ?it/s]"
            ],
            "application/vnd.jupyter.widget-view+json": {
              "version_major": 2,
              "version_minor": 0,
              "model_id": "180db834012946c7aa03f1538d4de803"
            }
          },
          "metadata": {}
        },
        {
          "output_type": "stream",
          "name": "stdout",
          "text": [
            "\u001b[34mvalidation\u001b[0m : (\u001b[36mloss\u001b[0m 1.0792086919148762) (\u001b[36macc\u001b[0m 0.4114583333333333)\n"
          ]
        },
        {
          "output_type": "display_data",
          "data": {
            "text/plain": [
              "Epoch 22::   0%|          | 0/9 [00:00<?, ?it/s]"
            ],
            "application/vnd.jupyter.widget-view+json": {
              "version_major": 2,
              "version_minor": 0,
              "model_id": "19efa584e4a44ccda02956256f5bde43"
            }
          },
          "metadata": {}
        },
        {
          "output_type": "stream",
          "name": "stdout",
          "text": [
            "Epoch \u001b[34m22\u001b[0m/80 : \u001b[34mTraining\u001b[0m : (\u001b[36mloss\u001b[0m 1.0328126615948148) (\u001b[36macc\u001b[0m 0.46875)\n"
          ]
        },
        {
          "output_type": "display_data",
          "data": {
            "text/plain": [
              "validation::   0%|          | 0/3 [00:00<?, ?it/s]"
            ],
            "application/vnd.jupyter.widget-view+json": {
              "version_major": 2,
              "version_minor": 0,
              "model_id": "5a54533633414715a27a5aa17492e0f4"
            }
          },
          "metadata": {}
        },
        {
          "output_type": "stream",
          "name": "stdout",
          "text": [
            "\u001b[34mvalidation\u001b[0m : (\u001b[36mloss\u001b[0m 1.0992027521133423) (\u001b[36macc\u001b[0m 0.3645833333333333)\n"
          ]
        },
        {
          "output_type": "display_data",
          "data": {
            "text/plain": [
              "Epoch 23::   0%|          | 0/9 [00:00<?, ?it/s]"
            ],
            "application/vnd.jupyter.widget-view+json": {
              "version_major": 2,
              "version_minor": 0,
              "model_id": "66dce944d1f948c4accfbaf3be538a9e"
            }
          },
          "metadata": {}
        },
        {
          "output_type": "stream",
          "name": "stdout",
          "text": [
            "Epoch \u001b[34m23\u001b[0m/80 : \u001b[34mTraining\u001b[0m : (\u001b[36mloss\u001b[0m 1.0356290340423584) (\u001b[36macc\u001b[0m 0.4600694444444444)\n"
          ]
        },
        {
          "output_type": "display_data",
          "data": {
            "text/plain": [
              "validation::   0%|          | 0/3 [00:00<?, ?it/s]"
            ],
            "application/vnd.jupyter.widget-view+json": {
              "version_major": 2,
              "version_minor": 0,
              "model_id": "ecc695f2f1f144f1be0a9bf4cfe25ea5"
            }
          },
          "metadata": {}
        },
        {
          "output_type": "stream",
          "name": "stdout",
          "text": [
            "\u001b[34mvalidation\u001b[0m : (\u001b[36mloss\u001b[0m 1.0688182910283406) (\u001b[36macc\u001b[0m 0.4114583333333333)\n"
          ]
        },
        {
          "output_type": "display_data",
          "data": {
            "text/plain": [
              "Epoch 24::   0%|          | 0/9 [00:00<?, ?it/s]"
            ],
            "application/vnd.jupyter.widget-view+json": {
              "version_major": 2,
              "version_minor": 0,
              "model_id": "525bb730716c4690970aee0d8b6c42f6"
            }
          },
          "metadata": {}
        },
        {
          "output_type": "stream",
          "name": "stdout",
          "text": [
            "Epoch \u001b[34m24\u001b[0m/80 : \u001b[34mTraining\u001b[0m : (\u001b[36mloss\u001b[0m 1.0336486366060045) (\u001b[36macc\u001b[0m 0.484375)\n"
          ]
        },
        {
          "output_type": "display_data",
          "data": {
            "text/plain": [
              "validation::   0%|          | 0/3 [00:00<?, ?it/s]"
            ],
            "application/vnd.jupyter.widget-view+json": {
              "version_major": 2,
              "version_minor": 0,
              "model_id": "286fd3a82e3a4b0cbd893a6691d221bf"
            }
          },
          "metadata": {}
        },
        {
          "output_type": "stream",
          "name": "stdout",
          "text": [
            "\u001b[34mvalidation\u001b[0m : (\u001b[36mloss\u001b[0m 1.0760137637456257) (\u001b[36macc\u001b[0m 0.3958333333333333)\n"
          ]
        },
        {
          "output_type": "display_data",
          "data": {
            "text/plain": [
              "Epoch 25::   0%|          | 0/9 [00:00<?, ?it/s]"
            ],
            "application/vnd.jupyter.widget-view+json": {
              "version_major": 2,
              "version_minor": 0,
              "model_id": "80676ac019c34b92baafaa47ceb7e152"
            }
          },
          "metadata": {}
        },
        {
          "output_type": "stream",
          "name": "stdout",
          "text": [
            "Epoch \u001b[34m25\u001b[0m/80 : \u001b[34mTraining\u001b[0m : (\u001b[36mloss\u001b[0m 1.0291668971379597) (\u001b[36macc\u001b[0m 0.4947916666666667)\n"
          ]
        },
        {
          "output_type": "display_data",
          "data": {
            "text/plain": [
              "validation::   0%|          | 0/3 [00:00<?, ?it/s]"
            ],
            "application/vnd.jupyter.widget-view+json": {
              "version_major": 2,
              "version_minor": 0,
              "model_id": "66c201e8ee164dbfb295bb4e6c961da3"
            }
          },
          "metadata": {}
        },
        {
          "output_type": "stream",
          "name": "stdout",
          "text": [
            "\u001b[34mvalidation\u001b[0m : (\u001b[36mloss\u001b[0m 1.0798297723134358) (\u001b[36macc\u001b[0m 0.4010416666666667)\n"
          ]
        },
        {
          "output_type": "display_data",
          "data": {
            "text/plain": [
              "Epoch 26::   0%|          | 0/9 [00:00<?, ?it/s]"
            ],
            "application/vnd.jupyter.widget-view+json": {
              "version_major": 2,
              "version_minor": 0,
              "model_id": "71e99a1067e94141b3c2148c23a39a05"
            }
          },
          "metadata": {}
        },
        {
          "output_type": "stream",
          "name": "stdout",
          "text": [
            "Epoch \u001b[34m26\u001b[0m/80 : \u001b[34mTraining\u001b[0m : (\u001b[36mloss\u001b[0m 1.0292305482758417) (\u001b[36macc\u001b[0m 0.5052083333333334)\n"
          ]
        },
        {
          "output_type": "display_data",
          "data": {
            "text/plain": [
              "validation::   0%|          | 0/3 [00:00<?, ?it/s]"
            ],
            "application/vnd.jupyter.widget-view+json": {
              "version_major": 2,
              "version_minor": 0,
              "model_id": "d60eb622151c417286bcf26b58b3dbf9"
            }
          },
          "metadata": {}
        },
        {
          "output_type": "stream",
          "name": "stdout",
          "text": [
            "\u001b[34mvalidation\u001b[0m : (\u001b[36mloss\u001b[0m 1.0531563361485798) (\u001b[36macc\u001b[0m 0.40625)\n"
          ]
        },
        {
          "output_type": "display_data",
          "data": {
            "text/plain": [
              "Epoch 27::   0%|          | 0/9 [00:00<?, ?it/s]"
            ],
            "application/vnd.jupyter.widget-view+json": {
              "version_major": 2,
              "version_minor": 0,
              "model_id": "8ea44610c64e4884877507a3f3e4d6c7"
            }
          },
          "metadata": {}
        },
        {
          "output_type": "stream",
          "name": "stdout",
          "text": [
            "Epoch \u001b[34m27\u001b[0m/80 : \u001b[34mTraining\u001b[0m : (\u001b[36mloss\u001b[0m 1.0242293344603643) (\u001b[36macc\u001b[0m 0.5)\n"
          ]
        },
        {
          "output_type": "display_data",
          "data": {
            "text/plain": [
              "validation::   0%|          | 0/3 [00:00<?, ?it/s]"
            ],
            "application/vnd.jupyter.widget-view+json": {
              "version_major": 2,
              "version_minor": 0,
              "model_id": "75aff842eebc43f58bb95dd29be6757f"
            }
          },
          "metadata": {}
        },
        {
          "output_type": "stream",
          "name": "stdout",
          "text": [
            "\u001b[34mvalidation\u001b[0m : (\u001b[36mloss\u001b[0m 1.0799565315246582) (\u001b[36macc\u001b[0m 0.40625)\n"
          ]
        },
        {
          "output_type": "display_data",
          "data": {
            "text/plain": [
              "Epoch 28::   0%|          | 0/9 [00:00<?, ?it/s]"
            ],
            "application/vnd.jupyter.widget-view+json": {
              "version_major": 2,
              "version_minor": 0,
              "model_id": "d83c9bef0338459cb9106d9732242dcc"
            }
          },
          "metadata": {}
        },
        {
          "output_type": "stream",
          "name": "stdout",
          "text": [
            "Epoch \u001b[34m28\u001b[0m/80 : \u001b[34mTraining\u001b[0m : (\u001b[36mloss\u001b[0m 1.0261291993988886) (\u001b[36macc\u001b[0m 0.5347222222222222)\n"
          ]
        },
        {
          "output_type": "display_data",
          "data": {
            "text/plain": [
              "validation::   0%|          | 0/3 [00:00<?, ?it/s]"
            ],
            "application/vnd.jupyter.widget-view+json": {
              "version_major": 2,
              "version_minor": 0,
              "model_id": "8fc8515a49c04273a85d1ccc64545110"
            }
          },
          "metadata": {}
        },
        {
          "output_type": "stream",
          "name": "stdout",
          "text": [
            "\u001b[34mvalidation\u001b[0m : (\u001b[36mloss\u001b[0m 1.0836414098739624) (\u001b[36macc\u001b[0m 0.4010416666666667)\n"
          ]
        },
        {
          "output_type": "display_data",
          "data": {
            "text/plain": [
              "Epoch 29::   0%|          | 0/9 [00:00<?, ?it/s]"
            ],
            "application/vnd.jupyter.widget-view+json": {
              "version_major": 2,
              "version_minor": 0,
              "model_id": "3e84b7f82d12424f9553c4e22044a29f"
            }
          },
          "metadata": {}
        },
        {
          "output_type": "stream",
          "name": "stdout",
          "text": [
            "Epoch \u001b[34m29\u001b[0m/80 : \u001b[34mTraining\u001b[0m : (\u001b[36mloss\u001b[0m 1.0236325330204434) (\u001b[36macc\u001b[0m 0.5138888888888888)\n"
          ]
        },
        {
          "output_type": "display_data",
          "data": {
            "text/plain": [
              "validation::   0%|          | 0/3 [00:00<?, ?it/s]"
            ],
            "application/vnd.jupyter.widget-view+json": {
              "version_major": 2,
              "version_minor": 0,
              "model_id": "9d423e1d8a854e30a4c6f80e401ef018"
            }
          },
          "metadata": {}
        },
        {
          "output_type": "stream",
          "name": "stdout",
          "text": [
            "\u001b[34mvalidation\u001b[0m : (\u001b[36mloss\u001b[0m 1.0596322615941365) (\u001b[36macc\u001b[0m 0.4166666666666667)\n"
          ]
        },
        {
          "output_type": "display_data",
          "data": {
            "text/plain": [
              "Epoch 30::   0%|          | 0/9 [00:00<?, ?it/s]"
            ],
            "application/vnd.jupyter.widget-view+json": {
              "version_major": 2,
              "version_minor": 0,
              "model_id": "718c1d23a8e947369c1526275f7d63df"
            }
          },
          "metadata": {}
        },
        {
          "output_type": "stream",
          "name": "stdout",
          "text": [
            "Epoch \u001b[34m30\u001b[0m/80 : \u001b[34mTraining\u001b[0m : (\u001b[36mloss\u001b[0m 1.0209250847498577) (\u001b[36macc\u001b[0m 0.5347222222222222)\n"
          ]
        },
        {
          "output_type": "display_data",
          "data": {
            "text/plain": [
              "validation::   0%|          | 0/3 [00:00<?, ?it/s]"
            ],
            "application/vnd.jupyter.widget-view+json": {
              "version_major": 2,
              "version_minor": 0,
              "model_id": "da137e84bd66491bb1b0b9f331d1c1bf"
            }
          },
          "metadata": {}
        },
        {
          "output_type": "stream",
          "name": "stdout",
          "text": [
            "\u001b[34mvalidation\u001b[0m : (\u001b[36mloss\u001b[0m 1.0817131598790486) (\u001b[36macc\u001b[0m 0.40625)\n"
          ]
        },
        {
          "output_type": "display_data",
          "data": {
            "text/plain": [
              "Epoch 31::   0%|          | 0/9 [00:00<?, ?it/s]"
            ],
            "application/vnd.jupyter.widget-view+json": {
              "version_major": 2,
              "version_minor": 0,
              "model_id": "752e6e6f449a4c0cae9697594edc1e80"
            }
          },
          "metadata": {}
        },
        {
          "output_type": "stream",
          "name": "stdout",
          "text": [
            "Epoch \u001b[34m31\u001b[0m/80 : \u001b[34mTraining\u001b[0m : (\u001b[36mloss\u001b[0m 1.0206739240222507) (\u001b[36macc\u001b[0m 0.5486111111111112)\n"
          ]
        },
        {
          "output_type": "display_data",
          "data": {
            "text/plain": [
              "validation::   0%|          | 0/3 [00:00<?, ?it/s]"
            ],
            "application/vnd.jupyter.widget-view+json": {
              "version_major": 2,
              "version_minor": 0,
              "model_id": "ac01fe9e38754e9a9a1a308669f8a8d3"
            }
          },
          "metadata": {}
        },
        {
          "output_type": "stream",
          "name": "stdout",
          "text": [
            "\u001b[34mvalidation\u001b[0m : (\u001b[36mloss\u001b[0m 1.0703269243240356) (\u001b[36macc\u001b[0m 0.390625)\n"
          ]
        },
        {
          "output_type": "display_data",
          "data": {
            "text/plain": [
              "Epoch 32::   0%|          | 0/9 [00:00<?, ?it/s]"
            ],
            "application/vnd.jupyter.widget-view+json": {
              "version_major": 2,
              "version_minor": 0,
              "model_id": "cdbc2ca326b44f35af3a2f143829b391"
            }
          },
          "metadata": {}
        },
        {
          "output_type": "stream",
          "name": "stdout",
          "text": [
            "Epoch \u001b[34m32\u001b[0m/80 : \u001b[34mTraining\u001b[0m : (\u001b[36mloss\u001b[0m 1.0154344373279147) (\u001b[36macc\u001b[0m 0.5243055555555556)\n"
          ]
        },
        {
          "output_type": "display_data",
          "data": {
            "text/plain": [
              "validation::   0%|          | 0/3 [00:00<?, ?it/s]"
            ],
            "application/vnd.jupyter.widget-view+json": {
              "version_major": 2,
              "version_minor": 0,
              "model_id": "76c60cac3ad345e89b9b5ad8c0d83ea0"
            }
          },
          "metadata": {}
        },
        {
          "output_type": "stream",
          "name": "stdout",
          "text": [
            "\u001b[34mvalidation\u001b[0m : (\u001b[36mloss\u001b[0m 1.068200707435608) (\u001b[36macc\u001b[0m 0.4010416666666667)\n"
          ]
        },
        {
          "output_type": "display_data",
          "data": {
            "text/plain": [
              "Epoch 33::   0%|          | 0/9 [00:00<?, ?it/s]"
            ],
            "application/vnd.jupyter.widget-view+json": {
              "version_major": 2,
              "version_minor": 0,
              "model_id": "1987c682826a4f6988de7e7fff4f7f40"
            }
          },
          "metadata": {}
        },
        {
          "output_type": "stream",
          "name": "stdout",
          "text": [
            "Epoch \u001b[34m33\u001b[0m/80 : \u001b[34mTraining\u001b[0m : (\u001b[36mloss\u001b[0m 1.0213788151741028) (\u001b[36macc\u001b[0m 0.5121527777777778)\n"
          ]
        },
        {
          "output_type": "display_data",
          "data": {
            "text/plain": [
              "validation::   0%|          | 0/3 [00:00<?, ?it/s]"
            ],
            "application/vnd.jupyter.widget-view+json": {
              "version_major": 2,
              "version_minor": 0,
              "model_id": "c2da2037ec904e5eacb6270b6b3b499d"
            }
          },
          "metadata": {}
        },
        {
          "output_type": "stream",
          "name": "stdout",
          "text": [
            "\u001b[34mvalidation\u001b[0m : (\u001b[36mloss\u001b[0m 1.0723745028177898) (\u001b[36macc\u001b[0m 0.4166666666666667)\n"
          ]
        },
        {
          "output_type": "display_data",
          "data": {
            "text/plain": [
              "Epoch 34::   0%|          | 0/9 [00:00<?, ?it/s]"
            ],
            "application/vnd.jupyter.widget-view+json": {
              "version_major": 2,
              "version_minor": 0,
              "model_id": "ea7930a301b84ae3826f82e0927e3ff1"
            }
          },
          "metadata": {}
        },
        {
          "output_type": "stream",
          "name": "stdout",
          "text": [
            "Epoch \u001b[34m34\u001b[0m/80 : \u001b[34mTraining\u001b[0m : (\u001b[36mloss\u001b[0m 1.0173518790139093) (\u001b[36macc\u001b[0m 0.5364583333333334)\n"
          ]
        },
        {
          "output_type": "display_data",
          "data": {
            "text/plain": [
              "validation::   0%|          | 0/3 [00:00<?, ?it/s]"
            ],
            "application/vnd.jupyter.widget-view+json": {
              "version_major": 2,
              "version_minor": 0,
              "model_id": "5a363e7df1b04a03ac499620a3238bbd"
            }
          },
          "metadata": {}
        },
        {
          "output_type": "stream",
          "name": "stdout",
          "text": [
            "\u001b[34mvalidation\u001b[0m : (\u001b[36mloss\u001b[0m 1.0743486086527507) (\u001b[36macc\u001b[0m 0.390625)\n"
          ]
        },
        {
          "output_type": "display_data",
          "data": {
            "text/plain": [
              "Epoch 35::   0%|          | 0/9 [00:00<?, ?it/s]"
            ],
            "application/vnd.jupyter.widget-view+json": {
              "version_major": 2,
              "version_minor": 0,
              "model_id": "a013b9d21e8e47ac9ace96ba46c22662"
            }
          },
          "metadata": {}
        },
        {
          "output_type": "stream",
          "name": "stdout",
          "text": [
            "Epoch \u001b[34m35\u001b[0m/80 : \u001b[34mTraining\u001b[0m : (\u001b[36mloss\u001b[0m 1.013738559352027) (\u001b[36macc\u001b[0m 0.5434027777777778)\n"
          ]
        },
        {
          "output_type": "display_data",
          "data": {
            "text/plain": [
              "validation::   0%|          | 0/3 [00:00<?, ?it/s]"
            ],
            "application/vnd.jupyter.widget-view+json": {
              "version_major": 2,
              "version_minor": 0,
              "model_id": "33fdb3548e2540738884baa17a19f062"
            }
          },
          "metadata": {}
        },
        {
          "output_type": "stream",
          "name": "stdout",
          "text": [
            "\u001b[34mvalidation\u001b[0m : (\u001b[36mloss\u001b[0m 1.0809489488601685) (\u001b[36macc\u001b[0m 0.3854166666666667)\n"
          ]
        },
        {
          "output_type": "display_data",
          "data": {
            "text/plain": [
              "Epoch 36::   0%|          | 0/9 [00:00<?, ?it/s]"
            ],
            "application/vnd.jupyter.widget-view+json": {
              "version_major": 2,
              "version_minor": 0,
              "model_id": "9ff6c2d5a6804d55b53a55281a72be16"
            }
          },
          "metadata": {}
        },
        {
          "output_type": "stream",
          "name": "stdout",
          "text": [
            "Epoch \u001b[34m36\u001b[0m/80 : \u001b[34mTraining\u001b[0m : (\u001b[36mloss\u001b[0m 1.0115063058005438) (\u001b[36macc\u001b[0m 0.5607638888888888)\n"
          ]
        },
        {
          "output_type": "display_data",
          "data": {
            "text/plain": [
              "validation::   0%|          | 0/3 [00:00<?, ?it/s]"
            ],
            "application/vnd.jupyter.widget-view+json": {
              "version_major": 2,
              "version_minor": 0,
              "model_id": "634f699a5f904a3c8e9575544ef80cb1"
            }
          },
          "metadata": {}
        },
        {
          "output_type": "stream",
          "name": "stdout",
          "text": [
            "\u001b[34mvalidation\u001b[0m : (\u001b[36mloss\u001b[0m 1.084383447964986) (\u001b[36macc\u001b[0m 0.40625)\n"
          ]
        },
        {
          "output_type": "display_data",
          "data": {
            "text/plain": [
              "Epoch 37::   0%|          | 0/9 [00:00<?, ?it/s]"
            ],
            "application/vnd.jupyter.widget-view+json": {
              "version_major": 2,
              "version_minor": 0,
              "model_id": "3771d540eafd4fe7b4b7f0f3b571b19e"
            }
          },
          "metadata": {}
        },
        {
          "output_type": "stream",
          "name": "stdout",
          "text": [
            "Epoch \u001b[34m37\u001b[0m/80 : \u001b[34mTraining\u001b[0m : (\u001b[36mloss\u001b[0m 1.01690098312166) (\u001b[36macc\u001b[0m 0.5364583333333334)\n"
          ]
        },
        {
          "output_type": "display_data",
          "data": {
            "text/plain": [
              "validation::   0%|          | 0/3 [00:00<?, ?it/s]"
            ],
            "application/vnd.jupyter.widget-view+json": {
              "version_major": 2,
              "version_minor": 0,
              "model_id": "5c38831d7603405d8c07ee97755d7eee"
            }
          },
          "metadata": {}
        },
        {
          "output_type": "stream",
          "name": "stdout",
          "text": [
            "\u001b[34mvalidation\u001b[0m : (\u001b[36mloss\u001b[0m 1.073360562324524) (\u001b[36macc\u001b[0m 0.4114583333333333)\n"
          ]
        },
        {
          "output_type": "display_data",
          "data": {
            "text/plain": [
              "Epoch 38::   0%|          | 0/9 [00:00<?, ?it/s]"
            ],
            "application/vnd.jupyter.widget-view+json": {
              "version_major": 2,
              "version_minor": 0,
              "model_id": "172c4b9f84f947b49e27c83d7494b441"
            }
          },
          "metadata": {}
        },
        {
          "output_type": "stream",
          "name": "stdout",
          "text": [
            "Epoch \u001b[34m38\u001b[0m/80 : \u001b[34mTraining\u001b[0m : (\u001b[36mloss\u001b[0m 1.0135875675413344) (\u001b[36macc\u001b[0m 0.5520833333333334)\n"
          ]
        },
        {
          "output_type": "display_data",
          "data": {
            "text/plain": [
              "validation::   0%|          | 0/3 [00:00<?, ?it/s]"
            ],
            "application/vnd.jupyter.widget-view+json": {
              "version_major": 2,
              "version_minor": 0,
              "model_id": "dc63d72d028c45f79368c05961c0d8c2"
            }
          },
          "metadata": {}
        },
        {
          "output_type": "stream",
          "name": "stdout",
          "text": [
            "\u001b[34mvalidation\u001b[0m : (\u001b[36mloss\u001b[0m 1.0775736967722576) (\u001b[36macc\u001b[0m 0.3802083333333333)\n"
          ]
        },
        {
          "output_type": "display_data",
          "data": {
            "text/plain": [
              "Epoch 39::   0%|          | 0/9 [00:00<?, ?it/s]"
            ],
            "application/vnd.jupyter.widget-view+json": {
              "version_major": 2,
              "version_minor": 0,
              "model_id": "1197093f1d5b4476ad3e324b5ed685ad"
            }
          },
          "metadata": {}
        },
        {
          "output_type": "stream",
          "name": "stdout",
          "text": [
            "Epoch \u001b[34m39\u001b[0m/80 : \u001b[34mTraining\u001b[0m : (\u001b[36mloss\u001b[0m 1.008249733183119) (\u001b[36macc\u001b[0m 0.5625)\n"
          ]
        },
        {
          "output_type": "display_data",
          "data": {
            "text/plain": [
              "validation::   0%|          | 0/3 [00:00<?, ?it/s]"
            ],
            "application/vnd.jupyter.widget-view+json": {
              "version_major": 2,
              "version_minor": 0,
              "model_id": "9872bc6e1f5f434cae3fbd0a36dbac91"
            }
          },
          "metadata": {}
        },
        {
          "output_type": "stream",
          "name": "stdout",
          "text": [
            "\u001b[34mvalidation\u001b[0m : (\u001b[36mloss\u001b[0m 1.0978577931722004) (\u001b[36macc\u001b[0m 0.3802083333333333)\n"
          ]
        },
        {
          "output_type": "display_data",
          "data": {
            "text/plain": [
              "Epoch 40::   0%|          | 0/9 [00:00<?, ?it/s]"
            ],
            "application/vnd.jupyter.widget-view+json": {
              "version_major": 2,
              "version_minor": 0,
              "model_id": "1f9a0e30abd748db958febb92c02a250"
            }
          },
          "metadata": {}
        },
        {
          "output_type": "stream",
          "name": "stdout",
          "text": [
            "Epoch \u001b[34m40\u001b[0m/80 : \u001b[34mTraining\u001b[0m : (\u001b[36mloss\u001b[0m 1.0183398591147528) (\u001b[36macc\u001b[0m 0.5607638888888888)\n"
          ]
        },
        {
          "output_type": "display_data",
          "data": {
            "text/plain": [
              "validation::   0%|          | 0/3 [00:00<?, ?it/s]"
            ],
            "application/vnd.jupyter.widget-view+json": {
              "version_major": 2,
              "version_minor": 0,
              "model_id": "7b5663ca3ad2406e83853b6024205234"
            }
          },
          "metadata": {}
        },
        {
          "output_type": "stream",
          "name": "stdout",
          "text": [
            "\u001b[34mvalidation\u001b[0m : (\u001b[36mloss\u001b[0m 1.068957249323527) (\u001b[36macc\u001b[0m 0.3854166666666667)\n"
          ]
        },
        {
          "output_type": "display_data",
          "data": {
            "text/plain": [
              "Epoch 41::   0%|          | 0/9 [00:00<?, ?it/s]"
            ],
            "application/vnd.jupyter.widget-view+json": {
              "version_major": 2,
              "version_minor": 0,
              "model_id": "f4efb820f8a940e58da5a7a1597e7828"
            }
          },
          "metadata": {}
        },
        {
          "output_type": "stream",
          "name": "stdout",
          "text": [
            "Epoch \u001b[34m41\u001b[0m/80 : \u001b[34mTraining\u001b[0m : (\u001b[36mloss\u001b[0m 1.0037907759348552) (\u001b[36macc\u001b[0m 0.5277777777777778)\n"
          ]
        },
        {
          "output_type": "display_data",
          "data": {
            "text/plain": [
              "validation::   0%|          | 0/3 [00:00<?, ?it/s]"
            ],
            "application/vnd.jupyter.widget-view+json": {
              "version_major": 2,
              "version_minor": 0,
              "model_id": "a52edcebec75488b91d366ec61a0cc68"
            }
          },
          "metadata": {}
        },
        {
          "output_type": "stream",
          "name": "stdout",
          "text": [
            "\u001b[34mvalidation\u001b[0m : (\u001b[36mloss\u001b[0m 1.0703234672546387) (\u001b[36macc\u001b[0m 0.4322916666666667)\n"
          ]
        },
        {
          "output_type": "display_data",
          "data": {
            "text/plain": [
              "Epoch 42::   0%|          | 0/9 [00:00<?, ?it/s]"
            ],
            "application/vnd.jupyter.widget-view+json": {
              "version_major": 2,
              "version_minor": 0,
              "model_id": "8130d989fc81498991c61babbfcbbeda"
            }
          },
          "metadata": {}
        },
        {
          "output_type": "stream",
          "name": "stdout",
          "text": [
            "Epoch \u001b[34m42\u001b[0m/80 : \u001b[34mTraining\u001b[0m : (\u001b[36mloss\u001b[0m 1.0048723485734727) (\u001b[36macc\u001b[0m 0.515625)\n"
          ]
        },
        {
          "output_type": "display_data",
          "data": {
            "text/plain": [
              "validation::   0%|          | 0/3 [00:00<?, ?it/s]"
            ],
            "application/vnd.jupyter.widget-view+json": {
              "version_major": 2,
              "version_minor": 0,
              "model_id": "b2cec74303854dfbbabaf5d450cbc80c"
            }
          },
          "metadata": {}
        },
        {
          "output_type": "stream",
          "name": "stdout",
          "text": [
            "\u001b[34mvalidation\u001b[0m : (\u001b[36mloss\u001b[0m 1.0678622325261433) (\u001b[36macc\u001b[0m 0.421875)\n"
          ]
        },
        {
          "output_type": "display_data",
          "data": {
            "text/plain": [
              "Epoch 43::   0%|          | 0/9 [00:00<?, ?it/s]"
            ],
            "application/vnd.jupyter.widget-view+json": {
              "version_major": 2,
              "version_minor": 0,
              "model_id": "15bfb5945545447e8ee3097dc522dedf"
            }
          },
          "metadata": {}
        },
        {
          "output_type": "stream",
          "name": "stdout",
          "text": [
            "Epoch \u001b[34m43\u001b[0m/80 : \u001b[34mTraining\u001b[0m : (\u001b[36mloss\u001b[0m 1.0049455695682101) (\u001b[36macc\u001b[0m 0.5225694444444444)\n"
          ]
        },
        {
          "output_type": "display_data",
          "data": {
            "text/plain": [
              "validation::   0%|          | 0/3 [00:00<?, ?it/s]"
            ],
            "application/vnd.jupyter.widget-view+json": {
              "version_major": 2,
              "version_minor": 0,
              "model_id": "6cf2bfa53f0546ecbcb8801b5ee72cb2"
            }
          },
          "metadata": {}
        },
        {
          "output_type": "stream",
          "name": "stdout",
          "text": [
            "\u001b[34mvalidation\u001b[0m : (\u001b[36mloss\u001b[0m 1.0707672039667766) (\u001b[36macc\u001b[0m 0.3802083333333333)\n"
          ]
        },
        {
          "output_type": "display_data",
          "data": {
            "text/plain": [
              "Epoch 44::   0%|          | 0/9 [00:00<?, ?it/s]"
            ],
            "application/vnd.jupyter.widget-view+json": {
              "version_major": 2,
              "version_minor": 0,
              "model_id": "ced88537b9874fd89ca6f91f8a3727b0"
            }
          },
          "metadata": {}
        },
        {
          "output_type": "stream",
          "name": "stdout",
          "text": [
            "Epoch \u001b[34m44\u001b[0m/80 : \u001b[34mTraining\u001b[0m : (\u001b[36mloss\u001b[0m 1.007352762752109) (\u001b[36macc\u001b[0m 0.5486111111111112)\n"
          ]
        },
        {
          "output_type": "display_data",
          "data": {
            "text/plain": [
              "validation::   0%|          | 0/3 [00:00<?, ?it/s]"
            ],
            "application/vnd.jupyter.widget-view+json": {
              "version_major": 2,
              "version_minor": 0,
              "model_id": "a5ac5c889fbc435683782261d9d35cfd"
            }
          },
          "metadata": {}
        },
        {
          "output_type": "stream",
          "name": "stdout",
          "text": [
            "\u001b[34mvalidation\u001b[0m : (\u001b[36mloss\u001b[0m 1.08943772315979) (\u001b[36macc\u001b[0m 0.3958333333333333)\n"
          ]
        },
        {
          "output_type": "display_data",
          "data": {
            "text/plain": [
              "Epoch 45::   0%|          | 0/9 [00:00<?, ?it/s]"
            ],
            "application/vnd.jupyter.widget-view+json": {
              "version_major": 2,
              "version_minor": 0,
              "model_id": "d3b53ba897034b769435839bb86b0218"
            }
          },
          "metadata": {}
        },
        {
          "output_type": "stream",
          "name": "stdout",
          "text": [
            "Epoch \u001b[34m45\u001b[0m/80 : \u001b[34mTraining\u001b[0m : (\u001b[36mloss\u001b[0m 1.005611949496799) (\u001b[36macc\u001b[0m 0.5520833333333334)\n"
          ]
        },
        {
          "output_type": "display_data",
          "data": {
            "text/plain": [
              "validation::   0%|          | 0/3 [00:00<?, ?it/s]"
            ],
            "application/vnd.jupyter.widget-view+json": {
              "version_major": 2,
              "version_minor": 0,
              "model_id": "b8738fb87f52483cb5bbfc12294fd12d"
            }
          },
          "metadata": {}
        },
        {
          "output_type": "stream",
          "name": "stdout",
          "text": [
            "\u001b[34mvalidation\u001b[0m : (\u001b[36mloss\u001b[0m 1.0786772171656291) (\u001b[36macc\u001b[0m 0.3958333333333333)\n"
          ]
        },
        {
          "output_type": "display_data",
          "data": {
            "text/plain": [
              "Epoch 46::   0%|          | 0/9 [00:00<?, ?it/s]"
            ],
            "application/vnd.jupyter.widget-view+json": {
              "version_major": 2,
              "version_minor": 0,
              "model_id": "44730c1439774cdb80ca00a3658991e3"
            }
          },
          "metadata": {}
        },
        {
          "output_type": "stream",
          "name": "stdout",
          "text": [
            "Epoch \u001b[34m46\u001b[0m/80 : \u001b[34mTraining\u001b[0m : (\u001b[36mloss\u001b[0m 1.0121116174591913) (\u001b[36macc\u001b[0m 0.4982638888888889)\n"
          ]
        },
        {
          "output_type": "display_data",
          "data": {
            "text/plain": [
              "validation::   0%|          | 0/3 [00:00<?, ?it/s]"
            ],
            "application/vnd.jupyter.widget-view+json": {
              "version_major": 2,
              "version_minor": 0,
              "model_id": "fba786cf486a4771a174133fe548e234"
            }
          },
          "metadata": {}
        },
        {
          "output_type": "stream",
          "name": "stdout",
          "text": [
            "\u001b[34mvalidation\u001b[0m : (\u001b[36mloss\u001b[0m 1.083677093187968) (\u001b[36macc\u001b[0m 0.421875)\n"
          ]
        },
        {
          "output_type": "display_data",
          "data": {
            "text/plain": [
              "Epoch 47::   0%|          | 0/9 [00:00<?, ?it/s]"
            ],
            "application/vnd.jupyter.widget-view+json": {
              "version_major": 2,
              "version_minor": 0,
              "model_id": "7624cbad734d4984b3564dca9378ee67"
            }
          },
          "metadata": {}
        },
        {
          "output_type": "stream",
          "name": "stdout",
          "text": [
            "Epoch \u001b[34m47\u001b[0m/80 : \u001b[34mTraining\u001b[0m : (\u001b[36mloss\u001b[0m 1.004637102286021) (\u001b[36macc\u001b[0m 0.5208333333333334)\n"
          ]
        },
        {
          "output_type": "display_data",
          "data": {
            "text/plain": [
              "validation::   0%|          | 0/3 [00:00<?, ?it/s]"
            ],
            "application/vnd.jupyter.widget-view+json": {
              "version_major": 2,
              "version_minor": 0,
              "model_id": "aa6d3825e9104068a9ef1753e1aad2bb"
            }
          },
          "metadata": {}
        },
        {
          "output_type": "stream",
          "name": "stdout",
          "text": [
            "\u001b[34mvalidation\u001b[0m : (\u001b[36mloss\u001b[0m 1.0699681838353474) (\u001b[36macc\u001b[0m 0.4270833333333333)\n"
          ]
        },
        {
          "output_type": "display_data",
          "data": {
            "text/plain": [
              "Epoch 48::   0%|          | 0/9 [00:00<?, ?it/s]"
            ],
            "application/vnd.jupyter.widget-view+json": {
              "version_major": 2,
              "version_minor": 0,
              "model_id": "50e49d01c5e54233acc2aade5b4628bc"
            }
          },
          "metadata": {}
        },
        {
          "output_type": "stream",
          "name": "stdout",
          "text": [
            "Epoch \u001b[34m48\u001b[0m/80 : \u001b[34mTraining\u001b[0m : (\u001b[36mloss\u001b[0m 1.0009130835533142) (\u001b[36macc\u001b[0m 0.5416666666666666)\n"
          ]
        },
        {
          "output_type": "display_data",
          "data": {
            "text/plain": [
              "validation::   0%|          | 0/3 [00:00<?, ?it/s]"
            ],
            "application/vnd.jupyter.widget-view+json": {
              "version_major": 2,
              "version_minor": 0,
              "model_id": "e42853bb71bb4c65947b73621934b180"
            }
          },
          "metadata": {}
        },
        {
          "output_type": "stream",
          "name": "stdout",
          "text": [
            "\u001b[34mvalidation\u001b[0m : (\u001b[36mloss\u001b[0m 1.0827982823053997) (\u001b[36macc\u001b[0m 0.4010416666666667)\n"
          ]
        },
        {
          "output_type": "display_data",
          "data": {
            "text/plain": [
              "Epoch 49::   0%|          | 0/9 [00:00<?, ?it/s]"
            ],
            "application/vnd.jupyter.widget-view+json": {
              "version_major": 2,
              "version_minor": 0,
              "model_id": "b2e87a59e6f34d9ba1247effab284c09"
            }
          },
          "metadata": {}
        },
        {
          "output_type": "stream",
          "name": "stdout",
          "text": [
            "Epoch \u001b[34m49\u001b[0m/80 : \u001b[34mTraining\u001b[0m : (\u001b[36mloss\u001b[0m 0.9921638700697157) (\u001b[36macc\u001b[0m 0.5572916666666666)\n"
          ]
        },
        {
          "output_type": "display_data",
          "data": {
            "text/plain": [
              "validation::   0%|          | 0/3 [00:00<?, ?it/s]"
            ],
            "application/vnd.jupyter.widget-view+json": {
              "version_major": 2,
              "version_minor": 0,
              "model_id": "bd950d6343224033bf0835ae0dd34f7d"
            }
          },
          "metadata": {}
        },
        {
          "output_type": "stream",
          "name": "stdout",
          "text": [
            "\u001b[34mvalidation\u001b[0m : (\u001b[36mloss\u001b[0m 1.068744381268819) (\u001b[36macc\u001b[0m 0.3802083333333333)\n"
          ]
        },
        {
          "output_type": "display_data",
          "data": {
            "text/plain": [
              "Epoch 50::   0%|          | 0/9 [00:00<?, ?it/s]"
            ],
            "application/vnd.jupyter.widget-view+json": {
              "version_major": 2,
              "version_minor": 0,
              "model_id": "fdfb00aa79fd4e8d81656204141a81da"
            }
          },
          "metadata": {}
        },
        {
          "output_type": "stream",
          "name": "stdout",
          "text": [
            "Epoch \u001b[34m50\u001b[0m/80 : \u001b[34mTraining\u001b[0m : (\u001b[36mloss\u001b[0m 0.9956870939996507) (\u001b[36macc\u001b[0m 0.578125)\n"
          ]
        },
        {
          "output_type": "display_data",
          "data": {
            "text/plain": [
              "validation::   0%|          | 0/3 [00:00<?, ?it/s]"
            ],
            "application/vnd.jupyter.widget-view+json": {
              "version_major": 2,
              "version_minor": 0,
              "model_id": "400e453617dc444698898aa483b5caf6"
            }
          },
          "metadata": {}
        },
        {
          "output_type": "stream",
          "name": "stdout",
          "text": [
            "\u001b[34mvalidation\u001b[0m : (\u001b[36mloss\u001b[0m 1.082382361094157) (\u001b[36macc\u001b[0m 0.4270833333333333)\n"
          ]
        },
        {
          "output_type": "display_data",
          "data": {
            "text/plain": [
              "Epoch 51::   0%|          | 0/9 [00:00<?, ?it/s]"
            ],
            "application/vnd.jupyter.widget-view+json": {
              "version_major": 2,
              "version_minor": 0,
              "model_id": "95180ff3eae84b96a36122b9bae44a36"
            }
          },
          "metadata": {}
        },
        {
          "output_type": "stream",
          "name": "stdout",
          "text": [
            "Epoch \u001b[34m51\u001b[0m/80 : \u001b[34mTraining\u001b[0m : (\u001b[36mloss\u001b[0m 0.9975102610058255) (\u001b[36macc\u001b[0m 0.5694444444444444)\n"
          ]
        },
        {
          "output_type": "display_data",
          "data": {
            "text/plain": [
              "validation::   0%|          | 0/3 [00:00<?, ?it/s]"
            ],
            "application/vnd.jupyter.widget-view+json": {
              "version_major": 2,
              "version_minor": 0,
              "model_id": "b5c0a335dd5c4db1ae3d67b53ef94fe6"
            }
          },
          "metadata": {}
        },
        {
          "output_type": "stream",
          "name": "stdout",
          "text": [
            "\u001b[34mvalidation\u001b[0m : (\u001b[36mloss\u001b[0m 1.0658790270487468) (\u001b[36macc\u001b[0m 0.453125)\n"
          ]
        },
        {
          "output_type": "display_data",
          "data": {
            "text/plain": [
              "Epoch 52::   0%|          | 0/9 [00:00<?, ?it/s]"
            ],
            "application/vnd.jupyter.widget-view+json": {
              "version_major": 2,
              "version_minor": 0,
              "model_id": "535773642031419d940f9e462daad2ad"
            }
          },
          "metadata": {}
        },
        {
          "output_type": "stream",
          "name": "stdout",
          "text": [
            "Epoch \u001b[34m52\u001b[0m/80 : \u001b[34mTraining\u001b[0m : (\u001b[36mloss\u001b[0m 0.9912339051564535) (\u001b[36macc\u001b[0m 0.5711805555555556)\n"
          ]
        },
        {
          "output_type": "display_data",
          "data": {
            "text/plain": [
              "validation::   0%|          | 0/3 [00:00<?, ?it/s]"
            ],
            "application/vnd.jupyter.widget-view+json": {
              "version_major": 2,
              "version_minor": 0,
              "model_id": "f7eb8d73e7c743d59a40a064bbb8608b"
            }
          },
          "metadata": {}
        },
        {
          "output_type": "stream",
          "name": "stdout",
          "text": [
            "\u001b[34mvalidation\u001b[0m : (\u001b[36mloss\u001b[0m 1.0701522827148438) (\u001b[36macc\u001b[0m 0.4270833333333333)\n"
          ]
        },
        {
          "output_type": "display_data",
          "data": {
            "text/plain": [
              "Epoch 53::   0%|          | 0/9 [00:00<?, ?it/s]"
            ],
            "application/vnd.jupyter.widget-view+json": {
              "version_major": 2,
              "version_minor": 0,
              "model_id": "d1fcc6b00ed346afaff7bafcb2e6321c"
            }
          },
          "metadata": {}
        },
        {
          "output_type": "stream",
          "name": "stdout",
          "text": [
            "Epoch \u001b[34m53\u001b[0m/80 : \u001b[34mTraining\u001b[0m : (\u001b[36mloss\u001b[0m 0.990057541264428) (\u001b[36macc\u001b[0m 0.5729166666666666)\n"
          ]
        },
        {
          "output_type": "display_data",
          "data": {
            "text/plain": [
              "validation::   0%|          | 0/3 [00:00<?, ?it/s]"
            ],
            "application/vnd.jupyter.widget-view+json": {
              "version_major": 2,
              "version_minor": 0,
              "model_id": "f0091b045d9f49619b444576bd75a1db"
            }
          },
          "metadata": {}
        },
        {
          "output_type": "stream",
          "name": "stdout",
          "text": [
            "\u001b[34mvalidation\u001b[0m : (\u001b[36mloss\u001b[0m 1.0758461554845173) (\u001b[36macc\u001b[0m 0.4427083333333333)\n"
          ]
        },
        {
          "output_type": "display_data",
          "data": {
            "text/plain": [
              "Epoch 54::   0%|          | 0/9 [00:00<?, ?it/s]"
            ],
            "application/vnd.jupyter.widget-view+json": {
              "version_major": 2,
              "version_minor": 0,
              "model_id": "16e693dd9f44483a9f9061ec73f91cec"
            }
          },
          "metadata": {}
        },
        {
          "output_type": "stream",
          "name": "stdout",
          "text": [
            "Epoch \u001b[34m54\u001b[0m/80 : \u001b[34mTraining\u001b[0m : (\u001b[36mloss\u001b[0m 0.9892619583341811) (\u001b[36macc\u001b[0m 0.5954861111111112)\n"
          ]
        },
        {
          "output_type": "display_data",
          "data": {
            "text/plain": [
              "validation::   0%|          | 0/3 [00:00<?, ?it/s]"
            ],
            "application/vnd.jupyter.widget-view+json": {
              "version_major": 2,
              "version_minor": 0,
              "model_id": "589729e9105f4f78a76b268e2e58ffcd"
            }
          },
          "metadata": {}
        },
        {
          "output_type": "stream",
          "name": "stdout",
          "text": [
            "\u001b[34mvalidation\u001b[0m : (\u001b[36mloss\u001b[0m 1.0638541380564372) (\u001b[36macc\u001b[0m 0.4010416666666667)\n"
          ]
        },
        {
          "output_type": "display_data",
          "data": {
            "text/plain": [
              "Epoch 55::   0%|          | 0/9 [00:00<?, ?it/s]"
            ],
            "application/vnd.jupyter.widget-view+json": {
              "version_major": 2,
              "version_minor": 0,
              "model_id": "e62c903a7d6f431a95f864448a3c8567"
            }
          },
          "metadata": {}
        },
        {
          "output_type": "stream",
          "name": "stdout",
          "text": [
            "Epoch \u001b[34m55\u001b[0m/80 : \u001b[34mTraining\u001b[0m : (\u001b[36mloss\u001b[0m 0.9890183409055074) (\u001b[36macc\u001b[0m 0.5798611111111112)\n"
          ]
        },
        {
          "output_type": "display_data",
          "data": {
            "text/plain": [
              "validation::   0%|          | 0/3 [00:00<?, ?it/s]"
            ],
            "application/vnd.jupyter.widget-view+json": {
              "version_major": 2,
              "version_minor": 0,
              "model_id": "8d9c73f93a0b4f4cbca7efdedac571ed"
            }
          },
          "metadata": {}
        },
        {
          "output_type": "stream",
          "name": "stdout",
          "text": [
            "\u001b[34mvalidation\u001b[0m : (\u001b[36mloss\u001b[0m 1.080118735631307) (\u001b[36macc\u001b[0m 0.4270833333333333)\n"
          ]
        },
        {
          "output_type": "display_data",
          "data": {
            "text/plain": [
              "Epoch 56::   0%|          | 0/9 [00:00<?, ?it/s]"
            ],
            "application/vnd.jupyter.widget-view+json": {
              "version_major": 2,
              "version_minor": 0,
              "model_id": "d09bd0f26e684859b6d94a8b26843435"
            }
          },
          "metadata": {}
        },
        {
          "output_type": "stream",
          "name": "stdout",
          "text": [
            "Epoch \u001b[34m56\u001b[0m/80 : \u001b[34mTraining\u001b[0m : (\u001b[36mloss\u001b[0m 0.9867529736624824) (\u001b[36macc\u001b[0m 0.5885416666666666)\n"
          ]
        },
        {
          "output_type": "display_data",
          "data": {
            "text/plain": [
              "validation::   0%|          | 0/3 [00:00<?, ?it/s]"
            ],
            "application/vnd.jupyter.widget-view+json": {
              "version_major": 2,
              "version_minor": 0,
              "model_id": "c5ab68b1165740f7ad52c00b20770162"
            }
          },
          "metadata": {}
        },
        {
          "output_type": "stream",
          "name": "stdout",
          "text": [
            "\u001b[34mvalidation\u001b[0m : (\u001b[36mloss\u001b[0m 1.0726232528686523) (\u001b[36macc\u001b[0m 0.4010416666666667)\n"
          ]
        },
        {
          "output_type": "display_data",
          "data": {
            "text/plain": [
              "Epoch 57::   0%|          | 0/9 [00:00<?, ?it/s]"
            ],
            "application/vnd.jupyter.widget-view+json": {
              "version_major": 2,
              "version_minor": 0,
              "model_id": "f8c9bdb3ad9449ae81d22e1f61ae2711"
            }
          },
          "metadata": {}
        },
        {
          "output_type": "stream",
          "name": "stdout",
          "text": [
            "Epoch \u001b[34m57\u001b[0m/80 : \u001b[34mTraining\u001b[0m : (\u001b[36mloss\u001b[0m 0.9838883280754089) (\u001b[36macc\u001b[0m 0.5902777777777778)\n"
          ]
        },
        {
          "output_type": "display_data",
          "data": {
            "text/plain": [
              "validation::   0%|          | 0/3 [00:00<?, ?it/s]"
            ],
            "application/vnd.jupyter.widget-view+json": {
              "version_major": 2,
              "version_minor": 0,
              "model_id": "77a6e8c87eb54f708b572eea8bacbe95"
            }
          },
          "metadata": {}
        },
        {
          "output_type": "stream",
          "name": "stdout",
          "text": [
            "\u001b[34mvalidation\u001b[0m : (\u001b[36mloss\u001b[0m 1.0778603951136272) (\u001b[36macc\u001b[0m 0.421875)\n"
          ]
        },
        {
          "output_type": "display_data",
          "data": {
            "text/plain": [
              "Epoch 58::   0%|          | 0/9 [00:00<?, ?it/s]"
            ],
            "application/vnd.jupyter.widget-view+json": {
              "version_major": 2,
              "version_minor": 0,
              "model_id": "4b4ebf58870c4256a245afc83ad6aa59"
            }
          },
          "metadata": {}
        },
        {
          "output_type": "stream",
          "name": "stdout",
          "text": [
            "Epoch \u001b[34m58\u001b[0m/80 : \u001b[34mTraining\u001b[0m : (\u001b[36mloss\u001b[0m 0.9800400071673923) (\u001b[36macc\u001b[0m 0.5902777777777778)\n"
          ]
        },
        {
          "output_type": "display_data",
          "data": {
            "text/plain": [
              "validation::   0%|          | 0/3 [00:00<?, ?it/s]"
            ],
            "application/vnd.jupyter.widget-view+json": {
              "version_major": 2,
              "version_minor": 0,
              "model_id": "68df4ecca34548909ec415930cf00575"
            }
          },
          "metadata": {}
        },
        {
          "output_type": "stream",
          "name": "stdout",
          "text": [
            "\u001b[34mvalidation\u001b[0m : (\u001b[36mloss\u001b[0m 1.0680911540985107) (\u001b[36macc\u001b[0m 0.453125)\n"
          ]
        },
        {
          "output_type": "display_data",
          "data": {
            "text/plain": [
              "Epoch 59::   0%|          | 0/9 [00:00<?, ?it/s]"
            ],
            "application/vnd.jupyter.widget-view+json": {
              "version_major": 2,
              "version_minor": 0,
              "model_id": "ed26f0ceedef446999291b182fe6969e"
            }
          },
          "metadata": {}
        },
        {
          "output_type": "stream",
          "name": "stdout",
          "text": [
            "Epoch \u001b[34m59\u001b[0m/80 : \u001b[34mTraining\u001b[0m : (\u001b[36mloss\u001b[0m 0.9851605892181396) (\u001b[36macc\u001b[0m 0.5815972222222222)\n"
          ]
        },
        {
          "output_type": "display_data",
          "data": {
            "text/plain": [
              "validation::   0%|          | 0/3 [00:00<?, ?it/s]"
            ],
            "application/vnd.jupyter.widget-view+json": {
              "version_major": 2,
              "version_minor": 0,
              "model_id": "73d060da49bf4db78fe66cdcd84662ac"
            }
          },
          "metadata": {}
        },
        {
          "output_type": "stream",
          "name": "stdout",
          "text": [
            "\u001b[34mvalidation\u001b[0m : (\u001b[36mloss\u001b[0m 1.061676263809204) (\u001b[36macc\u001b[0m 0.4427083333333333)\n"
          ]
        },
        {
          "output_type": "display_data",
          "data": {
            "text/plain": [
              "Epoch 60::   0%|          | 0/9 [00:00<?, ?it/s]"
            ],
            "application/vnd.jupyter.widget-view+json": {
              "version_major": 2,
              "version_minor": 0,
              "model_id": "250595ce7f79426c9abf92ba49ef4ba0"
            }
          },
          "metadata": {}
        },
        {
          "output_type": "stream",
          "name": "stdout",
          "text": [
            "Epoch \u001b[34m60\u001b[0m/80 : \u001b[34mTraining\u001b[0m : (\u001b[36mloss\u001b[0m 0.9804039663738675) (\u001b[36macc\u001b[0m 0.5850694444444444)\n"
          ]
        },
        {
          "output_type": "display_data",
          "data": {
            "text/plain": [
              "validation::   0%|          | 0/3 [00:00<?, ?it/s]"
            ],
            "application/vnd.jupyter.widget-view+json": {
              "version_major": 2,
              "version_minor": 0,
              "model_id": "ad38486ab49c40d78148232e2e26f29e"
            }
          },
          "metadata": {}
        },
        {
          "output_type": "stream",
          "name": "stdout",
          "text": [
            "\u001b[34mvalidation\u001b[0m : (\u001b[36mloss\u001b[0m 1.0747894048690796) (\u001b[36macc\u001b[0m 0.4270833333333333)\n"
          ]
        },
        {
          "output_type": "display_data",
          "data": {
            "text/plain": [
              "Epoch 61::   0%|          | 0/9 [00:00<?, ?it/s]"
            ],
            "application/vnd.jupyter.widget-view+json": {
              "version_major": 2,
              "version_minor": 0,
              "model_id": "d401eb43b52e409a8d5ea435366516e4"
            }
          },
          "metadata": {}
        },
        {
          "output_type": "stream",
          "name": "stdout",
          "text": [
            "Epoch \u001b[34m61\u001b[0m/80 : \u001b[34mTraining\u001b[0m : (\u001b[36mloss\u001b[0m 0.9792386823230319) (\u001b[36macc\u001b[0m 0.5902777777777778)\n"
          ]
        },
        {
          "output_type": "display_data",
          "data": {
            "text/plain": [
              "validation::   0%|          | 0/3 [00:00<?, ?it/s]"
            ],
            "application/vnd.jupyter.widget-view+json": {
              "version_major": 2,
              "version_minor": 0,
              "model_id": "7df1343ffc2846fdb436bd9f69e1dc44"
            }
          },
          "metadata": {}
        },
        {
          "output_type": "stream",
          "name": "stdout",
          "text": [
            "\u001b[34mvalidation\u001b[0m : (\u001b[36mloss\u001b[0m 1.070292075475057) (\u001b[36macc\u001b[0m 0.453125)\n"
          ]
        },
        {
          "output_type": "display_data",
          "data": {
            "text/plain": [
              "Epoch 62::   0%|          | 0/9 [00:00<?, ?it/s]"
            ],
            "application/vnd.jupyter.widget-view+json": {
              "version_major": 2,
              "version_minor": 0,
              "model_id": "26d5854899ba4bcf9773be614960a474"
            }
          },
          "metadata": {}
        },
        {
          "output_type": "stream",
          "name": "stdout",
          "text": [
            "Epoch \u001b[34m62\u001b[0m/80 : \u001b[34mTraining\u001b[0m : (\u001b[36mloss\u001b[0m 0.9864422414037917) (\u001b[36macc\u001b[0m 0.5798611111111112)\n"
          ]
        },
        {
          "output_type": "display_data",
          "data": {
            "text/plain": [
              "validation::   0%|          | 0/3 [00:00<?, ?it/s]"
            ],
            "application/vnd.jupyter.widget-view+json": {
              "version_major": 2,
              "version_minor": 0,
              "model_id": "5ff13d7e563c4c49ac191773f034aacd"
            }
          },
          "metadata": {}
        },
        {
          "output_type": "stream",
          "name": "stdout",
          "text": [
            "\u001b[34mvalidation\u001b[0m : (\u001b[36mloss\u001b[0m 1.0616416533788045) (\u001b[36macc\u001b[0m 0.453125)\n"
          ]
        },
        {
          "output_type": "display_data",
          "data": {
            "text/plain": [
              "Epoch 63::   0%|          | 0/9 [00:00<?, ?it/s]"
            ],
            "application/vnd.jupyter.widget-view+json": {
              "version_major": 2,
              "version_minor": 0,
              "model_id": "8d4c72d0425043eeae241c37847bdca0"
            }
          },
          "metadata": {}
        },
        {
          "output_type": "stream",
          "name": "stdout",
          "text": [
            "Epoch \u001b[34m63\u001b[0m/80 : \u001b[34mTraining\u001b[0m : (\u001b[36mloss\u001b[0m 0.979655557208591) (\u001b[36macc\u001b[0m 0.578125)\n"
          ]
        },
        {
          "output_type": "display_data",
          "data": {
            "text/plain": [
              "validation::   0%|          | 0/3 [00:00<?, ?it/s]"
            ],
            "application/vnd.jupyter.widget-view+json": {
              "version_major": 2,
              "version_minor": 0,
              "model_id": "f150e7377b444af7be02ffb82c50ecde"
            }
          },
          "metadata": {}
        },
        {
          "output_type": "stream",
          "name": "stdout",
          "text": [
            "\u001b[34mvalidation\u001b[0m : (\u001b[36mloss\u001b[0m 1.075420339902242) (\u001b[36macc\u001b[0m 0.4010416666666667)\n"
          ]
        },
        {
          "output_type": "display_data",
          "data": {
            "text/plain": [
              "Epoch 64::   0%|          | 0/9 [00:00<?, ?it/s]"
            ],
            "application/vnd.jupyter.widget-view+json": {
              "version_major": 2,
              "version_minor": 0,
              "model_id": "34e4cae7c27b4db289db9ced2f622207"
            }
          },
          "metadata": {}
        },
        {
          "output_type": "stream",
          "name": "stdout",
          "text": [
            "Epoch \u001b[34m64\u001b[0m/80 : \u001b[34mTraining\u001b[0m : (\u001b[36mloss\u001b[0m 0.9678715268770853) (\u001b[36macc\u001b[0m 0.5902777777777778)\n"
          ]
        },
        {
          "output_type": "display_data",
          "data": {
            "text/plain": [
              "validation::   0%|          | 0/3 [00:00<?, ?it/s]"
            ],
            "application/vnd.jupyter.widget-view+json": {
              "version_major": 2,
              "version_minor": 0,
              "model_id": "cb124c1c377e4e0db4ed9227d40bf837"
            }
          },
          "metadata": {}
        },
        {
          "output_type": "stream",
          "name": "stdout",
          "text": [
            "\u001b[34mvalidation\u001b[0m : (\u001b[36mloss\u001b[0m 1.0741434494654338) (\u001b[36macc\u001b[0m 0.390625)\n"
          ]
        },
        {
          "output_type": "display_data",
          "data": {
            "text/plain": [
              "Epoch 65::   0%|          | 0/9 [00:00<?, ?it/s]"
            ],
            "application/vnd.jupyter.widget-view+json": {
              "version_major": 2,
              "version_minor": 0,
              "model_id": "385e177fc0264f52a8601c4efd4ee18c"
            }
          },
          "metadata": {}
        },
        {
          "output_type": "stream",
          "name": "stdout",
          "text": [
            "Epoch \u001b[34m65\u001b[0m/80 : \u001b[34mTraining\u001b[0m : (\u001b[36mloss\u001b[0m 0.9751367502742343) (\u001b[36macc\u001b[0m 0.5833333333333334)\n"
          ]
        },
        {
          "output_type": "display_data",
          "data": {
            "text/plain": [
              "validation::   0%|          | 0/3 [00:00<?, ?it/s]"
            ],
            "application/vnd.jupyter.widget-view+json": {
              "version_major": 2,
              "version_minor": 0,
              "model_id": "461b441e27c046f8ac1d0c260f8f68f7"
            }
          },
          "metadata": {}
        },
        {
          "output_type": "stream",
          "name": "stdout",
          "text": [
            "\u001b[34mvalidation\u001b[0m : (\u001b[36mloss\u001b[0m 1.07967213789622) (\u001b[36macc\u001b[0m 0.390625)\n"
          ]
        },
        {
          "output_type": "display_data",
          "data": {
            "text/plain": [
              "Epoch 66::   0%|          | 0/9 [00:00<?, ?it/s]"
            ],
            "application/vnd.jupyter.widget-view+json": {
              "version_major": 2,
              "version_minor": 0,
              "model_id": "162361d1a0ad4163bccdd1ab8b93bddd"
            }
          },
          "metadata": {}
        },
        {
          "output_type": "stream",
          "name": "stdout",
          "text": [
            "Epoch \u001b[34m66\u001b[0m/80 : \u001b[34mTraining\u001b[0m : (\u001b[36mloss\u001b[0m 0.9753052459822761) (\u001b[36macc\u001b[0m 0.5677083333333334)\n"
          ]
        },
        {
          "output_type": "display_data",
          "data": {
            "text/plain": [
              "validation::   0%|          | 0/3 [00:00<?, ?it/s]"
            ],
            "application/vnd.jupyter.widget-view+json": {
              "version_major": 2,
              "version_minor": 0,
              "model_id": "1d172ef53d2642b7b2f8c913a3139b10"
            }
          },
          "metadata": {}
        },
        {
          "output_type": "stream",
          "name": "stdout",
          "text": [
            "\u001b[34mvalidation\u001b[0m : (\u001b[36mloss\u001b[0m 1.0823779900868733) (\u001b[36macc\u001b[0m 0.3958333333333333)\n"
          ]
        },
        {
          "output_type": "display_data",
          "data": {
            "text/plain": [
              "Epoch 67::   0%|          | 0/9 [00:00<?, ?it/s]"
            ],
            "application/vnd.jupyter.widget-view+json": {
              "version_major": 2,
              "version_minor": 0,
              "model_id": "8d0bd4633a4a4794920bf50caf7dad44"
            }
          },
          "metadata": {}
        },
        {
          "output_type": "stream",
          "name": "stdout",
          "text": [
            "Epoch \u001b[34m67\u001b[0m/80 : \u001b[34mTraining\u001b[0m : (\u001b[36mloss\u001b[0m 0.9690461357434591) (\u001b[36macc\u001b[0m 0.5833333333333334)\n"
          ]
        },
        {
          "output_type": "display_data",
          "data": {
            "text/plain": [
              "validation::   0%|          | 0/3 [00:00<?, ?it/s]"
            ],
            "application/vnd.jupyter.widget-view+json": {
              "version_major": 2,
              "version_minor": 0,
              "model_id": "52d3208809a34a71ad602701ffc8a431"
            }
          },
          "metadata": {}
        },
        {
          "output_type": "stream",
          "name": "stdout",
          "text": [
            "\u001b[34mvalidation\u001b[0m : (\u001b[36mloss\u001b[0m 1.0660547415415447) (\u001b[36macc\u001b[0m 0.4270833333333333)\n"
          ]
        },
        {
          "output_type": "display_data",
          "data": {
            "text/plain": [
              "Epoch 68::   0%|          | 0/9 [00:00<?, ?it/s]"
            ],
            "application/vnd.jupyter.widget-view+json": {
              "version_major": 2,
              "version_minor": 0,
              "model_id": "e670f7cbe2364f74885b98dbf43b37a9"
            }
          },
          "metadata": {}
        },
        {
          "output_type": "stream",
          "name": "stdout",
          "text": [
            "Epoch \u001b[34m68\u001b[0m/80 : \u001b[34mTraining\u001b[0m : (\u001b[36mloss\u001b[0m 0.969102594587538) (\u001b[36macc\u001b[0m 0.6128472222222222)\n"
          ]
        },
        {
          "output_type": "display_data",
          "data": {
            "text/plain": [
              "validation::   0%|          | 0/3 [00:00<?, ?it/s]"
            ],
            "application/vnd.jupyter.widget-view+json": {
              "version_major": 2,
              "version_minor": 0,
              "model_id": "ff277c5e487542ef870ee896944da14d"
            }
          },
          "metadata": {}
        },
        {
          "output_type": "stream",
          "name": "stdout",
          "text": [
            "\u001b[34mvalidation\u001b[0m : (\u001b[36mloss\u001b[0m 1.0792409578959148) (\u001b[36macc\u001b[0m 0.4010416666666667)\n"
          ]
        },
        {
          "output_type": "display_data",
          "data": {
            "text/plain": [
              "Epoch 69::   0%|          | 0/9 [00:00<?, ?it/s]"
            ],
            "application/vnd.jupyter.widget-view+json": {
              "version_major": 2,
              "version_minor": 0,
              "model_id": "32a946b3b4ba4b4c89263762db5d2db6"
            }
          },
          "metadata": {}
        },
        {
          "output_type": "stream",
          "name": "stdout",
          "text": [
            "Epoch \u001b[34m69\u001b[0m/80 : \u001b[34mTraining\u001b[0m : (\u001b[36mloss\u001b[0m 0.9702555073632134) (\u001b[36macc\u001b[0m 0.6024305555555556)\n"
          ]
        },
        {
          "output_type": "display_data",
          "data": {
            "text/plain": [
              "validation::   0%|          | 0/3 [00:00<?, ?it/s]"
            ],
            "application/vnd.jupyter.widget-view+json": {
              "version_major": 2,
              "version_minor": 0,
              "model_id": "6bf97ae5c8e640158666ecae7722f3dd"
            }
          },
          "metadata": {}
        },
        {
          "output_type": "stream",
          "name": "stdout",
          "text": [
            "\u001b[34mvalidation\u001b[0m : (\u001b[36mloss\u001b[0m 1.0756205320358276) (\u001b[36macc\u001b[0m 0.4322916666666667)\n"
          ]
        },
        {
          "output_type": "display_data",
          "data": {
            "text/plain": [
              "Epoch 70::   0%|          | 0/9 [00:00<?, ?it/s]"
            ],
            "application/vnd.jupyter.widget-view+json": {
              "version_major": 2,
              "version_minor": 0,
              "model_id": "c5a07205c6dc4419ae8e110159bd8983"
            }
          },
          "metadata": {}
        },
        {
          "output_type": "stream",
          "name": "stdout",
          "text": [
            "Epoch \u001b[34m70\u001b[0m/80 : \u001b[34mTraining\u001b[0m : (\u001b[36mloss\u001b[0m 0.9671278198560079) (\u001b[36macc\u001b[0m 0.5972222222222222)\n"
          ]
        },
        {
          "output_type": "display_data",
          "data": {
            "text/plain": [
              "validation::   0%|          | 0/3 [00:00<?, ?it/s]"
            ],
            "application/vnd.jupyter.widget-view+json": {
              "version_major": 2,
              "version_minor": 0,
              "model_id": "3aa1b9e32be84f8ca46138862b36727d"
            }
          },
          "metadata": {}
        },
        {
          "output_type": "stream",
          "name": "stdout",
          "text": [
            "\u001b[34mvalidation\u001b[0m : (\u001b[36mloss\u001b[0m 1.0777485768000286) (\u001b[36macc\u001b[0m 0.4322916666666667)\n"
          ]
        },
        {
          "output_type": "display_data",
          "data": {
            "text/plain": [
              "Epoch 71::   0%|          | 0/9 [00:00<?, ?it/s]"
            ],
            "application/vnd.jupyter.widget-view+json": {
              "version_major": 2,
              "version_minor": 0,
              "model_id": "d70432bda5dc4a3292442755627c6e51"
            }
          },
          "metadata": {}
        },
        {
          "output_type": "stream",
          "name": "stdout",
          "text": [
            "Epoch \u001b[34m71\u001b[0m/80 : \u001b[34mTraining\u001b[0m : (\u001b[36mloss\u001b[0m 0.9663904309272766) (\u001b[36macc\u001b[0m 0.6006944444444444)\n"
          ]
        },
        {
          "output_type": "display_data",
          "data": {
            "text/plain": [
              "validation::   0%|          | 0/3 [00:00<?, ?it/s]"
            ],
            "application/vnd.jupyter.widget-view+json": {
              "version_major": 2,
              "version_minor": 0,
              "model_id": "489a333b31714e0aad9e5d0d59618e8d"
            }
          },
          "metadata": {}
        },
        {
          "output_type": "stream",
          "name": "stdout",
          "text": [
            "\u001b[34mvalidation\u001b[0m : (\u001b[36mloss\u001b[0m 1.0711357196172078) (\u001b[36macc\u001b[0m 0.4479166666666667)\n"
          ]
        },
        {
          "output_type": "display_data",
          "data": {
            "text/plain": [
              "Epoch 72::   0%|          | 0/9 [00:00<?, ?it/s]"
            ],
            "application/vnd.jupyter.widget-view+json": {
              "version_major": 2,
              "version_minor": 0,
              "model_id": "36ffa29f602f4c2ebf09893c771b7bf8"
            }
          },
          "metadata": {}
        },
        {
          "output_type": "stream",
          "name": "stdout",
          "text": [
            "Epoch \u001b[34m72\u001b[0m/80 : \u001b[34mTraining\u001b[0m : (\u001b[36mloss\u001b[0m 0.971473303106096) (\u001b[36macc\u001b[0m 0.609375)\n"
          ]
        },
        {
          "output_type": "display_data",
          "data": {
            "text/plain": [
              "validation::   0%|          | 0/3 [00:00<?, ?it/s]"
            ],
            "application/vnd.jupyter.widget-view+json": {
              "version_major": 2,
              "version_minor": 0,
              "model_id": "920b0dadd3634c4b9def25ec7d67dfff"
            }
          },
          "metadata": {}
        },
        {
          "output_type": "stream",
          "name": "stdout",
          "text": [
            "\u001b[34mvalidation\u001b[0m : (\u001b[36mloss\u001b[0m 1.0655730565388997) (\u001b[36macc\u001b[0m 0.390625)\n"
          ]
        },
        {
          "output_type": "display_data",
          "data": {
            "text/plain": [
              "Epoch 73::   0%|          | 0/9 [00:00<?, ?it/s]"
            ],
            "application/vnd.jupyter.widget-view+json": {
              "version_major": 2,
              "version_minor": 0,
              "model_id": "d3f54f69ebfb479a976a978894a15e04"
            }
          },
          "metadata": {}
        },
        {
          "output_type": "stream",
          "name": "stdout",
          "text": [
            "Epoch \u001b[34m73\u001b[0m/80 : \u001b[34mTraining\u001b[0m : (\u001b[36mloss\u001b[0m 0.9666265712844001) (\u001b[36macc\u001b[0m 0.5989583333333334)\n"
          ]
        },
        {
          "output_type": "display_data",
          "data": {
            "text/plain": [
              "validation::   0%|          | 0/3 [00:00<?, ?it/s]"
            ],
            "application/vnd.jupyter.widget-view+json": {
              "version_major": 2,
              "version_minor": 0,
              "model_id": "3d693c5cac5f4f6bbc13aa321a4c34f9"
            }
          },
          "metadata": {}
        },
        {
          "output_type": "stream",
          "name": "stdout",
          "text": [
            "\u001b[34mvalidation\u001b[0m : (\u001b[36mloss\u001b[0m 1.0822572708129883) (\u001b[36macc\u001b[0m 0.40625)\n"
          ]
        },
        {
          "output_type": "display_data",
          "data": {
            "text/plain": [
              "Epoch 74::   0%|          | 0/9 [00:00<?, ?it/s]"
            ],
            "application/vnd.jupyter.widget-view+json": {
              "version_major": 2,
              "version_minor": 0,
              "model_id": "0779755842e14703910d86bd800562e6"
            }
          },
          "metadata": {}
        },
        {
          "output_type": "stream",
          "name": "stdout",
          "text": [
            "Epoch \u001b[34m74\u001b[0m/80 : \u001b[34mTraining\u001b[0m : (\u001b[36mloss\u001b[0m 0.9624294175042046) (\u001b[36macc\u001b[0m 0.6111111111111112)\n"
          ]
        },
        {
          "output_type": "display_data",
          "data": {
            "text/plain": [
              "validation::   0%|          | 0/3 [00:00<?, ?it/s]"
            ],
            "application/vnd.jupyter.widget-view+json": {
              "version_major": 2,
              "version_minor": 0,
              "model_id": "b573ba611794401eabcf7d6106294f6b"
            }
          },
          "metadata": {}
        },
        {
          "output_type": "stream",
          "name": "stdout",
          "text": [
            "\u001b[34mvalidation\u001b[0m : (\u001b[36mloss\u001b[0m 1.063976526260376) (\u001b[36macc\u001b[0m 0.4270833333333333)\n"
          ]
        },
        {
          "output_type": "display_data",
          "data": {
            "text/plain": [
              "Epoch 75::   0%|          | 0/9 [00:00<?, ?it/s]"
            ],
            "application/vnd.jupyter.widget-view+json": {
              "version_major": 2,
              "version_minor": 0,
              "model_id": "ace5300b8199474fbb5de717f56ffeaf"
            }
          },
          "metadata": {}
        },
        {
          "output_type": "stream",
          "name": "stdout",
          "text": [
            "Epoch \u001b[34m75\u001b[0m/80 : \u001b[34mTraining\u001b[0m : (\u001b[36mloss\u001b[0m 0.9598661992284987) (\u001b[36macc\u001b[0m 0.6059027777777778)\n"
          ]
        },
        {
          "output_type": "display_data",
          "data": {
            "text/plain": [
              "validation::   0%|          | 0/3 [00:00<?, ?it/s]"
            ],
            "application/vnd.jupyter.widget-view+json": {
              "version_major": 2,
              "version_minor": 0,
              "model_id": "01768f20c6464b83a4ac39096e8e2c6b"
            }
          },
          "metadata": {}
        },
        {
          "output_type": "stream",
          "name": "stdout",
          "text": [
            "\u001b[34mvalidation\u001b[0m : (\u001b[36mloss\u001b[0m 1.0847269694010417) (\u001b[36macc\u001b[0m 0.390625)\n"
          ]
        },
        {
          "output_type": "display_data",
          "data": {
            "text/plain": [
              "Epoch 76::   0%|          | 0/9 [00:00<?, ?it/s]"
            ],
            "application/vnd.jupyter.widget-view+json": {
              "version_major": 2,
              "version_minor": 0,
              "model_id": "edc869f19bec480dabe3b528ca429a40"
            }
          },
          "metadata": {}
        },
        {
          "output_type": "stream",
          "name": "stdout",
          "text": [
            "Epoch \u001b[34m76\u001b[0m/80 : \u001b[34mTraining\u001b[0m : (\u001b[36mloss\u001b[0m 0.9592835903167725) (\u001b[36macc\u001b[0m 0.6059027777777778)\n"
          ]
        },
        {
          "output_type": "display_data",
          "data": {
            "text/plain": [
              "validation::   0%|          | 0/3 [00:00<?, ?it/s]"
            ],
            "application/vnd.jupyter.widget-view+json": {
              "version_major": 2,
              "version_minor": 0,
              "model_id": "521b8335c62040b0a09d87f927df83d8"
            }
          },
          "metadata": {}
        },
        {
          "output_type": "stream",
          "name": "stdout",
          "text": [
            "\u001b[34mvalidation\u001b[0m : (\u001b[36mloss\u001b[0m 1.0621473391850789) (\u001b[36macc\u001b[0m 0.390625)\n"
          ]
        },
        {
          "output_type": "display_data",
          "data": {
            "text/plain": [
              "Epoch 77::   0%|          | 0/9 [00:00<?, ?it/s]"
            ],
            "application/vnd.jupyter.widget-view+json": {
              "version_major": 2,
              "version_minor": 0,
              "model_id": "e6cd98769c0b433b8afe60b532dae851"
            }
          },
          "metadata": {}
        },
        {
          "output_type": "stream",
          "name": "stdout",
          "text": [
            "Epoch \u001b[34m77\u001b[0m/80 : \u001b[34mTraining\u001b[0m : (\u001b[36mloss\u001b[0m 0.9569263325797187) (\u001b[36macc\u001b[0m 0.6232638888888888)\n"
          ]
        },
        {
          "output_type": "display_data",
          "data": {
            "text/plain": [
              "validation::   0%|          | 0/3 [00:00<?, ?it/s]"
            ],
            "application/vnd.jupyter.widget-view+json": {
              "version_major": 2,
              "version_minor": 0,
              "model_id": "c89d5004b86843089bb3a75717b09824"
            }
          },
          "metadata": {}
        },
        {
          "output_type": "stream",
          "name": "stdout",
          "text": [
            "\u001b[34mvalidation\u001b[0m : (\u001b[36mloss\u001b[0m 1.0904579957326253) (\u001b[36macc\u001b[0m 0.3958333333333333)\n"
          ]
        },
        {
          "output_type": "display_data",
          "data": {
            "text/plain": [
              "Epoch 78::   0%|          | 0/9 [00:00<?, ?it/s]"
            ],
            "application/vnd.jupyter.widget-view+json": {
              "version_major": 2,
              "version_minor": 0,
              "model_id": "9b0fec6aec614d6184c3d2bcbfab468a"
            }
          },
          "metadata": {}
        },
        {
          "output_type": "stream",
          "name": "stdout",
          "text": [
            "Epoch \u001b[34m78\u001b[0m/80 : \u001b[34mTraining\u001b[0m : (\u001b[36mloss\u001b[0m 0.9565746982892355) (\u001b[36macc\u001b[0m 0.625)\n"
          ]
        },
        {
          "output_type": "display_data",
          "data": {
            "text/plain": [
              "validation::   0%|          | 0/3 [00:00<?, ?it/s]"
            ],
            "application/vnd.jupyter.widget-view+json": {
              "version_major": 2,
              "version_minor": 0,
              "model_id": "8c24db80810748039374306248a58b15"
            }
          },
          "metadata": {}
        },
        {
          "output_type": "stream",
          "name": "stdout",
          "text": [
            "\u001b[34mvalidation\u001b[0m : (\u001b[36mloss\u001b[0m 1.0718982617060344) (\u001b[36macc\u001b[0m 0.390625)\n"
          ]
        },
        {
          "output_type": "display_data",
          "data": {
            "text/plain": [
              "Epoch 79::   0%|          | 0/9 [00:00<?, ?it/s]"
            ],
            "application/vnd.jupyter.widget-view+json": {
              "version_major": 2,
              "version_minor": 0,
              "model_id": "6396b25282be4bd196ca57aef015cfe7"
            }
          },
          "metadata": {}
        },
        {
          "output_type": "stream",
          "name": "stdout",
          "text": [
            "Epoch \u001b[34m79\u001b[0m/80 : \u001b[34mTraining\u001b[0m : (\u001b[36mloss\u001b[0m 0.9689782592985365) (\u001b[36macc\u001b[0m 0.5798611111111112)\n"
          ]
        },
        {
          "output_type": "display_data",
          "data": {
            "text/plain": [
              "validation::   0%|          | 0/3 [00:00<?, ?it/s]"
            ],
            "application/vnd.jupyter.widget-view+json": {
              "version_major": 2,
              "version_minor": 0,
              "model_id": "19d7753b637542d6b783d02a0bb7a5ab"
            }
          },
          "metadata": {}
        },
        {
          "output_type": "stream",
          "name": "stdout",
          "text": [
            "\u001b[34mvalidation\u001b[0m : (\u001b[36mloss\u001b[0m 1.092391570409139) (\u001b[36macc\u001b[0m 0.4114583333333333)\n"
          ]
        }
      ],
      "source": [
        "# here you can specify if you want a GPU or a CPU by setting the cuda argument as -1 for CPU and another index for GPU. If you only have one GPU, put 0.\n",
        "args.update({'max_eps': 80, 'lr': 0.001, 'device': 'gpu', 'cuda': 0, 'num_class': 3})\n",
        "# 1e-05\n",
        "print('device', device)\n",
        "# Instantiate model with pre-trained glove vectors\n",
        "# model = TweetModel(pretrained_embeddings, args['num_class'], args, dimension=50, freeze_embeddings = True )\n",
        "tweet_model = TweetModel(inputdim, hiddendim, outputdim, pretrained_vectors=pretrained_vectors.vectors)\n",
        "loss_list_val = run_epochs(tweet_model, args)"
      ]
    },
    {
      "cell_type": "markdown",
      "source": [
        "**Evaluate the model**"
      ],
      "metadata": {
        "id": "_B9hfSW1-8vL"
      }
    },
    {
      "cell_type": "code",
      "source": [
        "# let's use our model for inference on the test set. We can short it by naming it \"test our model\"\n",
        "# we set the target as \"test\" to print the correct info, and use the test loader\n",
        "trues, preds, loss_it_avg, acc_it_avg, loss_it, acc_it = inference(\"test\", test_loader, tweet_model)"
      ],
      "metadata": {
        "colab": {
          "base_uri": "https://localhost:8080/",
          "height": 66,
          "referenced_widgets": [
            "27914305d83d4d92a9c12a9809c97c78",
            "ea8c60f0f4f94d2d92eaa4a5405b5028",
            "bef453c0925b438abd699c8a88ff86b2",
            "93c1fd374d42473bbd27b2f518f3b728",
            "3b75c61897a74f91b240ef275d99053b",
            "0be69a43182e4024bfbdd53751f13867",
            "e0ddbe2cc0dd45819fb114cac46628a2",
            "2773b5c8a2cb426fa44a8d68afd163ba",
            "39f8c2cf44b04b16833ea8be36b83d32",
            "822690a5e8524c5c9198a3d08f2990fd",
            "f00b87cd6a81493b82b642ca8db65e23"
          ]
        },
        "id": "l_ELvje68238",
        "outputId": "6cf72558-d224-4019-cec5-2f776b9b6e26"
      },
      "execution_count": null,
      "outputs": [
        {
          "output_type": "display_data",
          "data": {
            "text/plain": [
              "test::   0%|          | 0/3 [00:00<?, ?it/s]"
            ],
            "application/vnd.jupyter.widget-view+json": {
              "version_major": 2,
              "version_minor": 0,
              "model_id": "27914305d83d4d92a9c12a9809c97c78"
            }
          },
          "metadata": {}
        },
        {
          "output_type": "stream",
          "name": "stdout",
          "text": [
            "\u001b[34mtest\u001b[0m : (\u001b[36mloss\u001b[0m 1.0177893042564392) (\u001b[36macc\u001b[0m 0.5104166666666666)\n"
          ]
        }
      ]
    },
    {
      "cell_type": "code",
      "source": [
        "# Confusion matrix\n",
        "\n",
        "from sklearn.metrics import classification_report, confusion_matrix, roc_curve, auc, plot_roc_curve\n",
        "import matplotlib.pyplot as plt\n",
        "import seaborn as sn\n",
        "names = [0,1,2]\n",
        "cm = confusion_matrix(np.array(trues).flatten(), np.array(preds).flatten())\n",
        "df_cm = pd.DataFrame(cm, index=names, columns=names)\n",
        "# config plot sizes\n",
        "sn.set(font_scale=1)\n",
        "sn.heatmap(df_cm, annot=True, annot_kws={\"size\": 8}, cmap='coolwarm', linewidth=0.5, fmt=\"\")\n",
        "plt.show()"
      ],
      "metadata": {
        "colab": {
          "base_uri": "https://localhost:8080/",
          "height": 268
        },
        "id": "A8kFOKFx8v6n",
        "outputId": "3d7fdddc-8209-4194-d356-c987317cdaac"
      },
      "execution_count": null,
      "outputs": [
        {
          "output_type": "display_data",
          "data": {
            "text/plain": [
              "<Figure size 432x288 with 2 Axes>"
            ],
            "image/png": "[encoded data removed]"
          },
          "metadata": {}
        }
      ]
    },
    {
      "cell_type": "code",
      "source": [
        "trues, preds, loss_it_avg, acc_it_avg, loss_it, acc_it = inference(\"validate\", val_loader, tweet_model)"
      ],
      "metadata": {
        "colab": {
          "base_uri": "https://localhost:8080/",
          "height": 66,
          "referenced_widgets": [
            "25b2b6a3d6584b3ab570a8013d6f405c",
            "1d853a2ba5584ab0ad175fb763cab796",
            "165812166afe4e5f8460176ad0a82dfb",
            "51fffcac421e48f2b100dec671d25b3e",
            "ee5f06853eae42908ef306c67c41fc34",
            "a6d35da062b74cec851b2bf69f7373d2",
            "fab75e4bdd464fdb8f8cfeb9a7c1a025",
            "238b02b0b47945c29d44b91867b12f34",
            "ee3e5e69ee13459daf563c78bd9a129b",
            "46b20a1df8ac489488183c9dcf36392a",
            "cbb974db284c42c09c93191b22a8ba51"
          ]
        },
        "id": "kmQYH-Uy46en",
        "outputId": "f64feb63-2573-4be9-b29e-e06e92ce4937"
      },
      "execution_count": null,
      "outputs": [
        {
          "output_type": "display_data",
          "data": {
            "text/plain": [
              "validate::   0%|          | 0/3 [00:00<?, ?it/s]"
            ],
            "application/vnd.jupyter.widget-view+json": {
              "version_major": 2,
              "version_minor": 0,
              "model_id": "25b2b6a3d6584b3ab570a8013d6f405c"
            }
          },
          "metadata": {}
        },
        {
          "output_type": "stream",
          "name": "stdout",
          "text": [
            "\u001b[34mvalidate\u001b[0m : (\u001b[36mloss\u001b[0m 1.0909170309702556) (\u001b[36macc\u001b[0m 0.4270833333333333)\n"
          ]
        }
      ]
    },
    {
      "cell_type": "code",
      "source": [
        "# Confusion matrix\n",
        "\n",
        "from sklearn.metrics import classification_report, confusion_matrix, roc_curve, auc, plot_roc_curve\n",
        "import matplotlib.pyplot as plt\n",
        "import seaborn as sn\n",
        "names = [0,1,2]\n",
        "cm = confusion_matrix(np.array(trues).flatten(), np.array(preds).flatten())\n",
        "df_cm = pd.DataFrame(cm, index=names, columns=names)\n",
        "# config plot sizes\n",
        "sn.set(font_scale=1)\n",
        "sn.heatmap(df_cm, annot=True, annot_kws={\"size\": 8}, cmap='coolwarm', linewidth=0.5, fmt=\"\")\n",
        "plt.show()"
      ],
      "metadata": {
        "colab": {
          "base_uri": "https://localhost:8080/",
          "height": 268
        },
        "id": "THub5C8j5NWg",
        "outputId": "c7ed2c51-b10a-4cb1-87d3-0cb9694b4e3b"
      },
      "execution_count": null,
      "outputs": [
        {
          "output_type": "display_data",
          "data": {
            "text/plain": [
              "<Figure size 432x288 with 2 Axes>"
            ],
            "image/png": "[encoded data removed]"
          },
          "metadata": {}
        }
      ]
    },
    {
      "cell_type": "markdown",
      "source": [
        "## Applying the model to the study dataset"
      ],
      "metadata": {
        "id": "8xjetiUV5bJI"
      }
    },
    {
      "cell_type": "code",
      "source": [
        "# Import data\n",
        "git_url = \"https://raw.githubusercontent.com/mthsansu/MLNLP/main/Data/\"\n",
        "df = pd.read_csv(git_url + 'Tweets_sample_confinement.csv', index_col =0)"
      ],
      "metadata": {
        "id": "Njad-OnB85mi"
      },
      "execution_count": null,
      "outputs": []
    },
    {
      "cell_type": "code",
      "source": [
        "import pyarrow as pa\n",
        "import pyarrow.dataset as ds\n",
        "from datasets import Dataset\n",
        "\n",
        "### convert to Huggingface dataset\n",
        "df_conf = Dataset(pa.Table.from_pandas(df))"
      ],
      "metadata": {
        "id": "iuyJaayYK6U7"
      },
      "execution_count": null,
      "outputs": []
    },
    {
      "cell_type": "code",
      "source": [
        "df_conf = df_conf.map(lambda e: tokenize_all(e, pretrained_vocab.get_stoi()), batched=True)"
      ],
      "metadata": {
        "id": "xAeuMnsHOOub",
        "colab": {
          "base_uri": "https://localhost:8080/",
          "height": 49,
          "referenced_widgets": [
            "a1f999e459b8486ab8451507ee2f473f",
            "a2d1d42c261a4cd2b3d6296ba7ba6784",
            "0fdaf5103aef4d4fad47a50be0d2773c",
            "8c86b63c62414c7291bd63adfcd6c159",
            "071d5be867cd450291622ad2e9f85d11",
            "5b4737b2342d47c5856c96891facc3b9",
            "40c893a46fe042c89f71ae735974ed81",
            "4f8efa6b21434c909977f44f15a5927b",
            "9b64feeb02554a9b83d456699a8d94d8",
            "fb974da62610482c88159e2fbd9680e9",
            "66c1b772d71e4087820daf19aec61aca"
          ]
        },
        "outputId": "57c84964-2468-487a-864b-a9efc0f539bc"
      },
      "execution_count": null,
      "outputs": [
        {
          "output_type": "display_data",
          "data": {
            "text/plain": [
              "  0%|          | 0/33 [00:00<?, ?ba/s]"
            ],
            "application/vnd.jupyter.widget-view+json": {
              "version_major": 2,
              "version_minor": 0,
              "model_id": "a1f999e459b8486ab8451507ee2f473f"
            }
          },
          "metadata": {}
        }
      ]
    },
    {
      "cell_type": "code",
      "source": [
        "# Create the Dataset class\n",
        "\n",
        "from torch.utils.data import Dataset\n",
        "\n",
        "class TweetDatasetId(Dataset):\n",
        "    def __init__(self, data, args):\n",
        "      # args is a dict, a nice way to share the global arguments (even accross multiple files)\n",
        "      self.args = args\n",
        "      self.data = data\n",
        "\n",
        "    def __len__(self):\n",
        "      return len(self.data)\n",
        "    \n",
        "    def __getitem__(self, idx):\n",
        "      item = {\n",
        "          \"text\": np.array(self.data[idx]['text']),\n",
        "          \"id\": np.array(self.data[idx]['id'])\n",
        "      }\n",
        "      return item"
      ],
      "metadata": {
        "id": "9PUmrIOa7IWj"
      },
      "execution_count": null,
      "outputs": []
    },
    {
      "cell_type": "code",
      "source": [
        "# Create the data loader\n",
        "\n",
        "# Create DataLoader\n",
        "from torch.utils.data import DataLoader\n",
        "args = {'bsize': 64}\n",
        "df_conf_loader = DataLoader(TweetDatasetId(df_conf, args), batch_size=args['bsize'], num_workers=2, shuffle=True, drop_last=True)"
      ],
      "metadata": {
        "id": "1iQ5hrOJL5Uj"
      },
      "execution_count": null,
      "outputs": []
    },
    {
      "cell_type": "code",
      "source": [
        "id_conf,pred_conf = predict(\"data_conf\", df_conf_loader, tweet_model)"
      ],
      "metadata": {
        "colab": {
          "base_uri": "https://localhost:8080/",
          "height": 49,
          "referenced_widgets": [
            "5b48403d6b2344c385744a88389cba6e",
            "78d76dcc948449d4bfa68437af1434d1",
            "3ef9d5d5a1dc439abccd8a7bbea8261c",
            "4b552d11c1854834b18604b6c5d73f3b",
            "dbc129d2517c4aabadbd5f03129be7a8",
            "456db35fc8e340729612532bc35e47f1",
            "0cbdada7263f4660bd2586d7f4b33b00",
            "32e29970d1694d08ae7f6830a316b5c8",
            "2c90e2033e184130b61e4238402e8db6",
            "bfb96433318d4ed39dacf705865e35c8",
            "7de2978e70624b479d4608255b72075d"
          ]
        },
        "id": "4AZSObPs6rPs",
        "outputId": "79b2ceb9-9f77-4ddb-e861-7ed1dcd93de4"
      },
      "execution_count": null,
      "outputs": [
        {
          "output_type": "display_data",
          "data": {
            "text/plain": [
              "data_conf::   0%|          | 0/511 [00:00<?, ?it/s]"
            ],
            "application/vnd.jupyter.widget-view+json": {
              "version_major": 2,
              "version_minor": 0,
              "model_id": "5b48403d6b2344c385744a88389cba6e"
            }
          },
          "metadata": {}
        }
      ]
    },
    {
      "cell_type": "code",
      "source": [
        "df_pred = pd.DataFrame({\"id\": id_conf,\"pred\": pred_conf})"
      ],
      "metadata": {
        "id": "p9EnxN5eMZpz"
      },
      "execution_count": null,
      "outputs": []
    },
    {
      "cell_type": "code",
      "source": [
        "df_pred"
      ],
      "metadata": {
        "colab": {
          "base_uri": "https://localhost:8080/",
          "height": 424
        },
        "id": "6zXRM5Ty68ZN",
        "outputId": "16c0152d-c4f2-4504-e574-cef858c1dd5a"
      },
      "execution_count": null,
      "outputs": [
        {
          "output_type": "execute_result",
          "data": {
            "text/plain": [
              "                        id  pred\n",
              "0      1235248385810141184     2\n",
              "1      1243460617157193728     2\n",
              "2      1253694529930231812     2\n",
              "3      1254819182253944832     2\n",
              "4      1250053653156835329     0\n",
              "...                    ...   ...\n",
              "32699  1263353024963063811     0\n",
              "32700  1258307216316268545     0\n",
              "32701  1260276393239359495     2\n",
              "32702  1250852324278439936     1\n",
              "32703  1255198171388612613     1\n",
              "\n",
              "[32704 rows x 2 columns]"
            ],
            "text/html": [
              "\n",
              "  <div id=\"df-2bcd7c6e-b7e3-4e54-b12c-f1d379a886ab\">\n",
              "    <div class=\"colab-df-container\">\n",
              "      <div>\n",
              "<style scoped>\n",
              "    .dataframe tbody tr th:only-of-type {\n",
              "        vertical-align: middle;\n",
              "    }\n",
              "\n",
              "    .dataframe tbody tr th {\n",
              "        vertical-align: top;\n",
              "    }\n",
              "\n",
              "    .dataframe thead th {\n",
              "        text-align: right;\n",
              "    }\n",
              "</style>\n",
              "<table border=\"1\" class=\"dataframe\">\n",
              "  <thead>\n",
              "    <tr style=\"text-align: right;\">\n",
              "      <th></th>\n",
              "      <th>id</th>\n",
              "      <th>pred</th>\n",
              "    </tr>\n",
              "  </thead>\n",
              "  <tbody>\n",
              "    <tr>\n",
              "      <th>0</th>\n",
              "      <td>1235248385810141184</td>\n",
              "      <td>2</td>\n",
              "    </tr>\n",
              "    <tr>\n",
              "      <th>1</th>\n",
              "      <td>1243460617157193728</td>\n",
              "      <td>2</td>\n",
              "    </tr>\n",
              "    <tr>\n",
              "      <th>2</th>\n",
              "      <td>1253694529930231812</td>\n",
              "      <td>2</td>\n",
              "    </tr>\n",
              "    <tr>\n",
              "      <th>3</th>\n",
              "      <td>1254819182253944832</td>\n",
              "      <td>2</td>\n",
              "    </tr>\n",
              "    <tr>\n",
              "      <th>4</th>\n",
              "      <td>1250053653156835329</td>\n",
              "      <td>0</td>\n",
              "    </tr>\n",
              "    <tr>\n",
              "      <th>...</th>\n",
              "      <td>...</td>\n",
              "      <td>...</td>\n",
              "    </tr>\n",
              "    <tr>\n",
              "      <th>32699</th>\n",
              "      <td>1263353024963063811</td>\n",
              "      <td>0</td>\n",
              "    </tr>\n",
              "    <tr>\n",
              "      <th>32700</th>\n",
              "      <td>1258307216316268545</td>\n",
              "      <td>0</td>\n",
              "    </tr>\n",
              "    <tr>\n",
              "      <th>32701</th>\n",
              "      <td>1260276393239359495</td>\n",
              "      <td>2</td>\n",
              "    </tr>\n",
              "    <tr>\n",
              "      <th>32702</th>\n",
              "      <td>1250852324278439936</td>\n",
              "      <td>1</td>\n",
              "    </tr>\n",
              "    <tr>\n",
              "      <th>32703</th>\n",
              "      <td>1255198171388612613</td>\n",
              "      <td>1</td>\n",
              "    </tr>\n",
              "  </tbody>\n",
              "</table>\n",
              "<p>32704 rows × 2 columns</p>\n",
              "</div>\n",
              "      <button class=\"colab-df-convert\" onclick=\"convertToInteractive('df-2bcd7c6e-b7e3-4e54-b12c-f1d379a886ab')\"\n",
              "              title=\"Convert this dataframe to an interactive table.\"\n",
              "              style=\"display:none;\">\n",
              "        \n",
              "  <svg xmlns=\"http://www.w3.org/2000/svg\" height=\"24px\"viewBox=\"0 0 24 24\"\n",
              "       width=\"24px\">\n",
              "    <path d=\"M0 0h24v24H0V0z\" fill=\"none\"/>\n",
              "    <path d=\"M18.56 5.44l.94 2.06.94-2.06 2.06-.94-2.06-.94-.94-2.06-.94 2.06-2.06.94zm-11 1L8.5 8.5l.94-2.06 2.06-.94-2.06-.94L8.5 2.5l-.94 2.06-2.06.94zm10 10l.94 2.06.94-2.06 2.06-.94-2.06-.94-.94-2.06-.94 2.06-2.06.94z\"/><path d=\"M17.41 7.96l-1.37-1.37c-.4-.4-.92-.59-1.43-.59-.52 0-1.04.2-1.43.59L10.3 9.45l-7.72 7.72c-.78.78-.78 2.05 0 2.83L4 21.41c.39.39.9.59 1.41.59.51 0 1.02-.2 1.41-.59l7.78-7.78 2.81-2.81c.8-.78.8-2.07 0-2.86zM5.41 20L4 18.59l7.72-7.72 1.47 1.35L5.41 20z\"/>\n",
              "  </svg>\n",
              "      </button>\n",
              "      \n",
              "  <style>\n",
              "    .colab-df-container {\n",
              "      display:flex;\n",
              "      flex-wrap:wrap;\n",
              "      gap: 12px;\n",
              "    }\n",
              "\n",
              "    .colab-df-convert {\n",
              "      background-color: #E8F0FE;\n",
              "      border: none;\n",
              "      border-radius: 50%;\n",
              "      cursor: pointer;\n",
              "      display: none;\n",
              "      fill: #1967D2;\n",
              "      height: 32px;\n",
              "      padding: 0 0 0 0;\n",
              "      width: 32px;\n",
              "    }\n",
              "\n",
              "    .colab-df-convert:hover {\n",
              "      background-color: #E2EBFA;\n",
              "      box-shadow: 0px 1px 2px rgba(60, 64, 67, 0.3), 0px 1px 3px 1px rgba(60, 64, 67, 0.15);\n",
              "      fill: #174EA6;\n",
              "    }\n",
              "\n",
              "    [theme=dark] .colab-df-convert {\n",
              "      background-color: #3B4455;\n",
              "      fill: #D2E3FC;\n",
              "    }\n",
              "\n",
              "    [theme=dark] .colab-df-convert:hover {\n",
              "      background-color: #434B5C;\n",
              "      box-shadow: 0px 1px 3px 1px rgba(0, 0, 0, 0.15);\n",
              "      filter: drop-shadow(0px 1px 2px rgba(0, 0, 0, 0.3));\n",
              "      fill: #FFFFFF;\n",
              "    }\n",
              "  </style>\n",
              "\n",
              "      <script>\n",
              "        const buttonEl =\n",
              "          document.querySelector('#df-2bcd7c6e-b7e3-4e54-b12c-f1d379a886ab button.colab-df-convert');\n",
              "        buttonEl.style.display =\n",
              "          google.colab.kernel.accessAllowed ? 'block' : 'none';\n",
              "\n",
              "        async function convertToInteractive(key) {\n",
              "          const element = document.querySelector('#df-2bcd7c6e-b7e3-4e54-b12c-f1d379a886ab');\n",
              "          const dataTable =\n",
              "            await google.colab.kernel.invokeFunction('convertToInteractive',\n",
              "                                                     [key], {});\n",
              "          if (!dataTable) return;\n",
              "\n",
              "          const docLinkHtml = 'Like what you see? Visit the ' +\n",
              "            '<a target=\"_blank\" href=https://colab.research.google.com/notebooks/data_table.ipynb>data table notebook</a>'\n",
              "            + ' to learn more about interactive tables.';\n",
              "          element.innerHTML = '';\n",
              "          dataTable['output_type'] = 'display_data';\n",
              "          await google.colab.output.renderOutput(dataTable, element);\n",
              "          const docLink = document.createElement('div');\n",
              "          docLink.innerHTML = docLinkHtml;\n",
              "          element.appendChild(docLink);\n",
              "        }\n",
              "      </script>\n",
              "    </div>\n",
              "  </div>\n",
              "  "
            ]
          },
          "metadata": {},
          "execution_count": 114
        }
      ]
    },
    {
      "cell_type": "code",
      "source": [
        "df_pred.pred.value_counts()"
      ],
      "metadata": {
        "id": "yky-n1E1DOm9",
        "outputId": "c6b1f734-0cb2-4dc8-8c75-f3c40eb89371",
        "colab": {
          "base_uri": "https://localhost:8080/"
        }
      },
      "execution_count": null,
      "outputs": [
        {
          "output_type": "execute_result",
          "data": {
            "text/plain": [
              "2    14264\n",
              "1    11464\n",
              "0     6976\n",
              "Name: pred, dtype: int64"
            ]
          },
          "metadata": {},
          "execution_count": 115
        }
      ]
    },
    {
      "cell_type": "markdown",
      "metadata": {
        "id": "6jGTs81dVZu3"
      },
      "source": [
        "# <font color=\"chillipepper\">**Parliamentary sentiment analysis: task-specific modeling using CamemBERT**</font>"
      ]
    },
    {
      "cell_type": "markdown",
      "metadata": {
        "id": "8978Bl1nNtd5"
      },
      "source": [
        "### <font color=\"chillipepper\">**GPU Settings**</font>"
      ]
    },
    {
      "cell_type": "code",
      "execution_count": null,
      "metadata": {
        "colab": {
          "base_uri": "https://localhost:8080/"
        },
        "id": "jonaVisrN-Vn",
        "outputId": "d00321ea-0332-41e1-931d-c819e24de4fb"
      },
      "outputs": [
        {
          "output_type": "stream",
          "name": "stdout",
          "text": [
            "DEVICE =  \u001b[32mTesla T4\u001b[0m\n"
          ]
        }
      ],
      "source": [
        "if torch.cuda.is_available(): # torch.cuda.is_available() returns a boolean to check if the GPU can be used or not\n",
        "  device = 'cuda' # if CUDA is available set 'cuda' as the device\n",
        "  print('DEVICE = ', colored(torch.cuda.get_device_name(0), \"green\" ) ) # print the name of the GPU\n",
        "else:\n",
        "  device = 'cpu' # set 'cpu' as device if CUDA not available\n",
        "  print('DEVICE = ', colored('CPU', \"blue\")) # print that the CPU is used\n",
        "device = torch.device(device) # Set the available device"
      ]
    },
    {
      "cell_type": "markdown",
      "metadata": {
        "id": "bXT8XhlzVjrU"
      },
      "source": [
        "# <font color=\"chillipepper\">**Model building**</font>"
      ]
    },
    {
      "cell_type": "markdown",
      "metadata": {
        "id": "Cleg6pw3TJ2Z"
      },
      "source": [
        "### <font color=\"chillipepper\">**Tokenizer**</font>"
      ]
    },
    {
      "cell_type": "code",
      "execution_count": null,
      "metadata": {
        "id": "45n0ttbRF6pN"
      },
      "outputs": [],
      "source": [
        "# Tokenizer conceived for CamemBERT classification. We use camembert-base\n",
        "tokenizer = CamembertTokenizer.from_pretrained('camembert-base')"
      ]
    },
    {
      "cell_type": "markdown",
      "metadata": {
        "id": "vz3UHwl6UFtB"
      },
      "source": [
        "### <font color=\"chillipepper\">**Modeling functions**</font>"
      ]
    },
    {
      "cell_type": "code",
      "execution_count": null,
      "metadata": {
        "id": "F_jeBG2IOF7X"
      },
      "outputs": [],
      "source": [
        "# Encoding function\n",
        "        # `encode` will:\n",
        "        #   (1) Tokenize the sentence.\n",
        "        #   (2) Prepend the `[CLS]` token to the start.\n",
        "        #   (3) Append the `[SEP]` token to the end.\n",
        "        #   (4) Map tokens to their IDs.  \n",
        "def encode(sentences, labels=None, tokenizer=tokenizer, batch_size=32, progress_bar=True):\n",
        "    input_ids = []\n",
        "    if progress_bar:\n",
        "        sent_loader = tqdm(sentences)\n",
        "    else:\n",
        "        sent_loader = sentences\n",
        "    for sent in sent_loader:\n",
        "        encoded_sent = tokenizer.encode(sent,                       # Sentence to encode\n",
        "                                        add_special_tokens = True,   # Add '[CLS]' token to the start and '[SEP]' token to the end\n",
        "                                        max_length = 512)          # Truncate all sentences\n",
        "        input_ids.append(encoded_sent)\n",
        "        \n",
        "    MAX_LEN = min(max([len(sen) for sen in input_ids]), 512)\n",
        "\n",
        "    # Pad our input tokens with value 0.\n",
        "    # \"post\" indicates that we want to pad and truncate at the end of the sequence, as opposed to the beginning.\n",
        "    input_ids = pad_sequences(input_ids, maxlen=MAX_LEN, dtype=\"long\", \n",
        "                              value=0, truncating=\"post\", padding=\"post\")\n",
        "\n",
        "    # Create attention masks\n",
        "    attention_masks = []\n",
        "    if progress_bar:\n",
        "        input_loader = tqdm(input_ids)\n",
        "    else:\n",
        "        input_loader = input_ids\n",
        "    for sent in input_loader:\n",
        "        # Create the attention mask.\n",
        "        #   - If a token ID is 0, then it's padding, set the mask to 0.\n",
        "        #   - If a token ID is > 0, then it's a real token, set the mask to 1.\n",
        "        att_mask = [int(token_id > 0) for token_id in sent]\n",
        "\n",
        "        attention_masks.append(att_mask)\n",
        "    \n",
        "    if labels is None:\n",
        "        # Convert to pytorch tensors\n",
        "        inputs_tensors = torch.tensor(input_ids)\n",
        "        masks_tensors = torch.tensor(attention_masks)\n",
        "\n",
        "        # Create the DataLoader \n",
        "        data = TensorDataset(inputs_tensors, masks_tensors)\n",
        "        sampler = SequentialSampler(data)\n",
        "        dataloader = DataLoader(data, sampler=sampler, batch_size=batch_size)\n",
        "        return dataloader        \n",
        "    else:\n",
        "        # Convert to pytorch tensors\n",
        "        inputs_tensors = torch.tensor(input_ids)\n",
        "        masks_tensors = torch.tensor(attention_masks)\n",
        "        labels_tensors = torch.tensor(labels)\n",
        "\n",
        "        # Create the DataLoader \n",
        "        data = TensorDataset(inputs_tensors, masks_tensors, labels_tensors)\n",
        "        sampler = SequentialSampler(data)\n",
        "        dataloader = DataLoader(data, sampler=sampler, batch_size=batch_size)\n",
        "        return dataloader"
      ]
    },
    {
      "cell_type": "code",
      "execution_count": null,
      "metadata": {
        "id": "21tmMyRnGIZV"
      },
      "outputs": [],
      "source": [
        "# Function to return time elapsed\n",
        "def format_time(elapsed):\n",
        "    elapsed_rounded = int(round((elapsed)))\n",
        "    return str(datetime.timedelta(seconds=elapsed_rounded)) # Format as hh:mm:ss"
      ]
    },
    {
      "cell_type": "code",
      "execution_count": null,
      "metadata": {
        "id": "uV1uwdZvGWfW"
      },
      "outputs": [],
      "source": [
        "# Model training\n",
        "def run_training(train_dataloader, # train data\n",
        "                 test_dataloader, # test data\n",
        "                 n_epochs=3, # number of epochs\n",
        "                 lr=5e-5, # learning rate\n",
        "                 seed_val=2018, \n",
        "                 save_model_as=None): # saving the model to implement it on other data later\n",
        "    \n",
        "    # Unpack all test labels for evaluation\n",
        "    test_labels = []\n",
        "    for batch in test_dataloader:\n",
        "        test_labels += batch[2].numpy().tolist()\n",
        "    num_labels = np.unique(test_labels).size\n",
        "    \n",
        "    # Set the seed value all over the place to make this reproducible.\n",
        "    random.seed(seed_val)\n",
        "    np.random.seed(seed_val)\n",
        "    torch.manual_seed(seed_val)\n",
        "    torch.cuda.manual_seed_all(seed_val)\n",
        "    \n",
        "    # Load model\n",
        "    model = CamembertForSequenceClassification.from_pretrained(\"camembert-base\", \n",
        "                                                               num_labels = num_labels, \n",
        "                                                               output_attentions = False, \n",
        "                                                               output_hidden_states = False)\n",
        "    # Tell pytorch to run this model on the GPU.\n",
        "    model.cuda()\n",
        "    \n",
        "    optimizer = AdamW(model.parameters(), lr = lr, eps = 1e-8)\n",
        "    # Create the learning rate scheduler.\n",
        "    scheduler = get_linear_schedule_with_warmup(optimizer,\n",
        "                                                num_warmup_steps=0,\n",
        "                                                num_training_steps=len(train_dataloader) * n_epochs)\n",
        "    #total number of training steps is number of batches * number of epochs.\n",
        "\n",
        "    # Store the average loss after each epoch so we can plot them.\n",
        "    train_loss_values = []\n",
        "    test_loss_values = []\n",
        "\n",
        "    # TRAINING\n",
        "    \n",
        "    for i_epoch in range(n_epochs): # each epoch\n",
        "        # Perform one full pass over the training set.   \n",
        "        print(\"\")\n",
        "        print('======== Epoch {:} / {:} ========'.format(i_epoch + 1, n_epochs))\n",
        "        print('Training...')\n",
        "\n",
        "        # Measure how long the training epoch takes.\n",
        "        t0 = time.time()\n",
        "\n",
        "        # Reset the total train loss for this epoch.\n",
        "        total_train_loss = 0\n",
        "        total_test_loss = 0  # Reset the total train loss for this epoch.\n",
        "\n",
        "        # Put the model in training mode\n",
        "        model.train()\n",
        "\n",
        "        for step, train_batch in enumerate(train_dataloader): # each batch\n",
        "            # Progress update every 40 batches.\n",
        "            if step % 40 == 0 and not step == 0:\n",
        "                # Calculate elapsed time in minutes.\n",
        "                elapsed = format_time(time.time() - t0)\n",
        "                # Report progress.\n",
        "                print('  Batch {:>5,}  of  {:>5,}.    Elapsed: {:}.'.format(step, len(train_dataloader), elapsed))\n",
        "\n",
        "            b_inputs = train_batch[0].to(device)\n",
        "            b_masks = train_batch[1].to(device)\n",
        "            b_labels = train_batch[2].to(device)\n",
        "\n",
        "            # Clear any previously calculated gradients before performing a\n",
        "            model.zero_grad()        \n",
        "\n",
        "            # Perform a forward pass (evaluate the model on this training batch).\n",
        "            # This will return the loss (rather than the model output) because we have provided the `labels`.\n",
        "            outputs = model(b_inputs, token_type_ids=None, attention_mask=b_masks,labels=b_labels)\n",
        "\n",
        "            # The call to `model` always returns a tuple, so we need to pull the loss value out of the tuple.\n",
        "            loss = outputs[0]\n",
        "\n",
        "            # Accumulate the training loss over all of the batches so that we can calculate the average loss at the end.\n",
        "            # `loss` is a Tensor containing a single value; the `.item()` function just returns the Python value from the tensor.\n",
        "            total_train_loss += loss.item()\n",
        "\n",
        "            # Perform a backward pass to calculate the gradients.\n",
        "            loss.backward()\n",
        "\n",
        "            # Clip the norm of the gradients to 1. This is to help prevent the \"exploding gradients\" problem.\n",
        "            torch.nn.utils.clip_grad_norm_(model.parameters(), 1.0)\n",
        "\n",
        "            # Update parameters and take a step using the computed gradient.\n",
        "            optimizer.step()\n",
        "\n",
        "            # Update the learning rate.\n",
        "            scheduler.step()\n",
        "            \n",
        "        # Calculate the average loss over the training data batches.\n",
        "        avg_train_loss = total_train_loss / len(train_dataloader)            \n",
        "\n",
        "        # Store the loss value for plotting the learning curve.\n",
        "        train_loss_values.append(avg_train_loss)\n",
        "\n",
        "        print(\"\")\n",
        "        print(\"  Average training loss: {0:.2f}\".format(avg_train_loss))\n",
        "        print(\"  Training epcoh took: {:}\".format(format_time(time.time() - t0)))\n",
        "\n",
        "        # VALIDATION\n",
        "        # After the completion of each training epoch, measure our performance on our validation set.\n",
        "        print(\"\")\n",
        "        print(\"Running Validation...\")\n",
        "\n",
        "        t0 = time.time()\n",
        "\n",
        "        # Put the model in evaluation mode--the dropout layers behave differently during evaluation.\n",
        "        model.eval()\n",
        "\n",
        "        logits_complete = [] # store logits of each batch\n",
        "\n",
        "        # Evaluate data for one epoch\n",
        "        for test_batch in test_dataloader:\n",
        "            # Add batch to GPU\n",
        "            b_inputs = test_batch[0].to(device)\n",
        "            b_masks = test_batch[1].to(device)\n",
        "            b_labels = test_batch[2].to(device)\n",
        "\n",
        "            # Telling the model not to compute or store gradients, saving memory and speeding up validation\n",
        "            with torch.no_grad():        \n",
        "                # Forward pass, calculate test loss and logit predictions.\n",
        "                # token_type_ids = None : it's not 2-sentences task\n",
        "                outputs = model(b_inputs, token_type_ids=None, attention_mask=b_masks,labels=b_labels)\n",
        "\n",
        "            loss = outputs[0].item() # get loss\n",
        "            logits = outputs[1]      # get logits\n",
        "            \n",
        "            # Move logits CPU\n",
        "            logits = logits.detach().cpu().numpy()\n",
        "            #labels_id = b_labels.to('cpu').numpy()\n",
        "            \n",
        "            total_test_loss += loss\n",
        "            logits_complete.append(logits)\n",
        "            \n",
        "        logits_complete = np.concatenate(logits_complete)\n",
        "        \n",
        "        # Calculate the average loss over the test data batches.\n",
        "        avg_test_loss = total_test_loss / len(test_dataloader)            \n",
        "        # Store the loss value for plotting the learning curve.\n",
        "        test_loss_values.append(avg_test_loss)\n",
        "        \n",
        "        print(\"\")\n",
        "        print(\"  Average test loss: {0:.2f}\".format(avg_test_loss))\n",
        "        print(\"  Validation took: {:}\".format(format_time(time.time() - t0)))\n",
        "        print(classification_report(test_labels, np.argmax(logits_complete, axis=1).flatten()))\n",
        "        score = precision_recall_fscore_support(test_labels, np.argmax(logits_complete, axis=1).flatten())\n",
        "\n",
        "    # End of all epochs\n",
        "    print(\"\")\n",
        "    print(\"Training complete!\")\n",
        "    \n",
        "    if save_model_as is not None:\n",
        "        # SAVE\n",
        "        output_dir = \"./models/{}\".format(save_model_as)\n",
        "        try:\n",
        "            os.makedirs(output_dir)\n",
        "        except:\n",
        "            pass\n",
        "        \n",
        "        # Step 1: Save a model, configuration and vocabulary that you have fine-tuned\n",
        "        # If we have a distributed model, save only the encapsulated model\n",
        "        # (it was wrapped in PyTorch DistributedDataParallel or DataParallel)\n",
        "        model_to_save = model.module if hasattr(model, 'module') else model\n",
        "\n",
        "        # If we save using the predefined names, we can load using `from_pretrained`\n",
        "        output_model_file = os.path.join(output_dir, WEIGHTS_NAME)\n",
        "        output_config_file = os.path.join(output_dir, CONFIG_NAME)\n",
        "\n",
        "        torch.save(model_to_save.state_dict(), output_model_file)\n",
        "        model_to_save.config.to_json_file(output_config_file)\n",
        "        tokenizer.save_vocabulary(output_dir)\n",
        "\n",
        "    return score"
      ]
    },
    {
      "cell_type": "code",
      "execution_count": null,
      "metadata": {
        "id": "pFpO3ct5Ge9c"
      },
      "outputs": [],
      "source": [
        "# Predict function\n",
        "def predict(dataloader, model, proba=True, progress_bar=True):\n",
        "    logits_complete = []\n",
        "    # Evaluate data for one epoch\n",
        "    if progress_bar:\n",
        "        loader = tqdm(dataloader)\n",
        "    else:\n",
        "        loader = dataloader\n",
        "    for batch in loader:\n",
        "        \n",
        "        # Add batch to GPU\n",
        "        batch = tuple(t.to(device) for t in batch)\n",
        "\n",
        "        # Unpack the inputs from our dataloader\n",
        "        if len(batch)==3:\n",
        "            b_input_ids, b_input_mask, _ = batch\n",
        "        else:\n",
        "            b_input_ids, b_input_mask = batch\n",
        "\n",
        "        # Telling the model not to compute or store gradients, saving memory and speeding up validation\n",
        "        with torch.no_grad():        \n",
        "            outputs = model(b_input_ids, \n",
        "                            token_type_ids=None,  # not a 2-sentence task\n",
        "                            attention_mask=b_input_mask)\n",
        "\n",
        "        # Get the \"logits\" output by the model. The \"logits\" are the output\n",
        "        # values prior to applying an activation function like the softmax.\n",
        "        logits = outputs[0]\n",
        "        # Move logits and labels to CPU\n",
        "        logits = logits.detach().cpu().numpy()\n",
        "        logits_complete.append(logits)\n",
        "        \n",
        "        del outputs        \n",
        "        torch.cuda.empty_cache() #release GPU memory\n",
        "        \n",
        "        pred = np.concatenate(logits_complete) #flatten batches\n",
        "    if proba:\n",
        "        return softmax(pred, axis=1)\n",
        "    else:\n",
        "        return pred"
      ]
    },
    {
      "cell_type": "code",
      "execution_count": null,
      "metadata": {
        "id": "OuAa2m6zGl-w"
      },
      "outputs": [],
      "source": [
        "# Apply the trained model on a corpus\n",
        "def predict_with_model(dataloader, model_path, proba=True):\n",
        "    model = CamembertForSequenceClassification.from_pretrained(model_path)\n",
        "    model.cuda()\n",
        "    return predict(dataloader, model, proba)"
      ]
    },
    {
      "cell_type": "markdown",
      "metadata": {
        "id": "6hbIJOHdVw1_"
      },
      "source": [
        "# <font color=\"chillipepper\">**Model training**</font>"
      ]
    },
    {
      "cell_type": "markdown",
      "metadata": {
        "id": "mVBqzvl52nGH"
      },
      "source": [
        "### <font color=\"chillipepper\">**Annotated data**</font>"
      ]
    },
    {
      "cell_type": "code",
      "execution_count": null,
      "metadata": {
        "id": "qXQEpyAhDWwu"
      },
      "outputs": [],
      "source": [
        "# The data are provided in the github repository\n",
        "git_url = \"https://raw.githubusercontent.com/mthsansu/MLNLP/main/Data/\"\n",
        "df = pd.read_csv(git_url + 'df_baseline.csv', index_col =0, engine='python')"
      ]
    },
    {
      "cell_type": "code",
      "execution_count": null,
      "metadata": {
        "id": "JB8vQxAVwRDm"
      },
      "outputs": [],
      "source": [
        "df[\"text\"] = df[\"text\"].apply(lambda x: clean(x))\n",
        "# df = df.rename(columns={\"label_sansu\":\"value\"})\n",
        "df = df.rename(columns={\"Label\":\"value\"})\n",
        "df = df[[\"text\",\"value\"]]"
      ]
    },
    {
      "cell_type": "code",
      "execution_count": null,
      "metadata": {
        "colab": {
          "base_uri": "https://localhost:8080/"
        },
        "id": "ORR08uhb20-x",
        "outputId": "89c3b2ab-5385-4164-f827-8750ee6c0d89"
      },
      "outputs": [
        {
          "output_type": "execute_result",
          "data": {
            "text/plain": [
              "0    377\n",
              "1    368\n",
              "2    255\n",
              "Name: value, dtype: int64"
            ]
          },
          "metadata": {},
          "execution_count": 51
        }
      ],
      "source": [
        "# Show the distribution of labels in human-annotated sample\n",
        "df.value.value_counts()"
      ]
    },
    {
      "cell_type": "markdown",
      "metadata": {
        "id": "KkskLyXWVEvr"
      },
      "source": [
        "### <font color=\"chillipepper\">**Train and test sets**</font>"
      ]
    },
    {
      "cell_type": "code",
      "execution_count": null,
      "metadata": {
        "id": "0xX3Evnc_vm4"
      },
      "outputs": [],
      "source": [
        "# Randomly split the data into 2 samples 'train' and 'test' for the execution of ML tasks\n",
        "train, test = train_test_split(df, test_size=0.2)"
      ]
    },
    {
      "cell_type": "code",
      "source": [
        "test.head()"
      ],
      "metadata": {
        "colab": {
          "base_uri": "https://localhost:8080/",
          "height": 206
        },
        "id": "-JAOSmXGLbvF",
        "outputId": "3126a1dc-4d4f-4f6f-9aa7-c58993888b5f"
      },
      "execution_count": null,
      "outputs": [
        {
          "output_type": "execute_result",
          "data": {
            "text/plain": [
              "                                                  text  value\n",
              "979                   Bonne FeteNationale ! 14Juillet       1\n",
              "703  Des questions, des problèmes ou des inquiétude...      0\n",
              "130  47 propositions : Déconstruction du tabou des ...      0\n",
              "574  <U+0001F4C6> Voici mon agenda prévisionnel de ...      0\n",
              "140  <U+0001F4F9> \"Je suis pour un grand référendum...      2"
            ],
            "text/html": [
              "\n",
              "  <div id=\"df-c09318e2-0bd2-4236-98cc-a21e0c35b23a\">\n",
              "    <div class=\"colab-df-container\">\n",
              "      <div>\n",
              "<style scoped>\n",
              "    .dataframe tbody tr th:only-of-type {\n",
              "        vertical-align: middle;\n",
              "    }\n",
              "\n",
              "    .dataframe tbody tr th {\n",
              "        vertical-align: top;\n",
              "    }\n",
              "\n",
              "    .dataframe thead th {\n",
              "        text-align: right;\n",
              "    }\n",
              "</style>\n",
              "<table border=\"1\" class=\"dataframe\">\n",
              "  <thead>\n",
              "    <tr style=\"text-align: right;\">\n",
              "      <th></th>\n",
              "      <th>text</th>\n",
              "      <th>value</th>\n",
              "    </tr>\n",
              "  </thead>\n",
              "  <tbody>\n",
              "    <tr>\n",
              "      <th>979</th>\n",
              "      <td>Bonne FeteNationale ! 14Juillet</td>\n",
              "      <td>1</td>\n",
              "    </tr>\n",
              "    <tr>\n",
              "      <th>703</th>\n",
              "      <td>Des questions, des problèmes ou des inquiétude...</td>\n",
              "      <td>0</td>\n",
              "    </tr>\n",
              "    <tr>\n",
              "      <th>130</th>\n",
              "      <td>47 propositions : Déconstruction du tabou des ...</td>\n",
              "      <td>0</td>\n",
              "    </tr>\n",
              "    <tr>\n",
              "      <th>574</th>\n",
              "      <td>&lt;U+0001F4C6&gt; Voici mon agenda prévisionnel de ...</td>\n",
              "      <td>0</td>\n",
              "    </tr>\n",
              "    <tr>\n",
              "      <th>140</th>\n",
              "      <td>&lt;U+0001F4F9&gt; \"Je suis pour un grand référendum...</td>\n",
              "      <td>2</td>\n",
              "    </tr>\n",
              "  </tbody>\n",
              "</table>\n",
              "</div>\n",
              "      <button class=\"colab-df-convert\" onclick=\"convertToInteractive('df-c09318e2-0bd2-4236-98cc-a21e0c35b23a')\"\n",
              "              title=\"Convert this dataframe to an interactive table.\"\n",
              "              style=\"display:none;\">\n",
              "        \n",
              "  <svg xmlns=\"http://www.w3.org/2000/svg\" height=\"24px\"viewBox=\"0 0 24 24\"\n",
              "       width=\"24px\">\n",
              "    <path d=\"M0 0h24v24H0V0z\" fill=\"none\"/>\n",
              "    <path d=\"M18.56 5.44l.94 2.06.94-2.06 2.06-.94-2.06-.94-.94-2.06-.94 2.06-2.06.94zm-11 1L8.5 8.5l.94-2.06 2.06-.94-2.06-.94L8.5 2.5l-.94 2.06-2.06.94zm10 10l.94 2.06.94-2.06 2.06-.94-2.06-.94-.94-2.06-.94 2.06-2.06.94z\"/><path d=\"M17.41 7.96l-1.37-1.37c-.4-.4-.92-.59-1.43-.59-.52 0-1.04.2-1.43.59L10.3 9.45l-7.72 7.72c-.78.78-.78 2.05 0 2.83L4 21.41c.39.39.9.59 1.41.59.51 0 1.02-.2 1.41-.59l7.78-7.78 2.81-2.81c.8-.78.8-2.07 0-2.86zM5.41 20L4 18.59l7.72-7.72 1.47 1.35L5.41 20z\"/>\n",
              "  </svg>\n",
              "      </button>\n",
              "      \n",
              "  <style>\n",
              "    .colab-df-container {\n",
              "      display:flex;\n",
              "      flex-wrap:wrap;\n",
              "      gap: 12px;\n",
              "    }\n",
              "\n",
              "    .colab-df-convert {\n",
              "      background-color: #E8F0FE;\n",
              "      border: none;\n",
              "      border-radius: 50%;\n",
              "      cursor: pointer;\n",
              "      display: none;\n",
              "      fill: #1967D2;\n",
              "      height: 32px;\n",
              "      padding: 0 0 0 0;\n",
              "      width: 32px;\n",
              "    }\n",
              "\n",
              "    .colab-df-convert:hover {\n",
              "      background-color: #E2EBFA;\n",
              "      box-shadow: 0px 1px 2px rgba(60, 64, 67, 0.3), 0px 1px 3px 1px rgba(60, 64, 67, 0.15);\n",
              "      fill: #174EA6;\n",
              "    }\n",
              "\n",
              "    [theme=dark] .colab-df-convert {\n",
              "      background-color: #3B4455;\n",
              "      fill: #D2E3FC;\n",
              "    }\n",
              "\n",
              "    [theme=dark] .colab-df-convert:hover {\n",
              "      background-color: #434B5C;\n",
              "      box-shadow: 0px 1px 3px 1px rgba(0, 0, 0, 0.15);\n",
              "      filter: drop-shadow(0px 1px 2px rgba(0, 0, 0, 0.3));\n",
              "      fill: #FFFFFF;\n",
              "    }\n",
              "  </style>\n",
              "\n",
              "      <script>\n",
              "        const buttonEl =\n",
              "          document.querySelector('#df-c09318e2-0bd2-4236-98cc-a21e0c35b23a button.colab-df-convert');\n",
              "        buttonEl.style.display =\n",
              "          google.colab.kernel.accessAllowed ? 'block' : 'none';\n",
              "\n",
              "        async function convertToInteractive(key) {\n",
              "          const element = document.querySelector('#df-c09318e2-0bd2-4236-98cc-a21e0c35b23a');\n",
              "          const dataTable =\n",
              "            await google.colab.kernel.invokeFunction('convertToInteractive',\n",
              "                                                     [key], {});\n",
              "          if (!dataTable) return;\n",
              "\n",
              "          const docLinkHtml = 'Like what you see? Visit the ' +\n",
              "            '<a target=\"_blank\" href=https://colab.research.google.com/notebooks/data_table.ipynb>data table notebook</a>'\n",
              "            + ' to learn more about interactive tables.';\n",
              "          element.innerHTML = '';\n",
              "          dataTable['output_type'] = 'display_data';\n",
              "          await google.colab.output.renderOutput(dataTable, element);\n",
              "          const docLink = document.createElement('div');\n",
              "          docLink.innerHTML = docLinkHtml;\n",
              "          element.appendChild(docLink);\n",
              "        }\n",
              "      </script>\n",
              "    </div>\n",
              "  </div>\n",
              "  "
            ]
          },
          "metadata": {},
          "execution_count": 53
        }
      ]
    },
    {
      "cell_type": "code",
      "execution_count": null,
      "metadata": {
        "colab": {
          "base_uri": "https://localhost:8080/",
          "height": 182,
          "referenced_widgets": [
            "53acb7a1bcbf45fda308c5b0ea46c88c",
            "538ae8934617414283fb9dc5ccaaaaba",
            "c192d20b334f433787b430dbcb049907",
            "e76f36140ce34200a15d5f812c245d29",
            "d9b698989bcb484aaf91006e90c7bb30",
            "8738a3398a0b4d3eb1a63816d2e70eea",
            "5a15376c4e6045a4a61642de193526c6",
            "c0587be3cca44ab6a0cf9bd5cd92ab17",
            "8bb83afe7fcd47a581dcb0a1226b8e22",
            "5376efc0959f4336b711bfe59cf5cd81",
            "a60328da55c2452c8bdca608496a9b64",
            "34a59d8e15cd4b638c1390f095e16983",
            "3c98c0894c3744e492e96a81d2cce5ac",
            "0d21bbf9f56a4b36af1de958010ae406",
            "9766799358154bc591495114237fb094",
            "e387fad3bec74a4b8be4883de90eb7f5",
            "7b94b678012d4d3099329764e84a7f79",
            "e98537aa61914cc28d6f32afbe91d0d7",
            "cd89572f4cda4d0899b5dbc9a6de6850",
            "9dd6c16728584b5fa1cdf42cc1ea260a",
            "b64186cf57b24cb6b6426bc1b58a9d83",
            "64c0cb7915d746d19840458a753e66c1",
            "def69c2a92054844935e760062d9b604",
            "8cce9d591a8e48e8b0dec6bb09ba51e7",
            "6afbd0c9e91a497ba9e2d892710827f2",
            "c119df343bdd422f957eb8dad8616e93",
            "8f3cce724b5542478a9a77e24575173f",
            "5c6b93da0815474fb422e94a694c3ba6",
            "231b988f131c473593b7a24000a0c721",
            "9d3f93ef127742c2ab98936d946c8bb1",
            "fd96700d72e84407abcc4813a8b89a1a",
            "8ab1fb2551c24cbe915aeeae93ce4a96",
            "24d8e4338f5a47239d6aa59586fc428b",
            "3bd10d6dea8143029c6a30a3a3014868",
            "0e5d39ad72524037a650730d70ba4b22",
            "9003e7379af74350be35b7bd259f2172",
            "35c31fa9b24d495e9825524f6c4deca2",
            "ee712ac14af24f46a7d3b987e3a21ce8",
            "1c05964f358b4178932df1b018f31348",
            "554d042797754746b6abbf87af4a94e9",
            "c99fb3bd24734e26845e0fc7cc74b46a",
            "f2b6c60c51d940d1a9bbf5c4c94ec851",
            "0bfe0b70144948b39e175724c140a236",
            "83e884bc7cbe41b480b6d506feec49b3"
          ]
        },
        "id": "WIhSUDCp_zAN",
        "outputId": "1490fdc0-6ad1-41be-86d6-49b318ab968c"
      },
      "outputs": [
        {
          "output_type": "display_data",
          "data": {
            "text/plain": [
              "  0%|          | 0/800 [00:00<?, ?it/s]"
            ],
            "application/vnd.jupyter.widget-view+json": {
              "version_major": 2,
              "version_minor": 0,
              "model_id": "53acb7a1bcbf45fda308c5b0ea46c88c"
            }
          },
          "metadata": {}
        },
        {
          "output_type": "stream",
          "name": "stderr",
          "text": [
            "Truncation was not explicitly activated but `max_length` is provided a specific value, please use `truncation=True` to explicitly truncate examples to max length. Defaulting to 'longest_first' truncation strategy. If you encode pairs of sequences (GLUE-style) with the tokenizer you can select this strategy more precisely by providing a specific strategy to `truncation`.\n"
          ]
        },
        {
          "output_type": "display_data",
          "data": {
            "text/plain": [
              "  0%|          | 0/800 [00:00<?, ?it/s]"
            ],
            "application/vnd.jupyter.widget-view+json": {
              "version_major": 2,
              "version_minor": 0,
              "model_id": "34a59d8e15cd4b638c1390f095e16983"
            }
          },
          "metadata": {}
        },
        {
          "output_type": "display_data",
          "data": {
            "text/plain": [
              "  0%|          | 0/200 [00:00<?, ?it/s]"
            ],
            "application/vnd.jupyter.widget-view+json": {
              "version_major": 2,
              "version_minor": 0,
              "model_id": "def69c2a92054844935e760062d9b604"
            }
          },
          "metadata": {}
        },
        {
          "output_type": "display_data",
          "data": {
            "text/plain": [
              "  0%|          | 0/200 [00:00<?, ?it/s]"
            ],
            "application/vnd.jupyter.widget-view+json": {
              "version_major": 2,
              "version_minor": 0,
              "model_id": "3bd10d6dea8143029c6a30a3a3014868"
            }
          },
          "metadata": {}
        }
      ],
      "source": [
        "# Encode the 'train' and 'test' samples using the `encode()` function defined above\n",
        "train_dataloader = encode(train.text.values, train.value.values, batch_size=32)\n",
        "test_dataloader = encode(test.text.values, test.value.values, batch_size=256)"
      ]
    },
    {
      "cell_type": "markdown",
      "metadata": {
        "id": "1Cy1BfT_WB5K"
      },
      "source": [
        "### <font color=\"chillipepper\">**Perform train step**</font>"
      ]
    },
    {
      "cell_type": "code",
      "execution_count": null,
      "metadata": {
        "colab": {
          "base_uri": "https://localhost:8080/"
        },
        "id": "6hvBj-d8_2kH",
        "outputId": "0401a822-5bec-4e0f-db49-5287cc0139b4"
      },
      "outputs": [
        {
          "output_type": "stream",
          "name": "stderr",
          "text": [
            "Some weights of the model checkpoint at camembert-base were not used when initializing CamembertForSequenceClassification: ['roberta.pooler.dense.weight', 'roberta.pooler.dense.bias', 'lm_head.dense.bias', 'lm_head.dense.weight', 'lm_head.layer_norm.bias', 'lm_head.layer_norm.weight', 'lm_head.bias', 'lm_head.decoder.weight']\n",
            "- This IS expected if you are initializing CamembertForSequenceClassification from the checkpoint of a model trained on another task or with another architecture (e.g. initializing a BertForSequenceClassification model from a BertForPreTraining model).\n",
            "- This IS NOT expected if you are initializing CamembertForSequenceClassification from the checkpoint of a model that you expect to be exactly identical (initializing a BertForSequenceClassification model from a BertForSequenceClassification model).\n",
            "Some weights of CamembertForSequenceClassification were not initialized from the model checkpoint at camembert-base and are newly initialized: ['classifier.dense.bias', 'classifier.dense.weight', 'classifier.out_proj.weight', 'classifier.out_proj.bias']\n",
            "You should probably TRAIN this model on a down-stream task to be able to use it for predictions and inference.\n",
            "/usr/local/lib/python3.7/dist-packages/transformers/optimization.py:309: FutureWarning: This implementation of AdamW is deprecated and will be removed in a future version. Use the PyTorch implementation torch.optim.AdamW instead, or set `no_deprecation_warning=True` to disable this warning\n",
            "  FutureWarning,\n"
          ]
        },
        {
          "output_type": "stream",
          "name": "stdout",
          "text": [
            "\n",
            "======== Epoch 1 / 3 ========\n",
            "Training...\n",
            "\n",
            "  Average training loss: 1.02\n",
            "  Training epcoh took: 0:00:28\n",
            "\n",
            "Running Validation...\n",
            "\n",
            "  Average test loss: 0.87\n",
            "  Validation took: 0:00:02\n",
            "              precision    recall  f1-score   support\n",
            "\n",
            "           0       0.67      0.82      0.74        77\n",
            "           1       0.77      0.61      0.68        76\n",
            "           2       0.74      0.72      0.73        47\n",
            "\n",
            "    accuracy                           0.71       200\n",
            "   macro avg       0.73      0.72      0.71       200\n",
            "weighted avg       0.72      0.71      0.71       200\n",
            "\n",
            "\n",
            "======== Epoch 2 / 3 ========\n",
            "Training...\n",
            "\n",
            "  Average training loss: 0.74\n",
            "  Training epcoh took: 0:00:30\n",
            "\n",
            "Running Validation...\n",
            "\n",
            "  Average test loss: 0.67\n",
            "  Validation took: 0:00:02\n",
            "              precision    recall  f1-score   support\n",
            "\n",
            "           0       0.71      0.79      0.75        77\n",
            "           1       0.79      0.66      0.72        76\n",
            "           2       0.75      0.81      0.78        47\n",
            "\n",
            "    accuracy                           0.74       200\n",
            "   macro avg       0.75      0.75      0.75       200\n",
            "weighted avg       0.75      0.74      0.74       200\n",
            "\n",
            "\n",
            "======== Epoch 3 / 3 ========\n",
            "Training...\n",
            "\n",
            "  Average training loss: 0.57\n",
            "  Training epcoh took: 0:00:29\n",
            "\n",
            "Running Validation...\n",
            "\n",
            "  Average test loss: 0.64\n",
            "  Validation took: 0:00:02\n",
            "              precision    recall  f1-score   support\n",
            "\n",
            "           0       0.72      0.82      0.77        77\n",
            "           1       0.84      0.67      0.74        76\n",
            "           2       0.75      0.83      0.79        47\n",
            "\n",
            "    accuracy                           0.77       200\n",
            "   macro avg       0.77      0.77      0.77       200\n",
            "weighted avg       0.77      0.77      0.76       200\n",
            "\n",
            "\n",
            "Training complete!\n"
          ]
        }
      ],
      "source": [
        "score = run_training(train_dataloader, \n",
        "                                  test_dataloader, \n",
        "                                  n_epochs=3, \n",
        "                                  lr=5e-5, \n",
        "                                  seed_val=2018, \n",
        "                                  save_model_as=\"sentiment_tweet\")"
      ]
    },
    {
      "cell_type": "markdown",
      "metadata": {
        "id": "Vg5hjsRiWYax"
      },
      "source": [
        "# <font color=\"chillipepper\">**Model evaluating**</font>"
      ]
    },
    {
      "cell_type": "code",
      "execution_count": null,
      "metadata": {
        "colab": {
          "base_uri": "https://localhost:8080/",
          "height": 81,
          "referenced_widgets": [
            "4ea725741675491585b49cabe23dff42",
            "c12a2eccda254ca6a90f7f677323f118",
            "f6cc60a08f3540e1b68cd39125cbb49d",
            "864e482fe42c4dce948601f0fd71bfa2",
            "cf8621618fbc4e6787582b5611125685",
            "84409f188fa346a2a91565ef33beb1e2",
            "c47c47f28d744de4a2dd9a855de55bf7",
            "3c0848bed24648b785f6fd892b88eb28",
            "a44da48870134f6e96792a5721216e60",
            "2b5b2891344f40998bf33a1a27cd787d",
            "ec2b4bb6f0a142999dbae4abd6e3ffe6",
            "c9f2edff621942a8a705eb60893249ca",
            "b40ee29eb1134bce9d93071d55d00a31",
            "fe78657dd3db4a658d7a6f7fcae1a1f4",
            "c32c760e1b824cd2a4765bcccef46ebb",
            "833fb88f3fbd480fa70021940cb0aea8",
            "c225f616ab0e4697ada4e5806f063d44",
            "cee72db5de714e80905d44c685600662",
            "e6b32407870547368fb852d07406a746",
            "38753817e9f24f60a360a861050ce7fc",
            "73892f018f1f4a7b8aeb4d4bb13e66cf",
            "b9ca696a641e4a8293b566b2c3ac80b7"
          ]
        },
        "id": "lfURg8u0AQuC",
        "outputId": "d3babb83-0d09-4d67-bee2-48011f2fd827"
      },
      "outputs": [
        {
          "output_type": "display_data",
          "data": {
            "text/plain": [
              "  0%|          | 0/200 [00:00<?, ?it/s]"
            ],
            "application/vnd.jupyter.widget-view+json": {
              "version_major": 2,
              "version_minor": 0,
              "model_id": "4ea725741675491585b49cabe23dff42"
            }
          },
          "metadata": {}
        },
        {
          "output_type": "display_data",
          "data": {
            "text/plain": [
              "  0%|          | 0/200 [00:00<?, ?it/s]"
            ],
            "application/vnd.jupyter.widget-view+json": {
              "version_major": 2,
              "version_minor": 0,
              "model_id": "c9f2edff621942a8a705eb60893249ca"
            }
          },
          "metadata": {}
        }
      ],
      "source": [
        "# Encode the 'values' column in the test set to prepare it for prediction\n",
        "predict_loader = encode(test.text.values)"
      ]
    },
    {
      "cell_type": "code",
      "execution_count": null,
      "metadata": {
        "colab": {
          "base_uri": "https://localhost:8080/",
          "height": 49,
          "referenced_widgets": [
            "c6869995ee744196ba97ace47a12eb12",
            "0d40b47495dc4a4dad7988a7a276ac86",
            "64d18067a51e478695b41cdf1e33f868",
            "780c7c9618c54eda83c99517b8f59eff",
            "95b6031527644cb1aae02474f4892efe",
            "3fca24df79fd419dadf37656ab31bd37",
            "2bd9f87d32854e10b2a98ca12c12d99f",
            "224010e7c386475f882f52331c0b61c5",
            "2a487a87e2cc402292fab035e6267d93",
            "7ad0c61b48824bcfb4f42970d2ace7d0",
            "ffe0103d1e424e70a298fb06ecd911c8"
          ]
        },
        "id": "Kt0hUbwaCJs1",
        "outputId": "e3541595-1598-4eb4-f655-bd5f7b9a1eae"
      },
      "outputs": [
        {
          "output_type": "display_data",
          "data": {
            "text/plain": [
              "  0%|          | 0/7 [00:00<?, ?it/s]"
            ],
            "application/vnd.jupyter.widget-view+json": {
              "version_major": 2,
              "version_minor": 0,
              "model_id": "c6869995ee744196ba97ace47a12eb12"
            }
          },
          "metadata": {}
        }
      ],
      "source": [
        "# Apply our model on the dataloader encoded in the previous cell\n",
        "pred = predict_with_model(predict_loader, model_path='./models/sentiment_tweet/', proba=True)"
      ]
    },
    {
      "cell_type": "code",
      "execution_count": null,
      "metadata": {
        "id": "kdKACCOQB5x3"
      },
      "outputs": [],
      "source": [
        "# We get the label prediction and probability of prediction\n",
        "test['pred'] = np.argmax(pred, axis=1)\n",
        "test['prob_1'] = pred[:,1]"
      ]
    },
    {
      "cell_type": "code",
      "execution_count": null,
      "metadata": {
        "colab": {
          "base_uri": "https://localhost:8080/"
        },
        "id": "K1-5ptKUIyR8",
        "outputId": "4684e4a3-1e37-448b-bf75-ef2c3c8201a2"
      },
      "outputs": [
        {
          "output_type": "execute_result",
          "data": {
            "text/plain": [
              "0    87\n",
              "1    61\n",
              "2    52\n",
              "Name: pred, dtype: int64"
            ]
          },
          "metadata": {},
          "execution_count": 63
        }
      ],
      "source": [
        "test.pred.value_counts()"
      ]
    },
    {
      "cell_type": "code",
      "execution_count": null,
      "metadata": {
        "colab": {
          "base_uri": "https://localhost:8080/",
          "height": 268
        },
        "id": "1mQ7czj6PHtK",
        "outputId": "0d1947af-d05f-450d-9676-0c14d6e228c7"
      },
      "outputs": [
        {
          "output_type": "display_data",
          "data": {
            "text/plain": [
              "<Figure size 432x288 with 2 Axes>"
            ],
            "image/png": "[encoded data removed]"
          },
          "metadata": {}
        }
      ],
      "source": [
        "# Confusion matrix\n",
        "names = [0,1,2]\n",
        "cm = confusion_matrix(np.array(test.value.tolist()).flatten(), np.array(test.pred.tolist()).flatten())\n",
        "df_cm = pd.DataFrame(cm, index=names, columns=names)\n",
        "# config plot sizes\n",
        "sn.set(font_scale=1)\n",
        "sn.heatmap(df_cm, annot=True, annot_kws={\"size\": 8}, cmap='coolwarm', linewidth=0.5, fmt=\"\")\n",
        "plt.show()"
      ]
    },
    {
      "cell_type": "code",
      "source": [
        "# Cross Validation Classification Report\n",
        "report = classification_report(np.array(test.value.tolist()).flatten(), np.array(test.pred.tolist()).flatten())\n",
        "print(report)"
      ],
      "metadata": {
        "colab": {
          "base_uri": "https://localhost:8080/"
        },
        "id": "rTA5qOEJc3PD",
        "outputId": "3ce98f4e-0fb5-49ab-96bd-4231e92417ad"
      },
      "execution_count": null,
      "outputs": [
        {
          "output_type": "stream",
          "name": "stdout",
          "text": [
            "              precision    recall  f1-score   support\n",
            "\n",
            "           0       0.72      0.82      0.77        77\n",
            "           1       0.84      0.67      0.74        76\n",
            "           2       0.75      0.83      0.79        47\n",
            "\n",
            "    accuracy                           0.77       200\n",
            "   macro avg       0.77      0.77      0.77       200\n",
            "weighted avg       0.77      0.77      0.76       200\n",
            "\n"
          ]
        }
      ]
    },
    {
      "cell_type": "markdown",
      "metadata": {
        "id": "CJXckx9CPrdd"
      },
      "source": [
        "# <font color=\"chillipepper\">**Applying the model**</font>"
      ]
    },
    {
      "cell_type": "markdown",
      "metadata": {
        "id": "CL890177XR-b"
      },
      "source": [
        "### <font color=\"chillipepper\">**Data to classify**</font>"
      ]
    },
    {
      "cell_type": "code",
      "execution_count": null,
      "metadata": {
        "id": "Zj4RvSsQXvPg"
      },
      "outputs": [],
      "source": [
        "# List of samples we want to work on\n",
        "list_data = ['Tweets_sample_confinement', 'Tweets_sample_benalla', 'Tweets_sample_CDM']"
      ]
    },
    {
      "cell_type": "markdown",
      "metadata": {
        "id": "IF_kUE2fcwQM"
      },
      "source": [
        "### <font color=\"chillipepper\">**Classification loop**</font>"
      ]
    },
    {
      "cell_type": "code",
      "execution_count": null,
      "metadata": {
        "colab": {
          "base_uri": "https://localhost:8080/",
          "height": 113,
          "referenced_widgets": [
            "2a10dd8b7fd345a68f89c11376cd6547",
            "d78b4679187047f18cc5e47752b2a60e",
            "82c8c0b61daa44508056b1fc6a3df9a4",
            "4d30b7cc96544829bef65bd536a6fd8d",
            "436be16f799542059df79eceb78ffe46",
            "1e7fe8e1e54345ffada45b2cac2cded0",
            "71258deea5de4e7b968ba7f2d0eebe8b",
            "a6dfa03111dc45a4895708d7fdb5396f",
            "dc050f84e91945c4ad6189155fafe86f",
            "53c8d5e4f9ba47b38a00497ec97b5db4",
            "88bd159fc5fc46768abcd32117716079",
            "13934110f26b4214bf645727a5b4f677",
            "dfc2c5cc492c4e22938264fb0b6da74b",
            "f311bbf45fd84be6aec8c0875fc263b2",
            "2a3fa5930ee447c8ab6b91f303ec4cdd",
            "89aa9d9f297d442b85c8e3b5783a4807",
            "9615f231e92548cc8146cdea24452818",
            "dbb59ebf46d347b18a0dedd46dd81811",
            "4a44348b47844a36bc9465bb700421cc",
            "b2ef1d046e7a4bab896020be79bdd7b7",
            "a20243960b5b46f8a1d22bfd5cfc5dc1",
            "c5f1acd2797f45e984cfa75184339ab8",
            "0ecbf7b74ca24885ad84e4e179d96ebe",
            "fac2c99900e84e89abae85c325f8167b",
            "bb8e9897d4294c498d39a85cd5fa6f5f",
            "5f97de260c28429e9717afff443373ff",
            "36c7679e1b5f42759c527a8a26083c97",
            "5e940a74d1b84587a3a7a67c89e045f7",
            "a63957e78c694e348df774c82b811063",
            "3163590e08b841978316f6cb7fb8b876",
            "d89e6bafa7fc477888a309bf2fcfa56a",
            "ee91ebf7efae41e98a6b266d3da34db4",
            "649d7651346d488b9d6043306d476b51",
            "1328bce9fa24477bb21ebce16e5d91e1",
            "4883c1dbf21d45088b70299ae6d75148",
            "51f681aa73064ad487e59508fe8b23e5"
          ]
        },
        "id": "L2SCg_u3baFt",
        "outputId": "071d24ff-f1fa-4d8c-cb3f-fa48779f59c4"
      },
      "outputs": [
        {
          "data": {
            "application/vnd.jupyter.widget-view+json": {
              "model_id": "1328bce9fa24477bb21ebce16e5d91e1",
              "version_major": 2,
              "version_minor": 0
            },
            "text/plain": [
              "  0%|          | 0/31204 [00:00<?, ?it/s]"
            ]
          },
          "metadata": {},
          "output_type": "display_data"
        },
        {
          "data": {
            "application/vnd.jupyter.widget-view+json": {
              "model_id": "4883c1dbf21d45088b70299ae6d75148",
              "version_major": 2,
              "version_minor": 0
            },
            "text/plain": [
              "  0%|          | 0/31204 [00:00<?, ?it/s]"
            ]
          },
          "metadata": {},
          "output_type": "display_data"
        },
        {
          "data": {
            "application/vnd.jupyter.widget-view+json": {
              "model_id": "51f681aa73064ad487e59508fe8b23e5",
              "version_major": 2,
              "version_minor": 0
            },
            "text/plain": [
              "  0%|          | 0/976 [00:00<?, ?it/s]"
            ]
          },
          "metadata": {},
          "output_type": "display_data"
        }
      ],
      "source": [
        "for i in range(2,len(list_data)):\n",
        "  df_study = pd.read_csv(git_url + list_data[i] + '.csv', index_col =0, engine='python')\n",
        "  df_study[\"text\"] = df_study[\"text\"].apply(lambda x: clean(x))\n",
        "  df_study_loader = encode(df_study.text.values)\n",
        "  pred_df_study = predict_with_model(df_study_loader, model_path='./models/sentiment_tweet/', proba=True)\n",
        "  df_study['pred'] = np.argmax(pred_df_study, axis=1)\n",
        "  df_study['prob_1'] = pred_df_study[:,1]\n",
        "  df_study.to_csv(ist_data[i] + '_pred.csv')"
      ]
    },
    {
      "cell_type": "markdown",
      "source": [
        "# <font color=\"chillipepper\">**Interpretations**</font>"
      ],
      "metadata": {
        "id": "cAnce1r2h0Hs"
      }
    },
    {
      "cell_type": "code",
      "execution_count": null,
      "metadata": {
        "id": "JELq_xFfHN5u",
        "outputId": "7d33f9c3-9d71-43da-f9b1-de4e0aeacd77"
      },
      "outputs": [
        {
          "data": {
            "text/html": [
              "<div>\n",
              "<style scoped>\n",
              "    .dataframe tbody tr th:only-of-type {\n",
              "        vertical-align: middle;\n",
              "    }\n",
              "\n",
              "    .dataframe tbody tr th {\n",
              "        vertical-align: top;\n",
              "    }\n",
              "\n",
              "    .dataframe thead th {\n",
              "        text-align: right;\n",
              "    }\n",
              "</style>\n",
              "<table border=\"1\" class=\"dataframe\">\n",
              "  <thead>\n",
              "    <tr style=\"text-align: right;\">\n",
              "      <th></th>\n",
              "      <th>author_id</th>\n",
              "      <th>possibly_sensitive</th>\n",
              "      <th>id</th>\n",
              "      <th>text</th>\n",
              "      <th>created_at</th>\n",
              "      <th>twitter</th>\n",
              "      <th>sexe</th>\n",
              "      <th>age</th>\n",
              "      <th>majo</th>\n",
              "      <th>num_deptmt</th>\n",
              "      <th>groupe_sigle</th>\n",
              "      <th>parti_ratt_financier</th>\n",
              "      <th>nb_mandats</th>\n",
              "      <th>age_group</th>\n",
              "      <th>pred</th>\n",
              "      <th>prob_1</th>\n",
              "    </tr>\n",
              "  </thead>\n",
              "  <tbody>\n",
              "    <tr>\n",
              "      <th>1992377</th>\n",
              "      <td>902788871460724740</td>\n",
              "      <td>False</td>\n",
              "      <td>1004651573933469696</td>\n",
              "      <td>DirectAn J'étais représentée au colloque \"Agri...</td>\n",
              "      <td>2018-06-07T09:09:35.000Z</td>\n",
              "      <td>FranceLorho</td>\n",
              "      <td>F</td>\n",
              "      <td>52</td>\n",
              "      <td>False</td>\n",
              "      <td>84</td>\n",
              "      <td>NI</td>\n",
              "      <td>Non d&lt;e9&gt;clar&lt;e9&gt;(s)</td>\n",
              "      <td>2</td>\n",
              "      <td>3</td>\n",
              "      <td>0</td>\n",
              "      <td>0.199982</td>\n",
              "    </tr>\n",
              "    <tr>\n",
              "      <th>1992378</th>\n",
              "      <td>902788871460724740</td>\n",
              "      <td>False</td>\n",
              "      <td>1004619313570045952</td>\n",
              "      <td>&lt;U+0001F1EB&gt;&lt;U+0001F1F7&gt; J'ai interrogé . sur ...</td>\n",
              "      <td>2018-06-07T07:01:23.000Z</td>\n",
              "      <td>FranceLorho</td>\n",
              "      <td>F</td>\n",
              "      <td>52</td>\n",
              "      <td>False</td>\n",
              "      <td>84</td>\n",
              "      <td>NI</td>\n",
              "      <td>Non d&lt;e9&gt;clar&lt;e9&gt;(s)</td>\n",
              "      <td>2</td>\n",
              "      <td>3</td>\n",
              "      <td>0</td>\n",
              "      <td>0.141570</td>\n",
              "    </tr>\n",
              "    <tr>\n",
              "      <th>1992380</th>\n",
              "      <td>902788871460724740</td>\n",
              "      <td>False</td>\n",
              "      <td>1004252252675166208</td>\n",
              "      <td>&lt;U+0001F1EB&gt;&lt;U+0001F1F7&gt;Laïcité : ils ne saven...</td>\n",
              "      <td>2018-06-06T06:42:49.000Z</td>\n",
              "      <td>FranceLorho</td>\n",
              "      <td>F</td>\n",
              "      <td>52</td>\n",
              "      <td>False</td>\n",
              "      <td>84</td>\n",
              "      <td>NI</td>\n",
              "      <td>Non d&lt;e9&gt;clar&lt;e9&gt;(s)</td>\n",
              "      <td>2</td>\n",
              "      <td>3</td>\n",
              "      <td>2</td>\n",
              "      <td>0.127925</td>\n",
              "    </tr>\n",
              "    <tr>\n",
              "      <th>1992381</th>\n",
              "      <td>902788871460724740</td>\n",
              "      <td>False</td>\n",
              "      <td>1003539030775132160</td>\n",
              "      <td>&lt;U+0001F1E8&gt;&lt;U+0001F1F2&gt; Cameroun : les popula...</td>\n",
              "      <td>2018-06-04T07:28:44.000Z</td>\n",
              "      <td>FranceLorho</td>\n",
              "      <td>F</td>\n",
              "      <td>52</td>\n",
              "      <td>False</td>\n",
              "      <td>84</td>\n",
              "      <td>NI</td>\n",
              "      <td>Non d&lt;e9&gt;clar&lt;e9&gt;(s)</td>\n",
              "      <td>2</td>\n",
              "      <td>3</td>\n",
              "      <td>2</td>\n",
              "      <td>0.145929</td>\n",
              "    </tr>\n",
              "    <tr>\n",
              "      <th>1992382</th>\n",
              "      <td>902788871460724740</td>\n",
              "      <td>False</td>\n",
              "      <td>1002493283753431042</td>\n",
              "      <td>&lt;U+0001F1F8&gt;&lt;U+0001F1E6&gt;Les nouvelles amitiés ...</td>\n",
              "      <td>2018-06-01T10:13:18.000Z</td>\n",
              "      <td>FranceLorho</td>\n",
              "      <td>F</td>\n",
              "      <td>52</td>\n",
              "      <td>False</td>\n",
              "      <td>84</td>\n",
              "      <td>NI</td>\n",
              "      <td>Non d&lt;e9&gt;clar&lt;e9&gt;(s)</td>\n",
              "      <td>2</td>\n",
              "      <td>3</td>\n",
              "      <td>2</td>\n",
              "      <td>0.147763</td>\n",
              "    </tr>\n",
              "  </tbody>\n",
              "</table>\n",
              "</div>"
            ],
            "text/plain": [
              "                  author_id  possibly_sensitive                   id  \\\n",
              "1992377  902788871460724740               False  1004651573933469696   \n",
              "1992378  902788871460724740               False  1004619313570045952   \n",
              "1992380  902788871460724740               False  1004252252675166208   \n",
              "1992381  902788871460724740               False  1003539030775132160   \n",
              "1992382  902788871460724740               False  1002493283753431042   \n",
              "\n",
              "                                                      text  \\\n",
              "1992377  DirectAn J'étais représentée au colloque \"Agri...   \n",
              "1992378  <U+0001F1EB><U+0001F1F7> J'ai interrogé . sur ...   \n",
              "1992380  <U+0001F1EB><U+0001F1F7>Laïcité : ils ne saven...   \n",
              "1992381  <U+0001F1E8><U+0001F1F2> Cameroun : les popula...   \n",
              "1992382  <U+0001F1F8><U+0001F1E6>Les nouvelles amitiés ...   \n",
              "\n",
              "                       created_at      twitter sexe  age   majo num_deptmt  \\\n",
              "1992377  2018-06-07T09:09:35.000Z  FranceLorho    F   52  False         84   \n",
              "1992378  2018-06-07T07:01:23.000Z  FranceLorho    F   52  False         84   \n",
              "1992380  2018-06-06T06:42:49.000Z  FranceLorho    F   52  False         84   \n",
              "1992381  2018-06-04T07:28:44.000Z  FranceLorho    F   52  False         84   \n",
              "1992382  2018-06-01T10:13:18.000Z  FranceLorho    F   52  False         84   \n",
              "\n",
              "        groupe_sigle  parti_ratt_financier  nb_mandats  age_group  pred  \\\n",
              "1992377           NI  Non d<e9>clar<e9>(s)           2          3     0   \n",
              "1992378           NI  Non d<e9>clar<e9>(s)           2          3     0   \n",
              "1992380           NI  Non d<e9>clar<e9>(s)           2          3     2   \n",
              "1992381           NI  Non d<e9>clar<e9>(s)           2          3     2   \n",
              "1992382           NI  Non d<e9>clar<e9>(s)           2          3     2   \n",
              "\n",
              "           prob_1  \n",
              "1992377  0.199982  \n",
              "1992378  0.141570  \n",
              "1992380  0.127925  \n",
              "1992381  0.145929  \n",
              "1992382  0.147763  "
            ]
          },
          "execution_count": 54,
          "metadata": {},
          "output_type": "execute_result"
        }
      ],
      "source": [
        "df_study = pd.read_csv(list_data[0] + '_pred.csv', index_col =0, engine='python')\n",
        "df_study['date'] = pd.to_datetime(df_study['created_at']).dt.date\n",
        "df_study.head()"
      ]
    },
    {
      "cell_type": "code",
      "execution_count": null,
      "metadata": {
        "id": "WdUHlH9918Ve"
      },
      "outputs": [],
      "source": [
        ""
      ]
    }
  ]
}