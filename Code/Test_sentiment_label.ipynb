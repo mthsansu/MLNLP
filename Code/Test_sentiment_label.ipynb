{
  "cells": [
    {
      "cell_type": "markdown",
      "metadata": {
        "id": "view-in-github",
        "colab_type": "text"
      },
      "source": [
        "<a href=\"https://colab.research.google.com/github/mthsansu/MLNLP/blob/main/Code/Test_sentiment_label.ipynb\" target=\"_parent\"><img src=\"https://colab.research.google.com/assets/colab-badge.svg\" alt=\"Open In Colab\"/></a>"
      ]
    },
    {
      "cell_type": "code",
      "execution_count": null,
      "metadata": {
        "id": "RM_H04aVuyQb"
      },
      "outputs": [],
      "source": [
        "import pandas as pd"
      ]
    },
    {
      "cell_type": "code",
      "execution_count": null,
      "metadata": {
        "id": "nG9gioeluyQi"
      },
      "outputs": [],
      "source": [
        "df_m = pd.read_excel(\"df_1000_rand.xlsx\")"
      ]
    },
    {
      "cell_type": "code",
      "execution_count": null,
      "metadata": {
        "id": "ragTu9YruyQk",
        "outputId": "c7f37d5d-b1d5-4a41-a5ed-f4de71b03f29"
      },
      "outputs": [
        {
          "data": {
            "text/plain": [
              " 0    377\n",
              " 1    368\n",
              "-1    255\n",
              "Name: Label, dtype: int64"
            ]
          },
          "execution_count": 11,
          "metadata": {},
          "output_type": "execute_result"
        }
      ],
      "source": [
        "df_m.Label.value_counts()"
      ]
    },
    {
      "cell_type": "code",
      "execution_count": null,
      "metadata": {
        "id": "tzX6f_apuyQl"
      },
      "outputs": [],
      "source": [
        "df_y = pd.read_csv(\"df_annotated.csv\")"
      ]
    },
    {
      "cell_type": "code",
      "execution_count": null,
      "metadata": {
        "id": "JwGpyqwGuyQm",
        "outputId": "0a6f6ce7-3eda-4581-b9f2-db1f09207dfc"
      },
      "outputs": [
        {
          "data": {
            "text/plain": [
              " 0    443\n",
              " 1    305\n",
              "-1    252\n",
              "Name: sentiment, dtype: int64"
            ]
          },
          "execution_count": 7,
          "metadata": {},
          "output_type": "execute_result"
        }
      ],
      "source": [
        "df_y.sentiment.value_counts()"
      ]
    },
    {
      "cell_type": "code",
      "execution_count": null,
      "metadata": {
        "id": "t3VpBafKuyQn",
        "outputId": "80ce9de9-512e-4688-cfa3-bfe6fbfc0f6c"
      },
      "outputs": [
        {
          "data": {
            "text/plain": [
              "0       True\n",
              "1      False\n",
              "2      False\n",
              "3       True\n",
              "4       True\n",
              "       ...  \n",
              "995     True\n",
              "996    False\n",
              "997     True\n",
              "998     True\n",
              "999     True\n",
              "Name: text, Length: 1000, dtype: bool"
            ]
          },
          "execution_count": 15,
          "metadata": {},
          "output_type": "execute_result"
        }
      ],
      "source": [
        "df_y.text == df_m.text"
      ]
    },
    {
      "cell_type": "code",
      "execution_count": null,
      "metadata": {
        "id": "WxQuC7wcuyQo",
        "outputId": "fcc4760c-0240-4d58-9f77-cd1f41225ac3"
      },
      "outputs": [
        {
          "data": {
            "text/html": [
              "<div>\n",
              "<style scoped>\n",
              "    .dataframe tbody tr th:only-of-type {\n",
              "        vertical-align: middle;\n",
              "    }\n",
              "\n",
              "    .dataframe tbody tr th {\n",
              "        vertical-align: top;\n",
              "    }\n",
              "\n",
              "    .dataframe thead th {\n",
              "        text-align: right;\n",
              "    }\n",
              "</style>\n",
              "<table border=\"1\" class=\"dataframe\">\n",
              "  <thead>\n",
              "    <tr style=\"text-align: right;\">\n",
              "      <th></th>\n",
              "      <th>X</th>\n",
              "      <th>text</th>\n",
              "      <th>possibly_sensitive</th>\n",
              "      <th>created_at</th>\n",
              "      <th>twitter.x</th>\n",
              "      <th>sexe</th>\n",
              "      <th>Label</th>\n",
              "    </tr>\n",
              "  </thead>\n",
              "  <tbody>\n",
              "    <tr>\n",
              "      <th>0</th>\n",
              "      <td>248552</td>\n",
              "      <td>Article de Var Matin, ce jour, sur la proposit...</td>\n",
              "      <td>False</td>\n",
              "      <td>2021-05-08</td>\n",
              "      <td>famatras</td>\n",
              "      <td>M</td>\n",
              "      <td>0</td>\n",
              "    </tr>\n",
              "    <tr>\n",
              "      <th>1</th>\n",
              "      <td>592816</td>\n",
              "      <td>Je me réjouis de l’annonce du @gouvernementFR ...</td>\n",
              "      <td>False</td>\n",
              "      <td>2019-11-22</td>\n",
              "      <td>SandrineLeFeur</td>\n",
              "      <td>F</td>\n",
              "      <td>1</td>\n",
              "    </tr>\n",
              "    <tr>\n",
              "      <th>2</th>\n",
              "      <td>11907</td>\n",
              "      <td>Une fois guéris, les enfants hospitalisés au @...</td>\n",
              "      <td>False</td>\n",
              "      <td>2019-08-09</td>\n",
              "      <td>AdrienTaquet</td>\n",
              "      <td>M</td>\n",
              "      <td>1</td>\n",
              "    </tr>\n",
              "    <tr>\n",
              "      <th>3</th>\n",
              "      <td>74888</td>\n",
              "      <td>« Progressivement nous devons avoir une foncti...</td>\n",
              "      <td>False</td>\n",
              "      <td>2018-03-21</td>\n",
              "      <td>auroreberge</td>\n",
              "      <td>F</td>\n",
              "      <td>0</td>\n",
              "    </tr>\n",
              "    <tr>\n",
              "      <th>4</th>\n",
              "      <td>253273</td>\n",
              "      <td>Réaction commune, avec ma collègue députée Sab...</td>\n",
              "      <td>False</td>\n",
              "      <td>2018-02-22</td>\n",
              "      <td>fabiennecolboc</td>\n",
              "      <td>F</td>\n",
              "      <td>0</td>\n",
              "    </tr>\n",
              "    <tr>\n",
              "      <th>...</th>\n",
              "      <td>...</td>\n",
              "      <td>...</td>\n",
              "      <td>...</td>\n",
              "      <td>...</td>\n",
              "      <td>...</td>\n",
              "      <td>...</td>\n",
              "      <td>...</td>\n",
              "    </tr>\n",
              "    <tr>\n",
              "      <th>995</th>\n",
              "      <td>81617</td>\n",
              "      <td>Le président de l'ONG #ASER qui lutte contre l...</td>\n",
              "      <td>False</td>\n",
              "      <td>2019-10-02</td>\n",
              "      <td>lachaudb</td>\n",
              "      <td>M</td>\n",
              "      <td>-1</td>\n",
              "    </tr>\n",
              "    <tr>\n",
              "      <th>996</th>\n",
              "      <td>407056</td>\n",
              "      <td>Masques fournis à tous les élèves et étudiants...</td>\n",
              "      <td>False</td>\n",
              "      <td>2020-08-23</td>\n",
              "      <td>DeputeCausse</td>\n",
              "      <td>M</td>\n",
              "      <td>0</td>\n",
              "    </tr>\n",
              "    <tr>\n",
              "      <th>997</th>\n",
              "      <td>224729</td>\n",
              "      <td>Le nouveau monde macronien est celui de la dég...</td>\n",
              "      <td>False</td>\n",
              "      <td>2018-09-06</td>\n",
              "      <td>ECiotti</td>\n",
              "      <td>M</td>\n",
              "      <td>-1</td>\n",
              "    </tr>\n",
              "    <tr>\n",
              "      <th>998</th>\n",
              "      <td>231496</td>\n",
              "      <td>\"Depuis le 2 Mai, l'Elysée sait que M. Benalla...</td>\n",
              "      <td>False</td>\n",
              "      <td>2018-07-23</td>\n",
              "      <td>ericcoquerel</td>\n",
              "      <td>M</td>\n",
              "      <td>-1</td>\n",
              "    </tr>\n",
              "    <tr>\n",
              "      <th>999</th>\n",
              "      <td>639213</td>\n",
              "      <td>Afin d’associer directement les Français aux a...</td>\n",
              "      <td>False</td>\n",
              "      <td>2017-11-19</td>\n",
              "      <td>tgassilloud</td>\n",
              "      <td>M</td>\n",
              "      <td>0</td>\n",
              "    </tr>\n",
              "  </tbody>\n",
              "</table>\n",
              "<p>1000 rows × 7 columns</p>\n",
              "</div>"
            ],
            "text/plain": [
              "          X                                               text  \\\n",
              "0    248552  Article de Var Matin, ce jour, sur la proposit...   \n",
              "1    592816  Je me réjouis de l’annonce du @gouvernementFR ...   \n",
              "2     11907  Une fois guéris, les enfants hospitalisés au @...   \n",
              "3     74888  « Progressivement nous devons avoir une foncti...   \n",
              "4    253273  Réaction commune, avec ma collègue députée Sab...   \n",
              "..      ...                                                ...   \n",
              "995   81617  Le président de l'ONG #ASER qui lutte contre l...   \n",
              "996  407056  Masques fournis à tous les élèves et étudiants...   \n",
              "997  224729  Le nouveau monde macronien est celui de la dég...   \n",
              "998  231496  \"Depuis le 2 Mai, l'Elysée sait que M. Benalla...   \n",
              "999  639213  Afin d’associer directement les Français aux a...   \n",
              "\n",
              "     possibly_sensitive  created_at       twitter.x sexe  Label  \n",
              "0                 False  2021-05-08        famatras    M      0  \n",
              "1                 False  2019-11-22  SandrineLeFeur    F      1  \n",
              "2                 False  2019-08-09    AdrienTaquet    M      1  \n",
              "3                 False  2018-03-21     auroreberge    F      0  \n",
              "4                 False  2018-02-22  fabiennecolboc    F      0  \n",
              "..                  ...         ...             ...  ...    ...  \n",
              "995               False  2019-10-02        lachaudb    M     -1  \n",
              "996               False  2020-08-23    DeputeCausse    M      0  \n",
              "997               False  2018-09-06         ECiotti    M     -1  \n",
              "998               False  2018-07-23    ericcoquerel    M     -1  \n",
              "999               False  2017-11-19     tgassilloud    M      0  \n",
              "\n",
              "[1000 rows x 7 columns]"
            ]
          },
          "execution_count": 13,
          "metadata": {},
          "output_type": "execute_result"
        }
      ],
      "source": [
        "df_m"
      ]
    },
    {
      "cell_type": "code",
      "execution_count": null,
      "metadata": {
        "id": "1Rhsvd60uyQp"
      },
      "outputs": [],
      "source": [
        "df_m[\"sentiment\"] = df_y.sentiment"
      ]
    },
    {
      "cell_type": "code",
      "execution_count": null,
      "metadata": {
        "id": "HhLQn8C2uyQq"
      },
      "outputs": [],
      "source": [
        "test = list(df_m.Label == df_m.sentiment)"
      ]
    },
    {
      "cell_type": "code",
      "execution_count": null,
      "metadata": {
        "id": "D8O4c6rGuyQs"
      },
      "outputs": [],
      "source": [
        "df_m[\"test\"] = test"
      ]
    },
    {
      "cell_type": "code",
      "execution_count": null,
      "metadata": {
        "id": "8w3pm5oWuyQt",
        "outputId": "b7bdf2e2-278b-4ae2-e8a9-81deeaba05c5"
      },
      "outputs": [
        {
          "data": {
            "text/html": [
              "<div>\n",
              "<style scoped>\n",
              "    .dataframe tbody tr th:only-of-type {\n",
              "        vertical-align: middle;\n",
              "    }\n",
              "\n",
              "    .dataframe tbody tr th {\n",
              "        vertical-align: top;\n",
              "    }\n",
              "\n",
              "    .dataframe thead th {\n",
              "        text-align: right;\n",
              "    }\n",
              "</style>\n",
              "<table border=\"1\" class=\"dataframe\">\n",
              "  <thead>\n",
              "    <tr style=\"text-align: right;\">\n",
              "      <th></th>\n",
              "      <th>X</th>\n",
              "      <th>text</th>\n",
              "      <th>possibly_sensitive</th>\n",
              "      <th>created_at</th>\n",
              "      <th>twitter.x</th>\n",
              "      <th>sexe</th>\n",
              "      <th>Label</th>\n",
              "      <th>sentiment</th>\n",
              "      <th>test</th>\n",
              "    </tr>\n",
              "  </thead>\n",
              "  <tbody>\n",
              "    <tr>\n",
              "      <th>0</th>\n",
              "      <td>248552</td>\n",
              "      <td>Article de Var Matin, ce jour, sur la proposit...</td>\n",
              "      <td>False</td>\n",
              "      <td>2021-05-08</td>\n",
              "      <td>famatras</td>\n",
              "      <td>M</td>\n",
              "      <td>0</td>\n",
              "      <td>0</td>\n",
              "      <td>True</td>\n",
              "    </tr>\n",
              "    <tr>\n",
              "      <th>1</th>\n",
              "      <td>592816</td>\n",
              "      <td>Je me réjouis de l’annonce du @gouvernementFR ...</td>\n",
              "      <td>False</td>\n",
              "      <td>2019-11-22</td>\n",
              "      <td>SandrineLeFeur</td>\n",
              "      <td>F</td>\n",
              "      <td>1</td>\n",
              "      <td>1</td>\n",
              "      <td>True</td>\n",
              "    </tr>\n",
              "    <tr>\n",
              "      <th>2</th>\n",
              "      <td>11907</td>\n",
              "      <td>Une fois guéris, les enfants hospitalisés au @...</td>\n",
              "      <td>False</td>\n",
              "      <td>2019-08-09</td>\n",
              "      <td>AdrienTaquet</td>\n",
              "      <td>M</td>\n",
              "      <td>1</td>\n",
              "      <td>1</td>\n",
              "      <td>True</td>\n",
              "    </tr>\n",
              "    <tr>\n",
              "      <th>3</th>\n",
              "      <td>74888</td>\n",
              "      <td>« Progressivement nous devons avoir une foncti...</td>\n",
              "      <td>False</td>\n",
              "      <td>2018-03-21</td>\n",
              "      <td>auroreberge</td>\n",
              "      <td>F</td>\n",
              "      <td>0</td>\n",
              "      <td>1</td>\n",
              "      <td>False</td>\n",
              "    </tr>\n",
              "    <tr>\n",
              "      <th>4</th>\n",
              "      <td>253273</td>\n",
              "      <td>Réaction commune, avec ma collègue députée Sab...</td>\n",
              "      <td>False</td>\n",
              "      <td>2018-02-22</td>\n",
              "      <td>fabiennecolboc</td>\n",
              "      <td>F</td>\n",
              "      <td>0</td>\n",
              "      <td>0</td>\n",
              "      <td>True</td>\n",
              "    </tr>\n",
              "    <tr>\n",
              "      <th>...</th>\n",
              "      <td>...</td>\n",
              "      <td>...</td>\n",
              "      <td>...</td>\n",
              "      <td>...</td>\n",
              "      <td>...</td>\n",
              "      <td>...</td>\n",
              "      <td>...</td>\n",
              "      <td>...</td>\n",
              "      <td>...</td>\n",
              "    </tr>\n",
              "    <tr>\n",
              "      <th>995</th>\n",
              "      <td>81617</td>\n",
              "      <td>Le président de l'ONG #ASER qui lutte contre l...</td>\n",
              "      <td>False</td>\n",
              "      <td>2019-10-02</td>\n",
              "      <td>lachaudb</td>\n",
              "      <td>M</td>\n",
              "      <td>-1</td>\n",
              "      <td>-1</td>\n",
              "      <td>True</td>\n",
              "    </tr>\n",
              "    <tr>\n",
              "      <th>996</th>\n",
              "      <td>407056</td>\n",
              "      <td>Masques fournis à tous les élèves et étudiants...</td>\n",
              "      <td>False</td>\n",
              "      <td>2020-08-23</td>\n",
              "      <td>DeputeCausse</td>\n",
              "      <td>M</td>\n",
              "      <td>0</td>\n",
              "      <td>0</td>\n",
              "      <td>True</td>\n",
              "    </tr>\n",
              "    <tr>\n",
              "      <th>997</th>\n",
              "      <td>224729</td>\n",
              "      <td>Le nouveau monde macronien est celui de la dég...</td>\n",
              "      <td>False</td>\n",
              "      <td>2018-09-06</td>\n",
              "      <td>ECiotti</td>\n",
              "      <td>M</td>\n",
              "      <td>-1</td>\n",
              "      <td>-1</td>\n",
              "      <td>True</td>\n",
              "    </tr>\n",
              "    <tr>\n",
              "      <th>998</th>\n",
              "      <td>231496</td>\n",
              "      <td>\"Depuis le 2 Mai, l'Elysée sait que M. Benalla...</td>\n",
              "      <td>False</td>\n",
              "      <td>2018-07-23</td>\n",
              "      <td>ericcoquerel</td>\n",
              "      <td>M</td>\n",
              "      <td>-1</td>\n",
              "      <td>-1</td>\n",
              "      <td>True</td>\n",
              "    </tr>\n",
              "    <tr>\n",
              "      <th>999</th>\n",
              "      <td>639213</td>\n",
              "      <td>Afin d’associer directement les Français aux a...</td>\n",
              "      <td>False</td>\n",
              "      <td>2017-11-19</td>\n",
              "      <td>tgassilloud</td>\n",
              "      <td>M</td>\n",
              "      <td>0</td>\n",
              "      <td>0</td>\n",
              "      <td>True</td>\n",
              "    </tr>\n",
              "  </tbody>\n",
              "</table>\n",
              "<p>1000 rows × 9 columns</p>\n",
              "</div>"
            ],
            "text/plain": [
              "          X                                               text  \\\n",
              "0    248552  Article de Var Matin, ce jour, sur la proposit...   \n",
              "1    592816  Je me réjouis de l’annonce du @gouvernementFR ...   \n",
              "2     11907  Une fois guéris, les enfants hospitalisés au @...   \n",
              "3     74888  « Progressivement nous devons avoir une foncti...   \n",
              "4    253273  Réaction commune, avec ma collègue députée Sab...   \n",
              "..      ...                                                ...   \n",
              "995   81617  Le président de l'ONG #ASER qui lutte contre l...   \n",
              "996  407056  Masques fournis à tous les élèves et étudiants...   \n",
              "997  224729  Le nouveau monde macronien est celui de la dég...   \n",
              "998  231496  \"Depuis le 2 Mai, l'Elysée sait que M. Benalla...   \n",
              "999  639213  Afin d’associer directement les Français aux a...   \n",
              "\n",
              "     possibly_sensitive  created_at       twitter.x sexe  Label  sentiment  \\\n",
              "0                 False  2021-05-08        famatras    M      0          0   \n",
              "1                 False  2019-11-22  SandrineLeFeur    F      1          1   \n",
              "2                 False  2019-08-09    AdrienTaquet    M      1          1   \n",
              "3                 False  2018-03-21     auroreberge    F      0          1   \n",
              "4                 False  2018-02-22  fabiennecolboc    F      0          0   \n",
              "..                  ...         ...             ...  ...    ...        ...   \n",
              "995               False  2019-10-02        lachaudb    M     -1         -1   \n",
              "996               False  2020-08-23    DeputeCausse    M      0          0   \n",
              "997               False  2018-09-06         ECiotti    M     -1         -1   \n",
              "998               False  2018-07-23    ericcoquerel    M     -1         -1   \n",
              "999               False  2017-11-19     tgassilloud    M      0          0   \n",
              "\n",
              "      test  \n",
              "0     True  \n",
              "1     True  \n",
              "2     True  \n",
              "3    False  \n",
              "4     True  \n",
              "..     ...  \n",
              "995   True  \n",
              "996   True  \n",
              "997   True  \n",
              "998   True  \n",
              "999   True  \n",
              "\n",
              "[1000 rows x 9 columns]"
            ]
          },
          "execution_count": 23,
          "metadata": {},
          "output_type": "execute_result"
        }
      ],
      "source": [
        "df_m"
      ]
    },
    {
      "cell_type": "code",
      "execution_count": null,
      "metadata": {
        "id": "ASWpzdaWuyQu",
        "outputId": "1bb86a0a-e4f3-44a8-e67b-898af2862c93"
      },
      "outputs": [
        {
          "data": {
            "text/plain": [
              "True     816\n",
              "False    184\n",
              "Name: test, dtype: int64"
            ]
          },
          "execution_count": 26,
          "metadata": {},
          "output_type": "execute_result"
        }
      ],
      "source": [
        "df_m[\"test\"].value_counts()"
      ]
    },
    {
      "cell_type": "code",
      "execution_count": null,
      "metadata": {
        "id": "gvg8Y6CRuyQv"
      },
      "outputs": [],
      "source": [
        "df_m.to_csv(\"df_label_sentiment.csv\")"
      ]
    },
    {
      "cell_type": "code",
      "execution_count": null,
      "metadata": {
        "id": "hIEbN0vauyQv"
      },
      "outputs": [],
      "source": [
        ""
      ]
    }
  ],
  "metadata": {
    "kernelspec": {
      "display_name": "Python 3",
      "language": "python",
      "name": "python3"
    },
    "language_info": {
      "codemirror_mode": {
        "name": "ipython",
        "version": 3
      },
      "file_extension": ".py",
      "mimetype": "text/x-python",
      "name": "python",
      "nbconvert_exporter": "python",
      "pygments_lexer": "ipython3",
      "version": "3.6.5"
    },
    "colab": {
      "name": "Test_sentiment_label.ipynb",
      "provenance": [],
      "include_colab_link": true
    }
  },
  "nbformat": 4,
  "nbformat_minor": 0
}